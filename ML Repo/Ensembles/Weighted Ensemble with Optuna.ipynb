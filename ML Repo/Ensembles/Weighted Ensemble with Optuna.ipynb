{
 "cells": [
  {
   "cell_type": "code",
   "execution_count": 7,
   "metadata": {},
   "outputs": [
    {
     "name": "stdout",
     "output_type": "stream",
     "text": [
      "BEST WEIGHTS: {'lgb_weight': 7.080725777960454, 'xgb_weight': 0.20584494295802447, 'cat_weight': 9.699098521619943}\n"
     ]
    }
   ],
   "source": [
    "\n",
    "import pandas as pd\n",
    "from sklearn.datasets import load_iris\n",
    "from catboost import CatBoostClassifier\n",
    "from lightgbm import LGBMClassifier\n",
    "from xgboost import XGBClassifier\n",
    "from sklearn.ensemble import VotingClassifier\n",
    "from sklearn.model_selection import train_test_split\n",
    "import optuna\n",
    "from sklearn.metrics import roc_auc_score\n",
    "\n",
    "\n",
    "# Fetch iris data\n",
    "iris = load_iris() \n",
    "x_data = pd.DataFrame(iris.data, columns=iris['feature_names']) \n",
    "y_data= pd.Series(data=iris.target, index=x_data.index)\n",
    "# Split the data into training and test sets\n",
    "x_train, x_test, y_train, y_test = train_test_split(x_data, y_data, test_size=0.2, stratify=y_data)\n",
    "\n",
    "\n",
    "WEIGHT_TUNE = True\n",
    "\n",
    "\n",
    "# Define the objective function for Optuna optimization\n",
    "def objective(trial, X_train, y_train, X_test, y_test):\n",
    "    # Define parameters to be optimized for the weighted ensemble\n",
    "    \n",
    "    optuna_estimators = [\n",
    "        ('lgb', LGBMClassifier(verbose=-1)),\n",
    "        ('xgb', XGBClassifier()),\n",
    "        ('cat', CatBoostClassifier(verbose=False))\n",
    "    ]\n",
    "    \n",
    "    voting_classifier = VotingClassifier(\n",
    "        estimators=optuna_estimators,\n",
    "        voting='soft',\n",
    "        weights=[\n",
    "            trial.suggest_float('lgb_weight', 0.00, 10.00),\n",
    "            trial.suggest_float('xgb_weight', 0.00, 10.00),\n",
    "            trial.suggest_float('cat_weight', 0.00, 10.00),\n",
    "        ],\n",
    "    )\n",
    "    \n",
    "    voting_classifier.fit(x_train, y_train)\n",
    "    \n",
    "    predict_probs = voting_classifier.predict_proba(x_test)\n",
    "    \n",
    "    auc_score = roc_auc_score(y_test, predict_probs, multi_class='ovo')\n",
    "    return auc_score\n",
    "\n",
    "\n",
    "# Set up the sampler for Optuna optimization\n",
    "weight_sampler = optuna.samplers.TPESampler(seed=42)\n",
    "# Create a study object for Optuna optimization\n",
    "optuna.logging.set_verbosity(optuna.logging.ERROR)\n",
    "weight_study = optuna.create_study(direction=\"maximize\", sampler=weight_sampler)\n",
    "if WEIGHT_TUNE:\n",
    "    # Run the optimization process\n",
    "    weight_study.optimize(lambda trial: objective(trial, x_train, y_train, x_test, y_test), n_trials=50)\n",
    "    # Get the best parameters after optimization\n",
    "    weight_best_params = weight_study.best_params\n",
    "    \n",
    "    print(f'BEST WEIGHTS: {weight_best_params}')\n",
    "\n"
   ]
  }
 ],
 "metadata": {
  "kernelspec": {
   "display_name": "Python 3",
   "language": "python",
   "name": "python3"
  },
  "language_info": {
   "codemirror_mode": {
    "name": "ipython",
    "version": 3
   },
   "file_extension": ".py",
   "mimetype": "text/x-python",
   "name": "python",
   "nbconvert_exporter": "python",
   "pygments_lexer": "ipython3",
   "version": "3.11.5"
  }
 },
 "nbformat": 4,
 "nbformat_minor": 2
}
