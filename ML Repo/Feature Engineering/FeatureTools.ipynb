{
 "cells": [
  {
   "cell_type": "code",
   "execution_count": 1,
   "metadata": {},
   "outputs": [
    {
     "name": "stderr",
     "output_type": "stream",
     "text": [
      "c:\\Users\\LArns\\Desktop\\meica\\.conda\\Lib\\site-packages\\featuretools\\synthesis\\deep_feature_synthesis.py:169: UserWarning: Only one dataframe in entityset, changing max_depth to 1 since deeper features cannot be created\n",
      "  warnings.warn(\n"
     ]
    }
   ],
   "source": [
    "\n",
    "import pandas as pd\n",
    "import numpy as np\n",
    "import featuretools as ft\n",
    "from sklearn.model_selection import train_test_split\n",
    "# Load the rock mines dataset\n",
    "url = \"https://archive.ics.uci.edu/ml/machine-learning-databases/undocumented/connectionist-bench/sonar/sonar.all-data\"\n",
    "df = pd.read_csv(url)\n",
    "column_names = [\"sensor_\" + str(i) for i in range(1, 61)] + [\"target\"]\n",
    "df.columns = column_names\n",
    "df['target'] = df['target'].map({'M': 1, 'R': 0})\n",
    "x_data = df.iloc[:, :60]\n",
    "y_data = df['target']\n",
    "x_train, x_test, y_train, y_test = train_test_split(x_data, y_data, test_size=0.2, random_state=0) \n",
    "es_train = ft.EntitySet(id=\"Sonar_train\")\n",
    "es_train = es_train.add_dataframe(\n",
    "    dataframe_name=\"Sonar\",\n",
    "    dataframe=x_train,\n",
    "    index=\"id\",\n",
    "    make_index=True\n",
    "    )\n",
    "es_test = ft.EntitySet(id=\"Sonar_test\")\n",
    "es_test = es_test.add_dataframe(\n",
    "    dataframe_name=\"Sonar\",\n",
    "    dataframe=x_test,\n",
    "    index=\"id\",\n",
    "    make_index=True\n",
    "    )\n",
    "#get overview with\n",
    "#ft.list_primitives()\n",
    "feature_matrix, feature_defs = ft.dfs(\n",
    "    entityset=es_train, target_dataframe_name=\"Sonar\",\n",
    "    trans_primitives=[\"add_numeric\", \"multiply_numeric\", \"subtract_numeric\", \"divide_numeric\"],\n",
    "    max_depth=3\n",
    ")\n",
    "### Save Features into File\n",
    "feature_matrix_enc, features_enc = ft.encode_features(feature_matrix, feature_defs)\n",
    "ft.save_features(features_enc, \"feature_definitions.json\")\n",
    "### Load Features and apply them on test set\n",
    "saved_features = ft.load_features(\"feature_definitions.json\")\n",
    "feature_matrix_test = ft.calculate_feature_matrix(saved_features, es_test)\n",
    "## Create new data with target\n",
    "x_train_enc = feature_matrix\n",
    "x_train_enc.replace([np.inf, -np.inf], np.nan, inplace=True)\n",
    "x_train_enc.dropna(axis='columns', how='any', inplace=True)\n",
    "x_test_enc = feature_matrix_test\n",
    "x_test_enc.dropna(axis='columns', how='any', inplace=True)\n",
    "\n",
    "\n",
    "\n"
   ]
  }
 ],
 "metadata": {
  "kernelspec": {
   "display_name": "Python 3",
   "language": "python",
   "name": "python3"
  },
  "language_info": {
   "codemirror_mode": {
    "name": "ipython",
    "version": 3
   },
   "file_extension": ".py",
   "mimetype": "text/x-python",
   "name": "python",
   "nbconvert_exporter": "python",
   "pygments_lexer": "ipython3",
   "version": "3.11.5"
  }
 },
 "nbformat": 4,
 "nbformat_minor": 2
}
