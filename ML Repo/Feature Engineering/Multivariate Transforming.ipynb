{
 "cells": [
  {
   "cell_type": "code",
   "execution_count": 1,
   "metadata": {},
   "outputs": [],
   "source": [
    "\n",
    "# Preparing Data\n",
    "import numpy as np\n",
    "import pandas as pd\n",
    "import math\n",
    "import matplotlib.pyplot as plt\n",
    "from sklearn.preprocessing import*\n",
    "# Load the rock mines dataset\n",
    "url = \"https://archive.ics.uci.edu/ml/machine-learning-databases/undocumented/connectionist-bench/sonar/sonar.all-data\"\n",
    "df = pd.read_csv(url)\n",
    "column_names = [\"sensor_\" + str(i) for i in range(1, 61)] + [\"target\"]\n",
    "df.columns = column_names\n",
    "df = df.reset_index()\n",
    "df = df.rename(columns={\"index\": \"id\"})\n",
    "df['target'] = df['target'].map({'M': 1, 'R': 0})\n",
    "x_data = df.iloc[:, :60]\n",
    "x_data = x_data.drop('id', axis=1)\n",
    "y_data = df['target']\n",
    "x_data['encoded_column'] = (x_data['sensor_2'] < 0.02).astype(int)\n",
    "\n",
    "def transform_continuous_columns(df, operation='sum'):\n",
    "    # Identify continuous columns (numeric types)\n",
    "    continuous_cols = df.select_dtypes(include=['number']).columns\n",
    "    \n",
    "    # Initialize a dictionary to store new columns\n",
    "    new_columns = {}\n",
    "    \n",
    "    # Iterate over pairs of continuous columns\n",
    "    for i in range(len(continuous_cols)):\n",
    "        for j in range(i + 1, len(continuous_cols)):\n",
    "            col1 = continuous_cols[i]\n",
    "            col2 = continuous_cols[j]\n",
    "            new_col_name = f\"{col1}{operation}{col2}\"\n",
    "            \n",
    "            if operation == '+':\n",
    "                new_columns[new_col_name] = df[col1] + df[col2]\n",
    "            elif operation == '*':\n",
    "                new_columns[new_col_name] = df[col1] * df[col2]\n",
    "            elif operation == '-':\n",
    "                new_columns[new_col_name] = df[col1] - df[col2]\n",
    "            elif operation == '/':\n",
    "                new_columns[new_col_name] = df[col1] / df[col2]\n",
    "            else:\n",
    "                raise ValueError(\"Unsupported operation.\")\n",
    "    \n",
    "    # Create a new DataFrame from the collected columns\n",
    "    result_df = pd.DataFrame(new_columns, index=df.index)\n",
    "    \n",
    "    return result_df\n",
    "# Applying the function\n",
    "df_sum = transform_continuous_columns(x_data, operation='+')\n",
    "df_multi = transform_continuous_columns(x_data, operation='*')\n",
    "df_subtract = transform_continuous_columns(x_data, operation='-')\n",
    "df_division = transform_continuous_columns(x_data, operation='/')\n",
    "\n",
    "df_transformed_multivariate = pd.concat([df_sum, df_multi, df_subtract, df_division], axis=1)\n"
   ]
  }
 ],
 "metadata": {
  "kernelspec": {
   "display_name": "Python 3",
   "language": "python",
   "name": "python3"
  },
  "language_info": {
   "codemirror_mode": {
    "name": "ipython",
    "version": 3
   },
   "file_extension": ".py",
   "mimetype": "text/x-python",
   "name": "python",
   "nbconvert_exporter": "python",
   "pygments_lexer": "ipython3",
   "version": "3.11.9"
  }
 },
 "nbformat": 4,
 "nbformat_minor": 2
}
