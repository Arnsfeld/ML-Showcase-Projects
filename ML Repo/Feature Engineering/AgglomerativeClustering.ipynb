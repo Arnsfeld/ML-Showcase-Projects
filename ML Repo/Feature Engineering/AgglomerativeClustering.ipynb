{
 "cells": [
  {
   "cell_type": "code",
   "execution_count": 6,
   "metadata": {},
   "outputs": [
    {
     "name": "stdout",
     "output_type": "stream",
     "text": [
      "Baseline\n",
      "Scores: -0.17 (+/- 0.25)\n",
      "Baseline stan\n",
      "Scores: -0.17 (+/- 0.26)\n",
      "Baseline stan cluster\n",
      "Scores: -0.16 (+/- 0.23)\n"
     ]
    }
   ],
   "source": [
    "\n",
    "import numpy as np\n",
    "import pandas as pd\n",
    "from sklearn import model_selection\n",
    "from sklearn import datasets\n",
    "from sklearn.metrics import log_loss\n",
    "from sklearn.ensemble import RandomForestClassifier\n",
    "from sklearn.model_selection import*\n",
    "from sklearn.preprocessing import StandardScaler\n",
    "from sklearn.cluster import AgglomerativeClustering\n",
    "\n",
    "\n",
    "x_data,y_data = datasets.load_breast_cancer(return_X_y=True, as_frame=True)\n",
    "classes = list(set(y_data))\n",
    "def Baseline(x_data, y_data):\n",
    "    kfold = RepeatedStratifiedKFold(n_splits=5,n_repeats=5, random_state=None)\n",
    "    model = RandomForestClassifier()\n",
    "    scoring = 'neg_log_loss'\n",
    "    results = cross_val_score(model, x_data, y_data, cv=kfold, scoring=scoring)\n",
    "    print(f'Scores: {results.mean():.2f} (+/- {results.std() * 2:.2f})')\n",
    "\n",
    "\n",
    "# Apply Standard Scaler\n",
    "columns_x_data = x_data.columns\n",
    "scaler = StandardScaler()\n",
    "x_data_stan = scaler.fit_transform(x_data)\n",
    "x_data_stan = pd.DataFrame(x_data_stan, columns=columns_x_data)\n",
    "\n",
    "\n",
    "# Initializing Cluster Feature Agglomeration\n",
    "clustering = AgglomerativeClustering(n_clusters=20).fit(x_data_stan)\n",
    "x_cluster = clustering.fit_predict(x_data_stan, y=None)\n",
    "x_data_cluster = x_data_stan.copy()\n",
    "x_data_cluster['cluster20'] = x_cluster\n",
    "clustering = AgglomerativeClustering(n_clusters=10).fit(x_data_stan)\n",
    "x_cluster = clustering.fit_predict(x_data_stan, y=None)\n",
    "x_data_cluster['cluster10'] = x_cluster\n",
    "clustering = AgglomerativeClustering(n_clusters=15).fit(x_data_stan)\n",
    "x_cluster = clustering.fit_predict(x_data_stan, y=None)\n",
    "x_data_cluster['cluster15'] = x_cluster\n",
    "clustering = AgglomerativeClustering(n_clusters=50).fit(x_data_stan)\n",
    "x_cluster = clustering.fit_predict(x_data_stan, y=None)\n",
    "x_data_cluster['cluster15'] = x_cluster\n",
    "print(\"Baseline\")\n",
    "Baseline(x_data, y_data)\n",
    "print(\"Baseline stan\")\n",
    "Baseline(x_data_stan, y_data)\n",
    "print(\"Baseline stan cluster\")\n",
    "Baseline(x_data_cluster, y_data)\n",
    "\n"
   ]
  }
 ],
 "metadata": {
  "kernelspec": {
   "display_name": "Python 3",
   "language": "python",
   "name": "python3"
  },
  "language_info": {
   "codemirror_mode": {
    "name": "ipython",
    "version": 3
   },
   "file_extension": ".py",
   "mimetype": "text/x-python",
   "name": "python",
   "nbconvert_exporter": "python",
   "pygments_lexer": "ipython3",
   "version": "3.11.5"
  }
 },
 "nbformat": 4,
 "nbformat_minor": 2
}
