{
 "cells": [
  {
   "cell_type": "code",
   "execution_count": 2,
   "metadata": {},
   "outputs": [
    {
     "name": "stdout",
     "output_type": "stream",
     "text": [
      "Scores: 0.51 (+/- 0.36)\n",
      "Scores: 0.50 (+/- 0.22)2/2\n"
     ]
    }
   ],
   "source": [
    "\n",
    "# Preparing Data\n",
    "import pandas as pd\n",
    "import pandas as pd\n",
    "import numpy as np\n",
    "from sklearn.cluster import KMeans\n",
    "from sklearn.model_selection import train_test_split, KFold, StratifiedKFold\n",
    "from sklearn.svm import SVC\n",
    "from sklearn.metrics import mean_squared_error,mean_squared_log_error, roc_auc_score, accuracy_score, f1_score, precision_recall_curve, log_loss\n",
    "# Load the rock mines dataset\n",
    "url = \"https://archive.ics.uci.edu/ml/machine-learning-databases/undocumented/connectionist-bench/sonar/sonar.all-data\"\n",
    "df = pd.read_csv(url)\n",
    "column_names = [\"sensor_\" + str(i) for i in range(1, 61)] + [\"target\"]\n",
    "df.columns = column_names\n",
    "df = df.reset_index()\n",
    "df = df.rename(columns={\"index\": \"id\"})\n",
    "df['target'] = df['target'].map({'M': 1, 'R': 0})\n",
    "x_data = df.iloc[:, :3]\n",
    "x_data = x_data.drop('id', axis=1)\n",
    "y_data = df['target']\n",
    "x_train, x_test, y_train, y_test = train_test_split(x_data, y_data, test_size=0.4, stratify=y_data)\n",
    "##### Get Base Scoring\n",
    "from sklearn.metrics import log_loss\n",
    "from sklearn.ensemble import RandomForestClassifier\n",
    "from sklearn.model_selection import*\n",
    "kfold = RepeatedStratifiedKFold(n_splits=10,n_repeats=5, random_state=None)\n",
    "model = RandomForestClassifier()\n",
    "scoring = 'accuracy'\n",
    "results = cross_val_score(model, x_test, y_test, cv=kfold, scoring=scoring)\n",
    "print(f'Scores: {results.mean():.2f} (+/- {results.std() * 2:.2f})')\n",
    "from itertools import combinations\n",
    "columns = x_data.columns\n",
    "combs = []\n",
    "## or with subsets with only 2-3 columns\n",
    "for i in range(1, 2):\n",
    "    combs += list(combinations(columns, i))\n",
    "### Get Single Column Scoring\n",
    "cluster_number = 5 \n",
    "data_cluster_train = pd.DataFrame()\n",
    "data_cluster_test = pd.DataFrame()\n",
    "i = 1\n",
    "for i, comb in enumerate(combs, start=1):\n",
    "    print(f\"Processing combination {i}/{len(combs)}\", end=\"\\r\")\n",
    "    kmeans = KMeans(n_clusters=cluster_number, n_init=10)\n",
    "    kmeans.fit(x_train)\n",
    "    data_cluster_train[comb[0]] = kmeans.labels_\n",
    "    data_cluster_test[comb[0]] = kmeans.predict(x_test) \n",
    "# Setting Cluster Data\n",
    "data_cluster_train.columns += '_cluster'\n",
    "data_cluster_test.columns += '_cluster'\n",
    "data_cluster_test = data_cluster_test.set_index(x_test.index)\n",
    "data_cluster_train = data_cluster_train.set_index(x_train.index)\n",
    "# Add Cluster Features to Dataframe\n",
    "x_train_enc_cluster = pd.merge(data_cluster_train, x_train, left_index=True, right_index=True)\n",
    "x_test_enc_cluster = pd.merge(data_cluster_test, x_test, left_index=True, right_index=True)\n",
    "## Re-Evaluation\n",
    "kfold = StratifiedKFold(n_splits=10, random_state=None)\n",
    "model = RandomForestClassifier()\n",
    "scoring = 'accuracy'\n",
    "results = cross_val_score(model, x_test_enc_cluster, y_test, cv=kfold, scoring=scoring)\n",
    "print(f'Scores: {results.mean():.2f} (+/- {results.std() * 2:.2f})')\n"
   ]
  }
 ],
 "metadata": {
  "kernelspec": {
   "display_name": "Python 3",
   "language": "python",
   "name": "python3"
  },
  "language_info": {
   "codemirror_mode": {
    "name": "ipython",
    "version": 3
   },
   "file_extension": ".py",
   "mimetype": "text/x-python",
   "name": "python",
   "nbconvert_exporter": "python",
   "pygments_lexer": "ipython3",
   "version": "3.11.5"
  }
 },
 "nbformat": 4,
 "nbformat_minor": 2
}
