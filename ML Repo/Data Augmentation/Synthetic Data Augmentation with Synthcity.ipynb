{
 "cells": [
  {
   "cell_type": "code",
   "execution_count": 1,
   "metadata": {},
   "outputs": [],
   "source": [
    "\n",
    "# Preparing Data\n",
    "import pandas as pd\n",
    "import numpy as np\n",
    "import statistics\n",
    "from sklearn.ensemble import RandomForestClassifier\n",
    "from sklearn.cluster import KMeans\n",
    "from sklearn.model_selection import train_test_split, KFold, StratifiedKFold\n",
    "from sklearn.svm import SVC\n",
    "from sklearn.metrics import mean_squared_error,mean_squared_log_error, roc_auc_score, accuracy_score, f1_score, precision_recall_curve, log_loss\n",
    "# Load the rock mines dataset\n",
    "url = \"https://archive.ics.uci.edu/ml/machine-learning-databases/undocumented/connectionist-bench/sonar/sonar.all-data\"\n",
    "df = pd.read_csv(url)\n",
    "column_names = [\"sensor_\" + str(i) for i in range(1, 61)] + [\"target\"]\n",
    "df.columns = column_names\n",
    "df = df.reset_index()\n",
    "df = df.rename(columns={\"index\": \"id\"})\n",
    "df['target'] = df['target'].map({'M': 1, 'R': 0})\n",
    "x_data = df.iloc[:, :62]\n",
    "x_data = x_data.drop('id', axis=1)\n",
    "x_data = x_data.drop('target', axis=1)\n",
    "y_data = df['target']"
   ]
  },
  {
   "cell_type": "code",
   "execution_count": 2,
   "metadata": {},
   "outputs": [
    {
     "name": "stdout",
     "output_type": "stream",
     "text": [
      "Score Baseline: 0.76 (+/- 0.22)\n",
      "Score Synthetic Data: 0.64 (+/- 0.16)\n"
     ]
    }
   ],
   "source": [
    "from sdv.metadata import SingleTableMetadata\n",
    "import xgboost as xgb\n",
    "from sdv.single_table import GaussianCopulaSynthesizer\n",
    "from sklearn.ensemble import RandomForestRegressor\n",
    "kf = StratifiedKFold(n_splits=10, random_state=None)\n",
    "model_rf = xgb.XGBClassifier()\n",
    "model_synth = xgb.XGBClassifier()\n",
    "results_baseline = []\n",
    "results_synth = []\n",
    "for train_idx, val_idx in kf.split(x_data, y_data):\n",
    "    X_train = x_data.iloc[train_idx]\n",
    "    y_train = y_data.iloc[train_idx]\n",
    "    X_val = x_data.iloc[val_idx]\n",
    "    y_val = y_data.iloc[val_idx]\n",
    "    #Baseline\n",
    "    model_rf.fit(X_train,  y_train)\n",
    "    y_pred = model_rf.predict(X_val)\n",
    "    score = accuracy_score( y_val, y_pred)\n",
    "    results_baseline.append(score)\n",
    "    #Sythetic Data\n",
    "    x_data_train_idx = pd.merge(X_train, y_train, left_index=True, right_index=True)\n",
    "    metadata = SingleTableMetadata()\n",
    "    metadata.detect_from_dataframe(x_data_train_idx)\n",
    "    synthesizer = GaussianCopulaSynthesizer(metadata)\n",
    "    synthesizer.fit(x_data_train_idx)\n",
    "    x_data_synth = synthesizer.sample(num_rows=200)\n",
    "    y_train_synth = x_data_synth.iloc[:,-1]\n",
    "    x_train_synth = x_data_synth.iloc[:, :60]\n",
    "    model_synth.fit(x_train_synth, y_train_synth)\n",
    "    y_pred = model_synth.predict(X_val)\n",
    "    score = accuracy_score( y_val, y_pred)\n",
    "    results_synth.append(score)\n",
    "print(f'Score Baseline: {statistics.mean(results_baseline):.2f} (+/- {statistics.stdev(results_baseline) * 2:.2f})')\n",
    "print(f'Score Synthetic Data: {statistics.mean(results_synth):.2f} (+/- {statistics.stdev(results_synth) * 2:.2f})')\n"
   ]
  }
 ],
 "metadata": {
  "kernelspec": {
   "display_name": "Python 3",
   "language": "python",
   "name": "python3"
  },
  "language_info": {
   "codemirror_mode": {
    "name": "ipython",
    "version": 3
   },
   "file_extension": ".py",
   "mimetype": "text/x-python",
   "name": "python",
   "nbconvert_exporter": "python",
   "pygments_lexer": "ipython3",
   "version": "3.11.5"
  }
 },
 "nbformat": 4,
 "nbformat_minor": 2
}
