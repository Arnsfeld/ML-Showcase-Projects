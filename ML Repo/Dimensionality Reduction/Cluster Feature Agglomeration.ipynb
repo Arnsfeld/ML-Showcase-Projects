{
 "cells": [
  {
   "cell_type": "code",
   "execution_count": 1,
   "metadata": {},
   "outputs": [
    {
     "name": "stdout",
     "output_type": "stream",
     "text": [
      "Baseline\n",
      "Scores: -0.17 (+/- 0.37)\n",
      "Baseline stan\n",
      "Scores: -0.17 (+/- 0.38)\n",
      "Baseline stan red\n",
      "Scores: -0.12 (+/- 0.09)\n",
      "Baseline stan red distance threshold\n",
      "Scores: -0.12 (+/- 0.10)\n"
     ]
    }
   ],
   "source": [
    "\n",
    "import numpy as np\n",
    "import pandas as pd\n",
    "from sklearn import model_selection\n",
    "from sklearn import datasets\n",
    "from sklearn.metrics import log_loss\n",
    "from sklearn.ensemble import RandomForestClassifier\n",
    "from sklearn.model_selection import*\n",
    "from sklearn.preprocessing import StandardScaler\n",
    "from sklearn import cluster\n",
    "\n",
    "\n",
    "x_data,y_data = datasets.load_breast_cancer(return_X_y=True, as_frame=True)\n",
    "classes = list(set(y_data))\n",
    "def Baseline(x_data, y_data):\n",
    "    kfold = StratifiedKFold(n_splits=10, random_state=None)\n",
    "    model = RandomForestClassifier()\n",
    "    scoring = 'neg_log_loss'\n",
    "    results = cross_val_score(model, x_data, y_data, cv=kfold, scoring=scoring)\n",
    "    print(f'Scores: {results.mean():.2f} (+/- {results.std() * 2:.2f})')\n",
    "\n",
    "\n",
    "\n",
    "# Apply Standard Scaler\n",
    "scaler = StandardScaler()\n",
    "x_data_stan = scaler.fit_transform(x_data)\n",
    "\n",
    "\n",
    "# Initializing Cluster Feature Agglomeration\n",
    "agglo = cluster.FeatureAgglomeration(n_clusters=25)\n",
    "agglo.fit(x_data_stan)\n",
    "x_data_stan_reduced = agglo.transform(x_data_stan)\n",
    "agglo = cluster.FeatureAgglomeration(n_clusters=None, distance_threshold=0.1, compute_full_tree=True)\n",
    "agglo.fit(x_data_stan)\n",
    "x_data_stan_reduced_distance_threshold = agglo.transform(x_data_stan)\n",
    "print(\"Baseline\")\n",
    "Baseline(x_data, y_data)\n",
    "print(\"Baseline stan\")\n",
    "Baseline(x_data_stan, y_data)\n",
    "print(\"Baseline stan red\")\n",
    "Baseline(x_data_stan_reduced, y_data)\n",
    "print(\"Baseline stan red distance threshold\")\n",
    "Baseline(x_data_stan_reduced_distance_threshold, y_data)\n",
    "\n"
   ]
  }
 ],
 "metadata": {
  "kernelspec": {
   "display_name": "Python 3",
   "language": "python",
   "name": "python3"
  },
  "language_info": {
   "codemirror_mode": {
    "name": "ipython",
    "version": 3
   },
   "file_extension": ".py",
   "mimetype": "text/x-python",
   "name": "python",
   "nbconvert_exporter": "python",
   "pygments_lexer": "ipython3",
   "version": "3.11.5"
  }
 },
 "nbformat": 4,
 "nbformat_minor": 2
}
