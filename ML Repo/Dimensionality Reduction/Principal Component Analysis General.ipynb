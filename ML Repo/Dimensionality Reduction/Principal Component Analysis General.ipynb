{
 "cells": [
  {
   "cell_type": "code",
   "execution_count": 1,
   "metadata": {},
   "outputs": [
    {
     "name": "stdout",
     "output_type": "stream",
     "text": [
      "Baseline\n",
      "Scores: -0.17 (+/- 0.37)\n",
      "Baseline PCA\n",
      "Scores: -0.20 (+/- 0.08)\n",
      "Baseline PCA_n\n",
      "Scores: -0.16 (+/- 0.08)\n"
     ]
    }
   ],
   "source": [
    "\n",
    "import numpy as np\n",
    "import pandas as pd\n",
    "from sklearn import model_selection\n",
    "from sklearn import datasets\n",
    "from sklearn.metrics import log_loss\n",
    "from sklearn.ensemble import RandomForestClassifier\n",
    "from sklearn.model_selection import*\n",
    "from sklearn.decomposition import PCA\n",
    "from sklearn.preprocessing import StandardScaler\n",
    "import matplotlib.pyplot as plt\n",
    "\n",
    "\n",
    "x_data,y_data = datasets.load_breast_cancer(return_X_y=True, as_frame=True)\n",
    "classes = list(set(y_data))\n",
    "def Baseline(x_data, y_data):\n",
    "    kfold = StratifiedKFold(n_splits=10, random_state=None)\n",
    "    model = RandomForestClassifier()\n",
    "    scoring = 'neg_log_loss'\n",
    "    results = cross_val_score(model, x_data, y_data, cv=kfold, scoring=scoring)\n",
    "    print(f'Scores: {results.mean():.2f} (+/- {results.std() * 2:.2f})')\n",
    "\n",
    "\n",
    "\n",
    "# Apply Standard Scaler\n",
    "scaler = StandardScaler()\n",
    "x_data_stan = scaler.fit_transform(x_data)\n",
    "\n",
    "\n",
    "# PCA Comparision\n",
    "pca = PCA(svd_solver='full')\n",
    "x_data_pca = pca.fit_transform(x_data, y=None)\n",
    "pca_n = PCA(n_components=10, svd_solver='full')\n",
    "x_data_pca_n = pca_n.fit_transform(x_data, y=None)\n",
    "print(\"Baseline\")\n",
    "Baseline(x_data,y_data)\n",
    "print(\"Baseline PCA\")\n",
    "Baseline(x_data_pca, y_data)\n",
    "print(\"Baseline PCA_n\")\n",
    "Baseline(x_data_pca_n, y_data)\n"
   ]
  },
  {
   "cell_type": "code",
   "execution_count": 2,
   "metadata": {},
   "outputs": [
    {
     "name": "stdout",
     "output_type": "stream",
     "text": [
      "Baseline\n",
      "Scores: -0.17 (+/- 0.38)\n",
      "Baseline PCA\n",
      "Scores: -0.22 (+/- 0.06)\n",
      "Baseline PCA_n\n",
      "Scores: -0.16 (+/- 0.05)\n"
     ]
    }
   ],
   "source": [
    "# PCA Comparision with StandardScaler\n",
    "pca = PCA(svd_solver='full')\n",
    "x_data_pca = pca.fit_transform(x_data_stan, y=None)\n",
    "pca_n = PCA(n_components=0.95, svd_solver='full')\n",
    "x_data_pca_n = pca_n.fit_transform(x_data_stan, y=None)\n",
    "print(\"Baseline\")\n",
    "Baseline(x_data_stan, y_data)\n",
    "print(\"Baseline PCA\")\n",
    "Baseline(x_data_pca, y_data)\n",
    "print(\"Baseline PCA_n\")\n",
    "Baseline(x_data_pca_n, y_data)"
   ]
  },
  {
   "cell_type": "code",
   "execution_count": 3,
   "metadata": {},
   "outputs": [
    {
     "name": "stdout",
     "output_type": "stream",
     "text": [
      "Baseline\n",
      "Scores: -0.17 (+/- 0.37)\n",
      "Baseline PCA\n",
      "Scores: -0.22 (+/- 0.06)\n",
      "Baseline PCA_n\n",
      "Scores: -0.16 (+/- 0.06)\n",
      "Number of components satisfying Kaiser criterion: 7\n"
     ]
    }
   ],
   "source": [
    "# PCA Comparision with StandardScaler\n",
    "pca = PCA(svd_solver='full')\n",
    "x_data_pca = pca.fit_transform(x_data_stan, y=None)\n",
    "pca_n = PCA(n_components=0.95, svd_solver='full')\n",
    "x_data_pca_n = pca_n.fit_transform(x_data_stan, y=None)\n",
    "print(\"Baseline\")\n",
    "Baseline(x_data_stan, y_data)\n",
    "print(\"Baseline PCA\")\n",
    "Baseline(x_data_pca, y_data)\n",
    "print(\"Baseline PCA_n\")\n",
    "Baseline(x_data_pca_n, y_data)\n",
    "\n",
    "\n",
    "# Finding the perfect number of n_components: Analyse the explained_variance\n",
    "explained_variance = pca.explained_variance_\n",
    "explained_variance_ratio = pca.explained_variance_ratio_\n",
    "\n",
    "\n",
    "# Using Kaiser criterion\n",
    "cov_matrix = np.cov(x_data, rowvar=False)\n",
    "# Calculate eigenvalues and eigenvectors\n",
    "eigenvalues, eigenvectors = np.linalg.eig(cov_matrix)\n",
    "num_components = np.sum(eigenvalues > 1)\n",
    "print(f\"Number of components satisfying Kaiser criterion: {num_components}\")"
   ]
  },
  {
   "cell_type": "code",
   "execution_count": 4,
   "metadata": {},
   "outputs": [
    {
     "data": {
      "image/png": "[encoded data removed]",
      "text/plain": [
       "<Figure size 800x600 with 1 Axes>"
      ]
     },
     "metadata": {},
     "output_type": "display_data"
    }
   ],
   "source": [
    "# Calculate explained variance ratio\n",
    "explained_variance_ratio = pca.explained_variance_ratio_\n",
    "# Create the scree plot\n",
    "plt.figure(figsize=(8, 6))\n",
    "plt.bar(range(1, len(explained_variance_ratio) + 1), explained_variance_ratio, color='b', alpha=0.7)\n",
    "plt.xlabel('Principal Component')\n",
    "plt.ylabel('Explained Variance Ratio')\n",
    "plt.title('Scree Plot for PCA')\n",
    "plt.grid(axis='y')\n",
    "plt.show()\n",
    "# The Scree Plot can be used to manually observe \n"
   ]
  }
 ],
 "metadata": {
  "kernelspec": {
   "display_name": "Python 3",
   "language": "python",
   "name": "python3"
  },
  "language_info": {
   "codemirror_mode": {
    "name": "ipython",
    "version": 3
   },
   "file_extension": ".py",
   "mimetype": "text/x-python",
   "name": "python",
   "nbconvert_exporter": "python",
   "pygments_lexer": "ipython3",
   "version": "3.11.5"
  }
 },
 "nbformat": 4,
 "nbformat_minor": 2
}
