{
 "cells": [
  {
   "cell_type": "code",
   "execution_count": 1,
   "metadata": {},
   "outputs": [
    {
     "name": "stdout",
     "output_type": "stream",
     "text": [
      "Baseline\n",
      "Scores: -0.18 (+/- 0.37)\n",
      "Baseline stan\n",
      "Scores: -0.12 (+/- 0.09)\n",
      "Baseline PCAKernel\n",
      "Scores: -0.16 (+/- 0.06)\n",
      "Baseline stan PCAKernel\n",
      "Scores: -0.16 (+/- 0.07)\n",
      "Baseline stan PCAKernel linear\n",
      "Scores: -0.16 (+/- 0.05)\n",
      "Baseline stan PCAKernel rbf\n",
      "Scores: -0.15 (+/- 0.08)\n",
      "Baseline stan PCAKernel sigmoid\n",
      "Scores: -0.17 (+/- 0.07)\n"
     ]
    }
   ],
   "source": [
    "\n",
    "import numpy as np\n",
    "import pandas as pd\n",
    "from sklearn import model_selection\n",
    "from sklearn import datasets\n",
    "from sklearn.metrics import log_loss\n",
    "from sklearn.ensemble import RandomForestClassifier\n",
    "from sklearn.model_selection import*\n",
    "from sklearn.decomposition import KernelPCA\n",
    "from sklearn.preprocessing import StandardScaler\n",
    "\n",
    "\n",
    "x_data,y_data = datasets.load_breast_cancer(return_X_y=True, as_frame=True)\n",
    "classes = list(set(y_data))\n",
    "def Baseline(x_data, y_data):\n",
    "    kfold = StratifiedKFold(n_splits=10, random_state=None)\n",
    "    model = RandomForestClassifier()\n",
    "    scoring = 'neg_log_loss'\n",
    "    results = cross_val_score(model, x_data, y_data, cv=kfold, scoring=scoring)\n",
    "    print(f'Scores: {results.mean():.2f} (+/- {results.std() * 2:.2f})')\n",
    "\n",
    "\n",
    "# Apply Standard Scaler\n",
    "scaler = StandardScaler()\n",
    "x_data_stan = scaler.fit_transform(x_data)\n",
    "\n",
    "\n",
    "# Initializing KernelPCA\n",
    "pca = KernelPCA(n_components=10)\n",
    "x_data_pca = pca.fit_transform(x_data_stan, y=None)\n",
    "pca = KernelPCA(n_components=10)\n",
    "x_data_stan_pca = pca.fit_transform(x_data, y=None)\n",
    "pca = KernelPCA(n_components=10, kernel='linear')\n",
    "x_data_stan_pca_linear = pca.fit_transform(x_data_stan, y=None)\n",
    "pca = KernelPCA(n_components=10, kernel='rbf')\n",
    "x_data_stan_pca_rbf = pca.fit_transform(x_data_stan, y=None)\n",
    "pca = KernelPCA(n_components=10, kernel='sigmoid')\n",
    "x_data_stan_pca_sigmoid = pca.fit_transform(x_data_stan, y=None)\n",
    "print(\"Baseline\")\n",
    "Baseline(x_data,y_data)\n",
    "print(\"Baseline stan\")\n",
    "Baseline(x_data_stan,y_data)\n",
    "print(\"Baseline PCAKernel\")\n",
    "Baseline(x_data_pca, y_data)\n",
    "print(\"Baseline stan PCAKernel\")\n",
    "Baseline(x_data_stan_pca, y_data)\n",
    "print(\"Baseline stan PCAKernel linear\")\n",
    "Baseline(x_data_stan_pca_linear, y_data)\n",
    "print(\"Baseline stan PCAKernel rbf\")\n",
    "Baseline(x_data_stan_pca_rbf, y_data)\n",
    "print(\"Baseline stan PCAKernel sigmoid\")\n",
    "Baseline(x_data_stan_pca_sigmoid, y_data)\n"
   ]
  }
 ],
 "metadata": {
  "kernelspec": {
   "display_name": "Python 3",
   "language": "python",
   "name": "python3"
  },
  "language_info": {
   "codemirror_mode": {
    "name": "ipython",
    "version": 3
   },
   "file_extension": ".py",
   "mimetype": "text/x-python",
   "name": "python",
   "nbconvert_exporter": "python",
   "pygments_lexer": "ipython3",
   "version": "3.11.5"
  }
 },
 "nbformat": 4,
 "nbformat_minor": 2
}
