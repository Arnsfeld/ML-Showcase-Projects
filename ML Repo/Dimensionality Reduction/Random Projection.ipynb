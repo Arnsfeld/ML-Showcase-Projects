{
 "cells": [
  {
   "cell_type": "code",
   "execution_count": 1,
   "metadata": {},
   "outputs": [
    {
     "name": "stdout",
     "output_type": "stream",
     "text": [
      "Baseline\n",
      "Scores: -0.17 (+/- 0.38)\n",
      "Baseline stan\n",
      "Scores: -0.17 (+/- 0.37)\n",
      "Baseline sparserandom\n",
      "Scores: -0.15 (+/- 0.06)\n",
      "Baseline gaussianrandom\n",
      "Scores: -0.18 (+/- 0.38)\n"
     ]
    }
   ],
   "source": [
    "\n",
    "import numpy as np\n",
    "import pandas as pd\n",
    "from sklearn import model_selection\n",
    "from sklearn import datasets\n",
    "from sklearn.metrics import log_loss\n",
    "from sklearn.ensemble import RandomForestClassifier\n",
    "from sklearn.model_selection import*\n",
    "from sklearn.decomposition import KernelPCA\n",
    "from sklearn.preprocessing import StandardScaler\n",
    "\n",
    "x_data,y_data = datasets.load_breast_cancer(return_X_y=True, as_frame=True)\n",
    "classes = list(set(y_data))\n",
    "def Baseline(x_data, y_data):\n",
    "    kfold = StratifiedKFold(n_splits=10, random_state=None)\n",
    "    model = RandomForestClassifier()\n",
    "    scoring = 'neg_log_loss'\n",
    "    results = cross_val_score(model, x_data, y_data, cv=kfold, scoring=scoring)\n",
    "    print(f'Scores: {results.mean():.2f} (+/- {results.std() * 2:.2f})')\n",
    "\n",
    "\n",
    "# Apply Standard Scaler\n",
    "scaler = StandardScaler()\n",
    "x_data_stan = scaler.fit_transform(x_data)\n",
    "\n",
    "\n",
    "\n",
    "# Initializing Random Projection\n",
    "from sklearn import random_projection\n",
    "transformer = random_projection.SparseRandomProjection(n_components=25)\n",
    "x_data_sparserandom = transformer.fit_transform(x_data_stan)\n",
    "transformer = random_projection.GaussianRandomProjection(n_components=25)\n",
    "x_data_gaussianrandom = transformer.fit_transform(x_data_stan)\n",
    "print(\"Baseline\")\n",
    "Baseline(x_data, y_data)\n",
    "print(\"Baseline stan\")\n",
    "Baseline(x_data_stan, y_data)\n",
    "print(\"Baseline sparserandom\")\n",
    "Baseline(x_data_sparserandom, y_data)\n",
    "print(\"Baseline gaussianrandom\")\n",
    "Baseline(x_data_gaussianrandom, y_data)\n",
    "\n"
   ]
  }
 ],
 "metadata": {
  "kernelspec": {
   "display_name": "Python 3",
   "language": "python",
   "name": "python3"
  },
  "language_info": {
   "codemirror_mode": {
    "name": "ipython",
    "version": 3
   },
   "file_extension": ".py",
   "mimetype": "text/x-python",
   "name": "python",
   "nbconvert_exporter": "python",
   "pygments_lexer": "ipython3",
   "version": "3.11.5"
  }
 },
 "nbformat": 4,
 "nbformat_minor": 2
}
