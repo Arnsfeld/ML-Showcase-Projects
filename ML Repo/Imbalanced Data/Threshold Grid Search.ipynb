{
 "cells": [
  {
   "cell_type": "code",
   "execution_count": 1,
   "metadata": {},
   "outputs": [],
   "source": [
    "import pandas as pd\n",
    "from sklearn.model_selection import KFold\n",
    "from sklearn.model_selection import RepeatedKFold\n",
    "import numpy as np\n",
    "import pandas as pd\n",
    "import statistics\n",
    "from sklearn.metrics import f1_score\n",
    "import xgboost as xgb\n",
    "# Load the dataset\n",
    "url = \"https://archive.ics.uci.edu/ml/machine-learning-databases/wine-quality/winequality-red.csv\"\n",
    "data = pd.read_csv(url, sep=\";\")\n",
    "# Binarize the target variable\n",
    "data['quality'] = [1 if x >= 7 else 0 for x in data['quality']]\n",
    "\n",
    "# Split the data into training and test sets\n",
    "x_data = data.drop('quality', axis=1)\n",
    "y_data = data['quality']\n",
    "# Convert to numpy for fast calculation\n",
    "x_data = ndarray = x_data.to_numpy()\n",
    "y_data = ndarray = y_data.to_numpy()\n"
   ]
  },
  {
   "cell_type": "code",
   "execution_count": 2,
   "metadata": {},
   "outputs": [
    {
     "name": "stdout",
     "output_type": "stream",
     "text": [
      "    Threshold  F1 Score    F1 Std\n",
      "0        0.05  0.827253  0.076771\n",
      "1        0.10  0.843953  0.075047\n",
      "2        0.15  0.853295  0.074268\n",
      "3        0.20  0.862532  0.069306\n",
      "4        0.25  0.868067  0.069335\n",
      "5        0.30  0.866694  0.071799\n",
      "6        0.35  0.865706  0.070403\n",
      "7        0.40  0.865825  0.069952\n",
      "8        0.45  0.869762  0.072349\n",
      "9        0.50  0.868305  0.076274\n",
      "10       0.55  0.865527  0.079209\n",
      "11       0.60  0.860250  0.078636\n",
      "12       0.65  0.857322  0.077929\n",
      "13       0.70  0.856362  0.081034\n",
      "14       0.75  0.853292  0.084286\n",
      "15       0.80  0.851820  0.087489\n",
      "16       0.85  0.850181  0.085487\n",
      "17       0.90  0.849617  0.089687\n",
      "18       0.95  0.831910  0.096739\n"
     ]
    }
   ],
   "source": [
    "# Define CV\n",
    "#kf =  RepeatedKFold(n_splits=10, n_repeats=6)\n",
    "kf = KFold(n_splits=10)\n",
    "model = xgb.XGBClassifier()\n",
    "# Scoring Function\n",
    "scoring = 'f1'\n",
    "# Calculate Score for different thresholds\n",
    "thresholds = np.arange(0.05, 1.0, 0.05)\n",
    "f1_scores_all = []\n",
    "f1_scores_std = []\n",
    "for threshold in thresholds:\n",
    "    f1_scores = []\n",
    "    for train_index, test_index in kf.split(x_data):\n",
    "        X_train, X_test = x_data[train_index], x_data[test_index]\n",
    "        y_train, y_test = y_data[train_index], y_data[test_index]\n",
    "        model.fit(X_train, y_train)\n",
    "        # Calculate probability of class 1 of the test set\n",
    "        probs = model.predict_proba(X_test)\n",
    "        probs = probs[:, 1]\n",
    "        y_pred = (probs > threshold).astype(int)\n",
    "        results = f1_score(y_test, y_pred, average='weighted')\n",
    "        f1_scores.append(results)\n",
    "    f1_scores_all.append(statistics.mean(f1_scores))\n",
    "    f1_scores_std.append(statistics.stdev(f1_scores))\n",
    "results_df = pd.DataFrame({\n",
    "    'Threshold': thresholds,\n",
    "    'F1 Score': f1_scores_all,\n",
    "    'F1 Std': f1_scores_std,\n",
    "})\n",
    "\n",
    "\n",
    "print(results_df)"
   ]
  }
 ],
 "metadata": {
  "kernelspec": {
   "display_name": "Python 3",
   "language": "python",
   "name": "python3"
  },
  "language_info": {
   "codemirror_mode": {
    "name": "ipython",
    "version": 3
   },
   "file_extension": ".py",
   "mimetype": "text/x-python",
   "name": "python",
   "nbconvert_exporter": "python",
   "pygments_lexer": "ipython3",
   "version": "3.11.5"
  }
 },
 "nbformat": 4,
 "nbformat_minor": 2
}
