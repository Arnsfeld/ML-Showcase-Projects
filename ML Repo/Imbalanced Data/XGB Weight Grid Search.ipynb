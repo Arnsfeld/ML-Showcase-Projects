{
 "cells": [
  {
   "cell_type": "code",
   "execution_count": 1,
   "metadata": {},
   "outputs": [],
   "source": [
    "\n",
    "import pandas as pd\n",
    "from sklearn.model_selection import KFold\n",
    "from sklearn.model_selection import RepeatedKFold\n",
    "import numpy as np\n",
    "import statistics\n",
    "from sklearn.metrics import f1_score\n",
    "import xgboost as xgb\n",
    "# Load the dataset\n",
    "url = \"https://archive.ics.uci.edu/ml/machine-learning-databases/wine-quality/winequality-red.csv\"\n",
    "data = pd.read_csv(url, sep=\";\")\n",
    "# Binarize the target variable\n",
    "data['quality'] = [1 if x >= 7 else 0 for x in data['quality']]\n",
    "\n",
    "# Split the data into training and test sets\n",
    "x_data = data.drop('quality', axis=1)\n",
    "y_data = data['quality']\n",
    "### ATTENTION Data Leakage, Calculation from pos_weight is taken from whole Dataset\n",
    "# Calculate Pos_weights from class imbalance:\n",
    "pos_weight = float(y_data.value_counts()[0]) / y_data.value_counts()[1]\n",
    "pos_weight_list = [pos_weight * p / 100 for p in [25, 50, 75, 100, 125, 150, 175, 200, 300]]\n",
    "\n",
    "\n",
    "# Convert to numpy for fast calculation\n",
    "x_data = ndarray = x_data.to_numpy()\n",
    "y_data = ndarray = y_data.to_numpy()\n"
   ]
  },
  {
   "cell_type": "code",
   "execution_count": 2,
   "metadata": {},
   "outputs": [
    {
     "name": "stdout",
     "output_type": "stream",
     "text": [
      "   Pos_weight  F1 Score    F1 Std\n",
      "0    1.592166  0.868207  0.077945\n",
      "1    3.184332  0.860613  0.073390\n",
      "2    4.776498  0.865022  0.067138\n",
      "3    6.368664  0.861176  0.076750\n",
      "4    7.960829  0.859048  0.071296\n",
      "5    9.552995  0.862301  0.069359\n",
      "6   11.145161  0.862459  0.073061\n",
      "7   12.737327  0.857879  0.073041\n",
      "8   19.105991  0.862613  0.067225\n"
     ]
    }
   ],
   "source": [
    "# Define CV\n",
    "#kf =  RepeatedKFold(n_splits=10, n_repeats=6)\n",
    "kf = KFold(n_splits=10)\n",
    "# Scoring Function\n",
    "scoring = 'f1'\n",
    "\n",
    "f1_scores_all = []\n",
    "f1_scores_std = []\n",
    "for pos_weight in pos_weight_list:\n",
    "    f1_scores = []\n",
    "    model = xgb.XGBClassifier(scale_pos_weight=pos_weight)\n",
    "    for train_index, test_index in kf.split(x_data):\n",
    "        X_train, X_test = x_data[train_index], x_data[test_index]\n",
    "        y_train, y_test = y_data[train_index], y_data[test_index]\n",
    "        model.fit(X_train, y_train)\n",
    "        # Make Prediction\n",
    "        y_pred = model.predict(X_test)\n",
    "        results = f1_score(y_test, y_pred, average='weighted')\n",
    "        f1_scores.append(results)\n",
    "    f1_scores_all.append(statistics.mean(f1_scores))\n",
    "    f1_scores_std.append(statistics.stdev(f1_scores))\n",
    "results_df = pd.DataFrame({\n",
    "    'Pos_weight': pos_weight_list,\n",
    "    'F1 Score': f1_scores_all,\n",
    "    'F1 Std': f1_scores_std,\n",
    "})\n",
    "\n",
    "\n",
    "print(results_df)\n",
    "\n"
   ]
  }
 ],
 "metadata": {
  "kernelspec": {
   "display_name": "Python 3",
   "language": "python",
   "name": "python3"
  },
  "language_info": {
   "codemirror_mode": {
    "name": "ipython",
    "version": 3
   },
   "file_extension": ".py",
   "mimetype": "text/x-python",
   "name": "python",
   "nbconvert_exporter": "python",
   "pygments_lexer": "ipython3",
   "version": "3.11.5"
  }
 },
 "nbformat": 4,
 "nbformat_minor": 2
}
