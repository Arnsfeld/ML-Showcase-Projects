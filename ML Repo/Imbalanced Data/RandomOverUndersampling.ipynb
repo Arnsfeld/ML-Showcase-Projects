{
 "cells": [
  {
   "cell_type": "code",
   "execution_count": 2,
   "metadata": {},
   "outputs": [
    {
     "name": "stdout",
     "output_type": "stream",
     "text": [
      "F1 Score: 0.798\n"
     ]
    }
   ],
   "source": [
    "\n",
    "import pandas as pd\n",
    "import numpy as np\n",
    "from numpy import mean\n",
    "from sklearn.model_selection import RepeatedStratifiedKFold\n",
    "from sklearn.model_selection import cross_val_score\n",
    "from sklearn.metrics import f1_score\n",
    "import xgboost as xgb\n",
    "from imblearn.pipeline import Pipeline\n",
    "from imblearn.under_sampling import RandomUnderSampler\n",
    "from imblearn.over_sampling import RandomOverSampler\n",
    "# Load the dataset\n",
    "url = \"https://archive.ics.uci.edu/ml/machine-learning-databases/wine-quality/winequality-red.csv\"\n",
    "data = pd.read_csv(url, sep=\";\")\n",
    "# Binarize the target variable\n",
    "data['quality'] = [1 if x >= 7 else 0 for x in data['quality']]\n",
    "\n",
    "# Split the data into training and test sets\n",
    "x_data = data.drop('quality', axis=1)\n",
    "y_data = data['quality']\n",
    "\n",
    "# pipeline\n",
    "steps = [('under', RandomUnderSampler()), ('model', xgb.XGBClassifier())]\n",
    "pipeline = Pipeline(steps=steps)\n",
    "cv = RepeatedStratifiedKFold(n_splits=10, n_repeats=3, random_state=1)\n",
    "scores = cross_val_score(pipeline, x_data, y_data, scoring='f1_micro', cv=cv, n_jobs=-1)\n",
    "score = mean(scores)\n",
    "print('F1 Score: %.3f' % score)"
   ]
  },
  {
   "cell_type": "code",
   "execution_count": 3,
   "metadata": {},
   "outputs": [
    {
     "name": "stdout",
     "output_type": "stream",
     "text": [
      "F1 Score Over: 0.909\n",
      "F1 Score Under: 0.869\n",
      "F1 Score Over/Under: 0.872\n"
     ]
    }
   ],
   "source": [
    "# Compare different samling methods\n",
    "# Split the data into training and test sets\n",
    "x_data = data.drop('quality', axis=1)\n",
    "y_data = data['quality']\n",
    "# define sampling parameter\n",
    "over = RandomOverSampler(sampling_strategy=0.2)\n",
    "under = RandomUnderSampler(sampling_strategy=0.5)\n",
    "cv = RepeatedStratifiedKFold(n_splits=10, n_repeats=3, random_state=1)\n",
    "# Over Pipeline\n",
    "steps = [('over', over), ('model', xgb.XGBClassifier())]\n",
    "pipeline = Pipeline(steps=steps)\n",
    "scores = cross_val_score(pipeline, x_data, y_data, scoring='f1_micro', cv=cv, n_jobs=-1)\n",
    "score = mean(scores)\n",
    "print('F1 Score Over: %.3f' % score)\n",
    "# Under Pipeline\n",
    "steps = [('under', under), ('model', xgb.XGBClassifier())]\n",
    "pipeline = Pipeline(steps=steps)\n",
    "scores = cross_val_score(pipeline, x_data, y_data, scoring='f1_micro', cv=cv, n_jobs=-1)\n",
    "score = mean(scores)\n",
    "print('F1 Score Under: %.3f' % score)\n",
    "# Over/Under pipeline\n",
    "steps = [('over', over),('under', under), ('model', xgb.XGBClassifier())]\n",
    "pipeline = Pipeline(steps=steps)\n",
    "scores = cross_val_score(pipeline, x_data, y_data, scoring='f1_micro', cv=cv, n_jobs=-1)\n",
    "score = mean(scores)\n",
    "print('F1 Score Over/Under: %.3f' % score)"
   ]
  }
 ],
 "metadata": {
  "kernelspec": {
   "display_name": "Python 3",
   "language": "python",
   "name": "python3"
  },
  "language_info": {
   "codemirror_mode": {
    "name": "ipython",
    "version": 3
   },
   "file_extension": ".py",
   "mimetype": "text/x-python",
   "name": "python",
   "nbconvert_exporter": "python",
   "pygments_lexer": "ipython3",
   "version": "3.11.5"
  }
 },
 "nbformat": 4,
 "nbformat_minor": 2
}
