{
 "cells": [
  {
   "cell_type": "code",
   "execution_count": 1,
   "metadata": {},
   "outputs": [
    {
     "name": "stdout",
     "output_type": "stream",
     "text": [
      "Baseline\n",
      "-0.4097833544259093\n",
      "f_classif_kbest\n",
      "-0.4142782149889813\n",
      "f_classif_percentile\n",
      "-0.4289157229920601\n",
      "chi2_percentile\n",
      "-0.406101824625096\n"
     ]
    }
   ],
   "source": [
    "\n",
    "#Classification\n",
    "# ANOVA feature selection for numeric input and categorical output\n",
    "import pandas as pd\n",
    "from sklearn.feature_selection import SelectKBest\n",
    "from sklearn.feature_selection import SelectPercentile\n",
    "from sklearn.feature_selection import f_classif\n",
    "from sklearn.feature_selection import SelectFpr, SelectFwe, chi2\n",
    "# Load the rock mines dataset\n",
    "url = \"https://archive.ics.uci.edu/ml/machine-learning-databases/undocumented/connectionist-bench/sonar/sonar.all-data\"\n",
    "df = pd.read_csv(url)\n",
    "column_names = [\"sensor_\" + str(i) for i in range(1, 61)] + [\"target\"]\n",
    "df.columns = column_names\n",
    "df = df.reset_index()\n",
    "df = df.rename(columns={\"index\": \"id\"})\n",
    "df['target'] = df['target'].map({'M': 1, 'R': 0})\n",
    "x_data = df.iloc[:, :60]\n",
    "x_data = x_data.drop('id', axis=1)\n",
    "y_data = df['target']\n",
    "##### Get Base Scoring\n",
    "from sklearn.metrics import log_loss\n",
    "from sklearn.ensemble import RandomForestClassifier\n",
    "from sklearn.model_selection import*\n",
    "kfold = RepeatedStratifiedKFold(n_splits=10,n_repeats=10, random_state=None)\n",
    "model = RandomForestClassifier()\n",
    "scoring = 'neg_log_loss'\n",
    "results = cross_val_score(model, x_data, y_data, cv=kfold, scoring=scoring)\n",
    "print('Baseline')\n",
    "print(results.mean())\n",
    "\n",
    "\n",
    "# Anova Selection KBest\n",
    "fs = SelectKBest(score_func=f_classif, k=50)\n",
    "# apply feature selection\n",
    "x_data_selected = fs.fit_transform(x_data, y_data)\n",
    "results = cross_val_score(model, x_data_selected, y_data, cv=kfold, scoring=scoring)\n",
    "print('f_classif_kbest')\n",
    "print(results.mean())\n",
    "\n",
    "\n",
    "# Anova Selection Percentile\n",
    "fs = SelectPercentile(score_func=f_classif, percentile=70)\n",
    "# apply feature selection\n",
    "x_data_selected = fs.fit_transform(x_data, y_data)\n",
    "results = cross_val_score(model, x_data_selected, y_data, cv=kfold, scoring=scoring)\n",
    "print('f_classif_percentile')\n",
    "print(results.mean())\n",
    "\n",
    "\n",
    "# Chi2 Selection Percentile\n",
    "fs = SelectPercentile(score_func=chi2, percentile=70)\n",
    "# apply feature selection\n",
    "x_data_selected = fs.fit_transform(x_data, y_data)\n",
    "results = cross_val_score(model, x_data_selected, y_data, cv=kfold, scoring=scoring)\n",
    "print('chi2_percentile')\n",
    "print(results.mean())\n",
    "\n",
    "### get column names of selected features\n",
    "\n",
    "selected_feature_indices = fs.get_support(indices=True)\n",
    "# Get the original feature names\n",
    "feature_names = list(x_data.columns)\n",
    "# Create a list of the selected feature names\n",
    "selected_feature_names = [feature_names[i] for i in selected_feature_indices]\n",
    "\n"
   ]
  }
 ],
 "metadata": {
  "kernelspec": {
   "display_name": "Python 3",
   "language": "python",
   "name": "python3"
  },
  "language_info": {
   "codemirror_mode": {
    "name": "ipython",
    "version": 3
   },
   "file_extension": ".py",
   "mimetype": "text/x-python",
   "name": "python",
   "nbconvert_exporter": "python",
   "pygments_lexer": "ipython3",
   "version": "3.11.9"
  }
 },
 "nbformat": 4,
 "nbformat_minor": 2
}
