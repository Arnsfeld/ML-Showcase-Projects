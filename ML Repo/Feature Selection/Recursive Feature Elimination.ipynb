{
 "cells": [
  {
   "cell_type": "code",
   "execution_count": 1,
   "metadata": {},
   "outputs": [
    {
     "name": "stdout",
     "output_type": "stream",
     "text": [
      "-0.524814091460936\n"
     ]
    }
   ],
   "source": [
    "# Preparing Data\n",
    "import pandas as pd\n",
    "import featuretools as ft\n",
    "# Load the rock mines dataset\n",
    "url = \"https://archive.ics.uci.edu/ml/machine-learning-databases/undocumented/connectionist-bench/sonar/sonar.all-data\"\n",
    "df = pd.read_csv(url)\n",
    "column_names = [\"sensor_\" + str(i) for i in range(1, 61)] + [\"target\"]\n",
    "df.columns = column_names\n",
    "df = df.reset_index()\n",
    "df = df.rename(columns={\"index\": \"id\"})\n",
    "df['target'] = df['target'].map({'M': 1, 'R': 0})\n",
    "x_data = df.iloc[:, :60]\n",
    "x_data = x_data.drop('id', axis=1)\n",
    "y_data = df['target']\n",
    "\n",
    "##### Get Base Scoring\n",
    "from sklearn.metrics import log_loss\n",
    "from sklearn.ensemble import RandomForestClassifier\n",
    "from sklearn.model_selection import*\n",
    "kfold = StratifiedKFold(n_splits=10, random_state=None)\n",
    "model = RandomForestClassifier()\n",
    "scoring = 'neg_log_loss'\n",
    "results = cross_val_score(model, x_data, y_data, cv=kfold, scoring=scoring)\n",
    "print(results.mean())\n",
    "\n",
    "\n",
    "\n",
    "\n"
   ]
  },
  {
   "cell_type": "code",
   "execution_count": 2,
   "metadata": {},
   "outputs": [
    {
     "name": "stdout",
     "output_type": "stream",
     "text": [
      "52\n",
      "-0.5100185860679436\n"
     ]
    }
   ],
   "source": [
    "##### RCEV for automatic Feature Selection\n",
    "\n",
    "from sklearn.feature_selection import RFECV\n",
    "from sklearn.ensemble import RandomForestClassifier\n",
    "# Apply\n",
    "model_RFE = RandomForestClassifier()\n",
    "#step= how many features are eliminated each iteration\n",
    "#step 0-1 how much percent is eliminated\n",
    "kfold = StratifiedKFold(n_splits=3, random_state=None)\n",
    "rfecv = RFECV(estimator=model_RFE, step=1, cv=kfold, scoring='neg_log_loss')\n",
    "rfecv.fit(x_data, y_data)\n",
    "selected_features = pd.DataFrame({\n",
    "    'Feature': x_data.columns,\n",
    "    'Selected': rfecv.support_,\n",
    "    'Rank': rfecv.ranking_\n",
    "})\n",
    "selected_columns = selected_features[selected_features['Selected']]['Feature'].tolist()\n",
    "x_data_RFE = x_data[selected_columns]\n",
    "print(len(selected_columns))\n",
    "\n",
    "\n",
    "kfold = StratifiedKFold(n_splits=10, random_state=None)\n",
    "model = RandomForestClassifier()\n",
    "scoring = 'neg_log_loss'\n",
    "results = cross_val_score(model, x_data_RFE, y_data, cv=kfold, scoring=scoring)\n",
    "print(results.mean())"
   ]
  },
  {
   "cell_type": "code",
   "execution_count": 3,
   "metadata": {},
   "outputs": [
    {
     "name": "stdout",
     "output_type": "stream",
     "text": [
      "-0.4777705567956114\n"
     ]
    }
   ],
   "source": [
    "##### RFE Finetuning, manual\n",
    "\n",
    "from sklearn.feature_selection import RFE\n",
    "model_RFE = RandomForestClassifier()\n",
    "rfe = RFE(estimator=model_RFE, n_features_to_select=25)\n",
    "rfe.fit(x_data, y_data)\n",
    "feature_names = x_data.columns[rfe.support_]\n",
    "x_data_RFE_fine= x_data[feature_names]\n",
    "kfold = StratifiedKFold(n_splits=10, random_state=None)\n",
    "#odel = RandomForestClassifier()\n",
    "scoring = 'neg_log_loss'\n",
    "results = cross_val_score(model, x_data_RFE_fine, y_data, cv=kfold, scoring=scoring)\n",
    "print(results.mean())\n"
   ]
  }
 ],
 "metadata": {
  "kernelspec": {
   "display_name": "Python 3",
   "language": "python",
   "name": "python3"
  },
  "language_info": {
   "codemirror_mode": {
    "name": "ipython",
    "version": 3
   },
   "file_extension": ".py",
   "mimetype": "text/x-python",
   "name": "python",
   "nbconvert_exporter": "python",
   "pygments_lexer": "ipython3",
   "version": "3.11.5"
  }
 },
 "nbformat": 4,
 "nbformat_minor": 2
}
