{
 "cells": [
  {
   "cell_type": "code",
   "execution_count": 2,
   "metadata": {},
   "outputs": [
    {
     "name": "stdout",
     "output_type": "stream",
     "text": [
      "Baseline\n",
      "-46.73481592817306\n",
      "r_regression\n",
      "-47.1773034411963\n",
      "f_regression\n",
      "-47.14446817736103\n",
      "mutual_info_score\n",
      "-47.25046955629098\n"
     ]
    }
   ],
   "source": [
    "\n",
    "import pandas as pd\n",
    "from sklearn.datasets import load_diabetes\n",
    "from sklearn.metrics import mean_absolute_error\n",
    "from sklearn.ensemble import RandomForestRegressor\n",
    "from sklearn.model_selection import*\n",
    "from sklearn.feature_selection import r_regression\n",
    "from sklearn.feature_selection import SelectKBest\n",
    "from sklearn.feature_selection import f_regression\n",
    "from sklearn.feature_selection import mutual_info_regression\n",
    "diabetes = load_diabetes()\n",
    "# Create a DataFrame (X) from the feature matrix\n",
    "x_data = pd.DataFrame(diabetes.data, columns=diabetes.feature_names)\n",
    "# Create a Series (y) from the target variable\n",
    "y_data = pd.Series(diabetes.target, name=\"diabetes_status\")\n",
    "##### Get Base Scoring\n",
    "kfold = RepeatedKFold(n_splits=3,n_repeats=10, random_state=None)\n",
    "model = RandomForestRegressor()\n",
    "scoring = 'neg_mean_absolute_error'\n",
    "results = cross_val_score(model, x_data, y_data, cv=kfold, scoring=scoring)\n",
    "print('Baseline')\n",
    "print(results.mean())\n",
    "\n",
    "\n",
    "# Pearson r_regression\n",
    "fs = SelectKBest(score_func=r_regression, k=8)\n",
    "# apply feature selection\n",
    "x_data_selected = fs.fit_transform(x_data, y_data)\n",
    "results = cross_val_score(model, x_data, y_data, cv=kfold, scoring=scoring)\n",
    "print('r_regression')\n",
    "print(results.mean())\n",
    "\n",
    "\n",
    "# f_regression\n",
    "fs = SelectKBest(score_func=f_regression, k=8)\n",
    "# apply feature selection\n",
    "x_data_selected = fs.fit_transform(x_data, y_data)\n",
    "results = cross_val_score(model, x_data, y_data, cv=kfold, scoring=scoring)\n",
    "print('f_regression')\n",
    "print(results.mean())\n",
    "\n",
    "\n",
    "# mutual_info_regression\n",
    "fs = SelectKBest(score_func=mutual_info_regression, k=8)\n",
    "# apply feature selection\n",
    "x_data_selected = fs.fit_transform(x_data, y_data)\n",
    "results = cross_val_score(model, x_data, y_data, cv=kfold, scoring=scoring)\n",
    "print('mutual_info_score')\n",
    "print(results.mean())\n"
   ]
  }
 ],
 "metadata": {
  "kernelspec": {
   "display_name": "Python 3",
   "language": "python",
   "name": "python3"
  },
  "language_info": {
   "codemirror_mode": {
    "name": "ipython",
    "version": 3
   },
   "file_extension": ".py",
   "mimetype": "text/x-python",
   "name": "python",
   "nbconvert_exporter": "python",
   "pygments_lexer": "ipython3",
   "version": "3.11.9"
  }
 },
 "nbformat": 4,
 "nbformat_minor": 2
}
