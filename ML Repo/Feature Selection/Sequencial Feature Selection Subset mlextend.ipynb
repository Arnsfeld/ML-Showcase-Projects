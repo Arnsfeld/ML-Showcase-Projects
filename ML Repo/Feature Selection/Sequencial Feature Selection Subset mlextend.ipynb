{
 "cells": [
  {
   "cell_type": "code",
   "execution_count": 5,
   "metadata": {},
   "outputs": [
    {
     "name": "stdout",
     "output_type": "stream",
     "text": [
      "-0.5347137240140082\n",
      "Best accuracy score: -0.52\n",
      "Best subset (indices): (0, 1, 2, 3, 4, 5, 6, 7, 8, 9, 10, 11, 12, 13, 14, 15, 16, 17, 18, 19, 20, 21, 22, 23, 24, 25, 26, 27, 28, 29, 30, 31, 32, 33, 34, 35, 36, 37, 38, 39, 40, 41, 42, 43, 44, 45, 46, 47, 48, 49, 50, 51, 52, 56)\n",
      "Best subset (corresponding names): ('sensor_1', 'sensor_2', 'sensor_3', 'sensor_4', 'sensor_5', 'sensor_6', 'sensor_7', 'sensor_8', 'sensor_9', 'sensor_10', 'sensor_11', 'sensor_12', 'sensor_13', 'sensor_14', 'sensor_15', 'sensor_16', 'sensor_17', 'sensor_18', 'sensor_19', 'sensor_20', 'sensor_21', 'sensor_22', 'sensor_23', 'sensor_24', 'sensor_25', 'sensor_26', 'sensor_27', 'sensor_28', 'sensor_29', 'sensor_30', 'sensor_31', 'sensor_32', 'sensor_33', 'sensor_34', 'sensor_35', 'sensor_36', 'sensor_37', 'sensor_38', 'sensor_39', 'sensor_40', 'sensor_41', 'sensor_42', 'sensor_43', 'sensor_44', 'sensor_45', 'sensor_46', 'sensor_47', 'sensor_48', 'sensor_49', 'sensor_50', 'sensor_51', 'sensor_52', 'sensor_53', 'sensor_57')\n",
      "Best new features (corresponding names): ('sensor_51', 'sensor_52', 'sensor_53', 'sensor_57')\n"
     ]
    }
   ],
   "source": [
    "import warnings\n",
    "warnings.filterwarnings('ignore')\n",
    "# Preparing Data\n",
    "import pandas as pd\n",
    "# Load the rock mines dataset\n",
    "url = \"https://archive.ics.uci.edu/ml/machine-learning-databases/undocumented/connectionist-bench/sonar/sonar.all-data\"\n",
    "df = pd.read_csv(url)\n",
    "column_names = [\"sensor_\" + str(i) for i in range(1, 61)] + [\"target\"]\n",
    "df.columns = column_names\n",
    "df = df.reset_index()\n",
    "df = df.rename(columns={\"index\": \"id\"})\n",
    "df['target'] = df['target'].map({'M': 1, 'R': 0})\n",
    "x_data = df.iloc[:, :60]\n",
    "x_data = x_data.drop('id', axis=1)\n",
    "y_data = df['target']\n",
    "\n",
    "##### Get Base Scoring\n",
    "from sklearn.metrics import log_loss\n",
    "from sklearn.ensemble import RandomForestClassifier\n",
    "from sklearn.model_selection import*\n",
    "kfold = StratifiedKFold(n_splits=10, random_state=None)\n",
    "model = RandomForestClassifier()\n",
    "scoring = 'neg_log_loss'\n",
    "results = cross_val_score(model, x_data, y_data, cv=kfold, scoring=scoring)\n",
    "print(results.mean())\n",
    "\n",
    "\n",
    "#Expect the first 50 columns to be the subset\n",
    "x_data_subset = x_data.iloc[:, :50]\n",
    "x_data_features_to_add = x_data.iloc[:, -9:]\n",
    "cols_x_data_subset = x_data_subset.columns.tolist()\n",
    "cols_x_data_features_to_add = x_data_features_to_add.columns.tolist()\n",
    "combined_features = []\n",
    "combined_features.append(cols_x_data_subset)\n",
    "for feature in cols_x_data_features_to_add:\n",
    "    combined_features.append([feature])\n",
    "\n",
    "\n",
    "\n",
    "from mlxtend.feature_selection import SequentialFeatureSelector as SFS\n",
    "#model = RandomForestClassifier()\n",
    "sfs1 = SFS(model, \n",
    "           k_features=5, \n",
    "           scoring='neg_log_loss',\n",
    "           feature_groups=(combined_features),\n",
    "           cv=kfold)\n",
    "sfs1 = sfs1.fit(x_data, y_data)\n",
    "\n",
    "tuple_added_features = tuple(item for item in sfs1.k_feature_names_ if item not in cols_x_data_subset)\n",
    "print('Best accuracy score: %.2f' % sfs1.k_score_)\n",
    "print('Best subset (indices):', sfs1.k_feature_idx_)\n",
    "print('Best subset (corresponding names):', sfs1.k_feature_names_)\n",
    "print('Best new features (corresponding names):', tuple_added_features)\n",
    "\n"
   ]
  }
 ],
 "metadata": {
  "kernelspec": {
   "display_name": "Python 3",
   "language": "python",
   "name": "python3"
  },
  "language_info": {
   "codemirror_mode": {
    "name": "ipython",
    "version": 3
   },
   "file_extension": ".py",
   "mimetype": "text/x-python",
   "name": "python",
   "nbconvert_exporter": "python",
   "pygments_lexer": "ipython3",
   "version": "3.11.9"
  }
 },
 "nbformat": 4,
 "nbformat_minor": 2
}
