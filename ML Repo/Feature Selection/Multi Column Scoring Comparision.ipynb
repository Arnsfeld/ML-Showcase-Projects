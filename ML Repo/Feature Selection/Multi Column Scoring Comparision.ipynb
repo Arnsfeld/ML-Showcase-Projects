{
 "cells": [
  {
   "cell_type": "code",
   "execution_count": 1,
   "metadata": {},
   "outputs": [
    {
     "name": "stdout",
     "output_type": "stream",
     "text": [
      "Scores: 0.71 (+/- 0.27)\n",
      "Scores: 0.67 (+/- 0.30)1770/1770\n"
     ]
    }
   ],
   "source": [
    "\n",
    "# Preparing Data\n",
    "import pandas as pd\n",
    "import pandas as pd\n",
    "import numpy as np\n",
    "from sklearn.model_selection import train_test_split, KFold, StratifiedKFold\n",
    "from sklearn.svm import SVC\n",
    "from sklearn.metrics import mean_squared_error,mean_squared_log_error, roc_auc_score, accuracy_score, f1_score, precision_recall_curve, log_loss\n",
    "# Load the rock mines dataset\n",
    "url = \"https://archive.ics.uci.edu/ml/machine-learning-databases/undocumented/connectionist-bench/sonar/sonar.all-data\"\n",
    "df = pd.read_csv(url)\n",
    "column_names = [\"sensor_\" + str(i) for i in range(1, 61)] + [\"target\"]\n",
    "df.columns = column_names\n",
    "df = df.reset_index()\n",
    "df = df.rename(columns={\"index\": \"id\"})\n",
    "df['target'] = df['target'].map({'M': 1, 'R': 0})\n",
    "x_data = df.iloc[:, :60]\n",
    "x_data = x_data.drop('id', axis=1)\n",
    "y_data = df['target']\n",
    "##### Get Base Scoring\n",
    "from sklearn.metrics import log_loss\n",
    "from sklearn.ensemble import RandomForestClassifier\n",
    "from sklearn.model_selection import*\n",
    "kfold = StratifiedKFold(n_splits=10, random_state=None)\n",
    "model = RandomForestClassifier()\n",
    "scoring = 'accuracy'\n",
    "results = cross_val_score(model, x_data, y_data, cv=kfold, scoring=scoring)\n",
    "print(f'Scores: {results.mean():.2f} (+/- {results.std() * 2:.2f})')\n",
    "from itertools import combinations\n",
    "columns = x_data.columns\n",
    "combs = []\n",
    "## or with subsets with only 2-3 columns\n",
    "for i in range(1, 3):\n",
    "    combs += list(combinations(columns, i))\n",
    "### Get Single Column Scoring\n",
    "feature_score = []\n",
    "feature_score_std = []\n",
    "i = 1\n",
    "for i, comb in enumerate(combs, start=1):\n",
    "    print(f\"Processing combination {i}/{len(combs)}\", end=\"\\r\")\n",
    "    kf = KFold(n_splits=5, shuffle=True, random_state=42)\n",
    "    X = x_data[list(comb)].values\n",
    "    y = y_data.values\n",
    "    scores= []\n",
    "    for train_idx, val_idx in kf.split(X, y):\n",
    "        X_train, y_train = X[train_idx], y[train_idx]\n",
    "        X_val, y_val = X[val_idx], y[val_idx]\n",
    "        model = SVC(gamma=\"auto\", probability=True, random_state=42)\n",
    "        model.fit(X_train,  y_train)\n",
    "        y_pred = model.predict(X_val)\n",
    "        score = accuracy_score( y_val, y_pred)\n",
    "        scores.append(score)\n",
    "    score_avg = np.mean(scores)\n",
    "    score_std = np.std(scores)\n",
    "    feature_score.append(score_avg)\n",
    "    feature_score_std.append(score_std)\n",
    "df_scores = pd.DataFrame({'name': list(combs), 'score': feature_score, 'std': feature_score_std})\n",
    "# Creating List of Top performing Features\n",
    "sorted_df = df_scores.sort_values(by='score', ascending=False)\n",
    "flattened_df = sorted_df['name'].explode()\n",
    "top_feature_list = flattened_df.unique()[:20].tolist()\n",
    "## Re-Evaluation\n",
    "kfold = StratifiedKFold(n_splits=10, random_state=None)\n",
    "model = RandomForestClassifier()\n",
    "scoring = 'accuracy'\n",
    "results = cross_val_score(model, x_data[top_feature_list], y_data, cv=kfold, scoring=scoring)\n",
    "print(f'Scores: {results.mean():.2f} (+/- {results.std() * 2:.2f})')\n"
   ]
  }
 ],
 "metadata": {
  "kernelspec": {
   "display_name": "Python 3",
   "language": "python",
   "name": "python3"
  },
  "language_info": {
   "codemirror_mode": {
    "name": "ipython",
    "version": 3
   },
   "file_extension": ".py",
   "mimetype": "text/x-python",
   "name": "python",
   "nbconvert_exporter": "python",
   "pygments_lexer": "ipython3",
   "version": "3.11.5"
  }
 },
 "nbformat": 4,
 "nbformat_minor": 2
}
