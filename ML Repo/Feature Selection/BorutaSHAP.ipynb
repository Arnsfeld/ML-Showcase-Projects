{
 "cells": [
  {
   "cell_type": "code",
   "execution_count": 1,
   "metadata": {},
   "outputs": [
    {
     "data": {
      "application/vnd.jupyter.widget-view+json": {
       "model_id": "537edc4328184525ace506986056c418",
       "version_major": 2,
       "version_minor": 0
      },
      "text/plain": [
       "  0%|          | 0/100 [00:00<?, ?it/s]"
      ]
     },
     "metadata": {},
     "output_type": "display_data"
    },
    {
     "name": "stdout",
     "output_type": "stream",
     "text": [
      "14 attributes confirmed important: ['worst area', 'mean texture', 'worst radius', 'worst compactness', 'radius error', 'mean concavity', 'worst smoothness', 'worst texture', 'perimeter error', 'mean concave points', 'worst concave points', 'worst concavity', 'worst perimeter', 'area error']\n",
      "18 attributes confirmed unimportant: ['worst symmetry', 'random_1', 'mean area', 'compactness error', 'mean perimeter', 'mean smoothness', 'mean fractal dimension', 'concavity error', 'concave points error', 'mean symmetry', 'mean compactness', 'smoothness error', 'worst fractal dimension', 'fractal dimension error', 'random_2', 'symmetry error', 'texture error', 'mean radius']\n",
      "0 tentative attributes remains: []\n"
     ]
    },
    {
     "ename": "NameError",
     "evalue": "name 'boruta' is not defined",
     "output_type": "error",
     "traceback": [
      "\u001b[1;31m---------------------------------------------------------------------------\u001b[0m",
      "\u001b[1;31mNameError\u001b[0m                                 Traceback (most recent call last)",
      "Cell \u001b[1;32mIn[1], line 37\u001b[0m\n\u001b[0;32m     34\u001b[0m selector\u001b[38;5;241m.\u001b[39mfit(X \u001b[38;5;241m=\u001b[39m x_train, y \u001b[38;5;241m=\u001b[39m y_train, n_trials \u001b[38;5;241m=\u001b[39m \u001b[38;5;241m100\u001b[39m, sample \u001b[38;5;241m=\u001b[39m \u001b[38;5;28;01mFalse\u001b[39;00m, verbose \u001b[38;5;241m=\u001b[39m \u001b[38;5;28;01mTrue\u001b[39;00m)\n\u001b[0;32m     36\u001b[0m \u001b[38;5;66;03m############### Calculate the important Columns\u001b[39;00m\n\u001b[1;32m---> 37\u001b[0m boruta_support \u001b[38;5;241m=\u001b[39m x_data\u001b[38;5;241m.\u001b[39mcolumns[\u001b[43mboruta\u001b[49m\u001b[38;5;241m.\u001b[39msupport_]\n\u001b[0;32m     39\u001b[0m \u001b[38;5;66;03m# Perform cross-validation with accuracy as the scoring metric\u001b[39;00m\n\u001b[0;32m     40\u001b[0m scores \u001b[38;5;241m=\u001b[39m cross_val_score(model_rf, x_train, y_train, cv\u001b[38;5;241m=\u001b[39m\u001b[38;5;241m5\u001b[39m, scoring\u001b[38;5;241m=\u001b[39m\u001b[38;5;124m'\u001b[39m\u001b[38;5;124maccuracy\u001b[39m\u001b[38;5;124m'\u001b[39m)\n",
      "\u001b[1;31mNameError\u001b[0m: name 'boruta' is not defined"
     ]
    }
   ],
   "source": [
    "\n",
    "from sklearn.ensemble import RandomForestClassifier\n",
    "from sklearn.datasets import load_breast_cancer\n",
    "from BorutaShap import BorutaShap\n",
    "from sklearn.model_selection import train_test_split, cross_val_score\n",
    "import pandas as pd\n",
    "import numpy as np\n",
    "import matplotlib.pyplot as plt\n",
    "\n",
    "# Load the breast cancer dataset\n",
    "data = load_breast_cancer()\n",
    "x_data = pd.DataFrame(data.data, columns=data.feature_names)\n",
    "y_data = pd.Series(data.target)\n",
    "\n",
    "# Add two columns with random values to the DataFrame\n",
    "x_data['random_1'] = np.random.rand(x_data.shape[0])\n",
    "x_data['random_2'] = np.random.rand(x_data.shape[0])\n",
    "\n",
    "# Split the data into training and test sets\n",
    "x_train, x_test, y_train, y_test = train_test_split(x_data, y_data, test_size=0.2, random_state=0)\n",
    "\n",
    "# Create an Random Forest classifier\n",
    "model_rf = RandomForestClassifier()\n",
    "#boruta = BorutaPy(estimator = model_rf, n_estimators = 25, max_iter = 100)\n",
    "\n",
    "#workaround\n",
    "np.int = np.int32\n",
    "np.float = np.float64\n",
    "np.bool = np.bool_\n",
    "# Boruta Fit\n",
    "\n",
    "#boruta.fit(np.array(x_train), np.array(y_train))\n",
    "selector = BorutaShap(importance_measure = 'shap', classification = False)\n",
    "# Fits the selector\n",
    "selector.fit(X = x_train, y = y_train, n_trials = 100, sample = False, verbose = True)\n",
    "\n",
    "############### Calculate the important Columns\n",
    "boruta_support = x_data.columns[boruta.support_]\n",
    "\n",
    "# Perform cross-validation with accuracy as the scoring metric\n",
    "scores = cross_val_score(model_rf, x_train, y_train, cv=5, scoring='accuracy')\n",
    "print(f'Cross-validation accuracy: {scores.mean():.2f} (+/- {scores.std() * 2:.2f})')\n",
    "\n",
    "# Select the important features\n",
    "x_data_top = x_data[boruta_support]\n",
    "\n",
    "# Recalculate the cross-validation using only the important Features\n",
    "scores_top = cross_val_score(model_rf, x_data_top, y_data, cv=5, scoring='accuracy')\n",
    "print(f'Cross-validation accuracy (top important features): {scores_top.mean():.2f} (+/- {scores_top.std() * 2:.2f})')\n"
   ]
  },
  {
   "cell_type": "code",
   "execution_count": 3,
   "metadata": {},
   "outputs": [
    {
     "ename": "NameError",
     "evalue": "name 'boruta_support_' is not defined",
     "output_type": "error",
     "traceback": [
      "\u001b[1;31m---------------------------------------------------------------------------\u001b[0m",
      "\u001b[1;31mNameError\u001b[0m                                 Traceback (most recent call last)",
      "Cell \u001b[1;32mIn[3], line 1\u001b[0m\n\u001b[1;32m----> 1\u001b[0m \u001b[43mboruta_support_\u001b[49m\n",
      "\u001b[1;31mNameError\u001b[0m: name 'boruta_support_' is not defined"
     ]
    }
   ],
   "source": [
    "selector.supp"
   ]
  }
 ],
 "metadata": {
  "kernelspec": {
   "display_name": "Python 3",
   "language": "python",
   "name": "python3"
  },
  "language_info": {
   "codemirror_mode": {
    "name": "ipython",
    "version": 3
   },
   "file_extension": ".py",
   "mimetype": "text/x-python",
   "name": "python",
   "nbconvert_exporter": "python",
   "pygments_lexer": "ipython3",
   "version": "3.11.5"
  }
 },
 "nbformat": 4,
 "nbformat_minor": 2
}
