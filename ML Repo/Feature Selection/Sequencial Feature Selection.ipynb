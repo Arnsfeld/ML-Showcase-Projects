{
 "cells": [
  {
   "cell_type": "code",
   "execution_count": 1,
   "metadata": {},
   "outputs": [
    {
     "name": "stdout",
     "output_type": "stream",
     "text": [
      "-0.5352113246432714\n"
     ]
    }
   ],
   "source": [
    "# Preparing Data\n",
    "import pandas as pd\n",
    "import featuretools as ft\n",
    "# Load the rock mines dataset\n",
    "url = \"https://archive.ics.uci.edu/ml/machine-learning-databases/undocumented/connectionist-bench/sonar/sonar.all-data\"\n",
    "df = pd.read_csv(url)\n",
    "column_names = [\"sensor_\" + str(i) for i in range(1, 61)] + [\"target\"]\n",
    "df.columns = column_names\n",
    "df = df.reset_index()\n",
    "df = df.rename(columns={\"index\": \"id\"})\n",
    "df['target'] = df['target'].map({'M': 1, 'R': 0})\n",
    "x_data = df.iloc[:, :60]\n",
    "x_data = x_data.drop('id', axis=1)\n",
    "y_data = df['target']\n",
    "\n",
    "##### Get Base Scoring\n",
    "\n",
    "\n",
    "from sklearn.metrics import log_loss\n",
    "from sklearn.ensemble import RandomForestClassifier\n",
    "from sklearn.model_selection import*\n",
    "kfold = StratifiedKFold(n_splits=10, random_state=None)\n",
    "model = RandomForestClassifier()\n",
    "scoring = 'neg_log_loss'\n",
    "results = cross_val_score(model, x_data, y_data, cv=kfold, scoring=scoring)\n",
    "print(results.mean())\n"
   ]
  },
  {
   "cell_type": "code",
   "execution_count": 2,
   "metadata": {},
   "outputs": [
    {
     "name": "stdout",
     "output_type": "stream",
     "text": [
      "-0.5079504905040158\n"
     ]
    }
   ],
   "source": [
    "##### Automatic\n",
    "\n",
    "\n",
    "from sklearn.feature_selection import SequentialFeatureSelector\n",
    "from sklearn.ensemble import RandomForestClassifier\n",
    "kfold = StratifiedKFold(n_splits=3, random_state=None)\n",
    "model = RandomForestClassifier()\n",
    "sfs = SequentialFeatureSelector(estimator=model, n_features_to_select='auto', direction='forward', scoring='neg_log_loss', cv=kfold)\n",
    "sfs.fit(x_data, y_data)\n",
    "# Get the selected feature indices\n",
    "selected_feature_indices = sfs.get_support(indices=True)\n",
    "selected_feature_names = x_data.columns[selected_feature_indices]\n",
    "x_data_sfs= x_data[selected_feature_names]\n",
    "kfold = StratifiedKFold(n_splits=10, random_state=None)\n",
    "#odel = RandomForestClassifier()\n",
    "scoring = 'neg_log_loss'\n",
    "results = cross_val_score(model, x_data_sfs, y_data, cv=kfold, scoring=scoring)\n",
    "print(results.mean())"
   ]
  },
  {
   "cell_type": "code",
   "execution_count": 3,
   "metadata": {},
   "outputs": [
    {
     "name": "stdout",
     "output_type": "stream",
     "text": [
      "-0.5062854126029845\n"
     ]
    }
   ],
   "source": [
    "##### Finetuning\n",
    "\n",
    "\n",
    "from sklearn.feature_selection import SequentialFeatureSelector\n",
    "from sklearn.ensemble import RandomForestClassifier\n",
    "kfold = StratifiedKFold(n_splits=3, random_state=None)\n",
    "model = RandomForestClassifier()\n",
    "sfs = SequentialFeatureSelector(estimator=model, n_features_to_select=15, direction='forward', scoring='neg_log_loss', cv=kfold)\n",
    "sfs.fit(x_data, y_data)\n",
    "# Get the selected feature indices\n",
    "selected_feature_indices = sfs.get_support(indices=True)\n",
    "selected_feature_names = x_data.columns[selected_feature_indices]\n",
    "x_data_sfs= x_data[selected_feature_names]\n",
    "kfold = StratifiedKFold(n_splits=10, random_state=None)\n",
    "#odel = RandomForestClassifier()\n",
    "scoring = 'neg_log_loss'\n",
    "results = cross_val_score(model, x_data_sfs, y_data, cv=kfold, scoring=scoring)\n",
    "print(results.mean())"
   ]
  }
 ],
 "metadata": {
  "kernelspec": {
   "display_name": "Python 3",
   "language": "python",
   "name": "python3"
  },
  "language_info": {
   "codemirror_mode": {
    "name": "ipython",
    "version": 3
   },
   "file_extension": ".py",
   "mimetype": "text/x-python",
   "name": "python",
   "nbconvert_exporter": "python",
   "pygments_lexer": "ipython3",
   "version": "3.11.5"
  }
 },
 "nbformat": 4,
 "nbformat_minor": 2
}
