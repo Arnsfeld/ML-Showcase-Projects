{
 "cells": [
  {
   "cell_type": "code",
   "execution_count": 1,
   "metadata": {},
   "outputs": [
    {
     "name": "stdout",
     "output_type": "stream",
     "text": [
      "Cross-validation accuracy: 0.95 (+/- 0.03)\n",
      "Cross-validation accuracy (top 20 features): 0.96 (+/- 0.04)\n"
     ]
    }
   ],
   "source": [
    "\n",
    "\n",
    "from boruta import BorutaPy\n",
    "from sklearn.ensemble import RandomForestClassifier\n",
    "from sklearn.datasets import load_breast_cancer\n",
    "from sklearn.model_selection import train_test_split, cross_val_score\n",
    "import pandas as pd\n",
    "import numpy as np\n",
    "import matplotlib.pyplot as plt\n",
    "\n",
    "# Load the breast cancer dataset\n",
    "data = load_breast_cancer()\n",
    "x_data = pd.DataFrame(data.data, columns=data.feature_names)\n",
    "y_data = pd.Series(data.target)\n",
    "\n",
    "# Add two columns with random values to the DataFrame\n",
    "x_data['random_1'] = np.random.rand(x_data.shape[0])\n",
    "x_data['random_2'] = np.random.rand(x_data.shape[0])\n",
    "\n",
    "# Split the data into training and test sets\n",
    "x_train, x_test, y_train, y_test = train_test_split(x_data, y_data, test_size=0.2, random_state=0)\n",
    "\n",
    "# Create an Random Forest classifier\n",
    "model_rf = RandomForestClassifier()\n",
    "boruta = BorutaPy(estimator = model_rf, n_estimators = 'auto', max_iter = 100)\n",
    "\n",
    "#workaround\n",
    "np.int = np.int32\n",
    "np.float = np.float64\n",
    "np.bool = np.bool_\n",
    "\n",
    "# Boruta Fit\n",
    "boruta.fit(np.array(x_train), np.array(y_train))\n",
    "\n",
    "############### Calculate the important Columns\n",
    "boruta_support = x_data.columns[boruta.support_]\n",
    "\n",
    "# Perform cross-validation with accuracy as the scoring metric\n",
    "scores = cross_val_score(model_rf, x_train, y_train, cv=5, scoring='accuracy')\n",
    "print(f'Cross-validation accuracy: {scores.mean():.2f} (+/- {scores.std() * 2:.2f})')\n",
    "\n",
    "# Select the important features\n",
    "x_data_top = x_data[boruta_support]\n",
    "\n",
    "# Recalculate the cross-validation using only the important Features\n",
    "scores_top = cross_val_score(model_rf, x_data_top, y_data, cv=5, scoring='accuracy')\n",
    "print(f'Cross-validation accuracy (top 20 features): {scores_top.mean():.2f} (+/- {scores_top.std() * 2:.2f})')\n"
   ]
  }
 ],
 "metadata": {
  "kernelspec": {
   "display_name": "Python 3",
   "language": "python",
   "name": "python3"
  },
  "language_info": {
   "codemirror_mode": {
    "name": "ipython",
    "version": 3
   },
   "file_extension": ".py",
   "mimetype": "text/x-python",
   "name": "python",
   "nbconvert_exporter": "python",
   "pygments_lexer": "ipython3",
   "version": "3.11.5"
  }
 },
 "nbformat": 4,
 "nbformat_minor": 2
}
