{
 "cells": [
  {
   "cell_type": "code",
   "execution_count": 2,
   "metadata": {},
   "outputs": [
    {
     "name": "stderr",
     "output_type": "stream",
     "text": [
      "[I 2024-10-08 19:00:21,824] A new study created in memory with name: no-name-0a8fc8c9-4a8b-4b03-a1fd-73c5d3640a4b\n"
     ]
    },
    {
     "name": "stdout",
     "output_type": "stream",
     "text": [
      "-0.5342909504897584\n"
     ]
    },
    {
     "name": "stderr",
     "output_type": "stream",
     "text": [
      "[I 2024-10-08 19:00:24,987] Trial 2 finished with value: -0.7029204590976001 and parameters: {'hidden_layer_sizes': (30, 30, 30), 'activation': 'relu', 'solver': 'sgd', 'alpha': 0.0006551789406043006, 'learning_rate': 'invscaling'}. Best is trial 2 with value: -0.7029204590976001.\n",
      "[I 2024-10-08 19:00:26,471] Trial 11 finished with value: -0.7108643931055807 and parameters: {'hidden_layer_sizes': (59, 59, 59), 'activation': 'relu', 'solver': 'sgd', 'alpha': 0.00020942647918790214, 'learning_rate': 'invscaling'}. Best is trial 2 with value: -0.7029204590976001.\n",
      "[I 2024-10-08 19:00:29,105] Trial 1 finished with value: -0.710460953183539 and parameters: {'hidden_layer_sizes': (30, 30, 30), 'activation': 'identity', 'solver': 'sgd', 'alpha': 0.0007816071637567015, 'learning_rate': 'invscaling'}. Best is trial 2 with value: -0.7029204590976001.\n",
      "[I 2024-10-08 19:00:29,352] Trial 4 finished with value: -4.058106619688504 and parameters: {'hidden_layer_sizes': (30,), 'activation': 'logistic', 'solver': 'lbfgs', 'alpha': 0.00015863694769935655, 'learning_rate': 'invscaling'}. Best is trial 2 with value: -0.7029204590976001.\n",
      "[I 2024-10-08 19:00:29,370] Trial 6 finished with value: -3.1024300994161913 and parameters: {'hidden_layer_sizes': (30,), 'activation': 'logistic', 'solver': 'lbfgs', 'alpha': 0.0003251010745354563, 'learning_rate': 'invscaling'}. Best is trial 2 with value: -0.7029204590976001.\n",
      "[I 2024-10-08 19:00:29,992] Trial 10 finished with value: -0.5985733943046647 and parameters: {'hidden_layer_sizes': (30,), 'activation': 'relu', 'solver': 'adam', 'alpha': 0.007712615734016474, 'learning_rate': 'constant'}. Best is trial 10 with value: -0.5985733943046647.\n",
      "[I 2024-10-08 19:00:30,943] Trial 9 finished with value: -0.5690985562775063 and parameters: {'hidden_layer_sizes': (59,), 'activation': 'identity', 'solver': 'adam', 'alpha': 1.513689151028966e-05, 'learning_rate': 'adaptive'}. Best is trial 9 with value: -0.5690985562775063.\n",
      "[I 2024-10-08 19:00:31,270] Trial 13 finished with value: -7.631838630308131 and parameters: {'hidden_layer_sizes': (30,), 'activation': 'tanh', 'solver': 'lbfgs', 'alpha': 1.836130657131077e-05, 'learning_rate': 'adaptive'}. Best is trial 9 with value: -0.5690985562775063.\n",
      "[I 2024-10-08 19:00:31,565] Trial 5 finished with value: -0.5659031696950227 and parameters: {'hidden_layer_sizes': (59,), 'activation': 'identity', 'solver': 'adam', 'alpha': 0.00019659725644940586, 'learning_rate': 'constant'}. Best is trial 5 with value: -0.5659031696950227.\n",
      "[I 2024-10-08 19:00:33,107] Trial 3 finished with value: -0.6910377690166201 and parameters: {'hidden_layer_sizes': (30, 30, 30), 'activation': 'logistic', 'solver': 'sgd', 'alpha': 0.0025635377403702064, 'learning_rate': 'constant'}. Best is trial 5 with value: -0.5659031696950227.\n",
      "[I 2024-10-08 19:00:33,908] Trial 8 finished with value: -0.6628889800750464 and parameters: {'hidden_layer_sizes': (59,), 'activation': 'logistic', 'solver': 'adam', 'alpha': 0.0001954133646786637, 'learning_rate': 'invscaling'}. Best is trial 5 with value: -0.5659031696950227.\n",
      "[I 2024-10-08 19:00:35,159] Trial 0 finished with value: -0.5682629621272237 and parameters: {'hidden_layer_sizes': (30, 30), 'activation': 'relu', 'solver': 'adam', 'alpha': 0.0007112040248121278, 'learning_rate': 'invscaling'}. Best is trial 5 with value: -0.5659031696950227.\n",
      "[I 2024-10-08 19:00:35,698] Trial 12 finished with value: -2.991653926319832 and parameters: {'hidden_layer_sizes': (30, 30), 'activation': 'identity', 'solver': 'lbfgs', 'alpha': 0.006023863831035245, 'learning_rate': 'adaptive'}. Best is trial 5 with value: -0.5659031696950227.\n",
      "[I 2024-10-08 19:00:36,184] Trial 16 finished with value: -0.5928893333879635 and parameters: {'hidden_layer_sizes': (30,), 'activation': 'tanh', 'solver': 'adam', 'alpha': 0.0029481449748236573, 'learning_rate': 'invscaling'}. Best is trial 5 with value: -0.5659031696950227.\n",
      "[I 2024-10-08 19:00:36,280] Trial 18 finished with value: -4.135739833027392 and parameters: {'hidden_layer_sizes': (30,), 'activation': 'logistic', 'solver': 'lbfgs', 'alpha': 0.00014784889983621757, 'learning_rate': 'constant'}. Best is trial 5 with value: -0.5659031696950227.\n",
      "[I 2024-10-08 19:00:36,703] Trial 19 finished with value: -7.12052521949861 and parameters: {'hidden_layer_sizes': (59,), 'activation': 'tanh', 'solver': 'lbfgs', 'alpha': 8.11305673971308e-05, 'learning_rate': 'invscaling'}. Best is trial 5 with value: -0.5659031696950227.\n",
      "[I 2024-10-08 19:00:36,917] Trial 14 finished with value: -0.5989299564615128 and parameters: {'hidden_layer_sizes': (59,), 'activation': 'relu', 'solver': 'adam', 'alpha': 0.0027533211999640206, 'learning_rate': 'constant'}. Best is trial 5 with value: -0.5659031696950227.\n",
      "[I 2024-10-08 19:00:38,162] Trial 17 finished with value: -0.7296542118790745 and parameters: {'hidden_layer_sizes': (30, 30, 30), 'activation': 'identity', 'solver': 'adam', 'alpha': 0.00013789679718512164, 'learning_rate': 'invscaling'}. Best is trial 5 with value: -0.5659031696950227.\n",
      "[I 2024-10-08 19:00:38,206] Trial 7 finished with value: -2.91402201106563 and parameters: {'hidden_layer_sizes': (59, 59, 59), 'activation': 'identity', 'solver': 'lbfgs', 'alpha': 0.00035694627504581866, 'learning_rate': 'invscaling'}. Best is trial 5 with value: -0.5659031696950227.\n",
      "[I 2024-10-08 19:00:38,237] Trial 15 finished with value: -0.6852910784466152 and parameters: {'hidden_layer_sizes': (30, 30, 30), 'activation': 'relu', 'solver': 'sgd', 'alpha': 0.0003903520220077764, 'learning_rate': 'adaptive'}. Best is trial 5 with value: -0.5659031696950227.\n"
     ]
    },
    {
     "name": "stdout",
     "output_type": "stream",
     "text": [
      "Best hyperparameters: {'hidden_layer_sizes': (59,), 'activation': 'identity', 'solver': 'adam', 'alpha': 0.00019659725644940586, 'learning_rate': 'constant'}\n",
      "Best Score -0.5659031696950227\n",
      "-0.7130973370041526\n"
     ]
    }
   ],
   "source": [
    "\n",
    "import optuna\n",
    "from sklearn.neural_network import MLPClassifier\n",
    "from sklearn.model_selection import GridSearchCV, StratifiedKFold, train_test_split, cross_val_score\n",
    "import warnings\n",
    "warnings.filterwarnings('ignore')\n",
    "# Preparing Data\n",
    "import pandas as pd\n",
    "# Load the rock mines dataset\n",
    "url = \"https://archive.ics.uci.edu/ml/machine-learning-databases/undocumented/connectionist-bench/sonar/sonar.all-data\"\n",
    "df = pd.read_csv(url)\n",
    "column_names = [\"sensor_\" + str(i) for i in range(1, 61)] + [\"target\"]\n",
    "df.columns = column_names\n",
    "df = df.reset_index()\n",
    "df = df.rename(columns={\"index\": \"id\"})\n",
    "df['target'] = df['target'].map({'M': 1, 'R': 0})\n",
    "x_data = df.iloc[:, :60]\n",
    "x_data = x_data.drop('id', axis=1)\n",
    "y_data = df['target']\n",
    "##### Get Base Scoring\n",
    "from sklearn.metrics import log_loss\n",
    "from sklearn.ensemble import RandomForestClassifier\n",
    "from sklearn.model_selection import*\n",
    "kfold = StratifiedKFold(n_splits=10, random_state=None)\n",
    "model = RandomForestClassifier()\n",
    "scoring = 'neg_log_loss'\n",
    "results = cross_val_score(model, x_data, y_data, cv=kfold, scoring=scoring)\n",
    "print(results.mean())\n",
    "def objective(trial):\n",
    "    # Define hyperparameters to optimize\n",
    "    hidden_layer_sizes = trial.suggest_categorical('hidden_layer_sizes', [(59,), (59, 59,), (59,59,59),(30,), (30, 30,), (30,30,30),  ])\n",
    "    activation = trial.suggest_categorical('activation', ['identity', 'logistic', 'tanh', 'relu'])\n",
    "    solver = trial.suggest_categorical('solver', ['lbfgs', 'sgd', 'adam'])\n",
    "    alpha = trial.suggest_loguniform('alpha', 1e-5, 1e-2)\n",
    "    learning_rate = trial.suggest_categorical('learning_rate', ['constant', 'invscaling', 'adaptive'])\n",
    "    # Create the MLPClassifier\n",
    "    mlp = MLPClassifier(\n",
    "        hidden_layer_sizes=hidden_layer_sizes,\n",
    "        activation=activation,\n",
    "        solver=solver,\n",
    "        alpha=alpha,\n",
    "        learning_rate=learning_rate,\n",
    "        max_iter=100\n",
    "    )\n",
    "    # Evaluate using cross-validation\n",
    "    score = cross_val_score(mlp, x_data, y_data, cv=kfold, scoring=scoring).mean()\n",
    "    return score\n",
    "# Optimize hyperparameters\n",
    "study = optuna.create_study(direction='maximize')\n",
    "study.optimize(objective, n_trials=20, n_jobs=-1)\n",
    "# Get the best hyperparameters\n",
    "best_params = study.best_params\n",
    "print(\"Best hyperparameters:\", best_params)\n",
    "print(\"Best Score\", study.best_value)\n",
    "\n",
    "\n",
    "mlp = MLPClassifier(**best_params, max_iter=5, verbose=False)\n",
    "results = cross_val_score(mlp, x_data, y_data, cv=kfold, scoring=scoring)\n",
    "print(results.mean())\n",
    "\n"
   ]
  }
 ],
 "metadata": {
  "kernelspec": {
   "display_name": "Python 3",
   "language": "python",
   "name": "python3"
  },
  "language_info": {
   "codemirror_mode": {
    "name": "ipython",
    "version": 3
   },
   "file_extension": ".py",
   "mimetype": "text/x-python",
   "name": "python",
   "nbconvert_exporter": "python",
   "pygments_lexer": "ipython3",
   "version": "3.11.9"
  }
 },
 "nbformat": 4,
 "nbformat_minor": 2
}
