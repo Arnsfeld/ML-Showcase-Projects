{
 "cells": [
  {
   "cell_type": "code",
   "execution_count": 1,
   "metadata": {},
   "outputs": [
    {
     "name": "stderr",
     "output_type": "stream",
     "text": [
      "[I 2024-04-17 16:55:58,118] A new study created in memory with name: no-name-a676303e-9c39-49e9-b54d-622267b503eb\n"
     ]
    },
    {
     "name": "stdout",
     "output_type": "stream",
     "text": [
      "{'lambda_l1': 7.634190995582307, 'lambda_l2': 8.073694938705138, 'num_leaves': 8, 'feature_fraction': 0.6392025951065148, 'bagging_fraction': 0.9182770389118676, 'bagging_freq': 1, 'min_child_samples': 25}\n",
      "0.5368546535643052\n"
     ]
    }
   ],
   "source": [
    "\n",
    "import numpy as np\n",
    "import pandas as pd\n",
    "from pandas import read_csv\n",
    "from sklearn.model_selection import*\n",
    "import optuna\n",
    "import lightgbm as lgb\n",
    "import warnings\n",
    "warnings.filterwarnings('ignore')\n",
    "from sklearn.metrics import log_loss\n",
    "from sklearn import preprocessing\n",
    "from sklearn.model_selection import train_test_split\n",
    "# load dataset\n",
    "url = \"https://archive.ics.uci.edu/ml/machine-learning-databases/undocumented/connectionist-bench/sonar/sonar.all-data\"\n",
    "dataset = read_csv(url, header=None)\n",
    "data = dataset.values\n",
    "x_data, y_data = data[:, :-1],data[:, -1]\n",
    "x_data = pd.DataFrame(x_data.astype('float64'))\n",
    "#Label Encoding Target\n",
    "le = preprocessing.LabelEncoder()\n",
    "le.fit(y_data)\n",
    "y_data = le.transform(y_data)\n",
    "y_data = pd.DataFrame(y_data.astype('float64'))\n",
    "##compare a validation set with the kfold output from optuna \n",
    "features, test_features, target, test_target = train_test_split(x_data, y_data, test_size=0.3, random_state=17)\n",
    "x_data_lgb = x_data.to_numpy()\n",
    "y_data_lgb = y_data.to_numpy()\n",
    "\n",
    "\n",
    "def objective(trial):\n",
    "    params = {\n",
    "        'device' : 'gpu',\n",
    "        'objective': 'binary',\n",
    "        'metric': 'binary_logloss',\n",
    "        'lambda_l1': trial.suggest_float('lambda_l1', 1e-8, 10.0),\n",
    "        'lambda_l2': trial.suggest_float('lambda_l2', 1e-8, 10.0),\n",
    "        'num_leaves': trial.suggest_int('num_leaves', 2, 256),\n",
    "        'feature_fraction': trial.suggest_float('feature_fraction', 0.4, 1.0),\n",
    "        'bagging_fraction': trial.suggest_float('bagging_fraction', 0.4, 1.0),\n",
    "        'bagging_freq': trial.suggest_int('bagging_freq', 1, 7),\n",
    "        'min_child_samples': trial.suggest_int('min_child_samples', 5, 100),\n",
    "        'verbose' : -100 #leave out verbose parameter to show INFO logs\n",
    "    }\n",
    "    # Perform k-fold cross-validation\n",
    "    kf = KFold(n_splits=5, shuffle=True, random_state=42)\n",
    "    scores = []\n",
    "    for train_idx, valid_idx in kf.split(x_data_lgb, y_data_lgb):\n",
    "        dtrain = lgb.Dataset(x_data_lgb[train_idx], label=y_data_lgb[train_idx])\n",
    "        dvalid = lgb.Dataset(x_data_lgb[valid_idx], label=y_data_lgb[valid_idx])\n",
    "        model = lgb.train(params, dtrain, valid_sets=[dvalid], num_boost_round=50)\n",
    "        valid_pred = model.predict(x_data_lgb[valid_idx])\n",
    "        score = log_loss(y_data_lgb[valid_idx], valid_pred)\n",
    "        scores.append(score)\n",
    "    return np.mean(scores)\n",
    "study = optuna.create_study(direction='minimize')\n",
    "# Suppress INFO logs by setting the logging level to WARNING\n",
    "optuna.logging.set_verbosity(optuna.logging.ERROR)\n",
    "study.optimize(objective, n_trials=10)\n",
    "# Access the best hyperparameters and corresponding log loss\n",
    "best_params = study.best_params\n",
    "best_log_loss = study.best_value\n",
    "\n",
    "print(best_params)\n",
    "print(best_log_loss)\n",
    "\n"
   ]
  }
 ],
 "metadata": {
  "kernelspec": {
   "display_name": "Python 3",
   "language": "python",
   "name": "python3"
  },
  "language_info": {
   "codemirror_mode": {
    "name": "ipython",
    "version": 3
   },
   "file_extension": ".py",
   "mimetype": "text/x-python",
   "name": "python",
   "nbconvert_exporter": "python",
   "pygments_lexer": "ipython3",
   "version": "3.11.5"
  }
 },
 "nbformat": 4,
 "nbformat_minor": 2
}
