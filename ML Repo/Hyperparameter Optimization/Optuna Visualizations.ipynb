{
 "cells": [
  {
   "cell_type": "code",
   "execution_count": 7,
   "metadata": {},
   "outputs": [
    {
     "name": "stdout",
     "output_type": "stream",
     "text": [
      "0.3611105922841189\n",
      "{'lambda_l1': 0.5413824961820222, 'lambda_l2': 2.4185591357880414, 'num_leaves': 249, 'feature_fraction': 0.9176354752287577, 'bagging_fraction': 0.8229906222437912, 'bagging_freq': 7, 'min_child_samples': 30, 'max_bin': 462, 'boosting': 'gbdt', 'learning_rate': 0.22537390267355806, 'num_iterations': 116}\n"
     ]
    }
   ],
   "source": [
    "\n",
    "import numpy as np\n",
    "import pandas as pd\n",
    "from pandas import read_csv\n",
    "from sklearn.model_selection import*\n",
    "import optuna\n",
    "from lightgbm import LGBMClassifier\n",
    "import warnings\n",
    "warnings.filterwarnings('ignore')\n",
    "\n",
    "from sklearn.metrics import log_loss\n",
    "from sklearn.metrics import accuracy_score\n",
    "from sklearn import preprocessing\n",
    "# load dataset\n",
    "url = \"https://archive.ics.uci.edu/ml/machine-learning-databases/undocumented/connectionist-bench/sonar/sonar.all-data\"\n",
    "dataset = read_csv(url, header=None)\n",
    "data = dataset.values\n",
    "x_data, y_data = data[:, :-1],data[:, -1]\n",
    "x_data = pd.DataFrame(x_data.astype('float64'))\n",
    "#Label Encoding Target\n",
    "le = preprocessing.LabelEncoder()\n",
    "le.fit(y_data)\n",
    "y_data = le.transform(y_data)\n",
    "y_data = pd.DataFrame(y_data.astype('float64'))\n",
    "\n",
    "def objective(trial):\n",
    "    params_optuna = {\n",
    "        'device' : 'gpu',\n",
    "        'objective': 'binary',\n",
    "        #'metric': 'cross_entropy',\n",
    "        'metric': 'binary_logloss',\n",
    "        'lambda_l1': trial.suggest_float('lambda_l1', 1e-8, 10.0),\n",
    "        'lambda_l2': trial.suggest_float('lambda_l2', 1e-8, 10.0),\n",
    "        'num_leaves': trial.suggest_int('num_leaves', 2, 256),\n",
    "        'feature_fraction': trial.suggest_float('feature_fraction', 0.4, 1.0),\n",
    "        'bagging_fraction': trial.suggest_float('bagging_fraction', 0.4, 1.0),\n",
    "        'bagging_freq': trial.suggest_int('bagging_freq', 1, 7),\n",
    "        'min_child_samples': trial.suggest_int('min_child_samples', 5, 100),\n",
    "        'max_bin' : trial.suggest_int('max_bin', 150, 512),\n",
    "        #\"boosting\" : trial.suggest_categorical(\"boosting\", [\"gbdt\"]),\n",
    "        \"boosting\" : trial.suggest_categorical(\"boosting\", [\"gbdt\", \"rf\", \"dart\"]),\n",
    "        'learning_rate': trial.suggest_float('learning_rate', 0.1, 1.0),\n",
    "        'num_iterations': trial.suggest_int('num_iterations', 50, 300),\n",
    "        #'n_jobs': -1,\n",
    "        #'is_unbalance': 'false',\n",
    "    }\n",
    "    #cv\n",
    "    cv = StratifiedKFold(n_splits=3, random_state=42, shuffle=True)\n",
    "    # set so cv to shuffle for train_test split like, e.g. for big datasets\n",
    "    # cv = ShuffleSplit(n_splits=1, test_size=0.2)\n",
    "    scores = []\n",
    "    for train_index,test_index in cv.split(x_data,y_data):\n",
    "        x_train, y_train = x_data.iloc[train_index],y_data.iloc[train_index]\n",
    "        x_val, y_val = x_data.iloc[test_index],y_data.iloc[test_index]\n",
    "    \n",
    "        classifier = LGBMClassifier(**params_optuna, n_jobs=2, verbose=-1)\n",
    "        classifier.fit(x_train, y_train)\n",
    "        # predict probs for logloss\n",
    "        y_pred = classifier.predict_proba(x_val)[:,1]       \n",
    "        score = log_loss(y_val, y_pred.astype(np.float64))\n",
    "        # predict for accuracy\n",
    "        #y_pred = classifier.predict(x_val)\n",
    "        #score = accuracy_score(y_val, y_pred.astype(np.float64))\n",
    "        scores.append(score)\n",
    "    \n",
    "    return np.mean(scores)\n",
    "\n",
    "\n",
    "study = optuna.create_study(study_name=\"LGB_optuna\", direction=\"minimize\")\n",
    "# Suppress INFO logs by setting the logging level to WARNING\n",
    "optuna.logging.set_verbosity(optuna.logging.ERROR)\n",
    "study.optimize(objective, n_trials=100)\n",
    "study_df_xgb = study.trials_dataframe()\n",
    "print(study.best_value)\n",
    "print(study.best_params)\n",
    "lgb_params = study.best_params   \n"
   ]
  },
  {
   "cell_type": "code",
   "execution_count": 8,
   "metadata": {},
   "outputs": [
    {
     "data": {
      "application/vnd.plotly.v1+json": {
       "config": {
        "plotlyServerURL": "https://plot.ly"
       },
       "data": [
        {
         "cliponaxis": false,
         "hovertemplate": [
          "bagging_freq (IntDistribution): 0.0031936264299345734<extra></extra>",
          "max_bin (IntDistribution): 0.004190913170874242<extra></extra>",
          "lambda_l2 (FloatDistribution): 0.008120585027202946<extra></extra>",
          "num_leaves (IntDistribution): 0.009657570572019263<extra></extra>",
          "feature_fraction (FloatDistribution): 0.010961435647408924<extra></extra>",
          "boosting (CategoricalDistribution): 0.02204316433796889<extra></extra>",
          "learning_rate (FloatDistribution): 0.023780019894283137<extra></extra>",
          "num_iterations (IntDistribution): 0.036717468303052704<extra></extra>",
          "lambda_l1 (FloatDistribution): 0.05317887345769275<extra></extra>",
          "bagging_fraction (FloatDistribution): 0.09073155720520475<extra></extra>",
          "min_child_samples (IntDistribution): 0.737424785954358<extra></extra>"
         ],
         "name": "Objective Value",
         "orientation": "h",
         "text": [
          "<0.01",
          "<0.01",
          "<0.01",
          "<0.01",
          "0.01",
          "0.02",
          "0.02",
          "0.04",
          "0.05",
          "0.09",
          "0.74"
         ],
         "textposition": "outside",
         "type": "bar",
         "x": [
          0.0031936264299345734,
          0.004190913170874242,
          0.008120585027202946,
          0.009657570572019263,
          0.010961435647408924,
          0.02204316433796889,
          0.023780019894283137,
          0.036717468303052704,
          0.05317887345769275,
          0.09073155720520475,
          0.737424785954358
         ],
         "y": [
          "bagging_freq",
          "max_bin",
          "lambda_l2",
          "num_leaves",
          "feature_fraction",
          "boosting",
          "learning_rate",
          "num_iterations",
          "lambda_l1",
          "bagging_fraction",
          "min_child_samples"
         ]
        }
       ],
       "layout": {
        "template": {
         "data": {
          "bar": [
           {
            "error_x": {
             "color": "#2a3f5f"
            },
            "error_y": {
             "color": "#2a3f5f"
            },
            "marker": {
             "line": {
              "color": "#E5ECF6",
              "width": 0.5
             },
             "pattern": {
              "fillmode": "overlay",
              "size": 10,
              "solidity": 0.2
             }
            },
            "type": "bar"
           }
          ],
          "barpolar": [
           {
            "marker": {
             "line": {
              "color": "#E5ECF6",
              "width": 0.5
             },
             "pattern": {
              "fillmode": "overlay",
              "size": 10,
              "solidity": 0.2
             }
            },
            "type": "barpolar"
           }
          ],
          "carpet": [
           {
            "aaxis": {
             "endlinecolor": "#2a3f5f",
             "gridcolor": "white",
             "linecolor": "white",
             "minorgridcolor": "white",
             "startlinecolor": "#2a3f5f"
            },
            "baxis": {
             "endlinecolor": "#2a3f5f",
             "gridcolor": "white",
             "linecolor": "white",
             "minorgridcolor": "white",
             "startlinecolor": "#2a3f5f"
            },
            "type": "carpet"
           }
          ],
          "choropleth": [
           {
            "colorbar": {
             "outlinewidth": 0,
             "ticks": ""
            },
            "type": "choropleth"
           }
          ],
          "contour": [
           {
            "colorbar": {
             "outlinewidth": 0,
             "ticks": ""
            },
            "colorscale": [
             [
              0,
              "#0d0887"
             ],
             [
              0.1111111111111111,
              "#46039f"
             ],
             [
              0.2222222222222222,
              "#7201a8"
             ],
             [
              0.3333333333333333,
              "#9c179e"
             ],
             [
              0.4444444444444444,
              "#bd3786"
             ],
             [
              0.5555555555555556,
              "#d8576b"
             ],
             [
              0.6666666666666666,
              "#ed7953"
             ],
             [
              0.7777777777777778,
              "#fb9f3a"
             ],
             [
              0.8888888888888888,
              "#fdca26"
             ],
             [
              1,
              "#f0f921"
             ]
            ],
            "type": "contour"
           }
          ],
          "contourcarpet": [
           {
            "colorbar": {
             "outlinewidth": 0,
             "ticks": ""
            },
            "type": "contourcarpet"
           }
          ],
          "heatmap": [
           {
            "colorbar": {
             "outlinewidth": 0,
             "ticks": ""
            },
            "colorscale": [
             [
              0,
              "#0d0887"
             ],
             [
              0.1111111111111111,
              "#46039f"
             ],
             [
              0.2222222222222222,
              "#7201a8"
             ],
             [
              0.3333333333333333,
              "#9c179e"
             ],
             [
              0.4444444444444444,
              "#bd3786"
             ],
             [
              0.5555555555555556,
              "#d8576b"
             ],
             [
              0.6666666666666666,
              "#ed7953"
             ],
             [
              0.7777777777777778,
              "#fb9f3a"
             ],
             [
              0.8888888888888888,
              "#fdca26"
             ],
             [
              1,
              "#f0f921"
             ]
            ],
            "type": "heatmap"
           }
          ],
          "heatmapgl": [
           {
            "colorbar": {
             "outlinewidth": 0,
             "ticks": ""
            },
            "colorscale": [
             [
              0,
              "#0d0887"
             ],
             [
              0.1111111111111111,
              "#46039f"
             ],
             [
              0.2222222222222222,
              "#7201a8"
             ],
             [
              0.3333333333333333,
              "#9c179e"
             ],
             [
              0.4444444444444444,
              "#bd3786"
             ],
             [
              0.5555555555555556,
              "#d8576b"
             ],
             [
              0.6666666666666666,
              "#ed7953"
             ],
             [
              0.7777777777777778,
              "#fb9f3a"
             ],
             [
              0.8888888888888888,
              "#fdca26"
             ],
             [
              1,
              "#f0f921"
             ]
            ],
            "type": "heatmapgl"
           }
          ],
          "histogram": [
           {
            "marker": {
             "pattern": {
              "fillmode": "overlay",
              "size": 10,
              "solidity": 0.2
             }
            },
            "type": "histogram"
           }
          ],
          "histogram2d": [
           {
            "colorbar": {
             "outlinewidth": 0,
             "ticks": ""
            },
            "colorscale": [
             [
              0,
              "#0d0887"
             ],
             [
              0.1111111111111111,
              "#46039f"
             ],
             [
              0.2222222222222222,
              "#7201a8"
             ],
             [
              0.3333333333333333,
              "#9c179e"
             ],
             [
              0.4444444444444444,
              "#bd3786"
             ],
             [
              0.5555555555555556,
              "#d8576b"
             ],
             [
              0.6666666666666666,
              "#ed7953"
             ],
             [
              0.7777777777777778,
              "#fb9f3a"
             ],
             [
              0.8888888888888888,
              "#fdca26"
             ],
             [
              1,
              "#f0f921"
             ]
            ],
            "type": "histogram2d"
           }
          ],
          "histogram2dcontour": [
           {
            "colorbar": {
             "outlinewidth": 0,
             "ticks": ""
            },
            "colorscale": [
             [
              0,
              "#0d0887"
             ],
             [
              0.1111111111111111,
              "#46039f"
             ],
             [
              0.2222222222222222,
              "#7201a8"
             ],
             [
              0.3333333333333333,
              "#9c179e"
             ],
             [
              0.4444444444444444,
              "#bd3786"
             ],
             [
              0.5555555555555556,
              "#d8576b"
             ],
             [
              0.6666666666666666,
              "#ed7953"
             ],
             [
              0.7777777777777778,
              "#fb9f3a"
             ],
             [
              0.8888888888888888,
              "#fdca26"
             ],
             [
              1,
              "#f0f921"
             ]
            ],
            "type": "histogram2dcontour"
           }
          ],
          "mesh3d": [
           {
            "colorbar": {
             "outlinewidth": 0,
             "ticks": ""
            },
            "type": "mesh3d"
           }
          ],
          "parcoords": [
           {
            "line": {
             "colorbar": {
              "outlinewidth": 0,
              "ticks": ""
             }
            },
            "type": "parcoords"
           }
          ],
          "pie": [
           {
            "automargin": true,
            "type": "pie"
           }
          ],
          "scatter": [
           {
            "fillpattern": {
             "fillmode": "overlay",
             "size": 10,
             "solidity": 0.2
            },
            "type": "scatter"
           }
          ],
          "scatter3d": [
           {
            "line": {
             "colorbar": {
              "outlinewidth": 0,
              "ticks": ""
             }
            },
            "marker": {
             "colorbar": {
              "outlinewidth": 0,
              "ticks": ""
             }
            },
            "type": "scatter3d"
           }
          ],
          "scattercarpet": [
           {
            "marker": {
             "colorbar": {
              "outlinewidth": 0,
              "ticks": ""
             }
            },
            "type": "scattercarpet"
           }
          ],
          "scattergeo": [
           {
            "marker": {
             "colorbar": {
              "outlinewidth": 0,
              "ticks": ""
             }
            },
            "type": "scattergeo"
           }
          ],
          "scattergl": [
           {
            "marker": {
             "colorbar": {
              "outlinewidth": 0,
              "ticks": ""
             }
            },
            "type": "scattergl"
           }
          ],
          "scattermapbox": [
           {
            "marker": {
             "colorbar": {
              "outlinewidth": 0,
              "ticks": ""
             }
            },
            "type": "scattermapbox"
           }
          ],
          "scatterpolar": [
           {
            "marker": {
             "colorbar": {
              "outlinewidth": 0,
              "ticks": ""
             }
            },
            "type": "scatterpolar"
           }
          ],
          "scatterpolargl": [
           {
            "marker": {
             "colorbar": {
              "outlinewidth": 0,
              "ticks": ""
             }
            },
            "type": "scatterpolargl"
           }
          ],
          "scatterternary": [
           {
            "marker": {
             "colorbar": {
              "outlinewidth": 0,
              "ticks": ""
             }
            },
            "type": "scatterternary"
           }
          ],
          "surface": [
           {
            "colorbar": {
             "outlinewidth": 0,
             "ticks": ""
            },
            "colorscale": [
             [
              0,
              "#0d0887"
             ],
             [
              0.1111111111111111,
              "#46039f"
             ],
             [
              0.2222222222222222,
              "#7201a8"
             ],
             [
              0.3333333333333333,
              "#9c179e"
             ],
             [
              0.4444444444444444,
              "#bd3786"
             ],
             [
              0.5555555555555556,
              "#d8576b"
             ],
             [
              0.6666666666666666,
              "#ed7953"
             ],
             [
              0.7777777777777778,
              "#fb9f3a"
             ],
             [
              0.8888888888888888,
              "#fdca26"
             ],
             [
              1,
              "#f0f921"
             ]
            ],
            "type": "surface"
           }
          ],
          "table": [
           {
            "cells": {
             "fill": {
              "color": "#EBF0F8"
             },
             "line": {
              "color": "white"
             }
            },
            "header": {
             "fill": {
              "color": "#C8D4E3"
             },
             "line": {
              "color": "white"
             }
            },
            "type": "table"
           }
          ]
         },
         "layout": {
          "annotationdefaults": {
           "arrowcolor": "#2a3f5f",
           "arrowhead": 0,
           "arrowwidth": 1
          },
          "autotypenumbers": "strict",
          "coloraxis": {
           "colorbar": {
            "outlinewidth": 0,
            "ticks": ""
           }
          },
          "colorscale": {
           "diverging": [
            [
             0,
             "#8e0152"
            ],
            [
             0.1,
             "#c51b7d"
            ],
            [
             0.2,
             "#de77ae"
            ],
            [
             0.3,
             "#f1b6da"
            ],
            [
             0.4,
             "#fde0ef"
            ],
            [
             0.5,
             "#f7f7f7"
            ],
            [
             0.6,
             "#e6f5d0"
            ],
            [
             0.7,
             "#b8e186"
            ],
            [
             0.8,
             "#7fbc41"
            ],
            [
             0.9,
             "#4d9221"
            ],
            [
             1,
             "#276419"
            ]
           ],
           "sequential": [
            [
             0,
             "#0d0887"
            ],
            [
             0.1111111111111111,
             "#46039f"
            ],
            [
             0.2222222222222222,
             "#7201a8"
            ],
            [
             0.3333333333333333,
             "#9c179e"
            ],
            [
             0.4444444444444444,
             "#bd3786"
            ],
            [
             0.5555555555555556,
             "#d8576b"
            ],
            [
             0.6666666666666666,
             "#ed7953"
            ],
            [
             0.7777777777777778,
             "#fb9f3a"
            ],
            [
             0.8888888888888888,
             "#fdca26"
            ],
            [
             1,
             "#f0f921"
            ]
           ],
           "sequentialminus": [
            [
             0,
             "#0d0887"
            ],
            [
             0.1111111111111111,
             "#46039f"
            ],
            [
             0.2222222222222222,
             "#7201a8"
            ],
            [
             0.3333333333333333,
             "#9c179e"
            ],
            [
             0.4444444444444444,
             "#bd3786"
            ],
            [
             0.5555555555555556,
             "#d8576b"
            ],
            [
             0.6666666666666666,
             "#ed7953"
            ],
            [
             0.7777777777777778,
             "#fb9f3a"
            ],
            [
             0.8888888888888888,
             "#fdca26"
            ],
            [
             1,
             "#f0f921"
            ]
           ]
          },
          "colorway": [
           "#636efa",
           "#EF553B",
           "#00cc96",
           "#ab63fa",
           "#FFA15A",
           "#19d3f3",
           "#FF6692",
           "#B6E880",
           "#FF97FF",
           "#FECB52"
          ],
          "font": {
           "color": "#2a3f5f"
          },
          "geo": {
           "bgcolor": "white",
           "lakecolor": "white",
           "landcolor": "#E5ECF6",
           "showlakes": true,
           "showland": true,
           "subunitcolor": "white"
          },
          "hoverlabel": {
           "align": "left"
          },
          "hovermode": "closest",
          "mapbox": {
           "style": "light"
          },
          "paper_bgcolor": "white",
          "plot_bgcolor": "#E5ECF6",
          "polar": {
           "angularaxis": {
            "gridcolor": "white",
            "linecolor": "white",
            "ticks": ""
           },
           "bgcolor": "#E5ECF6",
           "radialaxis": {
            "gridcolor": "white",
            "linecolor": "white",
            "ticks": ""
           }
          },
          "scene": {
           "xaxis": {
            "backgroundcolor": "#E5ECF6",
            "gridcolor": "white",
            "gridwidth": 2,
            "linecolor": "white",
            "showbackground": true,
            "ticks": "",
            "zerolinecolor": "white"
           },
           "yaxis": {
            "backgroundcolor": "#E5ECF6",
            "gridcolor": "white",
            "gridwidth": 2,
            "linecolor": "white",
            "showbackground": true,
            "ticks": "",
            "zerolinecolor": "white"
           },
           "zaxis": {
            "backgroundcolor": "#E5ECF6",
            "gridcolor": "white",
            "gridwidth": 2,
            "linecolor": "white",
            "showbackground": true,
            "ticks": "",
            "zerolinecolor": "white"
           }
          },
          "shapedefaults": {
           "line": {
            "color": "#2a3f5f"
           }
          },
          "ternary": {
           "aaxis": {
            "gridcolor": "white",
            "linecolor": "white",
            "ticks": ""
           },
           "baxis": {
            "gridcolor": "white",
            "linecolor": "white",
            "ticks": ""
           },
           "bgcolor": "#E5ECF6",
           "caxis": {
            "gridcolor": "white",
            "linecolor": "white",
            "ticks": ""
           }
          },
          "title": {
           "x": 0.05
          },
          "xaxis": {
           "automargin": true,
           "gridcolor": "white",
           "linecolor": "white",
           "ticks": "",
           "title": {
            "standoff": 15
           },
           "zerolinecolor": "white",
           "zerolinewidth": 2
          },
          "yaxis": {
           "automargin": true,
           "gridcolor": "white",
           "linecolor": "white",
           "ticks": "",
           "title": {
            "standoff": 15
           },
           "zerolinecolor": "white",
           "zerolinewidth": 2
          }
         }
        },
        "title": {
         "text": "Hyperparameter Importances"
        },
        "xaxis": {
         "title": {
          "text": "Hyperparameter Importance"
         }
        },
        "yaxis": {
         "title": {
          "text": "Hyperparameter"
         }
        }
       }
      }
     },
     "metadata": {},
     "output_type": "display_data"
    }
   ],
   "source": [
    "## Hyperparameter Feature Importance\n",
    "from optuna.visualization import plot_param_importances\n",
    "plot_param_importances(study)"
   ]
  },
  {
   "cell_type": "code",
   "execution_count": 9,
   "metadata": {},
   "outputs": [
    {
     "data": {
      "application/vnd.plotly.v1+json": {
       "config": {
        "plotlyServerURL": "https://plot.ly"
       },
       "data": [
        {
         "dimensions": [
          {
           "label": "Objective Value",
           "range": [
            0.3611105922841189,
            0.7331400224403835
           ],
           "values": [
            0.4590469039552061,
            0.6931471805599454,
            0.6909100329649078,
            0.5989058820702358,
            0.7331400224403835,
            0.5097123622707129,
            0.6909100329649078,
            0.6827160943760284,
            0.5974891369950232,
            0.6909100329649078,
            0.6909100329649078,
            0.5850554935799706,
            0.5604334899564315,
            0.44321527274677086,
            0.4494842823425498,
            0.40686875671973777,
            0.42785158658367667,
            0.4306228074128888,
            0.6909100329649078,
            0.43048307126790436,
            0.47855668249462474,
            0.42727023350366333,
            0.44782106062777255,
            0.5020897501155822,
            0.6909100329649078,
            0.6909100329649078,
            0.4415961050579751,
            0.4015460135596263,
            0.41063906794389005,
            0.6010516419585373,
            0.45045864991667667,
            0.4264012626541096,
            0.42514897763009607,
            0.4458830477756457,
            0.5888818190453637,
            0.5687510728741648,
            0.3834012305187579,
            0.379421655037139,
            0.5484558743434311,
            0.45409612832331875,
            0.4260961699896472,
            0.3879262119661873,
            0.39452818932666583,
            0.37343367706969083,
            0.3941000595432927,
            0.3817149937611192,
            0.5068884425763721,
            0.3611105922841189,
            0.6504502257623545,
            0.5781152616768358,
            0.39533462477160725,
            0.3935608764593717,
            0.38093074473936656,
            0.39328565505680874,
            0.3849685114134078,
            0.3833780573358469,
            0.3748335444169353,
            0.5116992310820555,
            0.5419338007301349,
            0.49732684138040134,
            0.39360315635666604,
            0.3910836609833592,
            0.38108408103014574,
            0.37493975909570015,
            0.3732573288784906,
            0.3735163034121179,
            0.37185596818860384,
            0.3811300327733112,
            0.41416781708603095,
            0.38387957373510434,
            0.4621224158493324,
            0.38449743592170815,
            0.3816581215510922,
            0.3979667668340629,
            0.41916430845374414,
            0.4528949970326373,
            0.6909100329649078,
            0.43638878381855273,
            0.372376109349046,
            0.5394033785855276,
            0.48296308136827526,
            0.6909100329649078,
            0.39185253187593805,
            0.4012339978454587,
            0.3930259147141156,
            0.3840502264990688,
            0.3961003240456847,
            0.5137702770486673,
            0.382642526856313,
            0.4674540812698429,
            0.4052027178254547,
            0.3927304640101584,
            0.3853266124202354,
            0.37564557399174087,
            0.37512969110582534,
            0.3638007037755919,
            0.3957289106811575,
            0.5357483425163093,
            0.3829096571927815,
            0.36804466616667786
           ]
          },
          {
           "label": "bagging_fraction",
           "range": [
            0.4201723846566769,
            0.996429573739747
           ],
           "values": [
            0.7565511646066789,
            0.6795050781836409,
            0.48872880477032693,
            0.9762865421408158,
            0.447754886945568,
            0.8487560905208205,
            0.586811906696895,
            0.45102959433535994,
            0.547082000689207,
            0.7873689690401896,
            0.6932997023969355,
            0.8939044948037407,
            0.8144148499136802,
            0.7929249550495352,
            0.755163490406112,
            0.6244372224922592,
            0.6218113232403472,
            0.6192010305962234,
            0.6325391475093604,
            0.5364405380985476,
            0.6615560865113794,
            0.5192713951108126,
            0.5270687442946131,
            0.6133739136971914,
            0.4201723846566769,
            0.5847996116815157,
            0.49484045301821034,
            0.7191320462409727,
            0.7335002074355524,
            0.7359278013204393,
            0.7229989690838582,
            0.6724900249117937,
            0.6619280301830309,
            0.7128949187547875,
            0.6669553034797734,
            0.8461162494691473,
            0.772096108515761,
            0.7525428233437286,
            0.8952621894308124,
            0.996429573739747,
            0.77378469652057,
            0.7521040499342841,
            0.8686995311500239,
            0.923424306491287,
            0.9421240584841902,
            0.941231862027471,
            0.9196060909583237,
            0.8229906222437912,
            0.927610837608153,
            0.8253193306060961,
            0.9536717272278411,
            0.813300615182214,
            0.8771043690507256,
            0.8991838328059256,
            0.8531830678018548,
            0.8772428283563414,
            0.9652962189917267,
            0.9823483268668985,
            0.9548273761851039,
            0.9156108401574791,
            0.9667934546318434,
            0.8648259556324102,
            0.8805811906710101,
            0.812946325385944,
            0.8044803972494159,
            0.7966577678961843,
            0.8000054141531877,
            0.8009400488489392,
            0.834482740928508,
            0.7899014348720057,
            0.8103613209277694,
            0.7687760595621775,
            0.7510263215939795,
            0.8258873166522112,
            0.7940611928137085,
            0.6987323603051868,
            0.8508135094617455,
            0.7730160978355332,
            0.8348815545165047,
            0.8445125012796706,
            0.7350134886757128,
            0.7839471201453859,
            0.8108124072783752,
            0.832974758364516,
            0.7637608049334454,
            0.7470362870774785,
            0.9011479714731676,
            0.7975990405387947,
            0.7839968790306567,
            0.8184004092560636,
            0.8589514307384625,
            0.8772818771520356,
            0.9097251038194618,
            0.93599780531727,
            0.9356946957203887,
            0.9330034010470054,
            0.9848153191526662,
            0.9488280045122409,
            0.9660526974841166,
            0.9249561481054542
           ]
          },
          {
           "label": "bagging_freq",
           "range": [
            1,
            7
           ],
           "values": [
            2,
            1,
            1,
            4,
            1,
            7,
            2,
            7,
            6,
            3,
            5,
            3,
            7,
            5,
            5,
            5,
            5,
            4,
            6,
            6,
            5,
            6,
            6,
            4,
            5,
            6,
            4,
            5,
            6,
            3,
            7,
            6,
            6,
            5,
            4,
            6,
            7,
            7,
            7,
            7,
            2,
            7,
            7,
            7,
            7,
            7,
            7,
            7,
            7,
            7,
            7,
            7,
            7,
            1,
            7,
            7,
            6,
            6,
            6,
            7,
            6,
            7,
            7,
            7,
            7,
            6,
            6,
            6,
            6,
            6,
            6,
            6,
            6,
            5,
            3,
            7,
            7,
            5,
            7,
            6,
            7,
            7,
            7,
            7,
            7,
            6,
            7,
            7,
            6,
            7,
            7,
            7,
            7,
            7,
            7,
            6,
            6,
            6,
            5,
            6
           ]
          },
          {
           "label": "boosting",
           "range": [
            0,
            2
           ],
           "ticktext": [
            "dart",
            "rf",
            "gbdt"
           ],
           "tickvals": [
            0,
            1,
            2
           ],
           "values": [
            0,
            1,
            2,
            1,
            0,
            0,
            0,
            0,
            1,
            2,
            0,
            0,
            0,
            0,
            0,
            2,
            2,
            2,
            2,
            2,
            2,
            2,
            2,
            2,
            2,
            2,
            2,
            2,
            2,
            1,
            2,
            2,
            2,
            2,
            2,
            1,
            2,
            2,
            1,
            2,
            2,
            2,
            2,
            2,
            2,
            2,
            1,
            2,
            2,
            2,
            0,
            2,
            2,
            2,
            2,
            2,
            2,
            0,
            2,
            1,
            2,
            2,
            2,
            2,
            2,
            2,
            2,
            2,
            0,
            2,
            2,
            2,
            2,
            2,
            2,
            2,
            2,
            2,
            2,
            1,
            2,
            2,
            2,
            2,
            2,
            2,
            2,
            2,
            0,
            2,
            2,
            2,
            2,
            2,
            2,
            2,
            2,
            1,
            2,
            2
           ]
          },
          {
           "label": "feature_fraction",
           "range": [
            0.42285224846050495,
            0.9972830899914937
           ],
           "values": [
            0.5405082711316752,
            0.782888284857296,
            0.5276828264545753,
            0.7398325198287012,
            0.9761134309161704,
            0.48044352316428507,
            0.8019823312677226,
            0.5665462847279363,
            0.6467353994371178,
            0.6004911071725433,
            0.44640527859385154,
            0.44769740196913416,
            0.42285224846050495,
            0.5067586106995148,
            0.6667664416802694,
            0.6731581409262429,
            0.8950490221305492,
            0.9461771269374921,
            0.8739041011497346,
            0.8747030671679509,
            0.7162836039521934,
            0.8825114611849769,
            0.8931356336125814,
            0.7926666405738592,
            0.92714036368929,
            0.8344825404694224,
            0.7505764610521221,
            0.9852591749281139,
            0.9956893450218665,
            0.9637554124422089,
            0.6647552878741112,
            0.9900469917375478,
            0.9942347572170728,
            0.9293858271669706,
            0.9972830899914937,
            0.8454915786226662,
            0.9224216223737447,
            0.9422903201389302,
            0.7476437206740272,
            0.612060039479784,
            0.8304227543848937,
            0.9432202772155021,
            0.9505555678863389,
            0.924971930334729,
            0.9129465996147139,
            0.9176445334655975,
            0.8549719302086937,
            0.9176354752287577,
            0.9180855612788111,
            0.9071769358879231,
            0.8213448088179042,
            0.9496811267675022,
            0.9652727726542486,
            0.969751781150022,
            0.8654145801582365,
            0.90245903917746,
            0.769888628466304,
            0.9593490041668888,
            0.8123483940524912,
            0.7699491478807509,
            0.8807801942546785,
            0.8946249559306317,
            0.9376210060488136,
            0.9399494890571731,
            0.9713995314798465,
            0.9691432371067128,
            0.9686810220379785,
            0.9766344922177156,
            0.7268126725134605,
            0.9775553442703868,
            0.5176649101771541,
            0.934987921717303,
            0.5454356812831777,
            0.689244741905553,
            0.9577675259438414,
            0.9799329596663031,
            0.8896174235060698,
            0.859599779337703,
            0.9339552410046627,
            0.9269713262092588,
            0.6228947765099523,
            0.9479937621611713,
            0.9353856417446778,
            0.9968254940979876,
            0.9034928792652335,
            0.9656080510562933,
            0.8738898455530802,
            0.9817743996075864,
            0.9228345692202323,
            0.8438779842606239,
            0.951585817521689,
            0.958675425206156,
            0.9677734683076243,
            0.9106424476288455,
            0.7762051327157733,
            0.7826202280298609,
            0.7199325629044085,
            0.7727332382217262,
            0.7935419021449505,
            0.7535547011397509
           ]
          },
          {
           "label": "lambda_l1",
           "range": [
            0.02413120771444016,
            9.865311680249366
           ],
           "values": [
            3.6962585557404806,
            3.6340893362073836,
            0.736149718562889,
            4.824852472675554,
            6.585645794514695,
            5.89479508007479,
            0.6003179852863704,
            8.178526373630621,
            5.611391759790176,
            1.5235766014212373,
            2.7418086512622186,
            9.540499103525104,
            6.956548457950051,
            3.506338191560518,
            3.757561751320241,
            2.406263386339554,
            2.100873805284801,
            1.9045762849302608,
            0.08266415641509806,
            2.0619391631634763,
            2.7169926114369045,
            2.00976592779495,
            1.2723980396640704,
            4.570707853178856,
            2.8446712928057494,
            2.0713848286249865,
            1.1105787418811788,
            0.17497214851301734,
            0.2449327620764894,
            0.19410298315999516,
            0.13631819225524833,
            0.8299904814749142,
            0.9080981358092355,
            0.7221990893449561,
            1.3826121123262298,
            0.622361057658117,
            0.071519490900259,
            0.09642150807040384,
            3.1989178511055996,
            3.9631831213596533,
            1.483280580956568,
            0.10751266918294358,
            0.02413120771444016,
            0.07307766077380567,
            0.5914417859984167,
            0.606033253018681,
            1.5271796230941634,
            0.5413824961820222,
            7.610754885037761,
            9.865311680249366,
            1.0740667637451322,
            0.499828415993701,
            1.6122717574752998,
            1.6458106731201085,
            1.0147043095657584,
            0.5138770051062354,
            0.5229373356663594,
            6.180658296468095,
            8.6396148364809,
            2.491727183655936,
            1.633086233756274,
            0.485841224433287,
            0.5093629738039043,
            1.1655645160565404,
            1.0987453842100647,
            1.1697467797614935,
            1.1902790757215471,
            1.1641341472155347,
            2.3722284399209266,
            1.9170916573820467,
            5.112047193499185,
            0.8478277274409496,
            1.2569889875393412,
            0.9563846944716727,
            0.33608472760460273,
            1.8218793742641124,
            1.3160236095549438,
            2.269819554691171,
            0.8590921467212193,
            0.9113957489233366,
            2.8481110059987813,
            0.30262467690324824,
            1.1784772073671899,
            0.8104884266142011,
            0.3034499457577188,
            0.7711779394834227,
            1.3826276885371107,
            1.8118485033141993,
            0.044385872380468205,
            4.249498637099604,
            0.6815848963355062,
            1.6477052254076994,
            0.40249033672856227,
            1.1159722712827012,
            1.067528258984754,
            1.0748837847285269,
            2.1870781938830905,
            1.3588686790200035,
            1.0488145156975768,
            0.706008660889632
           ]
          },
          {
           "label": "lambda_l2",
           "range": [
            0.06577015873110703,
            9.85930464534719
           ],
           "values": [
            9.404317716434184,
            6.062819171274124,
            1.0569678232014736,
            4.171890407885792,
            2.963502588584943,
            1.7071535552438508,
            2.64760767803243,
            2.792258743391108,
            0.7968333833178415,
            5.2415751513566144,
            9.6356983703651,
            9.094341511944368,
            7.171605337973125,
            7.63868111069905,
            7.907149634386361,
            7.7737107670517815,
            7.560988805375024,
            6.276513610851466,
            8.247737654338538,
            6.589630234007811,
            4.892187284767655,
            6.645307844513545,
            6.975464129616489,
            8.499518652680157,
            5.600627676919904,
            4.069695988050233,
            8.577603452675747,
            7.630635174368119,
            6.959733293806837,
            9.226228715459278,
            9.85930464534719,
            6.906281946684086,
            5.790283013488954,
            5.879537648647167,
            4.771934182028888,
            0.06577015873110703,
            4.209728948357831,
            4.112550047103162,
            3.5701267365138354,
            3.5029736098949784,
            4.317445752969181,
            2.032876638479278,
            1.9618822018137405,
            2.0173892890085567,
            2.163633480255452,
            2.0523226777867998,
            1.2059095718513835,
            2.4185591357880414,
            2.5367204348205954,
            3.1774950544287983,
            1.4630658729761001,
            0.7357195005676813,
            2.321004933050532,
            2.7597740221104154,
            2.4509400244684514,
            3.1906677361917657,
            3.2601483249338967,
            3.6861257055780623,
            1.6537820349756327,
            0.6288934134855786,
            2.272416746173749,
            3.087149749931058,
            3.0054884301099243,
            2.9250793972248514,
            3.7861202928894166,
            3.815918148974868,
            3.780289185398605,
            4.655976119593954,
            3.8648504369203613,
            3.3787115156715197,
            3.8224653569392584,
            5.0806753877088955,
            4.575862485548269,
            2.7583582225869545,
            5.363798980400487,
            4.438070944399569,
            4.025677944887061,
            3.244538175815645,
            3.4552240452042597,
            2.8060433200885546,
            2.586184580747318,
            4.001845944637744,
            3.4405061077174017,
            3.801797254871613,
            1.8454451086232355,
            4.355213349730371,
            3.5864741993111227,
            2.9585526033827074,
            4.127124455881612,
            4.8762248291935,
            3.3338130268334583,
            2.2607116345731684,
            2.4165815467472274,
            1.48764019051655,
            1.4745814847741305,
            1.2982065666966924,
            0.486328346271769,
            1.3719505952812647,
            0.9706441951671085,
            1.6887614936736428
           ]
          },
          {
           "label": "learning_rate",
           "range": [
            0.1022430258581817,
            0.9982835510231173
           ],
           "values": [
            0.901380017238471,
            0.8223614538035238,
            0.9183311149656892,
            0.3132228962051672,
            0.8723035181716645,
            0.6418451246985735,
            0.43282978881068235,
            0.868887672302004,
            0.881419725585962,
            0.9211228959485669,
            0.14987112236702493,
            0.6660971794610403,
            0.6531748640432185,
            0.6946201319468147,
            0.7486043447346298,
            0.7419985757031579,
            0.5000117393484859,
            0.4902971129916174,
            0.35245916024444135,
            0.5405134041213617,
            0.5748032740880894,
            0.5448091313696615,
            0.4054298044869729,
            0.9982835510231173,
            0.23643863210621807,
            0.7635286006615567,
            0.573054058981949,
            0.46312532137615803,
            0.4603359031784382,
            0.2889624907666951,
            0.4204597222683641,
            0.48285769866184786,
            0.3739805774477446,
            0.37480068952007844,
            0.24831084736361717,
            0.3260025937037671,
            0.16246065448636005,
            0.10587396731657872,
            0.13587350615457572,
            0.18501553399495974,
            0.19306750032507675,
            0.10832259081435594,
            0.13386295739413334,
            0.12276653894875536,
            0.11391473677099032,
            0.10285679245860212,
            0.18275296273818592,
            0.22537390267355806,
            0.24371507046040913,
            0.2100669305029212,
            0.2872315258694388,
            0.16061071308858293,
            0.10907177059724389,
            0.10598469762720185,
            0.1503205209943759,
            0.22855039309516925,
            0.21702500394355148,
            0.2660106568536684,
            0.1022430258581817,
            0.1954656577511901,
            0.14113869326090117,
            0.23118013519862757,
            0.20622941588647248,
            0.1656259178872811,
            0.2990424230154046,
            0.30871590399566234,
            0.2883508041012114,
            0.3171041012640227,
            0.2805778461158231,
            0.3440091356052109,
            0.2606912374130556,
            0.17152397808256503,
            0.3057845040455475,
            0.39995041168621637,
            0.21056330171146792,
            0.34752093684407903,
            0.22155494545907717,
            0.29241948966709813,
            0.17337819797104254,
            0.2639704680567416,
            0.37875784773321935,
            0.13146677198626702,
            0.17302145096013855,
            0.15765655740313556,
            0.24997817697760816,
            0.19003451077602865,
            0.6085238690315902,
            0.1284023427504154,
            0.32867519717249427,
            0.22464680911525045,
            0.1712635765154471,
            0.12187739123547352,
            0.15075316018681723,
            0.18280999373121853,
            0.20334812474959446,
            0.20081617832944693,
            0.20689643633801563,
            0.3039561353429501,
            0.23706311580456396,
            0.2864064764801557
           ]
          },
          {
           "label": "max_bin",
           "range": [
            152,
            512
           ],
           "values": [
            360,
            404,
            222,
            170,
            253,
            214,
            463,
            396,
            284,
            391,
            507,
            330,
            325,
            192,
            163,
            164,
            153,
            153,
            254,
            257,
            208,
            278,
            287,
            185,
            152,
            232,
            192,
            298,
            303,
            365,
            317,
            300,
            359,
            357,
            419,
            352,
            442,
            458,
            445,
            480,
            434,
            481,
            507,
            503,
            506,
            484,
            478,
            462,
            458,
            405,
            462,
            486,
            496,
            494,
            440,
            467,
            468,
            415,
            512,
            496,
            455,
            470,
            428,
            491,
            426,
            496,
            382,
            385,
            382,
            450,
            471,
            495,
            429,
            407,
            456,
            471,
            369,
            420,
            489,
            501,
            344,
            479,
            490,
            512,
            447,
            462,
            474,
            486,
            502,
            436,
            397,
            498,
            488,
            465,
            464,
            450,
            446,
            481,
            451,
            423
           ]
          },
          {
           "label": "min_child_samples",
           "range": [
            5,
            100
           ],
           "values": [
            33,
            81,
            49,
            47,
            33,
            30,
            61,
            25,
            13,
            88,
            71,
            8,
            33,
            25,
            17,
            17,
            7,
            5,
            100,
            17,
            43,
            18,
            20,
            5,
            40,
            58,
            14,
            25,
            25,
            37,
            23,
            29,
            28,
            37,
            52,
            45,
            29,
            12,
            13,
            11,
            34,
            23,
            23,
            22,
            21,
            11,
            10,
            30,
            68,
            31,
            14,
            30,
            10,
            11,
            8,
            16,
            17,
            19,
            8,
            5,
            15,
            16,
            11,
            12,
            21,
            20,
            26,
            27,
            21,
            33,
            19,
            22,
            25,
            19,
            26,
            41,
            96,
            37,
            17,
            16,
            50,
            81,
            13,
            23,
            18,
            28,
            13,
            56,
            7,
            32,
            35,
            21,
            10,
            17,
            17,
            17,
            24,
            20,
            15,
            26
           ]
          },
          {
           "label": "num_iterations",
           "range": [
            51,
            298
           ],
           "values": [
            128,
            287,
            231,
            198,
            119,
            147,
            147,
            129,
            117,
            206,
            59,
            58,
            91,
            168,
            175,
            251,
            273,
            298,
            262,
            252,
            268,
            244,
            238,
            213,
            277,
            255,
            224,
            191,
            190,
            187,
            162,
            240,
            191,
            189,
            189,
            218,
            200,
            155,
            153,
            133,
            98,
            174,
            173,
            169,
            174,
            138,
            139,
            116,
            111,
            85,
            154,
            142,
            120,
            121,
            106,
            126,
            75,
            74,
            66,
            84,
            113,
            126,
            101,
            98,
            98,
            80,
            71,
            73,
            54,
            90,
            75,
            95,
            62,
            82,
            68,
            108,
            51,
            101,
            91,
            90,
            79,
            161,
            93,
            66,
            104,
            88,
            113,
            77,
            183,
            96,
            60,
            132,
            122,
            117,
            150,
            146,
            168,
            149,
            145,
            83
           ]
          },
          {
           "label": "num_leaves",
           "range": [
            2,
            255
           ],
           "values": [
            73,
            156,
            202,
            213,
            56,
            188,
            245,
            196,
            194,
            142,
            55,
            10,
            72,
            103,
            98,
            104,
            116,
            111,
            157,
            20,
            127,
            6,
            38,
            85,
            128,
            27,
            168,
            4,
            6,
            44,
            2,
            20,
            27,
            73,
            38,
            62,
            21,
            45,
            88,
            45,
            65,
            17,
            20,
            21,
            20,
            48,
            51,
            249,
            251,
            208,
            221,
            30,
            183,
            186,
            231,
            239,
            221,
            221,
            174,
            241,
            229,
            255,
            239,
            202,
            197,
            204,
            196,
            199,
            205,
            213,
            141,
            176,
            194,
            161,
            219,
            195,
            230,
            213,
            147,
            191,
            148,
            119,
            200,
            177,
            209,
            169,
            247,
            226,
            183,
            203,
            139,
            183,
            190,
            151,
            150,
            150,
            137,
            132,
            161,
            149
           ]
          }
         ],
         "labelangle": 30,
         "labelside": "bottom",
         "line": {
          "color": [
           0.4590469039552061,
           0.6931471805599454,
           0.6909100329649078,
           0.5989058820702358,
           0.7331400224403835,
           0.5097123622707129,
           0.6909100329649078,
           0.6827160943760284,
           0.5974891369950232,
           0.6909100329649078,
           0.6909100329649078,
           0.5850554935799706,
           0.5604334899564315,
           0.44321527274677086,
           0.4494842823425498,
           0.40686875671973777,
           0.42785158658367667,
           0.4306228074128888,
           0.6909100329649078,
           0.43048307126790436,
           0.47855668249462474,
           0.42727023350366333,
           0.44782106062777255,
           0.5020897501155822,
           0.6909100329649078,
           0.6909100329649078,
           0.4415961050579751,
           0.4015460135596263,
           0.41063906794389005,
           0.6010516419585373,
           0.45045864991667667,
           0.4264012626541096,
           0.42514897763009607,
           0.4458830477756457,
           0.5888818190453637,
           0.5687510728741648,
           0.3834012305187579,
           0.379421655037139,
           0.5484558743434311,
           0.45409612832331875,
           0.4260961699896472,
           0.3879262119661873,
           0.39452818932666583,
           0.37343367706969083,
           0.3941000595432927,
           0.3817149937611192,
           0.5068884425763721,
           0.3611105922841189,
           0.6504502257623545,
           0.5781152616768358,
           0.39533462477160725,
           0.3935608764593717,
           0.38093074473936656,
           0.39328565505680874,
           0.3849685114134078,
           0.3833780573358469,
           0.3748335444169353,
           0.5116992310820555,
           0.5419338007301349,
           0.49732684138040134,
           0.39360315635666604,
           0.3910836609833592,
           0.38108408103014574,
           0.37493975909570015,
           0.3732573288784906,
           0.3735163034121179,
           0.37185596818860384,
           0.3811300327733112,
           0.41416781708603095,
           0.38387957373510434,
           0.4621224158493324,
           0.38449743592170815,
           0.3816581215510922,
           0.3979667668340629,
           0.41916430845374414,
           0.4528949970326373,
           0.6909100329649078,
           0.43638878381855273,
           0.372376109349046,
           0.5394033785855276,
           0.48296308136827526,
           0.6909100329649078,
           0.39185253187593805,
           0.4012339978454587,
           0.3930259147141156,
           0.3840502264990688,
           0.3961003240456847,
           0.5137702770486673,
           0.382642526856313,
           0.4674540812698429,
           0.4052027178254547,
           0.3927304640101584,
           0.3853266124202354,
           0.37564557399174087,
           0.37512969110582534,
           0.3638007037755919,
           0.3957289106811575,
           0.5357483425163093,
           0.3829096571927815,
           0.36804466616667786
          ],
          "colorbar": {
           "title": {
            "text": "Objective Value"
           }
          },
          "colorscale": [
           [
            0,
            "rgb(247,251,255)"
           ],
           [
            0.125,
            "rgb(222,235,247)"
           ],
           [
            0.25,
            "rgb(198,219,239)"
           ],
           [
            0.375,
            "rgb(158,202,225)"
           ],
           [
            0.5,
            "rgb(107,174,214)"
           ],
           [
            0.625,
            "rgb(66,146,198)"
           ],
           [
            0.75,
            "rgb(33,113,181)"
           ],
           [
            0.875,
            "rgb(8,81,156)"
           ],
           [
            1,
            "rgb(8,48,107)"
           ]
          ],
          "reversescale": true,
          "showscale": true
         },
         "type": "parcoords"
        }
       ],
       "layout": {
        "template": {
         "data": {
          "bar": [
           {
            "error_x": {
             "color": "#2a3f5f"
            },
            "error_y": {
             "color": "#2a3f5f"
            },
            "marker": {
             "line": {
              "color": "#E5ECF6",
              "width": 0.5
             },
             "pattern": {
              "fillmode": "overlay",
              "size": 10,
              "solidity": 0.2
             }
            },
            "type": "bar"
           }
          ],
          "barpolar": [
           {
            "marker": {
             "line": {
              "color": "#E5ECF6",
              "width": 0.5
             },
             "pattern": {
              "fillmode": "overlay",
              "size": 10,
              "solidity": 0.2
             }
            },
            "type": "barpolar"
           }
          ],
          "carpet": [
           {
            "aaxis": {
             "endlinecolor": "#2a3f5f",
             "gridcolor": "white",
             "linecolor": "white",
             "minorgridcolor": "white",
             "startlinecolor": "#2a3f5f"
            },
            "baxis": {
             "endlinecolor": "#2a3f5f",
             "gridcolor": "white",
             "linecolor": "white",
             "minorgridcolor": "white",
             "startlinecolor": "#2a3f5f"
            },
            "type": "carpet"
           }
          ],
          "choropleth": [
           {
            "colorbar": {
             "outlinewidth": 0,
             "ticks": ""
            },
            "type": "choropleth"
           }
          ],
          "contour": [
           {
            "colorbar": {
             "outlinewidth": 0,
             "ticks": ""
            },
            "colorscale": [
             [
              0,
              "#0d0887"
             ],
             [
              0.1111111111111111,
              "#46039f"
             ],
             [
              0.2222222222222222,
              "#7201a8"
             ],
             [
              0.3333333333333333,
              "#9c179e"
             ],
             [
              0.4444444444444444,
              "#bd3786"
             ],
             [
              0.5555555555555556,
              "#d8576b"
             ],
             [
              0.6666666666666666,
              "#ed7953"
             ],
             [
              0.7777777777777778,
              "#fb9f3a"
             ],
             [
              0.8888888888888888,
              "#fdca26"
             ],
             [
              1,
              "#f0f921"
             ]
            ],
            "type": "contour"
           }
          ],
          "contourcarpet": [
           {
            "colorbar": {
             "outlinewidth": 0,
             "ticks": ""
            },
            "type": "contourcarpet"
           }
          ],
          "heatmap": [
           {
            "colorbar": {
             "outlinewidth": 0,
             "ticks": ""
            },
            "colorscale": [
             [
              0,
              "#0d0887"
             ],
             [
              0.1111111111111111,
              "#46039f"
             ],
             [
              0.2222222222222222,
              "#7201a8"
             ],
             [
              0.3333333333333333,
              "#9c179e"
             ],
             [
              0.4444444444444444,
              "#bd3786"
             ],
             [
              0.5555555555555556,
              "#d8576b"
             ],
             [
              0.6666666666666666,
              "#ed7953"
             ],
             [
              0.7777777777777778,
              "#fb9f3a"
             ],
             [
              0.8888888888888888,
              "#fdca26"
             ],
             [
              1,
              "#f0f921"
             ]
            ],
            "type": "heatmap"
           }
          ],
          "heatmapgl": [
           {
            "colorbar": {
             "outlinewidth": 0,
             "ticks": ""
            },
            "colorscale": [
             [
              0,
              "#0d0887"
             ],
             [
              0.1111111111111111,
              "#46039f"
             ],
             [
              0.2222222222222222,
              "#7201a8"
             ],
             [
              0.3333333333333333,
              "#9c179e"
             ],
             [
              0.4444444444444444,
              "#bd3786"
             ],
             [
              0.5555555555555556,
              "#d8576b"
             ],
             [
              0.6666666666666666,
              "#ed7953"
             ],
             [
              0.7777777777777778,
              "#fb9f3a"
             ],
             [
              0.8888888888888888,
              "#fdca26"
             ],
             [
              1,
              "#f0f921"
             ]
            ],
            "type": "heatmapgl"
           }
          ],
          "histogram": [
           {
            "marker": {
             "pattern": {
              "fillmode": "overlay",
              "size": 10,
              "solidity": 0.2
             }
            },
            "type": "histogram"
           }
          ],
          "histogram2d": [
           {
            "colorbar": {
             "outlinewidth": 0,
             "ticks": ""
            },
            "colorscale": [
             [
              0,
              "#0d0887"
             ],
             [
              0.1111111111111111,
              "#46039f"
             ],
             [
              0.2222222222222222,
              "#7201a8"
             ],
             [
              0.3333333333333333,
              "#9c179e"
             ],
             [
              0.4444444444444444,
              "#bd3786"
             ],
             [
              0.5555555555555556,
              "#d8576b"
             ],
             [
              0.6666666666666666,
              "#ed7953"
             ],
             [
              0.7777777777777778,
              "#fb9f3a"
             ],
             [
              0.8888888888888888,
              "#fdca26"
             ],
             [
              1,
              "#f0f921"
             ]
            ],
            "type": "histogram2d"
           }
          ],
          "histogram2dcontour": [
           {
            "colorbar": {
             "outlinewidth": 0,
             "ticks": ""
            },
            "colorscale": [
             [
              0,
              "#0d0887"
             ],
             [
              0.1111111111111111,
              "#46039f"
             ],
             [
              0.2222222222222222,
              "#7201a8"
             ],
             [
              0.3333333333333333,
              "#9c179e"
             ],
             [
              0.4444444444444444,
              "#bd3786"
             ],
             [
              0.5555555555555556,
              "#d8576b"
             ],
             [
              0.6666666666666666,
              "#ed7953"
             ],
             [
              0.7777777777777778,
              "#fb9f3a"
             ],
             [
              0.8888888888888888,
              "#fdca26"
             ],
             [
              1,
              "#f0f921"
             ]
            ],
            "type": "histogram2dcontour"
           }
          ],
          "mesh3d": [
           {
            "colorbar": {
             "outlinewidth": 0,
             "ticks": ""
            },
            "type": "mesh3d"
           }
          ],
          "parcoords": [
           {
            "line": {
             "colorbar": {
              "outlinewidth": 0,
              "ticks": ""
             }
            },
            "type": "parcoords"
           }
          ],
          "pie": [
           {
            "automargin": true,
            "type": "pie"
           }
          ],
          "scatter": [
           {
            "fillpattern": {
             "fillmode": "overlay",
             "size": 10,
             "solidity": 0.2
            },
            "type": "scatter"
           }
          ],
          "scatter3d": [
           {
            "line": {
             "colorbar": {
              "outlinewidth": 0,
              "ticks": ""
             }
            },
            "marker": {
             "colorbar": {
              "outlinewidth": 0,
              "ticks": ""
             }
            },
            "type": "scatter3d"
           }
          ],
          "scattercarpet": [
           {
            "marker": {
             "colorbar": {
              "outlinewidth": 0,
              "ticks": ""
             }
            },
            "type": "scattercarpet"
           }
          ],
          "scattergeo": [
           {
            "marker": {
             "colorbar": {
              "outlinewidth": 0,
              "ticks": ""
             }
            },
            "type": "scattergeo"
           }
          ],
          "scattergl": [
           {
            "marker": {
             "colorbar": {
              "outlinewidth": 0,
              "ticks": ""
             }
            },
            "type": "scattergl"
           }
          ],
          "scattermapbox": [
           {
            "marker": {
             "colorbar": {
              "outlinewidth": 0,
              "ticks": ""
             }
            },
            "type": "scattermapbox"
           }
          ],
          "scatterpolar": [
           {
            "marker": {
             "colorbar": {
              "outlinewidth": 0,
              "ticks": ""
             }
            },
            "type": "scatterpolar"
           }
          ],
          "scatterpolargl": [
           {
            "marker": {
             "colorbar": {
              "outlinewidth": 0,
              "ticks": ""
             }
            },
            "type": "scatterpolargl"
           }
          ],
          "scatterternary": [
           {
            "marker": {
             "colorbar": {
              "outlinewidth": 0,
              "ticks": ""
             }
            },
            "type": "scatterternary"
           }
          ],
          "surface": [
           {
            "colorbar": {
             "outlinewidth": 0,
             "ticks": ""
            },
            "colorscale": [
             [
              0,
              "#0d0887"
             ],
             [
              0.1111111111111111,
              "#46039f"
             ],
             [
              0.2222222222222222,
              "#7201a8"
             ],
             [
              0.3333333333333333,
              "#9c179e"
             ],
             [
              0.4444444444444444,
              "#bd3786"
             ],
             [
              0.5555555555555556,
              "#d8576b"
             ],
             [
              0.6666666666666666,
              "#ed7953"
             ],
             [
              0.7777777777777778,
              "#fb9f3a"
             ],
             [
              0.8888888888888888,
              "#fdca26"
             ],
             [
              1,
              "#f0f921"
             ]
            ],
            "type": "surface"
           }
          ],
          "table": [
           {
            "cells": {
             "fill": {
              "color": "#EBF0F8"
             },
             "line": {
              "color": "white"
             }
            },
            "header": {
             "fill": {
              "color": "#C8D4E3"
             },
             "line": {
              "color": "white"
             }
            },
            "type": "table"
           }
          ]
         },
         "layout": {
          "annotationdefaults": {
           "arrowcolor": "#2a3f5f",
           "arrowhead": 0,
           "arrowwidth": 1
          },
          "autotypenumbers": "strict",
          "coloraxis": {
           "colorbar": {
            "outlinewidth": 0,
            "ticks": ""
           }
          },
          "colorscale": {
           "diverging": [
            [
             0,
             "#8e0152"
            ],
            [
             0.1,
             "#c51b7d"
            ],
            [
             0.2,
             "#de77ae"
            ],
            [
             0.3,
             "#f1b6da"
            ],
            [
             0.4,
             "#fde0ef"
            ],
            [
             0.5,
             "#f7f7f7"
            ],
            [
             0.6,
             "#e6f5d0"
            ],
            [
             0.7,
             "#b8e186"
            ],
            [
             0.8,
             "#7fbc41"
            ],
            [
             0.9,
             "#4d9221"
            ],
            [
             1,
             "#276419"
            ]
           ],
           "sequential": [
            [
             0,
             "#0d0887"
            ],
            [
             0.1111111111111111,
             "#46039f"
            ],
            [
             0.2222222222222222,
             "#7201a8"
            ],
            [
             0.3333333333333333,
             "#9c179e"
            ],
            [
             0.4444444444444444,
             "#bd3786"
            ],
            [
             0.5555555555555556,
             "#d8576b"
            ],
            [
             0.6666666666666666,
             "#ed7953"
            ],
            [
             0.7777777777777778,
             "#fb9f3a"
            ],
            [
             0.8888888888888888,
             "#fdca26"
            ],
            [
             1,
             "#f0f921"
            ]
           ],
           "sequentialminus": [
            [
             0,
             "#0d0887"
            ],
            [
             0.1111111111111111,
             "#46039f"
            ],
            [
             0.2222222222222222,
             "#7201a8"
            ],
            [
             0.3333333333333333,
             "#9c179e"
            ],
            [
             0.4444444444444444,
             "#bd3786"
            ],
            [
             0.5555555555555556,
             "#d8576b"
            ],
            [
             0.6666666666666666,
             "#ed7953"
            ],
            [
             0.7777777777777778,
             "#fb9f3a"
            ],
            [
             0.8888888888888888,
             "#fdca26"
            ],
            [
             1,
             "#f0f921"
            ]
           ]
          },
          "colorway": [
           "#636efa",
           "#EF553B",
           "#00cc96",
           "#ab63fa",
           "#FFA15A",
           "#19d3f3",
           "#FF6692",
           "#B6E880",
           "#FF97FF",
           "#FECB52"
          ],
          "font": {
           "color": "#2a3f5f"
          },
          "geo": {
           "bgcolor": "white",
           "lakecolor": "white",
           "landcolor": "#E5ECF6",
           "showlakes": true,
           "showland": true,
           "subunitcolor": "white"
          },
          "hoverlabel": {
           "align": "left"
          },
          "hovermode": "closest",
          "mapbox": {
           "style": "light"
          },
          "paper_bgcolor": "white",
          "plot_bgcolor": "#E5ECF6",
          "polar": {
           "angularaxis": {
            "gridcolor": "white",
            "linecolor": "white",
            "ticks": ""
           },
           "bgcolor": "#E5ECF6",
           "radialaxis": {
            "gridcolor": "white",
            "linecolor": "white",
            "ticks": ""
           }
          },
          "scene": {
           "xaxis": {
            "backgroundcolor": "#E5ECF6",
            "gridcolor": "white",
            "gridwidth": 2,
            "linecolor": "white",
            "showbackground": true,
            "ticks": "",
            "zerolinecolor": "white"
           },
           "yaxis": {
            "backgroundcolor": "#E5ECF6",
            "gridcolor": "white",
            "gridwidth": 2,
            "linecolor": "white",
            "showbackground": true,
            "ticks": "",
            "zerolinecolor": "white"
           },
           "zaxis": {
            "backgroundcolor": "#E5ECF6",
            "gridcolor": "white",
            "gridwidth": 2,
            "linecolor": "white",
            "showbackground": true,
            "ticks": "",
            "zerolinecolor": "white"
           }
          },
          "shapedefaults": {
           "line": {
            "color": "#2a3f5f"
           }
          },
          "ternary": {
           "aaxis": {
            "gridcolor": "white",
            "linecolor": "white",
            "ticks": ""
           },
           "baxis": {
            "gridcolor": "white",
            "linecolor": "white",
            "ticks": ""
           },
           "bgcolor": "#E5ECF6",
           "caxis": {
            "gridcolor": "white",
            "linecolor": "white",
            "ticks": ""
           }
          },
          "title": {
           "x": 0.05
          },
          "xaxis": {
           "automargin": true,
           "gridcolor": "white",
           "linecolor": "white",
           "ticks": "",
           "title": {
            "standoff": 15
           },
           "zerolinecolor": "white",
           "zerolinewidth": 2
          },
          "yaxis": {
           "automargin": true,
           "gridcolor": "white",
           "linecolor": "white",
           "ticks": "",
           "title": {
            "standoff": 15
           },
           "zerolinecolor": "white",
           "zerolinewidth": 2
          }
         }
        },
        "title": {
         "text": "Parallel Coordinate Plot"
        }
       }
      }
     },
     "metadata": {},
     "output_type": "display_data"
    }
   ],
   "source": [
    "from optuna.visualization import plot_parallel_coordinate\n",
    "plot_parallel_coordinate(study)"
   ]
  },
  {
   "cell_type": "code",
   "execution_count": 10,
   "metadata": {},
   "outputs": [
    {
     "data": {
      "application/vnd.plotly.v1+json": {
       "config": {
        "plotlyServerURL": "https://plot.ly"
       },
       "data": [
        {
         "marker": {
          "color": [
           0,
           1,
           2,
           3,
           4,
           5,
           6,
           7,
           8,
           9,
           10,
           11,
           12,
           13,
           14,
           15,
           16,
           17,
           18,
           19,
           20,
           21,
           22,
           23,
           24,
           25,
           26,
           27,
           28,
           29,
           30,
           31,
           32,
           33,
           34,
           35,
           36,
           37,
           38,
           39,
           40,
           41,
           42,
           43,
           44,
           45,
           46,
           47,
           48,
           49,
           50,
           51,
           52,
           53,
           54,
           55,
           56,
           57,
           58,
           59,
           60,
           61,
           62,
           63,
           64,
           65,
           66,
           67,
           68,
           69,
           70,
           71,
           72,
           73,
           74,
           75,
           76,
           77,
           78,
           79,
           80,
           81,
           82,
           83,
           84,
           85,
           86,
           87,
           88,
           89,
           90,
           91,
           92,
           93,
           94,
           95,
           96,
           97,
           98,
           99
          ],
          "colorbar": {
           "title": {
            "text": "Trial"
           },
           "x": 1,
           "xpad": 40
          },
          "colorscale": [
           [
            0,
            "rgb(247,251,255)"
           ],
           [
            0.125,
            "rgb(222,235,247)"
           ],
           [
            0.25,
            "rgb(198,219,239)"
           ],
           [
            0.375,
            "rgb(158,202,225)"
           ],
           [
            0.5,
            "rgb(107,174,214)"
           ],
           [
            0.625,
            "rgb(66,146,198)"
           ],
           [
            0.75,
            "rgb(33,113,181)"
           ],
           [
            0.875,
            "rgb(8,81,156)"
           ],
           [
            1,
            "rgb(8,48,107)"
           ]
          ],
          "line": {
           "color": "Grey",
           "width": 0.5
          },
          "showscale": true
         },
         "mode": "markers",
         "name": "Feasible Trial",
         "showlegend": false,
         "type": "scatter",
         "x": [
          0.7565511646066789,
          0.6795050781836409,
          0.48872880477032693,
          0.9762865421408158,
          0.447754886945568,
          0.8487560905208205,
          0.586811906696895,
          0.45102959433535994,
          0.547082000689207,
          0.7873689690401896,
          0.6932997023969355,
          0.8939044948037407,
          0.8144148499136802,
          0.7929249550495352,
          0.755163490406112,
          0.6244372224922592,
          0.6218113232403472,
          0.6192010305962234,
          0.6325391475093604,
          0.5364405380985476,
          0.6615560865113794,
          0.5192713951108126,
          0.5270687442946131,
          0.6133739136971914,
          0.4201723846566769,
          0.5847996116815157,
          0.49484045301821034,
          0.7191320462409727,
          0.7335002074355524,
          0.7359278013204393,
          0.7229989690838582,
          0.6724900249117937,
          0.6619280301830309,
          0.7128949187547875,
          0.6669553034797734,
          0.8461162494691473,
          0.772096108515761,
          0.7525428233437286,
          0.8952621894308124,
          0.996429573739747,
          0.77378469652057,
          0.7521040499342841,
          0.8686995311500239,
          0.923424306491287,
          0.9421240584841902,
          0.941231862027471,
          0.9196060909583237,
          0.8229906222437912,
          0.927610837608153,
          0.8253193306060961,
          0.9536717272278411,
          0.813300615182214,
          0.8771043690507256,
          0.8991838328059256,
          0.8531830678018548,
          0.8772428283563414,
          0.9652962189917267,
          0.9823483268668985,
          0.9548273761851039,
          0.9156108401574791,
          0.9667934546318434,
          0.8648259556324102,
          0.8805811906710101,
          0.812946325385944,
          0.8044803972494159,
          0.7966577678961843,
          0.8000054141531877,
          0.8009400488489392,
          0.834482740928508,
          0.7899014348720057,
          0.8103613209277694,
          0.7687760595621775,
          0.7510263215939795,
          0.8258873166522112,
          0.7940611928137085,
          0.6987323603051868,
          0.8508135094617455,
          0.7730160978355332,
          0.8348815545165047,
          0.8445125012796706,
          0.7350134886757128,
          0.7839471201453859,
          0.8108124072783752,
          0.832974758364516,
          0.7637608049334454,
          0.7470362870774785,
          0.9011479714731676,
          0.7975990405387947,
          0.7839968790306567,
          0.8184004092560636,
          0.8589514307384625,
          0.8772818771520356,
          0.9097251038194618,
          0.93599780531727,
          0.9356946957203887,
          0.9330034010470054,
          0.9848153191526662,
          0.9488280045122409,
          0.9660526974841166,
          0.9249561481054542
         ],
         "xaxis": "x",
         "y": [
          0.4590469039552061,
          0.6931471805599454,
          0.6909100329649078,
          0.5989058820702358,
          0.7331400224403835,
          0.5097123622707129,
          0.6909100329649078,
          0.6827160943760284,
          0.5974891369950232,
          0.6909100329649078,
          0.6909100329649078,
          0.5850554935799706,
          0.5604334899564315,
          0.44321527274677086,
          0.4494842823425498,
          0.40686875671973777,
          0.42785158658367667,
          0.4306228074128888,
          0.6909100329649078,
          0.43048307126790436,
          0.47855668249462474,
          0.42727023350366333,
          0.44782106062777255,
          0.5020897501155822,
          0.6909100329649078,
          0.6909100329649078,
          0.4415961050579751,
          0.4015460135596263,
          0.41063906794389005,
          0.6010516419585373,
          0.45045864991667667,
          0.4264012626541096,
          0.42514897763009607,
          0.4458830477756457,
          0.5888818190453637,
          0.5687510728741648,
          0.3834012305187579,
          0.379421655037139,
          0.5484558743434311,
          0.45409612832331875,
          0.4260961699896472,
          0.3879262119661873,
          0.39452818932666583,
          0.37343367706969083,
          0.3941000595432927,
          0.3817149937611192,
          0.5068884425763721,
          0.3611105922841189,
          0.6504502257623545,
          0.5781152616768358,
          0.39533462477160725,
          0.3935608764593717,
          0.38093074473936656,
          0.39328565505680874,
          0.3849685114134078,
          0.3833780573358469,
          0.3748335444169353,
          0.5116992310820555,
          0.5419338007301349,
          0.49732684138040134,
          0.39360315635666604,
          0.3910836609833592,
          0.38108408103014574,
          0.37493975909570015,
          0.3732573288784906,
          0.3735163034121179,
          0.37185596818860384,
          0.3811300327733112,
          0.41416781708603095,
          0.38387957373510434,
          0.4621224158493324,
          0.38449743592170815,
          0.3816581215510922,
          0.3979667668340629,
          0.41916430845374414,
          0.4528949970326373,
          0.6909100329649078,
          0.43638878381855273,
          0.372376109349046,
          0.5394033785855276,
          0.48296308136827526,
          0.6909100329649078,
          0.39185253187593805,
          0.4012339978454587,
          0.3930259147141156,
          0.3840502264990688,
          0.3961003240456847,
          0.5137702770486673,
          0.382642526856313,
          0.4674540812698429,
          0.4052027178254547,
          0.3927304640101584,
          0.3853266124202354,
          0.37564557399174087,
          0.37512969110582534,
          0.3638007037755919,
          0.3957289106811575,
          0.5357483425163093,
          0.3829096571927815,
          0.36804466616667786
         ],
         "yaxis": "y"
        },
        {
         "marker": {
          "color": [
           0,
           1,
           2,
           3,
           4,
           5,
           6,
           7,
           8,
           9,
           10,
           11,
           12,
           13,
           14,
           15,
           16,
           17,
           18,
           19,
           20,
           21,
           22,
           23,
           24,
           25,
           26,
           27,
           28,
           29,
           30,
           31,
           32,
           33,
           34,
           35,
           36,
           37,
           38,
           39,
           40,
           41,
           42,
           43,
           44,
           45,
           46,
           47,
           48,
           49,
           50,
           51,
           52,
           53,
           54,
           55,
           56,
           57,
           58,
           59,
           60,
           61,
           62,
           63,
           64,
           65,
           66,
           67,
           68,
           69,
           70,
           71,
           72,
           73,
           74,
           75,
           76,
           77,
           78,
           79,
           80,
           81,
           82,
           83,
           84,
           85,
           86,
           87,
           88,
           89,
           90,
           91,
           92,
           93,
           94,
           95,
           96,
           97,
           98,
           99
          ],
          "colorbar": {
           "title": {
            "text": "Trial"
           },
           "x": 1,
           "xpad": 40
          },
          "colorscale": [
           [
            0,
            "rgb(247,251,255)"
           ],
           [
            0.125,
            "rgb(222,235,247)"
           ],
           [
            0.25,
            "rgb(198,219,239)"
           ],
           [
            0.375,
            "rgb(158,202,225)"
           ],
           [
            0.5,
            "rgb(107,174,214)"
           ],
           [
            0.625,
            "rgb(66,146,198)"
           ],
           [
            0.75,
            "rgb(33,113,181)"
           ],
           [
            0.875,
            "rgb(8,81,156)"
           ],
           [
            1,
            "rgb(8,48,107)"
           ]
          ],
          "line": {
           "color": "Grey",
           "width": 0.5
          },
          "showscale": false
         },
         "mode": "markers",
         "name": "Feasible Trial",
         "showlegend": false,
         "type": "scatter",
         "x": [
          2,
          1,
          1,
          4,
          1,
          7,
          2,
          7,
          6,
          3,
          5,
          3,
          7,
          5,
          5,
          5,
          5,
          4,
          6,
          6,
          5,
          6,
          6,
          4,
          5,
          6,
          4,
          5,
          6,
          3,
          7,
          6,
          6,
          5,
          4,
          6,
          7,
          7,
          7,
          7,
          2,
          7,
          7,
          7,
          7,
          7,
          7,
          7,
          7,
          7,
          7,
          7,
          7,
          1,
          7,
          7,
          6,
          6,
          6,
          7,
          6,
          7,
          7,
          7,
          7,
          6,
          6,
          6,
          6,
          6,
          6,
          6,
          6,
          5,
          3,
          7,
          7,
          5,
          7,
          6,
          7,
          7,
          7,
          7,
          7,
          6,
          7,
          7,
          6,
          7,
          7,
          7,
          7,
          7,
          7,
          6,
          6,
          6,
          5,
          6
         ],
         "xaxis": "x2",
         "y": [
          0.4590469039552061,
          0.6931471805599454,
          0.6909100329649078,
          0.5989058820702358,
          0.7331400224403835,
          0.5097123622707129,
          0.6909100329649078,
          0.6827160943760284,
          0.5974891369950232,
          0.6909100329649078,
          0.6909100329649078,
          0.5850554935799706,
          0.5604334899564315,
          0.44321527274677086,
          0.4494842823425498,
          0.40686875671973777,
          0.42785158658367667,
          0.4306228074128888,
          0.6909100329649078,
          0.43048307126790436,
          0.47855668249462474,
          0.42727023350366333,
          0.44782106062777255,
          0.5020897501155822,
          0.6909100329649078,
          0.6909100329649078,
          0.4415961050579751,
          0.4015460135596263,
          0.41063906794389005,
          0.6010516419585373,
          0.45045864991667667,
          0.4264012626541096,
          0.42514897763009607,
          0.4458830477756457,
          0.5888818190453637,
          0.5687510728741648,
          0.3834012305187579,
          0.379421655037139,
          0.5484558743434311,
          0.45409612832331875,
          0.4260961699896472,
          0.3879262119661873,
          0.39452818932666583,
          0.37343367706969083,
          0.3941000595432927,
          0.3817149937611192,
          0.5068884425763721,
          0.3611105922841189,
          0.6504502257623545,
          0.5781152616768358,
          0.39533462477160725,
          0.3935608764593717,
          0.38093074473936656,
          0.39328565505680874,
          0.3849685114134078,
          0.3833780573358469,
          0.3748335444169353,
          0.5116992310820555,
          0.5419338007301349,
          0.49732684138040134,
          0.39360315635666604,
          0.3910836609833592,
          0.38108408103014574,
          0.37493975909570015,
          0.3732573288784906,
          0.3735163034121179,
          0.37185596818860384,
          0.3811300327733112,
          0.41416781708603095,
          0.38387957373510434,
          0.4621224158493324,
          0.38449743592170815,
          0.3816581215510922,
          0.3979667668340629,
          0.41916430845374414,
          0.4528949970326373,
          0.6909100329649078,
          0.43638878381855273,
          0.372376109349046,
          0.5394033785855276,
          0.48296308136827526,
          0.6909100329649078,
          0.39185253187593805,
          0.4012339978454587,
          0.3930259147141156,
          0.3840502264990688,
          0.3961003240456847,
          0.5137702770486673,
          0.382642526856313,
          0.4674540812698429,
          0.4052027178254547,
          0.3927304640101584,
          0.3853266124202354,
          0.37564557399174087,
          0.37512969110582534,
          0.3638007037755919,
          0.3957289106811575,
          0.5357483425163093,
          0.3829096571927815,
          0.36804466616667786
         ],
         "yaxis": "y2"
        },
        {
         "marker": {
          "color": [
           0,
           1,
           2,
           3,
           4,
           5,
           6,
           7,
           8,
           9,
           10,
           11,
           12,
           13,
           14,
           15,
           16,
           17,
           18,
           19,
           20,
           21,
           22,
           23,
           24,
           25,
           26,
           27,
           28,
           29,
           30,
           31,
           32,
           33,
           34,
           35,
           36,
           37,
           38,
           39,
           40,
           41,
           42,
           43,
           44,
           45,
           46,
           47,
           48,
           49,
           50,
           51,
           52,
           53,
           54,
           55,
           56,
           57,
           58,
           59,
           60,
           61,
           62,
           63,
           64,
           65,
           66,
           67,
           68,
           69,
           70,
           71,
           72,
           73,
           74,
           75,
           76,
           77,
           78,
           79,
           80,
           81,
           82,
           83,
           84,
           85,
           86,
           87,
           88,
           89,
           90,
           91,
           92,
           93,
           94,
           95,
           96,
           97,
           98,
           99
          ],
          "colorbar": {
           "title": {
            "text": "Trial"
           },
           "x": 1,
           "xpad": 40
          },
          "colorscale": [
           [
            0,
            "rgb(247,251,255)"
           ],
           [
            0.125,
            "rgb(222,235,247)"
           ],
           [
            0.25,
            "rgb(198,219,239)"
           ],
           [
            0.375,
            "rgb(158,202,225)"
           ],
           [
            0.5,
            "rgb(107,174,214)"
           ],
           [
            0.625,
            "rgb(66,146,198)"
           ],
           [
            0.75,
            "rgb(33,113,181)"
           ],
           [
            0.875,
            "rgb(8,81,156)"
           ],
           [
            1,
            "rgb(8,48,107)"
           ]
          ],
          "line": {
           "color": "Grey",
           "width": 0.5
          },
          "showscale": false
         },
         "mode": "markers",
         "name": "Feasible Trial",
         "showlegend": false,
         "type": "scatter",
         "x": [
          "dart",
          "rf",
          "gbdt",
          "rf",
          "dart",
          "dart",
          "dart",
          "dart",
          "rf",
          "gbdt",
          "dart",
          "dart",
          "dart",
          "dart",
          "dart",
          "gbdt",
          "gbdt",
          "gbdt",
          "gbdt",
          "gbdt",
          "gbdt",
          "gbdt",
          "gbdt",
          "gbdt",
          "gbdt",
          "gbdt",
          "gbdt",
          "gbdt",
          "gbdt",
          "rf",
          "gbdt",
          "gbdt",
          "gbdt",
          "gbdt",
          "gbdt",
          "rf",
          "gbdt",
          "gbdt",
          "rf",
          "gbdt",
          "gbdt",
          "gbdt",
          "gbdt",
          "gbdt",
          "gbdt",
          "gbdt",
          "rf",
          "gbdt",
          "gbdt",
          "gbdt",
          "dart",
          "gbdt",
          "gbdt",
          "gbdt",
          "gbdt",
          "gbdt",
          "gbdt",
          "dart",
          "gbdt",
          "rf",
          "gbdt",
          "gbdt",
          "gbdt",
          "gbdt",
          "gbdt",
          "gbdt",
          "gbdt",
          "gbdt",
          "dart",
          "gbdt",
          "gbdt",
          "gbdt",
          "gbdt",
          "gbdt",
          "gbdt",
          "gbdt",
          "gbdt",
          "gbdt",
          "gbdt",
          "rf",
          "gbdt",
          "gbdt",
          "gbdt",
          "gbdt",
          "gbdt",
          "gbdt",
          "gbdt",
          "gbdt",
          "dart",
          "gbdt",
          "gbdt",
          "gbdt",
          "gbdt",
          "gbdt",
          "gbdt",
          "gbdt",
          "gbdt",
          "rf",
          "gbdt",
          "gbdt"
         ],
         "xaxis": "x3",
         "y": [
          0.4590469039552061,
          0.6931471805599454,
          0.6909100329649078,
          0.5989058820702358,
          0.7331400224403835,
          0.5097123622707129,
          0.6909100329649078,
          0.6827160943760284,
          0.5974891369950232,
          0.6909100329649078,
          0.6909100329649078,
          0.5850554935799706,
          0.5604334899564315,
          0.44321527274677086,
          0.4494842823425498,
          0.40686875671973777,
          0.42785158658367667,
          0.4306228074128888,
          0.6909100329649078,
          0.43048307126790436,
          0.47855668249462474,
          0.42727023350366333,
          0.44782106062777255,
          0.5020897501155822,
          0.6909100329649078,
          0.6909100329649078,
          0.4415961050579751,
          0.4015460135596263,
          0.41063906794389005,
          0.6010516419585373,
          0.45045864991667667,
          0.4264012626541096,
          0.42514897763009607,
          0.4458830477756457,
          0.5888818190453637,
          0.5687510728741648,
          0.3834012305187579,
          0.379421655037139,
          0.5484558743434311,
          0.45409612832331875,
          0.4260961699896472,
          0.3879262119661873,
          0.39452818932666583,
          0.37343367706969083,
          0.3941000595432927,
          0.3817149937611192,
          0.5068884425763721,
          0.3611105922841189,
          0.6504502257623545,
          0.5781152616768358,
          0.39533462477160725,
          0.3935608764593717,
          0.38093074473936656,
          0.39328565505680874,
          0.3849685114134078,
          0.3833780573358469,
          0.3748335444169353,
          0.5116992310820555,
          0.5419338007301349,
          0.49732684138040134,
          0.39360315635666604,
          0.3910836609833592,
          0.38108408103014574,
          0.37493975909570015,
          0.3732573288784906,
          0.3735163034121179,
          0.37185596818860384,
          0.3811300327733112,
          0.41416781708603095,
          0.38387957373510434,
          0.4621224158493324,
          0.38449743592170815,
          0.3816581215510922,
          0.3979667668340629,
          0.41916430845374414,
          0.4528949970326373,
          0.6909100329649078,
          0.43638878381855273,
          0.372376109349046,
          0.5394033785855276,
          0.48296308136827526,
          0.6909100329649078,
          0.39185253187593805,
          0.4012339978454587,
          0.3930259147141156,
          0.3840502264990688,
          0.3961003240456847,
          0.5137702770486673,
          0.382642526856313,
          0.4674540812698429,
          0.4052027178254547,
          0.3927304640101584,
          0.3853266124202354,
          0.37564557399174087,
          0.37512969110582534,
          0.3638007037755919,
          0.3957289106811575,
          0.5357483425163093,
          0.3829096571927815,
          0.36804466616667786
         ],
         "yaxis": "y3"
        },
        {
         "marker": {
          "color": [
           0,
           1,
           2,
           3,
           4,
           5,
           6,
           7,
           8,
           9,
           10,
           11,
           12,
           13,
           14,
           15,
           16,
           17,
           18,
           19,
           20,
           21,
           22,
           23,
           24,
           25,
           26,
           27,
           28,
           29,
           30,
           31,
           32,
           33,
           34,
           35,
           36,
           37,
           38,
           39,
           40,
           41,
           42,
           43,
           44,
           45,
           46,
           47,
           48,
           49,
           50,
           51,
           52,
           53,
           54,
           55,
           56,
           57,
           58,
           59,
           60,
           61,
           62,
           63,
           64,
           65,
           66,
           67,
           68,
           69,
           70,
           71,
           72,
           73,
           74,
           75,
           76,
           77,
           78,
           79,
           80,
           81,
           82,
           83,
           84,
           85,
           86,
           87,
           88,
           89,
           90,
           91,
           92,
           93,
           94,
           95,
           96,
           97,
           98,
           99
          ],
          "colorbar": {
           "title": {
            "text": "Trial"
           },
           "x": 1,
           "xpad": 40
          },
          "colorscale": [
           [
            0,
            "rgb(247,251,255)"
           ],
           [
            0.125,
            "rgb(222,235,247)"
           ],
           [
            0.25,
            "rgb(198,219,239)"
           ],
           [
            0.375,
            "rgb(158,202,225)"
           ],
           [
            0.5,
            "rgb(107,174,214)"
           ],
           [
            0.625,
            "rgb(66,146,198)"
           ],
           [
            0.75,
            "rgb(33,113,181)"
           ],
           [
            0.875,
            "rgb(8,81,156)"
           ],
           [
            1,
            "rgb(8,48,107)"
           ]
          ],
          "line": {
           "color": "Grey",
           "width": 0.5
          },
          "showscale": false
         },
         "mode": "markers",
         "name": "Feasible Trial",
         "showlegend": false,
         "type": "scatter",
         "x": [
          0.5405082711316752,
          0.782888284857296,
          0.5276828264545753,
          0.7398325198287012,
          0.9761134309161704,
          0.48044352316428507,
          0.8019823312677226,
          0.5665462847279363,
          0.6467353994371178,
          0.6004911071725433,
          0.44640527859385154,
          0.44769740196913416,
          0.42285224846050495,
          0.5067586106995148,
          0.6667664416802694,
          0.6731581409262429,
          0.8950490221305492,
          0.9461771269374921,
          0.8739041011497346,
          0.8747030671679509,
          0.7162836039521934,
          0.8825114611849769,
          0.8931356336125814,
          0.7926666405738592,
          0.92714036368929,
          0.8344825404694224,
          0.7505764610521221,
          0.9852591749281139,
          0.9956893450218665,
          0.9637554124422089,
          0.6647552878741112,
          0.9900469917375478,
          0.9942347572170728,
          0.9293858271669706,
          0.9972830899914937,
          0.8454915786226662,
          0.9224216223737447,
          0.9422903201389302,
          0.7476437206740272,
          0.612060039479784,
          0.8304227543848937,
          0.9432202772155021,
          0.9505555678863389,
          0.924971930334729,
          0.9129465996147139,
          0.9176445334655975,
          0.8549719302086937,
          0.9176354752287577,
          0.9180855612788111,
          0.9071769358879231,
          0.8213448088179042,
          0.9496811267675022,
          0.9652727726542486,
          0.969751781150022,
          0.8654145801582365,
          0.90245903917746,
          0.769888628466304,
          0.9593490041668888,
          0.8123483940524912,
          0.7699491478807509,
          0.8807801942546785,
          0.8946249559306317,
          0.9376210060488136,
          0.9399494890571731,
          0.9713995314798465,
          0.9691432371067128,
          0.9686810220379785,
          0.9766344922177156,
          0.7268126725134605,
          0.9775553442703868,
          0.5176649101771541,
          0.934987921717303,
          0.5454356812831777,
          0.689244741905553,
          0.9577675259438414,
          0.9799329596663031,
          0.8896174235060698,
          0.859599779337703,
          0.9339552410046627,
          0.9269713262092588,
          0.6228947765099523,
          0.9479937621611713,
          0.9353856417446778,
          0.9968254940979876,
          0.9034928792652335,
          0.9656080510562933,
          0.8738898455530802,
          0.9817743996075864,
          0.9228345692202323,
          0.8438779842606239,
          0.951585817521689,
          0.958675425206156,
          0.9677734683076243,
          0.9106424476288455,
          0.7762051327157733,
          0.7826202280298609,
          0.7199325629044085,
          0.7727332382217262,
          0.7935419021449505,
          0.7535547011397509
         ],
         "xaxis": "x4",
         "y": [
          0.4590469039552061,
          0.6931471805599454,
          0.6909100329649078,
          0.5989058820702358,
          0.7331400224403835,
          0.5097123622707129,
          0.6909100329649078,
          0.6827160943760284,
          0.5974891369950232,
          0.6909100329649078,
          0.6909100329649078,
          0.5850554935799706,
          0.5604334899564315,
          0.44321527274677086,
          0.4494842823425498,
          0.40686875671973777,
          0.42785158658367667,
          0.4306228074128888,
          0.6909100329649078,
          0.43048307126790436,
          0.47855668249462474,
          0.42727023350366333,
          0.44782106062777255,
          0.5020897501155822,
          0.6909100329649078,
          0.6909100329649078,
          0.4415961050579751,
          0.4015460135596263,
          0.41063906794389005,
          0.6010516419585373,
          0.45045864991667667,
          0.4264012626541096,
          0.42514897763009607,
          0.4458830477756457,
          0.5888818190453637,
          0.5687510728741648,
          0.3834012305187579,
          0.379421655037139,
          0.5484558743434311,
          0.45409612832331875,
          0.4260961699896472,
          0.3879262119661873,
          0.39452818932666583,
          0.37343367706969083,
          0.3941000595432927,
          0.3817149937611192,
          0.5068884425763721,
          0.3611105922841189,
          0.6504502257623545,
          0.5781152616768358,
          0.39533462477160725,
          0.3935608764593717,
          0.38093074473936656,
          0.39328565505680874,
          0.3849685114134078,
          0.3833780573358469,
          0.3748335444169353,
          0.5116992310820555,
          0.5419338007301349,
          0.49732684138040134,
          0.39360315635666604,
          0.3910836609833592,
          0.38108408103014574,
          0.37493975909570015,
          0.3732573288784906,
          0.3735163034121179,
          0.37185596818860384,
          0.3811300327733112,
          0.41416781708603095,
          0.38387957373510434,
          0.4621224158493324,
          0.38449743592170815,
          0.3816581215510922,
          0.3979667668340629,
          0.41916430845374414,
          0.4528949970326373,
          0.6909100329649078,
          0.43638878381855273,
          0.372376109349046,
          0.5394033785855276,
          0.48296308136827526,
          0.6909100329649078,
          0.39185253187593805,
          0.4012339978454587,
          0.3930259147141156,
          0.3840502264990688,
          0.3961003240456847,
          0.5137702770486673,
          0.382642526856313,
          0.4674540812698429,
          0.4052027178254547,
          0.3927304640101584,
          0.3853266124202354,
          0.37564557399174087,
          0.37512969110582534,
          0.3638007037755919,
          0.3957289106811575,
          0.5357483425163093,
          0.3829096571927815,
          0.36804466616667786
         ],
         "yaxis": "y4"
        },
        {
         "marker": {
          "color": [
           0,
           1,
           2,
           3,
           4,
           5,
           6,
           7,
           8,
           9,
           10,
           11,
           12,
           13,
           14,
           15,
           16,
           17,
           18,
           19,
           20,
           21,
           22,
           23,
           24,
           25,
           26,
           27,
           28,
           29,
           30,
           31,
           32,
           33,
           34,
           35,
           36,
           37,
           38,
           39,
           40,
           41,
           42,
           43,
           44,
           45,
           46,
           47,
           48,
           49,
           50,
           51,
           52,
           53,
           54,
           55,
           56,
           57,
           58,
           59,
           60,
           61,
           62,
           63,
           64,
           65,
           66,
           67,
           68,
           69,
           70,
           71,
           72,
           73,
           74,
           75,
           76,
           77,
           78,
           79,
           80,
           81,
           82,
           83,
           84,
           85,
           86,
           87,
           88,
           89,
           90,
           91,
           92,
           93,
           94,
           95,
           96,
           97,
           98,
           99
          ],
          "colorbar": {
           "title": {
            "text": "Trial"
           },
           "x": 1,
           "xpad": 40
          },
          "colorscale": [
           [
            0,
            "rgb(247,251,255)"
           ],
           [
            0.125,
            "rgb(222,235,247)"
           ],
           [
            0.25,
            "rgb(198,219,239)"
           ],
           [
            0.375,
            "rgb(158,202,225)"
           ],
           [
            0.5,
            "rgb(107,174,214)"
           ],
           [
            0.625,
            "rgb(66,146,198)"
           ],
           [
            0.75,
            "rgb(33,113,181)"
           ],
           [
            0.875,
            "rgb(8,81,156)"
           ],
           [
            1,
            "rgb(8,48,107)"
           ]
          ],
          "line": {
           "color": "Grey",
           "width": 0.5
          },
          "showscale": false
         },
         "mode": "markers",
         "name": "Feasible Trial",
         "showlegend": false,
         "type": "scatter",
         "x": [
          3.6962585557404806,
          3.6340893362073836,
          0.736149718562889,
          4.824852472675554,
          6.585645794514695,
          5.89479508007479,
          0.6003179852863704,
          8.178526373630621,
          5.611391759790176,
          1.5235766014212373,
          2.7418086512622186,
          9.540499103525104,
          6.956548457950051,
          3.506338191560518,
          3.757561751320241,
          2.406263386339554,
          2.100873805284801,
          1.9045762849302608,
          0.08266415641509806,
          2.0619391631634763,
          2.7169926114369045,
          2.00976592779495,
          1.2723980396640704,
          4.570707853178856,
          2.8446712928057494,
          2.0713848286249865,
          1.1105787418811788,
          0.17497214851301734,
          0.2449327620764894,
          0.19410298315999516,
          0.13631819225524833,
          0.8299904814749142,
          0.9080981358092355,
          0.7221990893449561,
          1.3826121123262298,
          0.622361057658117,
          0.071519490900259,
          0.09642150807040384,
          3.1989178511055996,
          3.9631831213596533,
          1.483280580956568,
          0.10751266918294358,
          0.02413120771444016,
          0.07307766077380567,
          0.5914417859984167,
          0.606033253018681,
          1.5271796230941634,
          0.5413824961820222,
          7.610754885037761,
          9.865311680249366,
          1.0740667637451322,
          0.499828415993701,
          1.6122717574752998,
          1.6458106731201085,
          1.0147043095657584,
          0.5138770051062354,
          0.5229373356663594,
          6.180658296468095,
          8.6396148364809,
          2.491727183655936,
          1.633086233756274,
          0.485841224433287,
          0.5093629738039043,
          1.1655645160565404,
          1.0987453842100647,
          1.1697467797614935,
          1.1902790757215471,
          1.1641341472155347,
          2.3722284399209266,
          1.9170916573820467,
          5.112047193499185,
          0.8478277274409496,
          1.2569889875393412,
          0.9563846944716727,
          0.33608472760460273,
          1.8218793742641124,
          1.3160236095549438,
          2.269819554691171,
          0.8590921467212193,
          0.9113957489233366,
          2.8481110059987813,
          0.30262467690324824,
          1.1784772073671899,
          0.8104884266142011,
          0.3034499457577188,
          0.7711779394834227,
          1.3826276885371107,
          1.8118485033141993,
          0.044385872380468205,
          4.249498637099604,
          0.6815848963355062,
          1.6477052254076994,
          0.40249033672856227,
          1.1159722712827012,
          1.067528258984754,
          1.0748837847285269,
          2.1870781938830905,
          1.3588686790200035,
          1.0488145156975768,
          0.706008660889632
         ],
         "xaxis": "x5",
         "y": [
          0.4590469039552061,
          0.6931471805599454,
          0.6909100329649078,
          0.5989058820702358,
          0.7331400224403835,
          0.5097123622707129,
          0.6909100329649078,
          0.6827160943760284,
          0.5974891369950232,
          0.6909100329649078,
          0.6909100329649078,
          0.5850554935799706,
          0.5604334899564315,
          0.44321527274677086,
          0.4494842823425498,
          0.40686875671973777,
          0.42785158658367667,
          0.4306228074128888,
          0.6909100329649078,
          0.43048307126790436,
          0.47855668249462474,
          0.42727023350366333,
          0.44782106062777255,
          0.5020897501155822,
          0.6909100329649078,
          0.6909100329649078,
          0.4415961050579751,
          0.4015460135596263,
          0.41063906794389005,
          0.6010516419585373,
          0.45045864991667667,
          0.4264012626541096,
          0.42514897763009607,
          0.4458830477756457,
          0.5888818190453637,
          0.5687510728741648,
          0.3834012305187579,
          0.379421655037139,
          0.5484558743434311,
          0.45409612832331875,
          0.4260961699896472,
          0.3879262119661873,
          0.39452818932666583,
          0.37343367706969083,
          0.3941000595432927,
          0.3817149937611192,
          0.5068884425763721,
          0.3611105922841189,
          0.6504502257623545,
          0.5781152616768358,
          0.39533462477160725,
          0.3935608764593717,
          0.38093074473936656,
          0.39328565505680874,
          0.3849685114134078,
          0.3833780573358469,
          0.3748335444169353,
          0.5116992310820555,
          0.5419338007301349,
          0.49732684138040134,
          0.39360315635666604,
          0.3910836609833592,
          0.38108408103014574,
          0.37493975909570015,
          0.3732573288784906,
          0.3735163034121179,
          0.37185596818860384,
          0.3811300327733112,
          0.41416781708603095,
          0.38387957373510434,
          0.4621224158493324,
          0.38449743592170815,
          0.3816581215510922,
          0.3979667668340629,
          0.41916430845374414,
          0.4528949970326373,
          0.6909100329649078,
          0.43638878381855273,
          0.372376109349046,
          0.5394033785855276,
          0.48296308136827526,
          0.6909100329649078,
          0.39185253187593805,
          0.4012339978454587,
          0.3930259147141156,
          0.3840502264990688,
          0.3961003240456847,
          0.5137702770486673,
          0.382642526856313,
          0.4674540812698429,
          0.4052027178254547,
          0.3927304640101584,
          0.3853266124202354,
          0.37564557399174087,
          0.37512969110582534,
          0.3638007037755919,
          0.3957289106811575,
          0.5357483425163093,
          0.3829096571927815,
          0.36804466616667786
         ],
         "yaxis": "y5"
        },
        {
         "marker": {
          "color": [
           0,
           1,
           2,
           3,
           4,
           5,
           6,
           7,
           8,
           9,
           10,
           11,
           12,
           13,
           14,
           15,
           16,
           17,
           18,
           19,
           20,
           21,
           22,
           23,
           24,
           25,
           26,
           27,
           28,
           29,
           30,
           31,
           32,
           33,
           34,
           35,
           36,
           37,
           38,
           39,
           40,
           41,
           42,
           43,
           44,
           45,
           46,
           47,
           48,
           49,
           50,
           51,
           52,
           53,
           54,
           55,
           56,
           57,
           58,
           59,
           60,
           61,
           62,
           63,
           64,
           65,
           66,
           67,
           68,
           69,
           70,
           71,
           72,
           73,
           74,
           75,
           76,
           77,
           78,
           79,
           80,
           81,
           82,
           83,
           84,
           85,
           86,
           87,
           88,
           89,
           90,
           91,
           92,
           93,
           94,
           95,
           96,
           97,
           98,
           99
          ],
          "colorbar": {
           "title": {
            "text": "Trial"
           },
           "x": 1,
           "xpad": 40
          },
          "colorscale": [
           [
            0,
            "rgb(247,251,255)"
           ],
           [
            0.125,
            "rgb(222,235,247)"
           ],
           [
            0.25,
            "rgb(198,219,239)"
           ],
           [
            0.375,
            "rgb(158,202,225)"
           ],
           [
            0.5,
            "rgb(107,174,214)"
           ],
           [
            0.625,
            "rgb(66,146,198)"
           ],
           [
            0.75,
            "rgb(33,113,181)"
           ],
           [
            0.875,
            "rgb(8,81,156)"
           ],
           [
            1,
            "rgb(8,48,107)"
           ]
          ],
          "line": {
           "color": "Grey",
           "width": 0.5
          },
          "showscale": false
         },
         "mode": "markers",
         "name": "Feasible Trial",
         "showlegend": false,
         "type": "scatter",
         "x": [
          9.404317716434184,
          6.062819171274124,
          1.0569678232014736,
          4.171890407885792,
          2.963502588584943,
          1.7071535552438508,
          2.64760767803243,
          2.792258743391108,
          0.7968333833178415,
          5.2415751513566144,
          9.6356983703651,
          9.094341511944368,
          7.171605337973125,
          7.63868111069905,
          7.907149634386361,
          7.7737107670517815,
          7.560988805375024,
          6.276513610851466,
          8.247737654338538,
          6.589630234007811,
          4.892187284767655,
          6.645307844513545,
          6.975464129616489,
          8.499518652680157,
          5.600627676919904,
          4.069695988050233,
          8.577603452675747,
          7.630635174368119,
          6.959733293806837,
          9.226228715459278,
          9.85930464534719,
          6.906281946684086,
          5.790283013488954,
          5.879537648647167,
          4.771934182028888,
          0.06577015873110703,
          4.209728948357831,
          4.112550047103162,
          3.5701267365138354,
          3.5029736098949784,
          4.317445752969181,
          2.032876638479278,
          1.9618822018137405,
          2.0173892890085567,
          2.163633480255452,
          2.0523226777867998,
          1.2059095718513835,
          2.4185591357880414,
          2.5367204348205954,
          3.1774950544287983,
          1.4630658729761001,
          0.7357195005676813,
          2.321004933050532,
          2.7597740221104154,
          2.4509400244684514,
          3.1906677361917657,
          3.2601483249338967,
          3.6861257055780623,
          1.6537820349756327,
          0.6288934134855786,
          2.272416746173749,
          3.087149749931058,
          3.0054884301099243,
          2.9250793972248514,
          3.7861202928894166,
          3.815918148974868,
          3.780289185398605,
          4.655976119593954,
          3.8648504369203613,
          3.3787115156715197,
          3.8224653569392584,
          5.0806753877088955,
          4.575862485548269,
          2.7583582225869545,
          5.363798980400487,
          4.438070944399569,
          4.025677944887061,
          3.244538175815645,
          3.4552240452042597,
          2.8060433200885546,
          2.586184580747318,
          4.001845944637744,
          3.4405061077174017,
          3.801797254871613,
          1.8454451086232355,
          4.355213349730371,
          3.5864741993111227,
          2.9585526033827074,
          4.127124455881612,
          4.8762248291935,
          3.3338130268334583,
          2.2607116345731684,
          2.4165815467472274,
          1.48764019051655,
          1.4745814847741305,
          1.2982065666966924,
          0.486328346271769,
          1.3719505952812647,
          0.9706441951671085,
          1.6887614936736428
         ],
         "xaxis": "x6",
         "y": [
          0.4590469039552061,
          0.6931471805599454,
          0.6909100329649078,
          0.5989058820702358,
          0.7331400224403835,
          0.5097123622707129,
          0.6909100329649078,
          0.6827160943760284,
          0.5974891369950232,
          0.6909100329649078,
          0.6909100329649078,
          0.5850554935799706,
          0.5604334899564315,
          0.44321527274677086,
          0.4494842823425498,
          0.40686875671973777,
          0.42785158658367667,
          0.4306228074128888,
          0.6909100329649078,
          0.43048307126790436,
          0.47855668249462474,
          0.42727023350366333,
          0.44782106062777255,
          0.5020897501155822,
          0.6909100329649078,
          0.6909100329649078,
          0.4415961050579751,
          0.4015460135596263,
          0.41063906794389005,
          0.6010516419585373,
          0.45045864991667667,
          0.4264012626541096,
          0.42514897763009607,
          0.4458830477756457,
          0.5888818190453637,
          0.5687510728741648,
          0.3834012305187579,
          0.379421655037139,
          0.5484558743434311,
          0.45409612832331875,
          0.4260961699896472,
          0.3879262119661873,
          0.39452818932666583,
          0.37343367706969083,
          0.3941000595432927,
          0.3817149937611192,
          0.5068884425763721,
          0.3611105922841189,
          0.6504502257623545,
          0.5781152616768358,
          0.39533462477160725,
          0.3935608764593717,
          0.38093074473936656,
          0.39328565505680874,
          0.3849685114134078,
          0.3833780573358469,
          0.3748335444169353,
          0.5116992310820555,
          0.5419338007301349,
          0.49732684138040134,
          0.39360315635666604,
          0.3910836609833592,
          0.38108408103014574,
          0.37493975909570015,
          0.3732573288784906,
          0.3735163034121179,
          0.37185596818860384,
          0.3811300327733112,
          0.41416781708603095,
          0.38387957373510434,
          0.4621224158493324,
          0.38449743592170815,
          0.3816581215510922,
          0.3979667668340629,
          0.41916430845374414,
          0.4528949970326373,
          0.6909100329649078,
          0.43638878381855273,
          0.372376109349046,
          0.5394033785855276,
          0.48296308136827526,
          0.6909100329649078,
          0.39185253187593805,
          0.4012339978454587,
          0.3930259147141156,
          0.3840502264990688,
          0.3961003240456847,
          0.5137702770486673,
          0.382642526856313,
          0.4674540812698429,
          0.4052027178254547,
          0.3927304640101584,
          0.3853266124202354,
          0.37564557399174087,
          0.37512969110582534,
          0.3638007037755919,
          0.3957289106811575,
          0.5357483425163093,
          0.3829096571927815,
          0.36804466616667786
         ],
         "yaxis": "y6"
        },
        {
         "marker": {
          "color": [
           0,
           1,
           2,
           3,
           4,
           5,
           6,
           7,
           8,
           9,
           10,
           11,
           12,
           13,
           14,
           15,
           16,
           17,
           18,
           19,
           20,
           21,
           22,
           23,
           24,
           25,
           26,
           27,
           28,
           29,
           30,
           31,
           32,
           33,
           34,
           35,
           36,
           37,
           38,
           39,
           40,
           41,
           42,
           43,
           44,
           45,
           46,
           47,
           48,
           49,
           50,
           51,
           52,
           53,
           54,
           55,
           56,
           57,
           58,
           59,
           60,
           61,
           62,
           63,
           64,
           65,
           66,
           67,
           68,
           69,
           70,
           71,
           72,
           73,
           74,
           75,
           76,
           77,
           78,
           79,
           80,
           81,
           82,
           83,
           84,
           85,
           86,
           87,
           88,
           89,
           90,
           91,
           92,
           93,
           94,
           95,
           96,
           97,
           98,
           99
          ],
          "colorbar": {
           "title": {
            "text": "Trial"
           },
           "x": 1,
           "xpad": 40
          },
          "colorscale": [
           [
            0,
            "rgb(247,251,255)"
           ],
           [
            0.125,
            "rgb(222,235,247)"
           ],
           [
            0.25,
            "rgb(198,219,239)"
           ],
           [
            0.375,
            "rgb(158,202,225)"
           ],
           [
            0.5,
            "rgb(107,174,214)"
           ],
           [
            0.625,
            "rgb(66,146,198)"
           ],
           [
            0.75,
            "rgb(33,113,181)"
           ],
           [
            0.875,
            "rgb(8,81,156)"
           ],
           [
            1,
            "rgb(8,48,107)"
           ]
          ],
          "line": {
           "color": "Grey",
           "width": 0.5
          },
          "showscale": false
         },
         "mode": "markers",
         "name": "Feasible Trial",
         "showlegend": false,
         "type": "scatter",
         "x": [
          0.901380017238471,
          0.8223614538035238,
          0.9183311149656892,
          0.3132228962051672,
          0.8723035181716645,
          0.6418451246985735,
          0.43282978881068235,
          0.868887672302004,
          0.881419725585962,
          0.9211228959485669,
          0.14987112236702493,
          0.6660971794610403,
          0.6531748640432185,
          0.6946201319468147,
          0.7486043447346298,
          0.7419985757031579,
          0.5000117393484859,
          0.4902971129916174,
          0.35245916024444135,
          0.5405134041213617,
          0.5748032740880894,
          0.5448091313696615,
          0.4054298044869729,
          0.9982835510231173,
          0.23643863210621807,
          0.7635286006615567,
          0.573054058981949,
          0.46312532137615803,
          0.4603359031784382,
          0.2889624907666951,
          0.4204597222683641,
          0.48285769866184786,
          0.3739805774477446,
          0.37480068952007844,
          0.24831084736361717,
          0.3260025937037671,
          0.16246065448636005,
          0.10587396731657872,
          0.13587350615457572,
          0.18501553399495974,
          0.19306750032507675,
          0.10832259081435594,
          0.13386295739413334,
          0.12276653894875536,
          0.11391473677099032,
          0.10285679245860212,
          0.18275296273818592,
          0.22537390267355806,
          0.24371507046040913,
          0.2100669305029212,
          0.2872315258694388,
          0.16061071308858293,
          0.10907177059724389,
          0.10598469762720185,
          0.1503205209943759,
          0.22855039309516925,
          0.21702500394355148,
          0.2660106568536684,
          0.1022430258581817,
          0.1954656577511901,
          0.14113869326090117,
          0.23118013519862757,
          0.20622941588647248,
          0.1656259178872811,
          0.2990424230154046,
          0.30871590399566234,
          0.2883508041012114,
          0.3171041012640227,
          0.2805778461158231,
          0.3440091356052109,
          0.2606912374130556,
          0.17152397808256503,
          0.3057845040455475,
          0.39995041168621637,
          0.21056330171146792,
          0.34752093684407903,
          0.22155494545907717,
          0.29241948966709813,
          0.17337819797104254,
          0.2639704680567416,
          0.37875784773321935,
          0.13146677198626702,
          0.17302145096013855,
          0.15765655740313556,
          0.24997817697760816,
          0.19003451077602865,
          0.6085238690315902,
          0.1284023427504154,
          0.32867519717249427,
          0.22464680911525045,
          0.1712635765154471,
          0.12187739123547352,
          0.15075316018681723,
          0.18280999373121853,
          0.20334812474959446,
          0.20081617832944693,
          0.20689643633801563,
          0.3039561353429501,
          0.23706311580456396,
          0.2864064764801557
         ],
         "xaxis": "x7",
         "y": [
          0.4590469039552061,
          0.6931471805599454,
          0.6909100329649078,
          0.5989058820702358,
          0.7331400224403835,
          0.5097123622707129,
          0.6909100329649078,
          0.6827160943760284,
          0.5974891369950232,
          0.6909100329649078,
          0.6909100329649078,
          0.5850554935799706,
          0.5604334899564315,
          0.44321527274677086,
          0.4494842823425498,
          0.40686875671973777,
          0.42785158658367667,
          0.4306228074128888,
          0.6909100329649078,
          0.43048307126790436,
          0.47855668249462474,
          0.42727023350366333,
          0.44782106062777255,
          0.5020897501155822,
          0.6909100329649078,
          0.6909100329649078,
          0.4415961050579751,
          0.4015460135596263,
          0.41063906794389005,
          0.6010516419585373,
          0.45045864991667667,
          0.4264012626541096,
          0.42514897763009607,
          0.4458830477756457,
          0.5888818190453637,
          0.5687510728741648,
          0.3834012305187579,
          0.379421655037139,
          0.5484558743434311,
          0.45409612832331875,
          0.4260961699896472,
          0.3879262119661873,
          0.39452818932666583,
          0.37343367706969083,
          0.3941000595432927,
          0.3817149937611192,
          0.5068884425763721,
          0.3611105922841189,
          0.6504502257623545,
          0.5781152616768358,
          0.39533462477160725,
          0.3935608764593717,
          0.38093074473936656,
          0.39328565505680874,
          0.3849685114134078,
          0.3833780573358469,
          0.3748335444169353,
          0.5116992310820555,
          0.5419338007301349,
          0.49732684138040134,
          0.39360315635666604,
          0.3910836609833592,
          0.38108408103014574,
          0.37493975909570015,
          0.3732573288784906,
          0.3735163034121179,
          0.37185596818860384,
          0.3811300327733112,
          0.41416781708603095,
          0.38387957373510434,
          0.4621224158493324,
          0.38449743592170815,
          0.3816581215510922,
          0.3979667668340629,
          0.41916430845374414,
          0.4528949970326373,
          0.6909100329649078,
          0.43638878381855273,
          0.372376109349046,
          0.5394033785855276,
          0.48296308136827526,
          0.6909100329649078,
          0.39185253187593805,
          0.4012339978454587,
          0.3930259147141156,
          0.3840502264990688,
          0.3961003240456847,
          0.5137702770486673,
          0.382642526856313,
          0.4674540812698429,
          0.4052027178254547,
          0.3927304640101584,
          0.3853266124202354,
          0.37564557399174087,
          0.37512969110582534,
          0.3638007037755919,
          0.3957289106811575,
          0.5357483425163093,
          0.3829096571927815,
          0.36804466616667786
         ],
         "yaxis": "y7"
        },
        {
         "marker": {
          "color": [
           0,
           1,
           2,
           3,
           4,
           5,
           6,
           7,
           8,
           9,
           10,
           11,
           12,
           13,
           14,
           15,
           16,
           17,
           18,
           19,
           20,
           21,
           22,
           23,
           24,
           25,
           26,
           27,
           28,
           29,
           30,
           31,
           32,
           33,
           34,
           35,
           36,
           37,
           38,
           39,
           40,
           41,
           42,
           43,
           44,
           45,
           46,
           47,
           48,
           49,
           50,
           51,
           52,
           53,
           54,
           55,
           56,
           57,
           58,
           59,
           60,
           61,
           62,
           63,
           64,
           65,
           66,
           67,
           68,
           69,
           70,
           71,
           72,
           73,
           74,
           75,
           76,
           77,
           78,
           79,
           80,
           81,
           82,
           83,
           84,
           85,
           86,
           87,
           88,
           89,
           90,
           91,
           92,
           93,
           94,
           95,
           96,
           97,
           98,
           99
          ],
          "colorbar": {
           "title": {
            "text": "Trial"
           },
           "x": 1,
           "xpad": 40
          },
          "colorscale": [
           [
            0,
            "rgb(247,251,255)"
           ],
           [
            0.125,
            "rgb(222,235,247)"
           ],
           [
            0.25,
            "rgb(198,219,239)"
           ],
           [
            0.375,
            "rgb(158,202,225)"
           ],
           [
            0.5,
            "rgb(107,174,214)"
           ],
           [
            0.625,
            "rgb(66,146,198)"
           ],
           [
            0.75,
            "rgb(33,113,181)"
           ],
           [
            0.875,
            "rgb(8,81,156)"
           ],
           [
            1,
            "rgb(8,48,107)"
           ]
          ],
          "line": {
           "color": "Grey",
           "width": 0.5
          },
          "showscale": false
         },
         "mode": "markers",
         "name": "Feasible Trial",
         "showlegend": false,
         "type": "scatter",
         "x": [
          360,
          404,
          222,
          170,
          253,
          214,
          463,
          396,
          284,
          391,
          507,
          330,
          325,
          192,
          163,
          164,
          153,
          153,
          254,
          257,
          208,
          278,
          287,
          185,
          152,
          232,
          192,
          298,
          303,
          365,
          317,
          300,
          359,
          357,
          419,
          352,
          442,
          458,
          445,
          480,
          434,
          481,
          507,
          503,
          506,
          484,
          478,
          462,
          458,
          405,
          462,
          486,
          496,
          494,
          440,
          467,
          468,
          415,
          512,
          496,
          455,
          470,
          428,
          491,
          426,
          496,
          382,
          385,
          382,
          450,
          471,
          495,
          429,
          407,
          456,
          471,
          369,
          420,
          489,
          501,
          344,
          479,
          490,
          512,
          447,
          462,
          474,
          486,
          502,
          436,
          397,
          498,
          488,
          465,
          464,
          450,
          446,
          481,
          451,
          423
         ],
         "xaxis": "x8",
         "y": [
          0.4590469039552061,
          0.6931471805599454,
          0.6909100329649078,
          0.5989058820702358,
          0.7331400224403835,
          0.5097123622707129,
          0.6909100329649078,
          0.6827160943760284,
          0.5974891369950232,
          0.6909100329649078,
          0.6909100329649078,
          0.5850554935799706,
          0.5604334899564315,
          0.44321527274677086,
          0.4494842823425498,
          0.40686875671973777,
          0.42785158658367667,
          0.4306228074128888,
          0.6909100329649078,
          0.43048307126790436,
          0.47855668249462474,
          0.42727023350366333,
          0.44782106062777255,
          0.5020897501155822,
          0.6909100329649078,
          0.6909100329649078,
          0.4415961050579751,
          0.4015460135596263,
          0.41063906794389005,
          0.6010516419585373,
          0.45045864991667667,
          0.4264012626541096,
          0.42514897763009607,
          0.4458830477756457,
          0.5888818190453637,
          0.5687510728741648,
          0.3834012305187579,
          0.379421655037139,
          0.5484558743434311,
          0.45409612832331875,
          0.4260961699896472,
          0.3879262119661873,
          0.39452818932666583,
          0.37343367706969083,
          0.3941000595432927,
          0.3817149937611192,
          0.5068884425763721,
          0.3611105922841189,
          0.6504502257623545,
          0.5781152616768358,
          0.39533462477160725,
          0.3935608764593717,
          0.38093074473936656,
          0.39328565505680874,
          0.3849685114134078,
          0.3833780573358469,
          0.3748335444169353,
          0.5116992310820555,
          0.5419338007301349,
          0.49732684138040134,
          0.39360315635666604,
          0.3910836609833592,
          0.38108408103014574,
          0.37493975909570015,
          0.3732573288784906,
          0.3735163034121179,
          0.37185596818860384,
          0.3811300327733112,
          0.41416781708603095,
          0.38387957373510434,
          0.4621224158493324,
          0.38449743592170815,
          0.3816581215510922,
          0.3979667668340629,
          0.41916430845374414,
          0.4528949970326373,
          0.6909100329649078,
          0.43638878381855273,
          0.372376109349046,
          0.5394033785855276,
          0.48296308136827526,
          0.6909100329649078,
          0.39185253187593805,
          0.4012339978454587,
          0.3930259147141156,
          0.3840502264990688,
          0.3961003240456847,
          0.5137702770486673,
          0.382642526856313,
          0.4674540812698429,
          0.4052027178254547,
          0.3927304640101584,
          0.3853266124202354,
          0.37564557399174087,
          0.37512969110582534,
          0.3638007037755919,
          0.3957289106811575,
          0.5357483425163093,
          0.3829096571927815,
          0.36804466616667786
         ],
         "yaxis": "y8"
        },
        {
         "marker": {
          "color": [
           0,
           1,
           2,
           3,
           4,
           5,
           6,
           7,
           8,
           9,
           10,
           11,
           12,
           13,
           14,
           15,
           16,
           17,
           18,
           19,
           20,
           21,
           22,
           23,
           24,
           25,
           26,
           27,
           28,
           29,
           30,
           31,
           32,
           33,
           34,
           35,
           36,
           37,
           38,
           39,
           40,
           41,
           42,
           43,
           44,
           45,
           46,
           47,
           48,
           49,
           50,
           51,
           52,
           53,
           54,
           55,
           56,
           57,
           58,
           59,
           60,
           61,
           62,
           63,
           64,
           65,
           66,
           67,
           68,
           69,
           70,
           71,
           72,
           73,
           74,
           75,
           76,
           77,
           78,
           79,
           80,
           81,
           82,
           83,
           84,
           85,
           86,
           87,
           88,
           89,
           90,
           91,
           92,
           93,
           94,
           95,
           96,
           97,
           98,
           99
          ],
          "colorbar": {
           "title": {
            "text": "Trial"
           },
           "x": 1,
           "xpad": 40
          },
          "colorscale": [
           [
            0,
            "rgb(247,251,255)"
           ],
           [
            0.125,
            "rgb(222,235,247)"
           ],
           [
            0.25,
            "rgb(198,219,239)"
           ],
           [
            0.375,
            "rgb(158,202,225)"
           ],
           [
            0.5,
            "rgb(107,174,214)"
           ],
           [
            0.625,
            "rgb(66,146,198)"
           ],
           [
            0.75,
            "rgb(33,113,181)"
           ],
           [
            0.875,
            "rgb(8,81,156)"
           ],
           [
            1,
            "rgb(8,48,107)"
           ]
          ],
          "line": {
           "color": "Grey",
           "width": 0.5
          },
          "showscale": false
         },
         "mode": "markers",
         "name": "Feasible Trial",
         "showlegend": false,
         "type": "scatter",
         "x": [
          33,
          81,
          49,
          47,
          33,
          30,
          61,
          25,
          13,
          88,
          71,
          8,
          33,
          25,
          17,
          17,
          7,
          5,
          100,
          17,
          43,
          18,
          20,
          5,
          40,
          58,
          14,
          25,
          25,
          37,
          23,
          29,
          28,
          37,
          52,
          45,
          29,
          12,
          13,
          11,
          34,
          23,
          23,
          22,
          21,
          11,
          10,
          30,
          68,
          31,
          14,
          30,
          10,
          11,
          8,
          16,
          17,
          19,
          8,
          5,
          15,
          16,
          11,
          12,
          21,
          20,
          26,
          27,
          21,
          33,
          19,
          22,
          25,
          19,
          26,
          41,
          96,
          37,
          17,
          16,
          50,
          81,
          13,
          23,
          18,
          28,
          13,
          56,
          7,
          32,
          35,
          21,
          10,
          17,
          17,
          17,
          24,
          20,
          15,
          26
         ],
         "xaxis": "x9",
         "y": [
          0.4590469039552061,
          0.6931471805599454,
          0.6909100329649078,
          0.5989058820702358,
          0.7331400224403835,
          0.5097123622707129,
          0.6909100329649078,
          0.6827160943760284,
          0.5974891369950232,
          0.6909100329649078,
          0.6909100329649078,
          0.5850554935799706,
          0.5604334899564315,
          0.44321527274677086,
          0.4494842823425498,
          0.40686875671973777,
          0.42785158658367667,
          0.4306228074128888,
          0.6909100329649078,
          0.43048307126790436,
          0.47855668249462474,
          0.42727023350366333,
          0.44782106062777255,
          0.5020897501155822,
          0.6909100329649078,
          0.6909100329649078,
          0.4415961050579751,
          0.4015460135596263,
          0.41063906794389005,
          0.6010516419585373,
          0.45045864991667667,
          0.4264012626541096,
          0.42514897763009607,
          0.4458830477756457,
          0.5888818190453637,
          0.5687510728741648,
          0.3834012305187579,
          0.379421655037139,
          0.5484558743434311,
          0.45409612832331875,
          0.4260961699896472,
          0.3879262119661873,
          0.39452818932666583,
          0.37343367706969083,
          0.3941000595432927,
          0.3817149937611192,
          0.5068884425763721,
          0.3611105922841189,
          0.6504502257623545,
          0.5781152616768358,
          0.39533462477160725,
          0.3935608764593717,
          0.38093074473936656,
          0.39328565505680874,
          0.3849685114134078,
          0.3833780573358469,
          0.3748335444169353,
          0.5116992310820555,
          0.5419338007301349,
          0.49732684138040134,
          0.39360315635666604,
          0.3910836609833592,
          0.38108408103014574,
          0.37493975909570015,
          0.3732573288784906,
          0.3735163034121179,
          0.37185596818860384,
          0.3811300327733112,
          0.41416781708603095,
          0.38387957373510434,
          0.4621224158493324,
          0.38449743592170815,
          0.3816581215510922,
          0.3979667668340629,
          0.41916430845374414,
          0.4528949970326373,
          0.6909100329649078,
          0.43638878381855273,
          0.372376109349046,
          0.5394033785855276,
          0.48296308136827526,
          0.6909100329649078,
          0.39185253187593805,
          0.4012339978454587,
          0.3930259147141156,
          0.3840502264990688,
          0.3961003240456847,
          0.5137702770486673,
          0.382642526856313,
          0.4674540812698429,
          0.4052027178254547,
          0.3927304640101584,
          0.3853266124202354,
          0.37564557399174087,
          0.37512969110582534,
          0.3638007037755919,
          0.3957289106811575,
          0.5357483425163093,
          0.3829096571927815,
          0.36804466616667786
         ],
         "yaxis": "y9"
        },
        {
         "marker": {
          "color": [
           0,
           1,
           2,
           3,
           4,
           5,
           6,
           7,
           8,
           9,
           10,
           11,
           12,
           13,
           14,
           15,
           16,
           17,
           18,
           19,
           20,
           21,
           22,
           23,
           24,
           25,
           26,
           27,
           28,
           29,
           30,
           31,
           32,
           33,
           34,
           35,
           36,
           37,
           38,
           39,
           40,
           41,
           42,
           43,
           44,
           45,
           46,
           47,
           48,
           49,
           50,
           51,
           52,
           53,
           54,
           55,
           56,
           57,
           58,
           59,
           60,
           61,
           62,
           63,
           64,
           65,
           66,
           67,
           68,
           69,
           70,
           71,
           72,
           73,
           74,
           75,
           76,
           77,
           78,
           79,
           80,
           81,
           82,
           83,
           84,
           85,
           86,
           87,
           88,
           89,
           90,
           91,
           92,
           93,
           94,
           95,
           96,
           97,
           98,
           99
          ],
          "colorbar": {
           "title": {
            "text": "Trial"
           },
           "x": 1,
           "xpad": 40
          },
          "colorscale": [
           [
            0,
            "rgb(247,251,255)"
           ],
           [
            0.125,
            "rgb(222,235,247)"
           ],
           [
            0.25,
            "rgb(198,219,239)"
           ],
           [
            0.375,
            "rgb(158,202,225)"
           ],
           [
            0.5,
            "rgb(107,174,214)"
           ],
           [
            0.625,
            "rgb(66,146,198)"
           ],
           [
            0.75,
            "rgb(33,113,181)"
           ],
           [
            0.875,
            "rgb(8,81,156)"
           ],
           [
            1,
            "rgb(8,48,107)"
           ]
          ],
          "line": {
           "color": "Grey",
           "width": 0.5
          },
          "showscale": false
         },
         "mode": "markers",
         "name": "Feasible Trial",
         "showlegend": false,
         "type": "scatter",
         "x": [
          128,
          287,
          231,
          198,
          119,
          147,
          147,
          129,
          117,
          206,
          59,
          58,
          91,
          168,
          175,
          251,
          273,
          298,
          262,
          252,
          268,
          244,
          238,
          213,
          277,
          255,
          224,
          191,
          190,
          187,
          162,
          240,
          191,
          189,
          189,
          218,
          200,
          155,
          153,
          133,
          98,
          174,
          173,
          169,
          174,
          138,
          139,
          116,
          111,
          85,
          154,
          142,
          120,
          121,
          106,
          126,
          75,
          74,
          66,
          84,
          113,
          126,
          101,
          98,
          98,
          80,
          71,
          73,
          54,
          90,
          75,
          95,
          62,
          82,
          68,
          108,
          51,
          101,
          91,
          90,
          79,
          161,
          93,
          66,
          104,
          88,
          113,
          77,
          183,
          96,
          60,
          132,
          122,
          117,
          150,
          146,
          168,
          149,
          145,
          83
         ],
         "xaxis": "x10",
         "y": [
          0.4590469039552061,
          0.6931471805599454,
          0.6909100329649078,
          0.5989058820702358,
          0.7331400224403835,
          0.5097123622707129,
          0.6909100329649078,
          0.6827160943760284,
          0.5974891369950232,
          0.6909100329649078,
          0.6909100329649078,
          0.5850554935799706,
          0.5604334899564315,
          0.44321527274677086,
          0.4494842823425498,
          0.40686875671973777,
          0.42785158658367667,
          0.4306228074128888,
          0.6909100329649078,
          0.43048307126790436,
          0.47855668249462474,
          0.42727023350366333,
          0.44782106062777255,
          0.5020897501155822,
          0.6909100329649078,
          0.6909100329649078,
          0.4415961050579751,
          0.4015460135596263,
          0.41063906794389005,
          0.6010516419585373,
          0.45045864991667667,
          0.4264012626541096,
          0.42514897763009607,
          0.4458830477756457,
          0.5888818190453637,
          0.5687510728741648,
          0.3834012305187579,
          0.379421655037139,
          0.5484558743434311,
          0.45409612832331875,
          0.4260961699896472,
          0.3879262119661873,
          0.39452818932666583,
          0.37343367706969083,
          0.3941000595432927,
          0.3817149937611192,
          0.5068884425763721,
          0.3611105922841189,
          0.6504502257623545,
          0.5781152616768358,
          0.39533462477160725,
          0.3935608764593717,
          0.38093074473936656,
          0.39328565505680874,
          0.3849685114134078,
          0.3833780573358469,
          0.3748335444169353,
          0.5116992310820555,
          0.5419338007301349,
          0.49732684138040134,
          0.39360315635666604,
          0.3910836609833592,
          0.38108408103014574,
          0.37493975909570015,
          0.3732573288784906,
          0.3735163034121179,
          0.37185596818860384,
          0.3811300327733112,
          0.41416781708603095,
          0.38387957373510434,
          0.4621224158493324,
          0.38449743592170815,
          0.3816581215510922,
          0.3979667668340629,
          0.41916430845374414,
          0.4528949970326373,
          0.6909100329649078,
          0.43638878381855273,
          0.372376109349046,
          0.5394033785855276,
          0.48296308136827526,
          0.6909100329649078,
          0.39185253187593805,
          0.4012339978454587,
          0.3930259147141156,
          0.3840502264990688,
          0.3961003240456847,
          0.5137702770486673,
          0.382642526856313,
          0.4674540812698429,
          0.4052027178254547,
          0.3927304640101584,
          0.3853266124202354,
          0.37564557399174087,
          0.37512969110582534,
          0.3638007037755919,
          0.3957289106811575,
          0.5357483425163093,
          0.3829096571927815,
          0.36804466616667786
         ],
         "yaxis": "y10"
        },
        {
         "marker": {
          "color": [
           0,
           1,
           2,
           3,
           4,
           5,
           6,
           7,
           8,
           9,
           10,
           11,
           12,
           13,
           14,
           15,
           16,
           17,
           18,
           19,
           20,
           21,
           22,
           23,
           24,
           25,
           26,
           27,
           28,
           29,
           30,
           31,
           32,
           33,
           34,
           35,
           36,
           37,
           38,
           39,
           40,
           41,
           42,
           43,
           44,
           45,
           46,
           47,
           48,
           49,
           50,
           51,
           52,
           53,
           54,
           55,
           56,
           57,
           58,
           59,
           60,
           61,
           62,
           63,
           64,
           65,
           66,
           67,
           68,
           69,
           70,
           71,
           72,
           73,
           74,
           75,
           76,
           77,
           78,
           79,
           80,
           81,
           82,
           83,
           84,
           85,
           86,
           87,
           88,
           89,
           90,
           91,
           92,
           93,
           94,
           95,
           96,
           97,
           98,
           99
          ],
          "colorbar": {
           "title": {
            "text": "Trial"
           },
           "x": 1,
           "xpad": 40
          },
          "colorscale": [
           [
            0,
            "rgb(247,251,255)"
           ],
           [
            0.125,
            "rgb(222,235,247)"
           ],
           [
            0.25,
            "rgb(198,219,239)"
           ],
           [
            0.375,
            "rgb(158,202,225)"
           ],
           [
            0.5,
            "rgb(107,174,214)"
           ],
           [
            0.625,
            "rgb(66,146,198)"
           ],
           [
            0.75,
            "rgb(33,113,181)"
           ],
           [
            0.875,
            "rgb(8,81,156)"
           ],
           [
            1,
            "rgb(8,48,107)"
           ]
          ],
          "line": {
           "color": "Grey",
           "width": 0.5
          },
          "showscale": false
         },
         "mode": "markers",
         "name": "Feasible Trial",
         "showlegend": false,
         "type": "scatter",
         "x": [
          73,
          156,
          202,
          213,
          56,
          188,
          245,
          196,
          194,
          142,
          55,
          10,
          72,
          103,
          98,
          104,
          116,
          111,
          157,
          20,
          127,
          6,
          38,
          85,
          128,
          27,
          168,
          4,
          6,
          44,
          2,
          20,
          27,
          73,
          38,
          62,
          21,
          45,
          88,
          45,
          65,
          17,
          20,
          21,
          20,
          48,
          51,
          249,
          251,
          208,
          221,
          30,
          183,
          186,
          231,
          239,
          221,
          221,
          174,
          241,
          229,
          255,
          239,
          202,
          197,
          204,
          196,
          199,
          205,
          213,
          141,
          176,
          194,
          161,
          219,
          195,
          230,
          213,
          147,
          191,
          148,
          119,
          200,
          177,
          209,
          169,
          247,
          226,
          183,
          203,
          139,
          183,
          190,
          151,
          150,
          150,
          137,
          132,
          161,
          149
         ],
         "xaxis": "x11",
         "y": [
          0.4590469039552061,
          0.6931471805599454,
          0.6909100329649078,
          0.5989058820702358,
          0.7331400224403835,
          0.5097123622707129,
          0.6909100329649078,
          0.6827160943760284,
          0.5974891369950232,
          0.6909100329649078,
          0.6909100329649078,
          0.5850554935799706,
          0.5604334899564315,
          0.44321527274677086,
          0.4494842823425498,
          0.40686875671973777,
          0.42785158658367667,
          0.4306228074128888,
          0.6909100329649078,
          0.43048307126790436,
          0.47855668249462474,
          0.42727023350366333,
          0.44782106062777255,
          0.5020897501155822,
          0.6909100329649078,
          0.6909100329649078,
          0.4415961050579751,
          0.4015460135596263,
          0.41063906794389005,
          0.6010516419585373,
          0.45045864991667667,
          0.4264012626541096,
          0.42514897763009607,
          0.4458830477756457,
          0.5888818190453637,
          0.5687510728741648,
          0.3834012305187579,
          0.379421655037139,
          0.5484558743434311,
          0.45409612832331875,
          0.4260961699896472,
          0.3879262119661873,
          0.39452818932666583,
          0.37343367706969083,
          0.3941000595432927,
          0.3817149937611192,
          0.5068884425763721,
          0.3611105922841189,
          0.6504502257623545,
          0.5781152616768358,
          0.39533462477160725,
          0.3935608764593717,
          0.38093074473936656,
          0.39328565505680874,
          0.3849685114134078,
          0.3833780573358469,
          0.3748335444169353,
          0.5116992310820555,
          0.5419338007301349,
          0.49732684138040134,
          0.39360315635666604,
          0.3910836609833592,
          0.38108408103014574,
          0.37493975909570015,
          0.3732573288784906,
          0.3735163034121179,
          0.37185596818860384,
          0.3811300327733112,
          0.41416781708603095,
          0.38387957373510434,
          0.4621224158493324,
          0.38449743592170815,
          0.3816581215510922,
          0.3979667668340629,
          0.41916430845374414,
          0.4528949970326373,
          0.6909100329649078,
          0.43638878381855273,
          0.372376109349046,
          0.5394033785855276,
          0.48296308136827526,
          0.6909100329649078,
          0.39185253187593805,
          0.4012339978454587,
          0.3930259147141156,
          0.3840502264990688,
          0.3961003240456847,
          0.5137702770486673,
          0.382642526856313,
          0.4674540812698429,
          0.4052027178254547,
          0.3927304640101584,
          0.3853266124202354,
          0.37564557399174087,
          0.37512969110582534,
          0.3638007037755919,
          0.3957289106811575,
          0.5357483425163093,
          0.3829096571927815,
          0.36804466616667786
         ],
         "yaxis": "y11"
        }
       ],
       "layout": {
        "template": {
         "data": {
          "bar": [
           {
            "error_x": {
             "color": "#2a3f5f"
            },
            "error_y": {
             "color": "#2a3f5f"
            },
            "marker": {
             "line": {
              "color": "#E5ECF6",
              "width": 0.5
             },
             "pattern": {
              "fillmode": "overlay",
              "size": 10,
              "solidity": 0.2
             }
            },
            "type": "bar"
           }
          ],
          "barpolar": [
           {
            "marker": {
             "line": {
              "color": "#E5ECF6",
              "width": 0.5
             },
             "pattern": {
              "fillmode": "overlay",
              "size": 10,
              "solidity": 0.2
             }
            },
            "type": "barpolar"
           }
          ],
          "carpet": [
           {
            "aaxis": {
             "endlinecolor": "#2a3f5f",
             "gridcolor": "white",
             "linecolor": "white",
             "minorgridcolor": "white",
             "startlinecolor": "#2a3f5f"
            },
            "baxis": {
             "endlinecolor": "#2a3f5f",
             "gridcolor": "white",
             "linecolor": "white",
             "minorgridcolor": "white",
             "startlinecolor": "#2a3f5f"
            },
            "type": "carpet"
           }
          ],
          "choropleth": [
           {
            "colorbar": {
             "outlinewidth": 0,
             "ticks": ""
            },
            "type": "choropleth"
           }
          ],
          "contour": [
           {
            "colorbar": {
             "outlinewidth": 0,
             "ticks": ""
            },
            "colorscale": [
             [
              0,
              "#0d0887"
             ],
             [
              0.1111111111111111,
              "#46039f"
             ],
             [
              0.2222222222222222,
              "#7201a8"
             ],
             [
              0.3333333333333333,
              "#9c179e"
             ],
             [
              0.4444444444444444,
              "#bd3786"
             ],
             [
              0.5555555555555556,
              "#d8576b"
             ],
             [
              0.6666666666666666,
              "#ed7953"
             ],
             [
              0.7777777777777778,
              "#fb9f3a"
             ],
             [
              0.8888888888888888,
              "#fdca26"
             ],
             [
              1,
              "#f0f921"
             ]
            ],
            "type": "contour"
           }
          ],
          "contourcarpet": [
           {
            "colorbar": {
             "outlinewidth": 0,
             "ticks": ""
            },
            "type": "contourcarpet"
           }
          ],
          "heatmap": [
           {
            "colorbar": {
             "outlinewidth": 0,
             "ticks": ""
            },
            "colorscale": [
             [
              0,
              "#0d0887"
             ],
             [
              0.1111111111111111,
              "#46039f"
             ],
             [
              0.2222222222222222,
              "#7201a8"
             ],
             [
              0.3333333333333333,
              "#9c179e"
             ],
             [
              0.4444444444444444,
              "#bd3786"
             ],
             [
              0.5555555555555556,
              "#d8576b"
             ],
             [
              0.6666666666666666,
              "#ed7953"
             ],
             [
              0.7777777777777778,
              "#fb9f3a"
             ],
             [
              0.8888888888888888,
              "#fdca26"
             ],
             [
              1,
              "#f0f921"
             ]
            ],
            "type": "heatmap"
           }
          ],
          "heatmapgl": [
           {
            "colorbar": {
             "outlinewidth": 0,
             "ticks": ""
            },
            "colorscale": [
             [
              0,
              "#0d0887"
             ],
             [
              0.1111111111111111,
              "#46039f"
             ],
             [
              0.2222222222222222,
              "#7201a8"
             ],
             [
              0.3333333333333333,
              "#9c179e"
             ],
             [
              0.4444444444444444,
              "#bd3786"
             ],
             [
              0.5555555555555556,
              "#d8576b"
             ],
             [
              0.6666666666666666,
              "#ed7953"
             ],
             [
              0.7777777777777778,
              "#fb9f3a"
             ],
             [
              0.8888888888888888,
              "#fdca26"
             ],
             [
              1,
              "#f0f921"
             ]
            ],
            "type": "heatmapgl"
           }
          ],
          "histogram": [
           {
            "marker": {
             "pattern": {
              "fillmode": "overlay",
              "size": 10,
              "solidity": 0.2
             }
            },
            "type": "histogram"
           }
          ],
          "histogram2d": [
           {
            "colorbar": {
             "outlinewidth": 0,
             "ticks": ""
            },
            "colorscale": [
             [
              0,
              "#0d0887"
             ],
             [
              0.1111111111111111,
              "#46039f"
             ],
             [
              0.2222222222222222,
              "#7201a8"
             ],
             [
              0.3333333333333333,
              "#9c179e"
             ],
             [
              0.4444444444444444,
              "#bd3786"
             ],
             [
              0.5555555555555556,
              "#d8576b"
             ],
             [
              0.6666666666666666,
              "#ed7953"
             ],
             [
              0.7777777777777778,
              "#fb9f3a"
             ],
             [
              0.8888888888888888,
              "#fdca26"
             ],
             [
              1,
              "#f0f921"
             ]
            ],
            "type": "histogram2d"
           }
          ],
          "histogram2dcontour": [
           {
            "colorbar": {
             "outlinewidth": 0,
             "ticks": ""
            },
            "colorscale": [
             [
              0,
              "#0d0887"
             ],
             [
              0.1111111111111111,
              "#46039f"
             ],
             [
              0.2222222222222222,
              "#7201a8"
             ],
             [
              0.3333333333333333,
              "#9c179e"
             ],
             [
              0.4444444444444444,
              "#bd3786"
             ],
             [
              0.5555555555555556,
              "#d8576b"
             ],
             [
              0.6666666666666666,
              "#ed7953"
             ],
             [
              0.7777777777777778,
              "#fb9f3a"
             ],
             [
              0.8888888888888888,
              "#fdca26"
             ],
             [
              1,
              "#f0f921"
             ]
            ],
            "type": "histogram2dcontour"
           }
          ],
          "mesh3d": [
           {
            "colorbar": {
             "outlinewidth": 0,
             "ticks": ""
            },
            "type": "mesh3d"
           }
          ],
          "parcoords": [
           {
            "line": {
             "colorbar": {
              "outlinewidth": 0,
              "ticks": ""
             }
            },
            "type": "parcoords"
           }
          ],
          "pie": [
           {
            "automargin": true,
            "type": "pie"
           }
          ],
          "scatter": [
           {
            "fillpattern": {
             "fillmode": "overlay",
             "size": 10,
             "solidity": 0.2
            },
            "type": "scatter"
           }
          ],
          "scatter3d": [
           {
            "line": {
             "colorbar": {
              "outlinewidth": 0,
              "ticks": ""
             }
            },
            "marker": {
             "colorbar": {
              "outlinewidth": 0,
              "ticks": ""
             }
            },
            "type": "scatter3d"
           }
          ],
          "scattercarpet": [
           {
            "marker": {
             "colorbar": {
              "outlinewidth": 0,
              "ticks": ""
             }
            },
            "type": "scattercarpet"
           }
          ],
          "scattergeo": [
           {
            "marker": {
             "colorbar": {
              "outlinewidth": 0,
              "ticks": ""
             }
            },
            "type": "scattergeo"
           }
          ],
          "scattergl": [
           {
            "marker": {
             "colorbar": {
              "outlinewidth": 0,
              "ticks": ""
             }
            },
            "type": "scattergl"
           }
          ],
          "scattermapbox": [
           {
            "marker": {
             "colorbar": {
              "outlinewidth": 0,
              "ticks": ""
             }
            },
            "type": "scattermapbox"
           }
          ],
          "scatterpolar": [
           {
            "marker": {
             "colorbar": {
              "outlinewidth": 0,
              "ticks": ""
             }
            },
            "type": "scatterpolar"
           }
          ],
          "scatterpolargl": [
           {
            "marker": {
             "colorbar": {
              "outlinewidth": 0,
              "ticks": ""
             }
            },
            "type": "scatterpolargl"
           }
          ],
          "scatterternary": [
           {
            "marker": {
             "colorbar": {
              "outlinewidth": 0,
              "ticks": ""
             }
            },
            "type": "scatterternary"
           }
          ],
          "surface": [
           {
            "colorbar": {
             "outlinewidth": 0,
             "ticks": ""
            },
            "colorscale": [
             [
              0,
              "#0d0887"
             ],
             [
              0.1111111111111111,
              "#46039f"
             ],
             [
              0.2222222222222222,
              "#7201a8"
             ],
             [
              0.3333333333333333,
              "#9c179e"
             ],
             [
              0.4444444444444444,
              "#bd3786"
             ],
             [
              0.5555555555555556,
              "#d8576b"
             ],
             [
              0.6666666666666666,
              "#ed7953"
             ],
             [
              0.7777777777777778,
              "#fb9f3a"
             ],
             [
              0.8888888888888888,
              "#fdca26"
             ],
             [
              1,
              "#f0f921"
             ]
            ],
            "type": "surface"
           }
          ],
          "table": [
           {
            "cells": {
             "fill": {
              "color": "#EBF0F8"
             },
             "line": {
              "color": "white"
             }
            },
            "header": {
             "fill": {
              "color": "#C8D4E3"
             },
             "line": {
              "color": "white"
             }
            },
            "type": "table"
           }
          ]
         },
         "layout": {
          "annotationdefaults": {
           "arrowcolor": "#2a3f5f",
           "arrowhead": 0,
           "arrowwidth": 1
          },
          "autotypenumbers": "strict",
          "coloraxis": {
           "colorbar": {
            "outlinewidth": 0,
            "ticks": ""
           }
          },
          "colorscale": {
           "diverging": [
            [
             0,
             "#8e0152"
            ],
            [
             0.1,
             "#c51b7d"
            ],
            [
             0.2,
             "#de77ae"
            ],
            [
             0.3,
             "#f1b6da"
            ],
            [
             0.4,
             "#fde0ef"
            ],
            [
             0.5,
             "#f7f7f7"
            ],
            [
             0.6,
             "#e6f5d0"
            ],
            [
             0.7,
             "#b8e186"
            ],
            [
             0.8,
             "#7fbc41"
            ],
            [
             0.9,
             "#4d9221"
            ],
            [
             1,
             "#276419"
            ]
           ],
           "sequential": [
            [
             0,
             "#0d0887"
            ],
            [
             0.1111111111111111,
             "#46039f"
            ],
            [
             0.2222222222222222,
             "#7201a8"
            ],
            [
             0.3333333333333333,
             "#9c179e"
            ],
            [
             0.4444444444444444,
             "#bd3786"
            ],
            [
             0.5555555555555556,
             "#d8576b"
            ],
            [
             0.6666666666666666,
             "#ed7953"
            ],
            [
             0.7777777777777778,
             "#fb9f3a"
            ],
            [
             0.8888888888888888,
             "#fdca26"
            ],
            [
             1,
             "#f0f921"
            ]
           ],
           "sequentialminus": [
            [
             0,
             "#0d0887"
            ],
            [
             0.1111111111111111,
             "#46039f"
            ],
            [
             0.2222222222222222,
             "#7201a8"
            ],
            [
             0.3333333333333333,
             "#9c179e"
            ],
            [
             0.4444444444444444,
             "#bd3786"
            ],
            [
             0.5555555555555556,
             "#d8576b"
            ],
            [
             0.6666666666666666,
             "#ed7953"
            ],
            [
             0.7777777777777778,
             "#fb9f3a"
            ],
            [
             0.8888888888888888,
             "#fdca26"
            ],
            [
             1,
             "#f0f921"
            ]
           ]
          },
          "colorway": [
           "#636efa",
           "#EF553B",
           "#00cc96",
           "#ab63fa",
           "#FFA15A",
           "#19d3f3",
           "#FF6692",
           "#B6E880",
           "#FF97FF",
           "#FECB52"
          ],
          "font": {
           "color": "#2a3f5f"
          },
          "geo": {
           "bgcolor": "white",
           "lakecolor": "white",
           "landcolor": "#E5ECF6",
           "showlakes": true,
           "showland": true,
           "subunitcolor": "white"
          },
          "hoverlabel": {
           "align": "left"
          },
          "hovermode": "closest",
          "mapbox": {
           "style": "light"
          },
          "paper_bgcolor": "white",
          "plot_bgcolor": "#E5ECF6",
          "polar": {
           "angularaxis": {
            "gridcolor": "white",
            "linecolor": "white",
            "ticks": ""
           },
           "bgcolor": "#E5ECF6",
           "radialaxis": {
            "gridcolor": "white",
            "linecolor": "white",
            "ticks": ""
           }
          },
          "scene": {
           "xaxis": {
            "backgroundcolor": "#E5ECF6",
            "gridcolor": "white",
            "gridwidth": 2,
            "linecolor": "white",
            "showbackground": true,
            "ticks": "",
            "zerolinecolor": "white"
           },
           "yaxis": {
            "backgroundcolor": "#E5ECF6",
            "gridcolor": "white",
            "gridwidth": 2,
            "linecolor": "white",
            "showbackground": true,
            "ticks": "",
            "zerolinecolor": "white"
           },
           "zaxis": {
            "backgroundcolor": "#E5ECF6",
            "gridcolor": "white",
            "gridwidth": 2,
            "linecolor": "white",
            "showbackground": true,
            "ticks": "",
            "zerolinecolor": "white"
           }
          },
          "shapedefaults": {
           "line": {
            "color": "#2a3f5f"
           }
          },
          "ternary": {
           "aaxis": {
            "gridcolor": "white",
            "linecolor": "white",
            "ticks": ""
           },
           "baxis": {
            "gridcolor": "white",
            "linecolor": "white",
            "ticks": ""
           },
           "bgcolor": "#E5ECF6",
           "caxis": {
            "gridcolor": "white",
            "linecolor": "white",
            "ticks": ""
           }
          },
          "title": {
           "x": 0.05
          },
          "xaxis": {
           "automargin": true,
           "gridcolor": "white",
           "linecolor": "white",
           "ticks": "",
           "title": {
            "standoff": 15
           },
           "zerolinecolor": "white",
           "zerolinewidth": 2
          },
          "yaxis": {
           "automargin": true,
           "gridcolor": "white",
           "linecolor": "white",
           "ticks": "",
           "title": {
            "standoff": 15
           },
           "zerolinecolor": "white",
           "zerolinewidth": 2
          }
         }
        },
        "title": {
         "text": "Slice Plot"
        },
        "width": 3300,
        "xaxis": {
         "anchor": "y",
         "domain": [
          0,
          0.07438016528925619
         ],
         "title": {
          "text": "bagging_fraction"
         }
        },
        "xaxis10": {
         "anchor": "y10",
         "domain": [
          0.8330578512396694,
          0.9074380165289255
         ],
         "title": {
          "text": "num_iterations"
         }
        },
        "xaxis11": {
         "anchor": "y11",
         "domain": [
          0.9256198347107437,
          0.9999999999999999
         ],
         "title": {
          "text": "num_leaves"
         }
        },
        "xaxis2": {
         "anchor": "y2",
         "domain": [
          0.09256198347107437,
          0.16694214876033056
         ],
         "title": {
          "text": "bagging_freq"
         }
        },
        "xaxis3": {
         "anchor": "y3",
         "categoryarray": [
          "gbdt",
          "rf",
          "dart"
         ],
         "categoryorder": "array",
         "domain": [
          0.18512396694214875,
          0.25950413223140495
         ],
         "title": {
          "text": "boosting"
         },
         "type": "category"
        },
        "xaxis4": {
         "anchor": "y4",
         "domain": [
          0.27768595041322314,
          0.3520661157024793
         ],
         "title": {
          "text": "feature_fraction"
         }
        },
        "xaxis5": {
         "anchor": "y5",
         "domain": [
          0.3702479338842975,
          0.44462809917355367
         ],
         "title": {
          "text": "lambda_l1"
         }
        },
        "xaxis6": {
         "anchor": "y6",
         "domain": [
          0.46280991735537186,
          0.5371900826446281
         ],
         "title": {
          "text": "lambda_l2"
         }
        },
        "xaxis7": {
         "anchor": "y7",
         "domain": [
          0.5553719008264462,
          0.6297520661157023
         ],
         "title": {
          "text": "learning_rate"
         }
        },
        "xaxis8": {
         "anchor": "y8",
         "domain": [
          0.6479338842975206,
          0.7223140495867768
         ],
         "title": {
          "text": "max_bin"
         }
        },
        "xaxis9": {
         "anchor": "y9",
         "domain": [
          0.740495867768595,
          0.8148760330578512
         ],
         "title": {
          "text": "min_child_samples"
         }
        },
        "yaxis": {
         "anchor": "x",
         "domain": [
          0,
          1
         ],
         "title": {
          "text": "Objective Value"
         }
        },
        "yaxis10": {
         "anchor": "x10",
         "domain": [
          0,
          1
         ],
         "matches": "y",
         "showticklabels": false
        },
        "yaxis11": {
         "anchor": "x11",
         "domain": [
          0,
          1
         ],
         "matches": "y",
         "showticklabels": false
        },
        "yaxis2": {
         "anchor": "x2",
         "domain": [
          0,
          1
         ],
         "matches": "y",
         "showticklabels": false
        },
        "yaxis3": {
         "anchor": "x3",
         "domain": [
          0,
          1
         ],
         "matches": "y",
         "showticklabels": false
        },
        "yaxis4": {
         "anchor": "x4",
         "domain": [
          0,
          1
         ],
         "matches": "y",
         "showticklabels": false
        },
        "yaxis5": {
         "anchor": "x5",
         "domain": [
          0,
          1
         ],
         "matches": "y",
         "showticklabels": false
        },
        "yaxis6": {
         "anchor": "x6",
         "domain": [
          0,
          1
         ],
         "matches": "y",
         "showticklabels": false
        },
        "yaxis7": {
         "anchor": "x7",
         "domain": [
          0,
          1
         ],
         "matches": "y",
         "showticklabels": false
        },
        "yaxis8": {
         "anchor": "x8",
         "domain": [
          0,
          1
         ],
         "matches": "y",
         "showticklabels": false
        },
        "yaxis9": {
         "anchor": "x9",
         "domain": [
          0,
          1
         ],
         "matches": "y",
         "showticklabels": false
        }
       }
      }
     },
     "metadata": {},
     "output_type": "display_data"
    }
   ],
   "source": [
    "from optuna.visualization import plot_slice\n",
    "plot_slice(study)"
   ]
  },
  {
   "cell_type": "code",
   "execution_count": 11,
   "metadata": {},
   "outputs": [
    {
     "data": {
      "application/vnd.plotly.v1+json": {
       "config": {
        "plotlyServerURL": "https://plot.ly"
       },
       "data": [
        {
         "mode": "markers",
         "name": "Objective Value",
         "type": "scatter",
         "x": [
          0,
          1,
          2,
          3,
          4,
          5,
          6,
          7,
          8,
          9,
          10,
          11,
          12,
          13,
          14,
          15,
          16,
          17,
          18,
          19,
          20,
          21,
          22,
          23,
          24,
          25,
          26,
          27,
          28,
          29,
          30,
          31,
          32,
          33,
          34,
          35,
          36,
          37,
          38,
          39,
          40,
          41,
          42,
          43,
          44,
          45,
          46,
          47,
          48,
          49,
          50,
          51,
          52,
          53,
          54,
          55,
          56,
          57,
          58,
          59,
          60,
          61,
          62,
          63,
          64,
          65,
          66,
          67,
          68,
          69,
          70,
          71,
          72,
          73,
          74,
          75,
          76,
          77,
          78,
          79,
          80,
          81,
          82,
          83,
          84,
          85,
          86,
          87,
          88,
          89,
          90,
          91,
          92,
          93,
          94,
          95,
          96,
          97,
          98,
          99
         ],
         "y": [
          0.4590469039552061,
          0.6931471805599454,
          0.6909100329649078,
          0.5989058820702358,
          0.7331400224403835,
          0.5097123622707129,
          0.6909100329649078,
          0.6827160943760284,
          0.5974891369950232,
          0.6909100329649078,
          0.6909100329649078,
          0.5850554935799706,
          0.5604334899564315,
          0.44321527274677086,
          0.4494842823425498,
          0.40686875671973777,
          0.42785158658367667,
          0.4306228074128888,
          0.6909100329649078,
          0.43048307126790436,
          0.47855668249462474,
          0.42727023350366333,
          0.44782106062777255,
          0.5020897501155822,
          0.6909100329649078,
          0.6909100329649078,
          0.4415961050579751,
          0.4015460135596263,
          0.41063906794389005,
          0.6010516419585373,
          0.45045864991667667,
          0.4264012626541096,
          0.42514897763009607,
          0.4458830477756457,
          0.5888818190453637,
          0.5687510728741648,
          0.3834012305187579,
          0.379421655037139,
          0.5484558743434311,
          0.45409612832331875,
          0.4260961699896472,
          0.3879262119661873,
          0.39452818932666583,
          0.37343367706969083,
          0.3941000595432927,
          0.3817149937611192,
          0.5068884425763721,
          0.3611105922841189,
          0.6504502257623545,
          0.5781152616768358,
          0.39533462477160725,
          0.3935608764593717,
          0.38093074473936656,
          0.39328565505680874,
          0.3849685114134078,
          0.3833780573358469,
          0.3748335444169353,
          0.5116992310820555,
          0.5419338007301349,
          0.49732684138040134,
          0.39360315635666604,
          0.3910836609833592,
          0.38108408103014574,
          0.37493975909570015,
          0.3732573288784906,
          0.3735163034121179,
          0.37185596818860384,
          0.3811300327733112,
          0.41416781708603095,
          0.38387957373510434,
          0.4621224158493324,
          0.38449743592170815,
          0.3816581215510922,
          0.3979667668340629,
          0.41916430845374414,
          0.4528949970326373,
          0.6909100329649078,
          0.43638878381855273,
          0.372376109349046,
          0.5394033785855276,
          0.48296308136827526,
          0.6909100329649078,
          0.39185253187593805,
          0.4012339978454587,
          0.3930259147141156,
          0.3840502264990688,
          0.3961003240456847,
          0.5137702770486673,
          0.382642526856313,
          0.4674540812698429,
          0.4052027178254547,
          0.3927304640101584,
          0.3853266124202354,
          0.37564557399174087,
          0.37512969110582534,
          0.3638007037755919,
          0.3957289106811575,
          0.5357483425163093,
          0.3829096571927815,
          0.36804466616667786
         ]
        },
        {
         "mode": "lines",
         "name": "Best Value",
         "type": "scatter",
         "x": [
          0,
          1,
          2,
          3,
          4,
          5,
          6,
          7,
          8,
          9,
          10,
          11,
          12,
          13,
          14,
          15,
          16,
          17,
          18,
          19,
          20,
          21,
          22,
          23,
          24,
          25,
          26,
          27,
          28,
          29,
          30,
          31,
          32,
          33,
          34,
          35,
          36,
          37,
          38,
          39,
          40,
          41,
          42,
          43,
          44,
          45,
          46,
          47,
          48,
          49,
          50,
          51,
          52,
          53,
          54,
          55,
          56,
          57,
          58,
          59,
          60,
          61,
          62,
          63,
          64,
          65,
          66,
          67,
          68,
          69,
          70,
          71,
          72,
          73,
          74,
          75,
          76,
          77,
          78,
          79,
          80,
          81,
          82,
          83,
          84,
          85,
          86,
          87,
          88,
          89,
          90,
          91,
          92,
          93,
          94,
          95,
          96,
          97,
          98,
          99
         ],
         "y": [
          0.4590469039552061,
          0.4590469039552061,
          0.4590469039552061,
          0.4590469039552061,
          0.4590469039552061,
          0.4590469039552061,
          0.4590469039552061,
          0.4590469039552061,
          0.4590469039552061,
          0.4590469039552061,
          0.4590469039552061,
          0.4590469039552061,
          0.4590469039552061,
          0.44321527274677086,
          0.44321527274677086,
          0.40686875671973777,
          0.40686875671973777,
          0.40686875671973777,
          0.40686875671973777,
          0.40686875671973777,
          0.40686875671973777,
          0.40686875671973777,
          0.40686875671973777,
          0.40686875671973777,
          0.40686875671973777,
          0.40686875671973777,
          0.40686875671973777,
          0.4015460135596263,
          0.4015460135596263,
          0.4015460135596263,
          0.4015460135596263,
          0.4015460135596263,
          0.4015460135596263,
          0.4015460135596263,
          0.4015460135596263,
          0.4015460135596263,
          0.3834012305187579,
          0.379421655037139,
          0.379421655037139,
          0.379421655037139,
          0.379421655037139,
          0.379421655037139,
          0.379421655037139,
          0.37343367706969083,
          0.37343367706969083,
          0.37343367706969083,
          0.37343367706969083,
          0.3611105922841189,
          0.3611105922841189,
          0.3611105922841189,
          0.3611105922841189,
          0.3611105922841189,
          0.3611105922841189,
          0.3611105922841189,
          0.3611105922841189,
          0.3611105922841189,
          0.3611105922841189,
          0.3611105922841189,
          0.3611105922841189,
          0.3611105922841189,
          0.3611105922841189,
          0.3611105922841189,
          0.3611105922841189,
          0.3611105922841189,
          0.3611105922841189,
          0.3611105922841189,
          0.3611105922841189,
          0.3611105922841189,
          0.3611105922841189,
          0.3611105922841189,
          0.3611105922841189,
          0.3611105922841189,
          0.3611105922841189,
          0.3611105922841189,
          0.3611105922841189,
          0.3611105922841189,
          0.3611105922841189,
          0.3611105922841189,
          0.3611105922841189,
          0.3611105922841189,
          0.3611105922841189,
          0.3611105922841189,
          0.3611105922841189,
          0.3611105922841189,
          0.3611105922841189,
          0.3611105922841189,
          0.3611105922841189,
          0.3611105922841189,
          0.3611105922841189,
          0.3611105922841189,
          0.3611105922841189,
          0.3611105922841189,
          0.3611105922841189,
          0.3611105922841189,
          0.3611105922841189,
          0.3611105922841189,
          0.3611105922841189,
          0.3611105922841189,
          0.3611105922841189,
          0.3611105922841189
         ]
        },
        {
         "marker": {
          "color": "#cccccc"
         },
         "mode": "markers",
         "name": "Infeasible Trial",
         "showlegend": false,
         "type": "scatter",
         "x": [],
         "y": []
        }
       ],
       "layout": {
        "template": {
         "data": {
          "bar": [
           {
            "error_x": {
             "color": "#2a3f5f"
            },
            "error_y": {
             "color": "#2a3f5f"
            },
            "marker": {
             "line": {
              "color": "#E5ECF6",
              "width": 0.5
             },
             "pattern": {
              "fillmode": "overlay",
              "size": 10,
              "solidity": 0.2
             }
            },
            "type": "bar"
           }
          ],
          "barpolar": [
           {
            "marker": {
             "line": {
              "color": "#E5ECF6",
              "width": 0.5
             },
             "pattern": {
              "fillmode": "overlay",
              "size": 10,
              "solidity": 0.2
             }
            },
            "type": "barpolar"
           }
          ],
          "carpet": [
           {
            "aaxis": {
             "endlinecolor": "#2a3f5f",
             "gridcolor": "white",
             "linecolor": "white",
             "minorgridcolor": "white",
             "startlinecolor": "#2a3f5f"
            },
            "baxis": {
             "endlinecolor": "#2a3f5f",
             "gridcolor": "white",
             "linecolor": "white",
             "minorgridcolor": "white",
             "startlinecolor": "#2a3f5f"
            },
            "type": "carpet"
           }
          ],
          "choropleth": [
           {
            "colorbar": {
             "outlinewidth": 0,
             "ticks": ""
            },
            "type": "choropleth"
           }
          ],
          "contour": [
           {
            "colorbar": {
             "outlinewidth": 0,
             "ticks": ""
            },
            "colorscale": [
             [
              0,
              "#0d0887"
             ],
             [
              0.1111111111111111,
              "#46039f"
             ],
             [
              0.2222222222222222,
              "#7201a8"
             ],
             [
              0.3333333333333333,
              "#9c179e"
             ],
             [
              0.4444444444444444,
              "#bd3786"
             ],
             [
              0.5555555555555556,
              "#d8576b"
             ],
             [
              0.6666666666666666,
              "#ed7953"
             ],
             [
              0.7777777777777778,
              "#fb9f3a"
             ],
             [
              0.8888888888888888,
              "#fdca26"
             ],
             [
              1,
              "#f0f921"
             ]
            ],
            "type": "contour"
           }
          ],
          "contourcarpet": [
           {
            "colorbar": {
             "outlinewidth": 0,
             "ticks": ""
            },
            "type": "contourcarpet"
           }
          ],
          "heatmap": [
           {
            "colorbar": {
             "outlinewidth": 0,
             "ticks": ""
            },
            "colorscale": [
             [
              0,
              "#0d0887"
             ],
             [
              0.1111111111111111,
              "#46039f"
             ],
             [
              0.2222222222222222,
              "#7201a8"
             ],
             [
              0.3333333333333333,
              "#9c179e"
             ],
             [
              0.4444444444444444,
              "#bd3786"
             ],
             [
              0.5555555555555556,
              "#d8576b"
             ],
             [
              0.6666666666666666,
              "#ed7953"
             ],
             [
              0.7777777777777778,
              "#fb9f3a"
             ],
             [
              0.8888888888888888,
              "#fdca26"
             ],
             [
              1,
              "#f0f921"
             ]
            ],
            "type": "heatmap"
           }
          ],
          "heatmapgl": [
           {
            "colorbar": {
             "outlinewidth": 0,
             "ticks": ""
            },
            "colorscale": [
             [
              0,
              "#0d0887"
             ],
             [
              0.1111111111111111,
              "#46039f"
             ],
             [
              0.2222222222222222,
              "#7201a8"
             ],
             [
              0.3333333333333333,
              "#9c179e"
             ],
             [
              0.4444444444444444,
              "#bd3786"
             ],
             [
              0.5555555555555556,
              "#d8576b"
             ],
             [
              0.6666666666666666,
              "#ed7953"
             ],
             [
              0.7777777777777778,
              "#fb9f3a"
             ],
             [
              0.8888888888888888,
              "#fdca26"
             ],
             [
              1,
              "#f0f921"
             ]
            ],
            "type": "heatmapgl"
           }
          ],
          "histogram": [
           {
            "marker": {
             "pattern": {
              "fillmode": "overlay",
              "size": 10,
              "solidity": 0.2
             }
            },
            "type": "histogram"
           }
          ],
          "histogram2d": [
           {
            "colorbar": {
             "outlinewidth": 0,
             "ticks": ""
            },
            "colorscale": [
             [
              0,
              "#0d0887"
             ],
             [
              0.1111111111111111,
              "#46039f"
             ],
             [
              0.2222222222222222,
              "#7201a8"
             ],
             [
              0.3333333333333333,
              "#9c179e"
             ],
             [
              0.4444444444444444,
              "#bd3786"
             ],
             [
              0.5555555555555556,
              "#d8576b"
             ],
             [
              0.6666666666666666,
              "#ed7953"
             ],
             [
              0.7777777777777778,
              "#fb9f3a"
             ],
             [
              0.8888888888888888,
              "#fdca26"
             ],
             [
              1,
              "#f0f921"
             ]
            ],
            "type": "histogram2d"
           }
          ],
          "histogram2dcontour": [
           {
            "colorbar": {
             "outlinewidth": 0,
             "ticks": ""
            },
            "colorscale": [
             [
              0,
              "#0d0887"
             ],
             [
              0.1111111111111111,
              "#46039f"
             ],
             [
              0.2222222222222222,
              "#7201a8"
             ],
             [
              0.3333333333333333,
              "#9c179e"
             ],
             [
              0.4444444444444444,
              "#bd3786"
             ],
             [
              0.5555555555555556,
              "#d8576b"
             ],
             [
              0.6666666666666666,
              "#ed7953"
             ],
             [
              0.7777777777777778,
              "#fb9f3a"
             ],
             [
              0.8888888888888888,
              "#fdca26"
             ],
             [
              1,
              "#f0f921"
             ]
            ],
            "type": "histogram2dcontour"
           }
          ],
          "mesh3d": [
           {
            "colorbar": {
             "outlinewidth": 0,
             "ticks": ""
            },
            "type": "mesh3d"
           }
          ],
          "parcoords": [
           {
            "line": {
             "colorbar": {
              "outlinewidth": 0,
              "ticks": ""
             }
            },
            "type": "parcoords"
           }
          ],
          "pie": [
           {
            "automargin": true,
            "type": "pie"
           }
          ],
          "scatter": [
           {
            "fillpattern": {
             "fillmode": "overlay",
             "size": 10,
             "solidity": 0.2
            },
            "type": "scatter"
           }
          ],
          "scatter3d": [
           {
            "line": {
             "colorbar": {
              "outlinewidth": 0,
              "ticks": ""
             }
            },
            "marker": {
             "colorbar": {
              "outlinewidth": 0,
              "ticks": ""
             }
            },
            "type": "scatter3d"
           }
          ],
          "scattercarpet": [
           {
            "marker": {
             "colorbar": {
              "outlinewidth": 0,
              "ticks": ""
             }
            },
            "type": "scattercarpet"
           }
          ],
          "scattergeo": [
           {
            "marker": {
             "colorbar": {
              "outlinewidth": 0,
              "ticks": ""
             }
            },
            "type": "scattergeo"
           }
          ],
          "scattergl": [
           {
            "marker": {
             "colorbar": {
              "outlinewidth": 0,
              "ticks": ""
             }
            },
            "type": "scattergl"
           }
          ],
          "scattermapbox": [
           {
            "marker": {
             "colorbar": {
              "outlinewidth": 0,
              "ticks": ""
             }
            },
            "type": "scattermapbox"
           }
          ],
          "scatterpolar": [
           {
            "marker": {
             "colorbar": {
              "outlinewidth": 0,
              "ticks": ""
             }
            },
            "type": "scatterpolar"
           }
          ],
          "scatterpolargl": [
           {
            "marker": {
             "colorbar": {
              "outlinewidth": 0,
              "ticks": ""
             }
            },
            "type": "scatterpolargl"
           }
          ],
          "scatterternary": [
           {
            "marker": {
             "colorbar": {
              "outlinewidth": 0,
              "ticks": ""
             }
            },
            "type": "scatterternary"
           }
          ],
          "surface": [
           {
            "colorbar": {
             "outlinewidth": 0,
             "ticks": ""
            },
            "colorscale": [
             [
              0,
              "#0d0887"
             ],
             [
              0.1111111111111111,
              "#46039f"
             ],
             [
              0.2222222222222222,
              "#7201a8"
             ],
             [
              0.3333333333333333,
              "#9c179e"
             ],
             [
              0.4444444444444444,
              "#bd3786"
             ],
             [
              0.5555555555555556,
              "#d8576b"
             ],
             [
              0.6666666666666666,
              "#ed7953"
             ],
             [
              0.7777777777777778,
              "#fb9f3a"
             ],
             [
              0.8888888888888888,
              "#fdca26"
             ],
             [
              1,
              "#f0f921"
             ]
            ],
            "type": "surface"
           }
          ],
          "table": [
           {
            "cells": {
             "fill": {
              "color": "#EBF0F8"
             },
             "line": {
              "color": "white"
             }
            },
            "header": {
             "fill": {
              "color": "#C8D4E3"
             },
             "line": {
              "color": "white"
             }
            },
            "type": "table"
           }
          ]
         },
         "layout": {
          "annotationdefaults": {
           "arrowcolor": "#2a3f5f",
           "arrowhead": 0,
           "arrowwidth": 1
          },
          "autotypenumbers": "strict",
          "coloraxis": {
           "colorbar": {
            "outlinewidth": 0,
            "ticks": ""
           }
          },
          "colorscale": {
           "diverging": [
            [
             0,
             "#8e0152"
            ],
            [
             0.1,
             "#c51b7d"
            ],
            [
             0.2,
             "#de77ae"
            ],
            [
             0.3,
             "#f1b6da"
            ],
            [
             0.4,
             "#fde0ef"
            ],
            [
             0.5,
             "#f7f7f7"
            ],
            [
             0.6,
             "#e6f5d0"
            ],
            [
             0.7,
             "#b8e186"
            ],
            [
             0.8,
             "#7fbc41"
            ],
            [
             0.9,
             "#4d9221"
            ],
            [
             1,
             "#276419"
            ]
           ],
           "sequential": [
            [
             0,
             "#0d0887"
            ],
            [
             0.1111111111111111,
             "#46039f"
            ],
            [
             0.2222222222222222,
             "#7201a8"
            ],
            [
             0.3333333333333333,
             "#9c179e"
            ],
            [
             0.4444444444444444,
             "#bd3786"
            ],
            [
             0.5555555555555556,
             "#d8576b"
            ],
            [
             0.6666666666666666,
             "#ed7953"
            ],
            [
             0.7777777777777778,
             "#fb9f3a"
            ],
            [
             0.8888888888888888,
             "#fdca26"
            ],
            [
             1,
             "#f0f921"
            ]
           ],
           "sequentialminus": [
            [
             0,
             "#0d0887"
            ],
            [
             0.1111111111111111,
             "#46039f"
            ],
            [
             0.2222222222222222,
             "#7201a8"
            ],
            [
             0.3333333333333333,
             "#9c179e"
            ],
            [
             0.4444444444444444,
             "#bd3786"
            ],
            [
             0.5555555555555556,
             "#d8576b"
            ],
            [
             0.6666666666666666,
             "#ed7953"
            ],
            [
             0.7777777777777778,
             "#fb9f3a"
            ],
            [
             0.8888888888888888,
             "#fdca26"
            ],
            [
             1,
             "#f0f921"
            ]
           ]
          },
          "colorway": [
           "#636efa",
           "#EF553B",
           "#00cc96",
           "#ab63fa",
           "#FFA15A",
           "#19d3f3",
           "#FF6692",
           "#B6E880",
           "#FF97FF",
           "#FECB52"
          ],
          "font": {
           "color": "#2a3f5f"
          },
          "geo": {
           "bgcolor": "white",
           "lakecolor": "white",
           "landcolor": "#E5ECF6",
           "showlakes": true,
           "showland": true,
           "subunitcolor": "white"
          },
          "hoverlabel": {
           "align": "left"
          },
          "hovermode": "closest",
          "mapbox": {
           "style": "light"
          },
          "paper_bgcolor": "white",
          "plot_bgcolor": "#E5ECF6",
          "polar": {
           "angularaxis": {
            "gridcolor": "white",
            "linecolor": "white",
            "ticks": ""
           },
           "bgcolor": "#E5ECF6",
           "radialaxis": {
            "gridcolor": "white",
            "linecolor": "white",
            "ticks": ""
           }
          },
          "scene": {
           "xaxis": {
            "backgroundcolor": "#E5ECF6",
            "gridcolor": "white",
            "gridwidth": 2,
            "linecolor": "white",
            "showbackground": true,
            "ticks": "",
            "zerolinecolor": "white"
           },
           "yaxis": {
            "backgroundcolor": "#E5ECF6",
            "gridcolor": "white",
            "gridwidth": 2,
            "linecolor": "white",
            "showbackground": true,
            "ticks": "",
            "zerolinecolor": "white"
           },
           "zaxis": {
            "backgroundcolor": "#E5ECF6",
            "gridcolor": "white",
            "gridwidth": 2,
            "linecolor": "white",
            "showbackground": true,
            "ticks": "",
            "zerolinecolor": "white"
           }
          },
          "shapedefaults": {
           "line": {
            "color": "#2a3f5f"
           }
          },
          "ternary": {
           "aaxis": {
            "gridcolor": "white",
            "linecolor": "white",
            "ticks": ""
           },
           "baxis": {
            "gridcolor": "white",
            "linecolor": "white",
            "ticks": ""
           },
           "bgcolor": "#E5ECF6",
           "caxis": {
            "gridcolor": "white",
            "linecolor": "white",
            "ticks": ""
           }
          },
          "title": {
           "x": 0.05
          },
          "xaxis": {
           "automargin": true,
           "gridcolor": "white",
           "linecolor": "white",
           "ticks": "",
           "title": {
            "standoff": 15
           },
           "zerolinecolor": "white",
           "zerolinewidth": 2
          },
          "yaxis": {
           "automargin": true,
           "gridcolor": "white",
           "linecolor": "white",
           "ticks": "",
           "title": {
            "standoff": 15
           },
           "zerolinecolor": "white",
           "zerolinewidth": 2
          }
         }
        },
        "title": {
         "text": "Optimization History Plot"
        },
        "xaxis": {
         "title": {
          "text": "Trial"
         }
        },
        "yaxis": {
         "title": {
          "text": "Objective Value"
         }
        }
       }
      }
     },
     "metadata": {},
     "output_type": "display_data"
    }
   ],
   "source": [
    "\n",
    "from optuna.visualization import plot_optimization_history\n",
    "plot_optimization_history(study)"
   ]
  },
  {
   "cell_type": "code",
   "execution_count": 12,
   "metadata": {},
   "outputs": [
    {
     "data": {
      "application/vnd.plotly.v1+json": {
       "config": {
        "plotlyServerURL": "https://plot.ly"
       },
       "data": [
        {
         "colorbar": {
          "title": {
           "text": "Objective Value"
          }
         },
         "colorscale": [
          [
           0,
           "rgb(247,251,255)"
          ],
          [
           0.125,
           "rgb(222,235,247)"
          ],
          [
           0.25,
           "rgb(198,219,239)"
          ],
          [
           0.375,
           "rgb(158,202,225)"
          ],
          [
           0.5,
           "rgb(107,174,214)"
          ],
          [
           0.625,
           "rgb(66,146,198)"
          ],
          [
           0.75,
           "rgb(33,113,181)"
          ],
          [
           0.875,
           "rgb(8,81,156)"
          ],
          [
           1,
           "rgb(8,48,107)"
          ]
         ],
         "connectgaps": true,
         "contours": {
          "coloring": "heatmap"
         },
         "hoverinfo": "none",
         "line": {
          "smoothing": 1.3
         },
         "reversescale": true,
         "type": "contour",
         "x": [
          0.3913595252025234,
          0.4201723846566769,
          0.447754886945568,
          0.45102959433535994,
          0.48872880477032693,
          0.49484045301821034,
          0.5192713951108126,
          0.5270687442946131,
          0.5364405380985476,
          0.547082000689207,
          0.5847996116815157,
          0.586811906696895,
          0.6133739136971914,
          0.6192010305962234,
          0.6218113232403472,
          0.6244372224922592,
          0.6325391475093604,
          0.6615560865113794,
          0.6619280301830309,
          0.6669553034797734,
          0.6724900249117937,
          0.6795050781836409,
          0.6932997023969355,
          0.6987323603051868,
          0.7128949187547875,
          0.7191320462409727,
          0.7229989690838582,
          0.7335002074355524,
          0.7350134886757128,
          0.7359278013204393,
          0.7470362870774785,
          0.7510263215939795,
          0.7521040499342841,
          0.7525428233437286,
          0.755163490406112,
          0.7565511646066789,
          0.7637608049334454,
          0.7687760595621775,
          0.772096108515761,
          0.7730160978355332,
          0.77378469652057,
          0.7839471201453859,
          0.7839968790306567,
          0.7873689690401896,
          0.7899014348720057,
          0.7929249550495352,
          0.7940611928137085,
          0.7966577678961843,
          0.7975990405387947,
          0.8000054141531877,
          0.8009400488489392,
          0.8044803972494159,
          0.8103613209277694,
          0.8108124072783752,
          0.812946325385944,
          0.813300615182214,
          0.8144148499136802,
          0.8184004092560636,
          0.8229906222437912,
          0.8253193306060961,
          0.8258873166522112,
          0.832974758364516,
          0.834482740928508,
          0.8348815545165047,
          0.8445125012796706,
          0.8461162494691473,
          0.8487560905208205,
          0.8508135094617455,
          0.8531830678018548,
          0.8589514307384625,
          0.8648259556324102,
          0.8686995311500239,
          0.8771043690507256,
          0.8772428283563414,
          0.8772818771520356,
          0.8805811906710101,
          0.8939044948037407,
          0.8952621894308124,
          0.8991838328059256,
          0.9011479714731676,
          0.9097251038194618,
          0.9156108401574791,
          0.9196060909583237,
          0.923424306491287,
          0.9249561481054542,
          0.927610837608153,
          0.9330034010470054,
          0.9356946957203887,
          0.93599780531727,
          0.941231862027471,
          0.9421240584841902,
          0.9488280045122409,
          0.9536717272278411,
          0.9548273761851039,
          0.9652962189917267,
          0.9660526974841166,
          0.9667934546318434,
          0.9762865421408158,
          0.9823483268668985,
          0.9848153191526662,
          0.996429573739747,
          1.0252424331939005
         ],
         "y": [
          0.7,
          1,
          2,
          3,
          4,
          5,
          6,
          7,
          7.3
         ],
         "z": [
          [
           null,
           null,
           null,
           null,
           null,
           null,
           null,
           null,
           null,
           null,
           null,
           null,
           null,
           null,
           null,
           null,
           null,
           null,
           null,
           null,
           null,
           null,
           null,
           null,
           null,
           null,
           null,
           null,
           null,
           null,
           null,
           null,
           null,
           null,
           null,
           null,
           null,
           null,
           null,
           null,
           null,
           null,
           null,
           null,
           null,
           null,
           null,
           null,
           null,
           null,
           null,
           null,
           null,
           null,
           null,
           null,
           null,
           null,
           null,
           null,
           null,
           null,
           null,
           null,
           null,
           null,
           null,
           null,
           null,
           null,
           null,
           null,
           null,
           null,
           null,
           null,
           null,
           null,
           null,
           null,
           null,
           null,
           null,
           null,
           null,
           null,
           null,
           null,
           null,
           null,
           null,
           null,
           null,
           null,
           null,
           null,
           null,
           null,
           null,
           null,
           null,
           null
          ],
          [
           null,
           null,
           0.7331400224403835,
           null,
           0.6909100329649078,
           null,
           null,
           null,
           null,
           null,
           null,
           null,
           null,
           null,
           null,
           null,
           null,
           null,
           null,
           null,
           null,
           0.6931471805599454,
           null,
           null,
           null,
           null,
           null,
           null,
           null,
           null,
           null,
           null,
           null,
           null,
           null,
           null,
           null,
           null,
           null,
           null,
           null,
           null,
           null,
           null,
           null,
           null,
           null,
           null,
           null,
           null,
           null,
           null,
           null,
           null,
           null,
           null,
           null,
           null,
           null,
           null,
           null,
           null,
           null,
           null,
           null,
           null,
           null,
           null,
           null,
           null,
           null,
           null,
           null,
           null,
           null,
           null,
           null,
           null,
           0.39328565505680874,
           null,
           null,
           null,
           null,
           null,
           null,
           null,
           null,
           null,
           null,
           null,
           null,
           null,
           null,
           null,
           null,
           null,
           null,
           null,
           null,
           null,
           null,
           null
          ],
          [
           null,
           null,
           null,
           null,
           null,
           null,
           null,
           null,
           null,
           null,
           null,
           0.6909100329649078,
           null,
           null,
           null,
           null,
           null,
           null,
           null,
           null,
           null,
           null,
           null,
           null,
           null,
           null,
           null,
           null,
           null,
           null,
           null,
           null,
           null,
           null,
           null,
           0.4590469039552061,
           null,
           null,
           null,
           null,
           0.4260961699896472,
           null,
           null,
           null,
           null,
           null,
           null,
           null,
           null,
           null,
           null,
           null,
           null,
           null,
           null,
           null,
           null,
           null,
           null,
           null,
           null,
           null,
           null,
           null,
           null,
           null,
           null,
           null,
           null,
           null,
           null,
           null,
           null,
           null,
           null,
           null,
           null,
           null,
           null,
           null,
           null,
           null,
           null,
           null,
           null,
           null,
           null,
           null,
           null,
           null,
           null,
           null,
           null,
           null,
           null,
           null,
           null,
           null,
           null,
           null,
           null,
           null
          ],
          [
           null,
           null,
           null,
           null,
           null,
           null,
           null,
           null,
           null,
           null,
           null,
           null,
           null,
           null,
           null,
           null,
           null,
           null,
           null,
           null,
           null,
           null,
           null,
           null,
           null,
           null,
           null,
           null,
           null,
           0.6010516419585373,
           null,
           null,
           null,
           null,
           null,
           null,
           null,
           null,
           null,
           null,
           null,
           null,
           null,
           0.6909100329649078,
           null,
           null,
           0.41916430845374414,
           null,
           null,
           null,
           null,
           null,
           null,
           null,
           null,
           null,
           null,
           null,
           null,
           null,
           null,
           null,
           null,
           null,
           null,
           null,
           null,
           null,
           null,
           null,
           null,
           null,
           null,
           null,
           null,
           null,
           0.5850554935799706,
           null,
           null,
           null,
           null,
           null,
           null,
           null,
           null,
           null,
           null,
           null,
           null,
           null,
           null,
           null,
           null,
           null,
           null,
           null,
           null,
           null,
           null,
           null,
           null,
           null
          ],
          [
           null,
           null,
           null,
           null,
           null,
           0.4415961050579751,
           null,
           null,
           null,
           null,
           null,
           null,
           0.5020897501155822,
           0.4306228074128888,
           null,
           null,
           null,
           null,
           null,
           0.5888818190453637,
           null,
           null,
           null,
           null,
           null,
           null,
           null,
           null,
           null,
           null,
           null,
           null,
           null,
           null,
           null,
           null,
           null,
           null,
           null,
           null,
           null,
           null,
           null,
           null,
           null,
           null,
           null,
           null,
           null,
           null,
           null,
           null,
           null,
           null,
           null,
           null,
           null,
           null,
           null,
           null,
           null,
           null,
           null,
           null,
           null,
           null,
           null,
           null,
           null,
           null,
           null,
           null,
           null,
           null,
           null,
           null,
           null,
           null,
           null,
           null,
           null,
           null,
           null,
           null,
           null,
           null,
           null,
           null,
           null,
           null,
           null,
           null,
           null,
           null,
           null,
           null,
           null,
           0.5989058820702358,
           null,
           null,
           null,
           null
          ],
          [
           null,
           0.6909100329649078,
           null,
           null,
           null,
           null,
           null,
           null,
           null,
           null,
           null,
           null,
           null,
           null,
           0.42785158658367667,
           0.40686875671973777,
           null,
           0.47855668249462474,
           null,
           null,
           null,
           null,
           0.6909100329649078,
           null,
           0.4458830477756457,
           0.4015460135596263,
           null,
           null,
           null,
           null,
           null,
           null,
           null,
           null,
           0.4494842823425498,
           null,
           null,
           null,
           null,
           0.43638878381855273,
           null,
           null,
           null,
           null,
           null,
           0.44321527274677086,
           null,
           null,
           null,
           null,
           null,
           null,
           null,
           null,
           null,
           null,
           null,
           null,
           null,
           null,
           0.3979667668340629,
           null,
           null,
           null,
           null,
           null,
           null,
           null,
           null,
           null,
           null,
           null,
           null,
           null,
           null,
           null,
           null,
           null,
           null,
           null,
           null,
           null,
           null,
           null,
           null,
           null,
           null,
           null,
           null,
           null,
           null,
           null,
           null,
           null,
           null,
           0.3829096571927815,
           null,
           null,
           null,
           null,
           null,
           null
          ],
          [
           null,
           null,
           null,
           null,
           null,
           null,
           0.42727023350366333,
           0.44782106062777255,
           0.43048307126790436,
           0.5974891369950232,
           0.6909100329649078,
           null,
           null,
           null,
           null,
           null,
           0.6909100329649078,
           null,
           0.42514897763009607,
           null,
           0.4264012626541096,
           null,
           null,
           null,
           null,
           null,
           null,
           0.41063906794389005,
           null,
           null,
           0.3840502264990688,
           0.3816581215510922,
           null,
           null,
           null,
           null,
           null,
           0.38449743592170815,
           null,
           null,
           null,
           null,
           0.382642526856313,
           null,
           0.38387957373510434,
           null,
           null,
           0.3735163034121179,
           null,
           0.37185596818860384,
           0.3811300327733112,
           null,
           0.4621224158493324,
           null,
           null,
           null,
           null,
           null,
           null,
           null,
           null,
           null,
           0.41416781708603095,
           null,
           0.5394033785855276,
           0.5687510728741648,
           null,
           null,
           null,
           null,
           null,
           null,
           null,
           null,
           null,
           null,
           null,
           null,
           null,
           null,
           null,
           null,
           null,
           null,
           0.36804466616667786,
           null,
           0.3638007037755919,
           null,
           null,
           null,
           null,
           0.5357483425163093,
           null,
           0.5419338007301349,
           0.3748335444169353,
           null,
           0.39360315635666604,
           null,
           0.5116992310820555,
           0.3957289106811575,
           null,
           null
          ],
          [
           null,
           null,
           null,
           0.6827160943760284,
           null,
           null,
           null,
           null,
           null,
           null,
           null,
           null,
           null,
           null,
           null,
           null,
           null,
           null,
           null,
           null,
           null,
           null,
           null,
           0.4528949970326373,
           null,
           null,
           0.45045864991667667,
           null,
           0.48296308136827526,
           null,
           null,
           null,
           0.3879262119661873,
           0.379421655037139,
           null,
           null,
           0.3930259147141156,
           null,
           0.3834012305187579,
           null,
           null,
           0.6909100329649078,
           null,
           null,
           null,
           null,
           null,
           null,
           0.5137702770486673,
           null,
           null,
           0.3732573288784906,
           null,
           0.39185253187593805,
           0.37493975909570015,
           0.3935608764593717,
           0.5604334899564315,
           0.4674540812698429,
           0.3611105922841189,
           0.5781152616768358,
           null,
           0.4012339978454587,
           null,
           0.372376109349046,
           null,
           null,
           0.5097123622707129,
           0.6909100329649078,
           0.3849685114134078,
           0.4052027178254547,
           0.3910836609833592,
           0.39452818932666583,
           0.38093074473936656,
           0.3833780573358469,
           0.3927304640101584,
           0.38108408103014574,
           null,
           0.5484558743434311,
           null,
           0.3961003240456847,
           0.3853266124202354,
           0.49732684138040134,
           0.5068884425763721,
           0.37343367706969083,
           null,
           0.6504502257623545,
           null,
           0.37512969110582534,
           0.37564557399174087,
           0.3817149937611192,
           0.3941000595432927,
           null,
           0.39533462477160725,
           null,
           null,
           null,
           null,
           null,
           null,
           null,
           0.45409612832331875,
           null
          ],
          [
           null,
           null,
           null,
           null,
           null,
           null,
           null,
           null,
           null,
           null,
           null,
           null,
           null,
           null,
           null,
           null,
           null,
           null,
           null,
           null,
           null,
           null,
           null,
           null,
           null,
           null,
           null,
           null,
           null,
           null,
           null,
           null,
           null,
           null,
           null,
           null,
           null,
           null,
           null,
           null,
           null,
           null,
           null,
           null,
           null,
           null,
           null,
           null,
           null,
           null,
           null,
           null,
           null,
           null,
           null,
           null,
           null,
           null,
           null,
           null,
           null,
           null,
           null,
           null,
           null,
           null,
           null,
           null,
           null,
           null,
           null,
           null,
           null,
           null,
           null,
           null,
           null,
           null,
           null,
           null,
           null,
           null,
           null,
           null,
           null,
           null,
           null,
           null,
           null,
           null,
           null,
           null,
           null,
           null,
           null,
           null,
           null,
           null,
           null,
           null,
           null,
           null
          ]
         ]
        },
        {
         "marker": {
          "color": "black",
          "line": {
           "color": "Gray",
           "width": 2
          }
         },
         "mode": "markers",
         "name": "Feasible Trial",
         "showlegend": false,
         "type": "scatter",
         "x": [
          0.7565511646066789,
          0.6795050781836409,
          0.48872880477032693,
          0.9762865421408158,
          0.447754886945568,
          0.8487560905208205,
          0.586811906696895,
          0.45102959433535994,
          0.547082000689207,
          0.7873689690401896,
          0.6932997023969355,
          0.8939044948037407,
          0.8144148499136802,
          0.7929249550495352,
          0.755163490406112,
          0.6244372224922592,
          0.6218113232403472,
          0.6192010305962234,
          0.6325391475093604,
          0.5364405380985476,
          0.6615560865113794,
          0.5192713951108126,
          0.5270687442946131,
          0.6133739136971914,
          0.4201723846566769,
          0.5847996116815157,
          0.49484045301821034,
          0.7191320462409727,
          0.7335002074355524,
          0.7359278013204393,
          0.7229989690838582,
          0.6724900249117937,
          0.6619280301830309,
          0.7128949187547875,
          0.6669553034797734,
          0.8461162494691473,
          0.772096108515761,
          0.7525428233437286,
          0.8952621894308124,
          0.996429573739747,
          0.77378469652057,
          0.7521040499342841,
          0.8686995311500239,
          0.923424306491287,
          0.9421240584841902,
          0.941231862027471,
          0.9196060909583237,
          0.8229906222437912,
          0.927610837608153,
          0.8253193306060961,
          0.9536717272278411,
          0.813300615182214,
          0.8771043690507256,
          0.8991838328059256,
          0.8531830678018548,
          0.8772428283563414,
          0.9652962189917267,
          0.9823483268668985,
          0.9548273761851039,
          0.9156108401574791,
          0.9667934546318434,
          0.8648259556324102,
          0.8805811906710101,
          0.812946325385944,
          0.8044803972494159,
          0.7966577678961843,
          0.8000054141531877,
          0.8009400488489392,
          0.834482740928508,
          0.7899014348720057,
          0.8103613209277694,
          0.7687760595621775,
          0.7510263215939795,
          0.8258873166522112,
          0.7940611928137085,
          0.6987323603051868,
          0.8508135094617455,
          0.7730160978355332,
          0.8348815545165047,
          0.8445125012796706,
          0.7350134886757128,
          0.7839471201453859,
          0.8108124072783752,
          0.832974758364516,
          0.7637608049334454,
          0.7470362870774785,
          0.9011479714731676,
          0.7975990405387947,
          0.7839968790306567,
          0.8184004092560636,
          0.8589514307384625,
          0.8772818771520356,
          0.9097251038194618,
          0.93599780531727,
          0.9356946957203887,
          0.9330034010470054,
          0.9848153191526662,
          0.9488280045122409,
          0.9660526974841166,
          0.9249561481054542
         ],
         "y": [
          2,
          1,
          1,
          4,
          1,
          7,
          2,
          7,
          6,
          3,
          5,
          3,
          7,
          5,
          5,
          5,
          5,
          4,
          6,
          6,
          5,
          6,
          6,
          4,
          5,
          6,
          4,
          5,
          6,
          3,
          7,
          6,
          6,
          5,
          4,
          6,
          7,
          7,
          7,
          7,
          2,
          7,
          7,
          7,
          7,
          7,
          7,
          7,
          7,
          7,
          7,
          7,
          7,
          1,
          7,
          7,
          6,
          6,
          6,
          7,
          6,
          7,
          7,
          7,
          7,
          6,
          6,
          6,
          6,
          6,
          6,
          6,
          6,
          5,
          3,
          7,
          7,
          5,
          7,
          6,
          7,
          7,
          7,
          7,
          7,
          6,
          7,
          7,
          6,
          7,
          7,
          7,
          7,
          7,
          7,
          6,
          6,
          6,
          5,
          6
         ]
        },
        {
         "marker": {
          "color": "#cccccc",
          "line": {
           "color": "Gray",
           "width": 2
          }
         },
         "mode": "markers",
         "name": "Infeasible Trial",
         "showlegend": false,
         "type": "scatter",
         "x": [],
         "y": []
        }
       ],
       "layout": {
        "template": {
         "data": {
          "bar": [
           {
            "error_x": {
             "color": "#2a3f5f"
            },
            "error_y": {
             "color": "#2a3f5f"
            },
            "marker": {
             "line": {
              "color": "#E5ECF6",
              "width": 0.5
             },
             "pattern": {
              "fillmode": "overlay",
              "size": 10,
              "solidity": 0.2
             }
            },
            "type": "bar"
           }
          ],
          "barpolar": [
           {
            "marker": {
             "line": {
              "color": "#E5ECF6",
              "width": 0.5
             },
             "pattern": {
              "fillmode": "overlay",
              "size": 10,
              "solidity": 0.2
             }
            },
            "type": "barpolar"
           }
          ],
          "carpet": [
           {
            "aaxis": {
             "endlinecolor": "#2a3f5f",
             "gridcolor": "white",
             "linecolor": "white",
             "minorgridcolor": "white",
             "startlinecolor": "#2a3f5f"
            },
            "baxis": {
             "endlinecolor": "#2a3f5f",
             "gridcolor": "white",
             "linecolor": "white",
             "minorgridcolor": "white",
             "startlinecolor": "#2a3f5f"
            },
            "type": "carpet"
           }
          ],
          "choropleth": [
           {
            "colorbar": {
             "outlinewidth": 0,
             "ticks": ""
            },
            "type": "choropleth"
           }
          ],
          "contour": [
           {
            "colorbar": {
             "outlinewidth": 0,
             "ticks": ""
            },
            "colorscale": [
             [
              0,
              "#0d0887"
             ],
             [
              0.1111111111111111,
              "#46039f"
             ],
             [
              0.2222222222222222,
              "#7201a8"
             ],
             [
              0.3333333333333333,
              "#9c179e"
             ],
             [
              0.4444444444444444,
              "#bd3786"
             ],
             [
              0.5555555555555556,
              "#d8576b"
             ],
             [
              0.6666666666666666,
              "#ed7953"
             ],
             [
              0.7777777777777778,
              "#fb9f3a"
             ],
             [
              0.8888888888888888,
              "#fdca26"
             ],
             [
              1,
              "#f0f921"
             ]
            ],
            "type": "contour"
           }
          ],
          "contourcarpet": [
           {
            "colorbar": {
             "outlinewidth": 0,
             "ticks": ""
            },
            "type": "contourcarpet"
           }
          ],
          "heatmap": [
           {
            "colorbar": {
             "outlinewidth": 0,
             "ticks": ""
            },
            "colorscale": [
             [
              0,
              "#0d0887"
             ],
             [
              0.1111111111111111,
              "#46039f"
             ],
             [
              0.2222222222222222,
              "#7201a8"
             ],
             [
              0.3333333333333333,
              "#9c179e"
             ],
             [
              0.4444444444444444,
              "#bd3786"
             ],
             [
              0.5555555555555556,
              "#d8576b"
             ],
             [
              0.6666666666666666,
              "#ed7953"
             ],
             [
              0.7777777777777778,
              "#fb9f3a"
             ],
             [
              0.8888888888888888,
              "#fdca26"
             ],
             [
              1,
              "#f0f921"
             ]
            ],
            "type": "heatmap"
           }
          ],
          "heatmapgl": [
           {
            "colorbar": {
             "outlinewidth": 0,
             "ticks": ""
            },
            "colorscale": [
             [
              0,
              "#0d0887"
             ],
             [
              0.1111111111111111,
              "#46039f"
             ],
             [
              0.2222222222222222,
              "#7201a8"
             ],
             [
              0.3333333333333333,
              "#9c179e"
             ],
             [
              0.4444444444444444,
              "#bd3786"
             ],
             [
              0.5555555555555556,
              "#d8576b"
             ],
             [
              0.6666666666666666,
              "#ed7953"
             ],
             [
              0.7777777777777778,
              "#fb9f3a"
             ],
             [
              0.8888888888888888,
              "#fdca26"
             ],
             [
              1,
              "#f0f921"
             ]
            ],
            "type": "heatmapgl"
           }
          ],
          "histogram": [
           {
            "marker": {
             "pattern": {
              "fillmode": "overlay",
              "size": 10,
              "solidity": 0.2
             }
            },
            "type": "histogram"
           }
          ],
          "histogram2d": [
           {
            "colorbar": {
             "outlinewidth": 0,
             "ticks": ""
            },
            "colorscale": [
             [
              0,
              "#0d0887"
             ],
             [
              0.1111111111111111,
              "#46039f"
             ],
             [
              0.2222222222222222,
              "#7201a8"
             ],
             [
              0.3333333333333333,
              "#9c179e"
             ],
             [
              0.4444444444444444,
              "#bd3786"
             ],
             [
              0.5555555555555556,
              "#d8576b"
             ],
             [
              0.6666666666666666,
              "#ed7953"
             ],
             [
              0.7777777777777778,
              "#fb9f3a"
             ],
             [
              0.8888888888888888,
              "#fdca26"
             ],
             [
              1,
              "#f0f921"
             ]
            ],
            "type": "histogram2d"
           }
          ],
          "histogram2dcontour": [
           {
            "colorbar": {
             "outlinewidth": 0,
             "ticks": ""
            },
            "colorscale": [
             [
              0,
              "#0d0887"
             ],
             [
              0.1111111111111111,
              "#46039f"
             ],
             [
              0.2222222222222222,
              "#7201a8"
             ],
             [
              0.3333333333333333,
              "#9c179e"
             ],
             [
              0.4444444444444444,
              "#bd3786"
             ],
             [
              0.5555555555555556,
              "#d8576b"
             ],
             [
              0.6666666666666666,
              "#ed7953"
             ],
             [
              0.7777777777777778,
              "#fb9f3a"
             ],
             [
              0.8888888888888888,
              "#fdca26"
             ],
             [
              1,
              "#f0f921"
             ]
            ],
            "type": "histogram2dcontour"
           }
          ],
          "mesh3d": [
           {
            "colorbar": {
             "outlinewidth": 0,
             "ticks": ""
            },
            "type": "mesh3d"
           }
          ],
          "parcoords": [
           {
            "line": {
             "colorbar": {
              "outlinewidth": 0,
              "ticks": ""
             }
            },
            "type": "parcoords"
           }
          ],
          "pie": [
           {
            "automargin": true,
            "type": "pie"
           }
          ],
          "scatter": [
           {
            "fillpattern": {
             "fillmode": "overlay",
             "size": 10,
             "solidity": 0.2
            },
            "type": "scatter"
           }
          ],
          "scatter3d": [
           {
            "line": {
             "colorbar": {
              "outlinewidth": 0,
              "ticks": ""
             }
            },
            "marker": {
             "colorbar": {
              "outlinewidth": 0,
              "ticks": ""
             }
            },
            "type": "scatter3d"
           }
          ],
          "scattercarpet": [
           {
            "marker": {
             "colorbar": {
              "outlinewidth": 0,
              "ticks": ""
             }
            },
            "type": "scattercarpet"
           }
          ],
          "scattergeo": [
           {
            "marker": {
             "colorbar": {
              "outlinewidth": 0,
              "ticks": ""
             }
            },
            "type": "scattergeo"
           }
          ],
          "scattergl": [
           {
            "marker": {
             "colorbar": {
              "outlinewidth": 0,
              "ticks": ""
             }
            },
            "type": "scattergl"
           }
          ],
          "scattermapbox": [
           {
            "marker": {
             "colorbar": {
              "outlinewidth": 0,
              "ticks": ""
             }
            },
            "type": "scattermapbox"
           }
          ],
          "scatterpolar": [
           {
            "marker": {
             "colorbar": {
              "outlinewidth": 0,
              "ticks": ""
             }
            },
            "type": "scatterpolar"
           }
          ],
          "scatterpolargl": [
           {
            "marker": {
             "colorbar": {
              "outlinewidth": 0,
              "ticks": ""
             }
            },
            "type": "scatterpolargl"
           }
          ],
          "scatterternary": [
           {
            "marker": {
             "colorbar": {
              "outlinewidth": 0,
              "ticks": ""
             }
            },
            "type": "scatterternary"
           }
          ],
          "surface": [
           {
            "colorbar": {
             "outlinewidth": 0,
             "ticks": ""
            },
            "colorscale": [
             [
              0,
              "#0d0887"
             ],
             [
              0.1111111111111111,
              "#46039f"
             ],
             [
              0.2222222222222222,
              "#7201a8"
             ],
             [
              0.3333333333333333,
              "#9c179e"
             ],
             [
              0.4444444444444444,
              "#bd3786"
             ],
             [
              0.5555555555555556,
              "#d8576b"
             ],
             [
              0.6666666666666666,
              "#ed7953"
             ],
             [
              0.7777777777777778,
              "#fb9f3a"
             ],
             [
              0.8888888888888888,
              "#fdca26"
             ],
             [
              1,
              "#f0f921"
             ]
            ],
            "type": "surface"
           }
          ],
          "table": [
           {
            "cells": {
             "fill": {
              "color": "#EBF0F8"
             },
             "line": {
              "color": "white"
             }
            },
            "header": {
             "fill": {
              "color": "#C8D4E3"
             },
             "line": {
              "color": "white"
             }
            },
            "type": "table"
           }
          ]
         },
         "layout": {
          "annotationdefaults": {
           "arrowcolor": "#2a3f5f",
           "arrowhead": 0,
           "arrowwidth": 1
          },
          "autotypenumbers": "strict",
          "coloraxis": {
           "colorbar": {
            "outlinewidth": 0,
            "ticks": ""
           }
          },
          "colorscale": {
           "diverging": [
            [
             0,
             "#8e0152"
            ],
            [
             0.1,
             "#c51b7d"
            ],
            [
             0.2,
             "#de77ae"
            ],
            [
             0.3,
             "#f1b6da"
            ],
            [
             0.4,
             "#fde0ef"
            ],
            [
             0.5,
             "#f7f7f7"
            ],
            [
             0.6,
             "#e6f5d0"
            ],
            [
             0.7,
             "#b8e186"
            ],
            [
             0.8,
             "#7fbc41"
            ],
            [
             0.9,
             "#4d9221"
            ],
            [
             1,
             "#276419"
            ]
           ],
           "sequential": [
            [
             0,
             "#0d0887"
            ],
            [
             0.1111111111111111,
             "#46039f"
            ],
            [
             0.2222222222222222,
             "#7201a8"
            ],
            [
             0.3333333333333333,
             "#9c179e"
            ],
            [
             0.4444444444444444,
             "#bd3786"
            ],
            [
             0.5555555555555556,
             "#d8576b"
            ],
            [
             0.6666666666666666,
             "#ed7953"
            ],
            [
             0.7777777777777778,
             "#fb9f3a"
            ],
            [
             0.8888888888888888,
             "#fdca26"
            ],
            [
             1,
             "#f0f921"
            ]
           ],
           "sequentialminus": [
            [
             0,
             "#0d0887"
            ],
            [
             0.1111111111111111,
             "#46039f"
            ],
            [
             0.2222222222222222,
             "#7201a8"
            ],
            [
             0.3333333333333333,
             "#9c179e"
            ],
            [
             0.4444444444444444,
             "#bd3786"
            ],
            [
             0.5555555555555556,
             "#d8576b"
            ],
            [
             0.6666666666666666,
             "#ed7953"
            ],
            [
             0.7777777777777778,
             "#fb9f3a"
            ],
            [
             0.8888888888888888,
             "#fdca26"
            ],
            [
             1,
             "#f0f921"
            ]
           ]
          },
          "colorway": [
           "#636efa",
           "#EF553B",
           "#00cc96",
           "#ab63fa",
           "#FFA15A",
           "#19d3f3",
           "#FF6692",
           "#B6E880",
           "#FF97FF",
           "#FECB52"
          ],
          "font": {
           "color": "#2a3f5f"
          },
          "geo": {
           "bgcolor": "white",
           "lakecolor": "white",
           "landcolor": "#E5ECF6",
           "showlakes": true,
           "showland": true,
           "subunitcolor": "white"
          },
          "hoverlabel": {
           "align": "left"
          },
          "hovermode": "closest",
          "mapbox": {
           "style": "light"
          },
          "paper_bgcolor": "white",
          "plot_bgcolor": "#E5ECF6",
          "polar": {
           "angularaxis": {
            "gridcolor": "white",
            "linecolor": "white",
            "ticks": ""
           },
           "bgcolor": "#E5ECF6",
           "radialaxis": {
            "gridcolor": "white",
            "linecolor": "white",
            "ticks": ""
           }
          },
          "scene": {
           "xaxis": {
            "backgroundcolor": "#E5ECF6",
            "gridcolor": "white",
            "gridwidth": 2,
            "linecolor": "white",
            "showbackground": true,
            "ticks": "",
            "zerolinecolor": "white"
           },
           "yaxis": {
            "backgroundcolor": "#E5ECF6",
            "gridcolor": "white",
            "gridwidth": 2,
            "linecolor": "white",
            "showbackground": true,
            "ticks": "",
            "zerolinecolor": "white"
           },
           "zaxis": {
            "backgroundcolor": "#E5ECF6",
            "gridcolor": "white",
            "gridwidth": 2,
            "linecolor": "white",
            "showbackground": true,
            "ticks": "",
            "zerolinecolor": "white"
           }
          },
          "shapedefaults": {
           "line": {
            "color": "#2a3f5f"
           }
          },
          "ternary": {
           "aaxis": {
            "gridcolor": "white",
            "linecolor": "white",
            "ticks": ""
           },
           "baxis": {
            "gridcolor": "white",
            "linecolor": "white",
            "ticks": ""
           },
           "bgcolor": "#E5ECF6",
           "caxis": {
            "gridcolor": "white",
            "linecolor": "white",
            "ticks": ""
           }
          },
          "title": {
           "x": 0.05
          },
          "xaxis": {
           "automargin": true,
           "gridcolor": "white",
           "linecolor": "white",
           "ticks": "",
           "title": {
            "standoff": 15
           },
           "zerolinecolor": "white",
           "zerolinewidth": 2
          },
          "yaxis": {
           "automargin": true,
           "gridcolor": "white",
           "linecolor": "white",
           "ticks": "",
           "title": {
            "standoff": 15
           },
           "zerolinecolor": "white",
           "zerolinewidth": 2
          }
         }
        },
        "title": {
         "text": "Contour Plot"
        },
        "xaxis": {
         "range": [
          0.3913595252025234,
          1.0252424331939005
         ],
         "title": {
          "text": "bagging_fraction"
         }
        },
        "yaxis": {
         "range": [
          0.7,
          7.3
         ],
         "title": {
          "text": "bagging_freq"
         }
        }
       }
      }
     },
     "metadata": {},
     "output_type": "display_data"
    }
   ],
   "source": [
    "from optuna.visualization import plot_contour\n",
    "plot_contour(study, params=['bagging_fraction', 'bagging_freq'])"
   ]
  }
 ],
 "metadata": {
  "kernelspec": {
   "display_name": "Python 3",
   "language": "python",
   "name": "python3"
  },
  "language_info": {
   "codemirror_mode": {
    "name": "ipython",
    "version": 3
   },
   "file_extension": ".py",
   "mimetype": "text/x-python",
   "name": "python",
   "nbconvert_exporter": "python",
   "pygments_lexer": "ipython3",
   "version": "3.11.9"
  }
 },
 "nbformat": 4,
 "nbformat_minor": 2
}
