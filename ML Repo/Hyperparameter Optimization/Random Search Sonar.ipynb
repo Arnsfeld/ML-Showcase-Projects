{
 "cells": [
  {
   "cell_type": "code",
   "execution_count": 1,
   "metadata": {},
   "outputs": [
    {
     "name": "stdout",
     "output_type": "stream",
     "text": [
      "Best Score: -0.6047169879687049\n",
      "Best Hyperparameters: {'solver': 'liblinear', 'penalty': 'l2', 'C': 1}\n"
     ]
    }
   ],
   "source": [
    "\n",
    "import numpy as np\n",
    "import pandas as pd\n",
    "from pandas import read_csv\n",
    "from sklearn.model_selection import*\n",
    "from sklearn.linear_model import LogisticRegression\n",
    "from sklearn.metrics import log_loss\n",
    "from sklearn.model_selection import RandomizedSearchCV\n",
    "from sklearn import preprocessing\n",
    "import warnings\n",
    "warnings.filterwarnings('ignore')\n",
    "from sklearn.model_selection import train_test_split\n",
    "# load dataset\n",
    "url = \"https://archive.ics.uci.edu/ml/machine-learning-databases/undocumented/connectionist-bench/sonar/sonar.all-data\"\n",
    "dataset = read_csv(url, header=None)\n",
    "data = dataset.values\n",
    "x_data, y_data = data[:, :-1],data[:, -1]\n",
    "x_data = pd.DataFrame(x_data.astype('float64'))\n",
    "# Label Encoding Target\n",
    "le = preprocessing.LabelEncoder()\n",
    "le.fit(y_data)\n",
    "y_data = le.transform(y_data)\n",
    "y_data = pd.DataFrame(y_data.astype('float64'))\n",
    "\n",
    "# model\n",
    "model = LogisticRegression()\n",
    "\n",
    "# SKFOLD\n",
    "cv = StratifiedKFold(n_splits=10)\n",
    "\n",
    "# random space\n",
    "search_space = dict()\n",
    "search_space['solver'] = ['newton-cg', 'lbfgs', 'liblinear']\n",
    "search_space['penalty'] = ['none', 'l1', 'l2', 'elasticnet']\n",
    "search_space['C'] = [1e-5, 1e-4, 1e-3, 1e-2, 1e-1, 1, 10, 100]\n",
    "\n",
    "# random search\n",
    "search = RandomizedSearchCV(model, search_space, n_iter=500, scoring='neg_log_loss', n_jobs=-1, cv=cv, random_state=1)\n",
    "result = search.fit(x_data, y_data)\n",
    "\n",
    "# print results\n",
    "print('Best Score: %s' % result.best_score_)\n",
    "print('Best Hyperparameters: %s' % result.best_params_)"
   ]
  }
 ],
 "metadata": {
  "kernelspec": {
   "display_name": "Python 3",
   "language": "python",
   "name": "python3"
  },
  "language_info": {
   "codemirror_mode": {
    "name": "ipython",
    "version": 3
   },
   "file_extension": ".py",
   "mimetype": "text/x-python",
   "name": "python",
   "nbconvert_exporter": "python",
   "pygments_lexer": "ipython3",
   "version": "3.11.5"
  }
 },
 "nbformat": 4,
 "nbformat_minor": 2
}
