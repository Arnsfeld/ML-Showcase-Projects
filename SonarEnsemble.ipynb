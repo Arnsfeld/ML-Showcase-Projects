{
 "cells": [
  {
   "cell_type": "markdown",
   "metadata": {},
   "source": [
    "Preparing Input Data"
   ]
  },
  {
   "cell_type": "code",
   "execution_count": null,
   "metadata": {},
   "outputs": [],
   "source": []
  },
  {
   "cell_type": "code",
   "execution_count": null,
   "metadata": {},
   "outputs": [],
   "source": [
    "\n",
    "import numpy as np\n",
    "import pandas as pd\n",
    "from pandas import read_csv\n",
    "from sklearn.model_selection import*\n",
    "import sklearn.svm\n",
    "import optuna\n",
    "import xgboost as xgb\n",
    "from sklearn.metrics import log_loss\n",
    "from sklearn import preprocessing\n",
    "from sklearn.model_selection import train_test_split\n",
    "# load dataset\n",
    "url = \"https://archive.ics.uci.edu/ml/machine-learning-databases/undocumented/connectionist-bench/sonar/sonar.all-data\"\n",
    "dataset = read_csv(url, header=None)\n",
    "data = dataset.values\n",
    "x_data, y_data = data[:, :-1],data[:, -1]\n",
    "x_data = pd.DataFrame(x_data.astype('float64'))\n",
    "#Label Encoding Target\n",
    "le = preprocessing.LabelEncoder()\n",
    "le.fit(y_data)\n",
    "y_data = le.transform(y_data)\n",
    "y_data = pd.DataFrame(y_data.astype('float64'))\n",
    "##compare a validation set with the kfold output from optuna \n",
    "features, test_features, target, test_target = train_test_split(x_data, y_data, test_size=0.3, random_state=17)\n",
    "#compare set\n",
    "predictions_per_trial = dict()\n",
    "def objective(trial):\n",
    "    #Define Hyperparameter Search Space\n",
    "    params_optuna = {\n",
    "        \"tree_method\" : \"gpu_hist\",\n",
    "        \"n_estimators\" : trial.suggest_int(\"n_estimators\", 50, 1000),\n",
    "        \"max_depth\" : trial.suggest_int(\"max_depth\", 3, 19),\n",
    "        \"max_leaves\" : trial.suggest_int(\"max_leaves\", 15, 149),\n",
    "        \"grow_policy\" : trial.suggest_categorical(\"grow_policy\", [\"depthwise\", \"lossguide\"]),\n",
    "        \"learning_rate\" : trial.suggest_float(\"learning_rate\", 0, 1),\n",
    "        \"booster\" : trial.suggest_categorical(\"booster\", [\"gbtree\"]),\n",
    "        \"reg_alpha\" : trial.suggest_float(\"reg_alpha\", 0, 1),\n",
    "        \"reg_lambda\" : trial.suggest_float(\"reg_lambda\", 0, 1),\n",
    "        \"gamma\" : trial.suggest_float(\"gamma\", 0, 10),\n",
    "        \"min_child_weight\" : trial.suggest_float(\"min_child_weight\", 0, 20),\n",
    "        \"subsample\" : trial.suggest_float(\"subsample\", 0.5, 0.9)\n",
    "    }\n",
    "    \n",
    "    #KFold\n",
    "    skf = StratifiedKFold(n_splits=5, random_state=42, shuffle=True)\n",
    "    scores = []\n",
    "    for train_index,test_index in skf.split(features,target):\n",
    "        X_train, y_train = features.iloc[train_index],target.iloc[train_index]\n",
    "        X_val, y_val = features.iloc[test_index],target.iloc[test_index]\n",
    "    \n",
    "        classifier = xgb.XGBClassifier(**params_optuna)\n",
    "        classifier.fit(X_train, y_train)\n",
    "    \n",
    "        y_pred = classifier.predict_proba(X_val)[:,1]\n",
    "        X_train_pred = classifier.predict_proba(X_train)[:,1]\n",
    "        y_pred_test = classifier.predict_proba(test_features)[:,1]\n",
    "        \n",
    "        score = log_loss(y_val, y_pred.astype(np.float64))\n",
    "        scores.append(score)\n",
    "        #append to compare set\n",
    "        try:\n",
    "            predictions_per_trial[trial.number].append(y_pred_test)\n",
    "        except KeyError:\n",
    "            predictions_per_trial[trial.number] = [y_pred_test]\n",
    "    \n",
    "    return np.mean(scores)\n",
    "study = optuna.create_study(study_name=\"XGB_SKFold\", direction=\"minimize\")\n",
    "study.optimize(objective, n_trials=10)\n",
    "study_df = study.trials_dataframe()\n",
    "print(study.best_value)\n",
    "print(study.best_params)\n"
   ]
  }
 ],
 "metadata": {
  "kernelspec": {
   "display_name": "Python 3",
   "language": "python",
   "name": "python3"
  },
  "language_info": {
   "codemirror_mode": {
    "name": "ipython",
    "version": 3
   },
   "file_extension": ".py",
   "mimetype": "text/x-python",
   "name": "python",
   "nbconvert_exporter": "python",
   "pygments_lexer": "ipython3",
   "version": "3.10.2"
  },
  "orig_nbformat": 4,
  "vscode": {
   "interpreter": {
    "hash": "ca40859e25e6f5c3b23861b24333b83c0800bcbce21f602121fe64f19c3652c3"
   }
  }
 },
 "nbformat": 4,
 "nbformat_minor": 2
}
