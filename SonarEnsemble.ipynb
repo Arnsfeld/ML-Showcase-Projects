{
 "cells": [
  {
   "cell_type": "markdown",
   "metadata": {},
   "source": [
    "Loading Libraries"
   ]
  },
  {
   "cell_type": "code",
   "execution_count": 40,
   "metadata": {},
   "outputs": [],
   "source": [
    "import numpy as np\n",
    "import pandas as pd\n",
    "from pandas import read_csv\n",
    "from sklearn.model_selection import*\n",
    "from sklearn.metrics import accuracy_score\n",
    "from sklearn import preprocessing\n",
    "import matplotlib.pyplot as plt\n",
    "from sklearn import model_selection\n",
    "from sklearn.tree import ExtraTreeClassifier\n",
    "from sklearn.ensemble import RandomForestClassifier\n",
    "from catboost import CatBoostClassifier, Pool\n",
    "from lightgbm import LGBMClassifier\n",
    "from xgboost import XGBClassifier\n",
    "from sklearn.linear_model import RidgeClassifier\n",
    "from sklearn.ensemble import GradientBoostingClassifier\n",
    "from sklearn.ensemble import AdaBoostClassifier\n",
    "from sklearn.linear_model import LogisticRegression\n",
    "from sklearn.discriminant_analysis import LinearDiscriminantAnalysis\n",
    "from sklearn.neighbors import KNeighborsClassifier\n",
    "from sklearn.svm import SVC\n",
    "from sklearn.tree import DecisionTreeClassifier\n",
    "from sklearn.naive_bayes import GaussianNB\n",
    "from sklearn.discriminant_analysis import QuadraticDiscriminantAnalysis\n",
    "from sklearn.linear_model import PassiveAggressiveClassifier\n",
    "from sklearn.dummy import DummyClassifier\n",
    "import warnings\n",
    "warnings.filterwarnings('ignore')"
   ]
  },
  {
   "cell_type": "markdown",
   "metadata": {},
   "source": [
    "Preparing Dataset"
   ]
  },
  {
   "cell_type": "code",
   "execution_count": 41,
   "metadata": {},
   "outputs": [],
   "source": [
    "url = \"https://archive.ics.uci.edu/ml/machine-learning-databases/undocumented/connectionist-bench/sonar/sonar.all-data\"\n",
    "dataset = read_csv(url, header=None)\n",
    "data = dataset.values\n",
    "x_data, y_data = data[:, :-1],data[:, -1]\n",
    "x_data = pd.DataFrame(x_data.astype('float64'))\n",
    "# Label Encoding Target\n",
    "###  (M) Mines are now 1 and (R) Rocks are now 0\n",
    "le = preprocessing.LabelEncoder()\n",
    "le.fit(y_data)\n",
    "y_data = le.transform(y_data)\n",
    "y_data = pd.DataFrame(y_data.astype('float64'))"
   ]
  },
  {
   "cell_type": "markdown",
   "metadata": {},
   "source": [
    "SpotOnCheck: Compare Classifier"
   ]
  },
  {
   "cell_type": "code",
   "execution_count": 42,
   "metadata": {},
   "outputs": [
    {
     "name": "stdout",
     "output_type": "stream",
     "text": [
      "neg_log_loss\n",
      "RF: -0.528297 (0.100396)\n",
      "CatB: -0.496067 (0.122141)\n",
      "lgbm: -0.595345 (0.270097)\n",
      "xgb: -0.657288 (0.254911)\n",
      "GBC: -0.725244 (0.371779)\n",
      "ADA: -0.644955 (0.035297)\n",
      "LR: -0.615503 (0.210389)\n",
      "SVM: -0.729842 (0.242143)\n",
      "DC: -0.690984 (0.002031)\n"
     ]
    },
    {
     "data": {
      "image/png": "[encoded data removed]",
      "text/plain": [
       "<Figure size 640x480 with 1 Axes>"
      ]
     },
     "metadata": {},
     "output_type": "display_data"
    }
   ],
   "source": [
    "# append models\n",
    "models = []\n",
    "#models.append(('ET', ExtraTreeClassifier()))\n",
    "models.append(('RF', RandomForestClassifier()))\n",
    "models.append(('CatB', CatBoostClassifier(verbose=False)))\n",
    "models.append(('lgbm', LGBMClassifier(verbose=-1)))\n",
    "models.append(('xgb', XGBClassifier()))\n",
    "#models.append(('ridge',  RidgeClassifier()))\n",
    "models.append(('GBC',  GradientBoostingClassifier()))\n",
    "models.append(('ADA',  AdaBoostClassifier()))\n",
    "models.append(('LR', LogisticRegression()))\n",
    "#models.append(('LDA', LinearDiscriminantAnalysis()))\n",
    "#models.append(('KNN', KNeighborsClassifier()))\n",
    "models.append(('SVM', SVC(probability=True)))\n",
    "#models.append(('CART', DecisionTreeClassifier()))\n",
    "#models.append(('NB', GaussianNB()))\n",
    "#models.append(('QDA', QuadraticDiscriminantAnalysis()))\n",
    "models.append(('DC', DummyClassifier()))\n",
    "results = []\n",
    "results_std = []\n",
    "names = []\n",
    "scoring = 'neg_log_loss'\n",
    "print(scoring)\n",
    "# Set Cross-Validation\n",
    "kfold = StratifiedKFold(n_splits=10, random_state=None)\n",
    "for name, model in models:   \n",
    "    cv_results = cross_val_score(model, x_data, y_data, cv=kfold, scoring=scoring)\n",
    "    results.append(cv_results)\n",
    "    names.append(name)\n",
    "    #results_std.append(cv_results.std())\n",
    "    mean_scoring = \"%s: %f (%f)\" % (name, cv_results.mean(), cv_results.std())\n",
    "    print(mean_scoring)\n",
    "# Create a Dataframe with the results for possible later processing\n",
    "#df_SpotonCheck = pd.DataFrame({'name': names, 'Logloss': results, 'Std': results_std})\n",
    "# Classifier Comparision Boxplot\n",
    "fig = plt.figure()\n",
    "fig.suptitle('Algorithm Comparison')\n",
    "ax = fig.add_subplot(111)\n",
    "plt.boxplot(results)\n",
    "ax.set_xticklabels(names)\n",
    "plt.show()"
   ]
  },
  {
   "cell_type": "markdown",
   "metadata": {},
   "source": [
    "Findings: SpotOnCheck  \n",
    "Based on the logloss results, we will pick a few tree-based models and since logistic regression is surprisingly good, we will take that too."
   ]
  },
  {
   "cell_type": "markdown",
   "metadata": {},
   "source": [
    "SpotOnCheck Ensembles"
   ]
  },
  {
   "cell_type": "code",
   "execution_count": null,
   "metadata": {},
   "outputs": [],
   "source": []
  }
 ],
 "metadata": {
  "kernelspec": {
   "display_name": "Python 3",
   "language": "python",
   "name": "python3"
  },
  "language_info": {
   "codemirror_mode": {
    "name": "ipython",
    "version": 3
   },
   "file_extension": ".py",
   "mimetype": "text/x-python",
   "name": "python",
   "nbconvert_exporter": "python",
   "pygments_lexer": "ipython3",
   "version": "3.11.5"
  },
  "orig_nbformat": 4,
  "vscode": {
   "interpreter": {
    "hash": "ca40859e25e6f5c3b23861b24333b83c0800bcbce21f602121fe64f19c3652c3"
   }
  }
 },
 "nbformat": 4,
 "nbformat_minor": 2
}
