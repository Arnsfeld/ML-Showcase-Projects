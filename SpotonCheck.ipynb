{
 "cells": [
  {
   "cell_type": "code",
   "execution_count": 36,
   "metadata": {},
   "outputs": [],
   "source": [
    "from pandas import read_csv\n",
    "import matplotlib.pyplot as plt\n",
    "from sklearn.preprocessing import OrdinalEncoder\n",
    "import time\n",
    "from sklearn.preprocessing import LabelEncoder\n",
    "import warnings\n",
    "warnings.filterwarnings('ignore')\n",
    "import pandas as pd\n",
    "import matplotlib.pyplot as plt\n",
    "from sklearn import model_selection\n",
    "from sklearn.tree import ExtraTreeClassifier\n",
    "from sklearn.ensemble import RandomForestClassifier\n",
    "from catboost import CatBoostClassifier, Pool\n",
    "from lightgbm import LGBMClassifier\n",
    "from xgboost import XGBClassifier\n",
    "from sklearn.linear_model import RidgeClassifier\n",
    "from sklearn.ensemble import GradientBoostingClassifier\n",
    "from sklearn.ensemble import AdaBoostClassifier\n",
    "from sklearn.linear_model import LogisticRegression\n",
    "from sklearn.discriminant_analysis import LinearDiscriminantAnalysis\n",
    "from sklearn.neighbors import KNeighborsClassifier\n",
    "from sklearn.svm import SVC\n",
    "from sklearn.tree import DecisionTreeClassifier\n",
    "from sklearn.naive_bayes import GaussianNB\n",
    "from sklearn.discriminant_analysis import QuadraticDiscriminantAnalysis\n",
    "from sklearn.linear_model import PassiveAggressiveClassifier\n",
    "from sklearn.dummy import DummyClassifier\n",
    "from sklearn.model_selection import train_test_split\n",
    "import warnings\n",
    "warnings.filterwarnings('ignore')\n",
    "\n",
    "from numpy import mean\n",
    "from numpy import std\n",
    "from sklearn.model_selection import cross_val_score\n",
    "from sklearn.model_selection import RepeatedStratifiedKFold\n",
    "from sklearn.ensemble import StackingClassifier\n",
    "from sklearn.ensemble import VotingClassifier\n",
    "from matplotlib import pyplot\n"
   ]
  },
  {
   "cell_type": "code",
   "execution_count": 13,
   "metadata": {},
   "outputs": [],
   "source": [
    "#Reading Data\n",
    "df = read_csv(\"train.csv\", header=0)\n",
    "#Set Sample for quick calculation\n",
    "#df = df.sample(frac= 0.1)\n",
    "#Drop Column id\n",
    "df = df.drop('id', axis=1)"
   ]
  },
  {
   "cell_type": "code",
   "execution_count": 14,
   "metadata": {},
   "outputs": [],
   "source": [
    "#Quick EDA with PandasProfileReader\n",
    "#from ydata_profiling import ProfileReport\n",
    "#profile = ProfileReport(df, title=\"Pandas Profiling Report\")\n",
    "#profile.to_widgets()\n"
   ]
  },
  {
   "cell_type": "code",
   "execution_count": 15,
   "metadata": {},
   "outputs": [],
   "source": [
    "x_data = df.iloc[:, :-7]\n",
    "y_data = df.iloc[:, -7:]"
   ]
  },
  {
   "cell_type": "code",
   "execution_count": 16,
   "metadata": {},
   "outputs": [],
   "source": [
    "\n",
    "\n",
    "y_data['target'] = y_data[['Pastry','Z_Scratch','K_Scatch','Stains','Dirtiness','Bumps','Other_Faults']].idxmax(axis=1)\n",
    "\n",
    "\n",
    "le = LabelEncoder()\n",
    "enc = le.fit_transform(y_data.target)\n",
    "y_data_enc = y_data.assign(target=enc)\n",
    "target = y_data_enc['target']"
   ]
  },
  {
   "cell_type": "markdown",
   "metadata": {},
   "source": [
    "Preparing Test Data"
   ]
  },
  {
   "cell_type": "code",
   "execution_count": 8,
   "metadata": {},
   "outputs": [],
   "source": [
    "#Reading Data\n",
    "df_test = read_csv(\"test.csv\", header=0)\n",
    "x_test = df_test.drop('id', axis=1)"
   ]
  },
  {
   "cell_type": "markdown",
   "metadata": {},
   "source": [
    "# SpotOnCheck"
   ]
  },
  {
   "cell_type": "code",
   "execution_count": null,
   "metadata": {},
   "outputs": [],
   "source": [
    "\n",
    "\n",
    "# prepare models\n",
    "models = []\n",
    "#models.append(('ET', ExtraTreeClassifier()))\n",
    "models.append(('RF', RandomForestClassifier()))\n",
    "models.append(('CatB', CatBoostClassifier(verbose=False)))\n",
    "models.append(('lgbm', LGBMClassifier(verbose=-1)))\n",
    "models.append(('xgb', XGBClassifier()))\n",
    "models.append(('GBC',  GradientBoostingClassifier()))\n",
    "models.append(('ADA',  AdaBoostClassifier()))\n",
    "models.append(('LR', LogisticRegression()))\n",
    "models.append(('LDA', LinearDiscriminantAnalysis()))\n",
    "#models.append(('KNN', KNeighborsClassifier()))\n",
    "#models.append(('SVM', SVC(probability=True)))\n",
    "#models.append(('CART', DecisionTreeClassifier()))\n",
    "#models.append(('NB', GaussianNB()))\n",
    "#models.append(('QDA', QuadraticDiscriminantAnalysis()))\n",
    "#models.append(('PA', PassiveAggressiveClassifier()))\n",
    "#models.append(('DC', DummyClassifier()))\n",
    "# evaluate each model in turn\n",
    "results = []\n",
    "names = []\n",
    "scoring = 'neg_log_loss'\n",
    "print(scoring)\n",
    "for name, model in models:\n",
    "    start_time = time.time()\n",
    "    kfold = model_selection.StratifiedKFold(n_splits=10, random_state=None)\n",
    "    cv_results = model_selection.cross_val_score(model, x_data, target, cv=kfold, scoring=scoring)\n",
    "    results.append(cv_results)\n",
    "    names.append(name)\n",
    "    mean_scoring = \"%s: %f (%f)\" % (name, cv_results.mean(), cv_results.std())\n",
    "    stop_time = time.time()\n",
    "    duration = stop_time - start_time\n",
    "    print(mean_scoring)\n",
    "    print(f\"Iteration {name}: {duration:.6f} seconds\")\n",
    "\n",
    "# boxplot algorithm comparison\n",
    "fig = plt.figure()\n",
    "fig.suptitle('Algorithm Comparison')\n",
    "ax = fig.add_subplot(111)\n",
    "plt.boxplot(results)\n",
    "ax.set_xticklabels(names)\n",
    "plt.show()\n"
   ]
  },
  {
   "cell_type": "markdown",
   "metadata": {},
   "source": [
    "SpotOnCheck Findings  \n",
    "Seems like Catboost, lgbm, xgboost and gbc perform well. Next Step should be Hyperparameter Tuning and possible ensemble Model."
   ]
  },
  {
   "cell_type": "markdown",
   "metadata": {},
   "source": [
    "SpotonCheck Stacking Ensemble, Soft Voting"
   ]
  },
  {
   "cell_type": "code",
   "execution_count": 70,
   "metadata": {},
   "outputs": [
    {
     "name": "stdout",
     "output_type": "stream",
     "text": [
      ">CatB -1.001 (0.015)\n",
      ">lgbm -1.015 (0.016)\n",
      ">xgb -1.053 (0.017)\n",
      ">GBC -0.997 (0.015)\n",
      ">stacking -1.024 (0.015)\n",
      ">soft_voting -0.986 (0.014)\n"
     ]
    },
    {
     "data": {
      "image/png": "[encoded data removed]",
      "text/plain": [
       "<Figure size 640x480 with 1 Axes>"
      ]
     },
     "metadata": {},
     "output_type": "display_data"
    }
   ],
   "source": [
    "\n",
    "# compare ensemble to each baseline classifier\n",
    "from numpy import mean\n",
    "from numpy import std\n",
    "from sklearn.model_selection import cross_val_score\n",
    "from sklearn.model_selection import RepeatedStratifiedKFold\n",
    "from sklearn.ensemble import StackingClassifier\n",
    "from sklearn.ensemble import VotingClassifier\n",
    "from matplotlib import pyplot\n",
    "# get a stacking ensemble of models\n",
    "def get_stacking():\n",
    "    # define the base models\n",
    "    level0 = list()\n",
    "    level0.append(('CatB', CatBoostClassifier(verbose=False)))\n",
    "    level0.append(('lgbm', LGBMClassifier(verbose=-1)))\n",
    "    level0.append(('xgb', XGBClassifier()))\n",
    "    level0.append(('GBC', GradientBoostingClassifier()))\n",
    "    # define meta learner model\n",
    "    level1 = LogisticRegression()\n",
    "    # define the stacking ensemble\n",
    "    model = StackingClassifier(estimators=level0, final_estimator=level1, cv=5)\n",
    "    return model\n",
    "\n",
    "def get_voting_soft():\n",
    "    # define the base models\n",
    "    models = list()\n",
    "    models.append(('CatB', CatBoostClassifier(verbose=False)))\n",
    "    models.append(('lgbm', LGBMClassifier(verbose=-1)))\n",
    "    models.append(('xgb', XGBClassifier()))\n",
    "    models.append(('GBC',  GradientBoostingClassifier()))\n",
    "    # define the voting ensemble\n",
    "    ensemble = VotingClassifier(estimators=models, voting='soft')\n",
    "    return ensemble\n",
    "# get a list of models to evaluate\n",
    "def get_models():\n",
    "    models = dict()\n",
    "    models['CatB'] = CatBoostClassifier(verbose=False)\n",
    "    models['lgbm'] = LGBMClassifier(verbose=-1)\n",
    "    models['xgb'] = XGBClassifier()\n",
    "    models['GBC'] = GradientBoostingClassifier()\n",
    "    models['stacking'] = get_stacking()\n",
    "    models['soft_voting'] = get_voting_soft()\n",
    "    return models\n",
    "# evaluate a give model using cross-validation\n",
    "\n",
    "def evaluate_model(model, X, y):\n",
    "    cv = RepeatedStratifiedKFold(n_splits=10, n_repeats=3, random_state=1)\n",
    "    scores = cross_val_score(model, X, y, scoring='neg_log_loss', cv=cv, n_jobs=-1, error_score='raise')\n",
    "    return scores\n",
    "\n",
    "# get the models to evaluate\n",
    "models = get_models()\n",
    "# evaluate the models and store results\n",
    "results, names = list(), list()\n",
    "for name, model in models.items():\n",
    "    scores = evaluate_model(model, x_data, target)\n",
    "    results.append(scores)\n",
    "    names.append(name)\n",
    "    print('>%s %.3f (%.3f)' % (name, mean(scores), std(scores)))\n",
    "# plot model performance for comparison\n",
    "pyplot.boxplot(results, labels=names, showmeans=True)\n",
    "pyplot.show()\n"
   ]
  },
  {
   "cell_type": "markdown",
   "metadata": {},
   "source": [
    "Ensemble Results  \n",
    "Stacking slightly worse, soft voting slightly better\n",
    ">CatB -1.001 (0.015)  \n",
    ">lgbm -1.015 (0.016)  \n",
    ">xgb -1.053 (0.017)  \n",
    ">GBC -0.997 (0.015)  \n",
    ">stacking -1.024 (0.015)  \n",
    ">soft_voting -0.986 (0.014)"
   ]
  },
  {
   "cell_type": "code",
   "execution_count": null,
   "metadata": {},
   "outputs": [],
   "source": []
  },
  {
   "cell_type": "code",
   "execution_count": null,
   "metadata": {},
   "outputs": [],
   "source": []
  },
  {
   "cell_type": "markdown",
   "metadata": {},
   "source": [
    "# Hyperparameter Tuning"
   ]
  },
  {
   "cell_type": "markdown",
   "metadata": {},
   "source": [
    "## Catboost Hyperparameter Tuning"
   ]
  },
  {
   "cell_type": "markdown",
   "metadata": {},
   "source": [
    "### Fit and Predict"
   ]
  },
  {
   "cell_type": "code",
   "execution_count": 29,
   "metadata": {},
   "outputs": [],
   "source": [
    "model = CatBoostClassifier(verbose=False)\n",
    "model.fit(x_data, target)\n",
    "pred = model.predict_proba(x_test)\n",
    "submission = pd.DataFrame(pred,columns=le.classes_)\n",
    "submission['id'] = df_test['id']\n",
    "submission.to_csv(\"CBoostNoTune.csv\",index=False)"
   ]
  },
  {
   "cell_type": "markdown",
   "metadata": {},
   "source": [
    "## XGBoost Hyperparameter Tuning  "
   ]
  },
  {
   "cell_type": "code",
   "execution_count": 26,
   "metadata": {},
   "outputs": [],
   "source": [
    "import numpy as np\n",
    "import pandas as pd\n",
    "from pandas import read_csv\n",
    "from sklearn.model_selection import*\n",
    "import optuna\n",
    "import xgboost as xgb\n",
    "from sklearn.metrics import log_loss"
   ]
  },
  {
   "cell_type": "code",
   "execution_count": 34,
   "metadata": {},
   "outputs": [
    {
     "name": "stderr",
     "output_type": "stream",
     "text": [
      "[I 2024-03-06 11:37:31,171] A new study created in memory with name: XGB_KFold\n",
      "[I 2024-03-06 11:37:42,646] Trial 0 finished with value: 0.9957581160226308 and parameters: {'n_estimators': 97, 'max_depth': 10, 'max_leaves': 73, 'grow_policy': 'lossguide', 'learning_rate': 0.22972300664630607, 'booster': 'gbtree', 'reg_alpha': 0.8303098158793843, 'reg_lambda': 0.01785917971815909, 'gamma': 2.2658971546559803, 'min_child_weight': 2.9214295935430346, 'subsample': 0.8666572898006645}. Best is trial 0 with value: 0.9957581160226308.\n",
      "[I 2024-03-06 11:38:38,880] Trial 1 finished with value: 1.2785894613407305 and parameters: {'n_estimators': 246, 'max_depth': 17, 'max_leaves': 29, 'grow_policy': 'lossguide', 'learning_rate': 0.3994472687314816, 'booster': 'gbtree', 'reg_alpha': 0.270315303574742, 'reg_lambda': 0.5025976522765363, 'gamma': 0.27706510132778916, 'min_child_weight': 12.518013014917262, 'subsample': 0.5259985206726928}. Best is trial 0 with value: 0.9957581160226308.\n",
      "[I 2024-03-06 11:39:10,894] Trial 2 finished with value: 1.4064440107792542 and parameters: {'n_estimators': 594, 'max_depth': 7, 'max_leaves': 52, 'grow_policy': 'depthwise', 'learning_rate': 0.7873874620718267, 'booster': 'gbtree', 'reg_alpha': 0.46934981205222626, 'reg_lambda': 0.33467663327311614, 'gamma': 1.2788839150276121, 'min_child_weight': 4.171647054090926, 'subsample': 0.5204921944814526}. Best is trial 0 with value: 0.9957581160226308.\n",
      "[I 2024-03-06 11:39:50,543] Trial 3 finished with value: 1.011047421592562 and parameters: {'n_estimators': 998, 'max_depth': 11, 'max_leaves': 128, 'grow_policy': 'depthwise', 'learning_rate': 0.4142443771509018, 'booster': 'gbtree', 'reg_alpha': 0.7775040736569802, 'reg_lambda': 0.2832716431004493, 'gamma': 9.212365724689542, 'min_child_weight': 6.436249995017274, 'subsample': 0.8777937688170285}. Best is trial 0 with value: 0.9957581160226308.\n",
      "[I 2024-03-06 11:40:29,221] Trial 4 finished with value: 1.0510929307780112 and parameters: {'n_estimators': 936, 'max_depth': 11, 'max_leaves': 16, 'grow_policy': 'lossguide', 'learning_rate': 0.7912214824218395, 'booster': 'gbtree', 'reg_alpha': 0.2643899829424261, 'reg_lambda': 0.5706964869473384, 'gamma': 3.221155738294904, 'min_child_weight': 5.359259080525884, 'subsample': 0.7147284184161127}. Best is trial 0 with value: 0.9957581160226308.\n",
      "[I 2024-03-06 11:40:54,730] Trial 5 finished with value: 0.9959511863374682 and parameters: {'n_estimators': 631, 'max_depth': 7, 'max_leaves': 146, 'grow_policy': 'depthwise', 'learning_rate': 0.41159965211807215, 'booster': 'gbtree', 'reg_alpha': 0.7554391659596661, 'reg_lambda': 0.3809837174914812, 'gamma': 5.26331166387071, 'min_child_weight': 15.016050103863492, 'subsample': 0.7826808929811355}. Best is trial 0 with value: 0.9957581160226308.\n",
      "[I 2024-03-06 11:41:16,733] Trial 6 finished with value: 1.025093436387928 and parameters: {'n_estimators': 558, 'max_depth': 12, 'max_leaves': 138, 'grow_policy': 'depthwise', 'learning_rate': 0.899477728508122, 'booster': 'gbtree', 'reg_alpha': 0.5255334907774737, 'reg_lambda': 0.5573239785094575, 'gamma': 8.448051763905177, 'min_child_weight': 18.398531011649556, 'subsample': 0.5498085035941427}. Best is trial 0 with value: 0.9957581160226308.\n",
      "[I 2024-03-06 11:41:52,877] Trial 7 finished with value: 1.0091289076380368 and parameters: {'n_estimators': 909, 'max_depth': 10, 'max_leaves': 52, 'grow_policy': 'lossguide', 'learning_rate': 0.5137860718829977, 'booster': 'gbtree', 'reg_alpha': 0.48988513614818974, 'reg_lambda': 0.884452228574117, 'gamma': 8.392162075147528, 'min_child_weight': 8.245768059986204, 'subsample': 0.5134064377190465}. Best is trial 0 with value: 0.9957581160226308.\n",
      "[I 2024-03-06 11:42:06,499] Trial 8 finished with value: 1.011116653927429 and parameters: {'n_estimators': 328, 'max_depth': 13, 'max_leaves': 42, 'grow_policy': 'depthwise', 'learning_rate': 0.6854512681480015, 'booster': 'gbtree', 'reg_alpha': 0.22085089893438403, 'reg_lambda': 0.7621455159600573, 'gamma': 6.995064985253214, 'min_child_weight': 15.648471873244983, 'subsample': 0.5629503918373401}. Best is trial 0 with value: 0.9957581160226308.\n",
      "[I 2024-03-06 11:42:36,047] Trial 9 finished with value: 1.004316976358203 and parameters: {'n_estimators': 734, 'max_depth': 19, 'max_leaves': 54, 'grow_policy': 'lossguide', 'learning_rate': 0.5936062845215342, 'booster': 'gbtree', 'reg_alpha': 0.9576425171086299, 'reg_lambda': 0.47887755785420616, 'gamma': 6.467681691726819, 'min_child_weight': 18.77494663991922, 'subsample': 0.5272213171891387}. Best is trial 0 with value: 0.9957581160226308.\n",
      "[I 2024-03-06 11:42:39,900] Trial 10 finished with value: 1.0400394039614138 and parameters: {'n_estimators': 52, 'max_depth': 3, 'max_leaves': 96, 'grow_policy': 'lossguide', 'learning_rate': 0.0861227571941523, 'booster': 'gbtree', 'reg_alpha': 0.015451068495418996, 'reg_lambda': 0.0069998326882178, 'gamma': 2.872015434191195, 'min_child_weight': 0.6246988061868719, 'subsample': 0.8994269194044087}. Best is trial 0 with value: 0.9957581160226308.\n",
      "[I 2024-03-06 11:42:56,828] Trial 11 finished with value: 0.9893205370605512 and parameters: {'n_estimators': 383, 'max_depth': 6, 'max_leaves': 90, 'grow_policy': 'depthwise', 'learning_rate': 0.19984817609607444, 'booster': 'gbtree', 'reg_alpha': 0.782976137535405, 'reg_lambda': 0.030054666756363407, 'gamma': 4.134691614009544, 'min_child_weight': 12.222008237283461, 'subsample': 0.7931791514637467}. Best is trial 11 with value: 0.9893205370605512.\n",
      "[I 2024-03-06 11:43:15,276] Trial 12 finished with value: 0.9863685060986545 and parameters: {'n_estimators': 350, 'max_depth': 5, 'max_leaves': 88, 'grow_policy': 'lossguide', 'learning_rate': 0.13403926188305168, 'booster': 'gbtree', 'reg_alpha': 0.9966380074780039, 'reg_lambda': 0.019463820457390705, 'gamma': 3.0541574081134066, 'min_child_weight': 10.236839065120254, 'subsample': 0.8148606864459345}. Best is trial 12 with value: 0.9863685060986545.\n",
      "[I 2024-03-06 11:43:40,041] Trial 13 finished with value: 1.0387658725295164 and parameters: {'n_estimators': 403, 'max_depth': 3, 'max_leaves': 104, 'grow_policy': 'depthwise', 'learning_rate': 0.011494355836250275, 'booster': 'gbtree', 'reg_alpha': 0.9947708539965612, 'reg_lambda': 0.1561355285968884, 'gamma': 3.9137549323778402, 'min_child_weight': 10.912086082376316, 'subsample': 0.7900347615942178}. Best is trial 12 with value: 0.9863685060986545.\n",
      "[I 2024-03-06 11:43:58,728] Trial 14 finished with value: 0.9917416769872685 and parameters: {'n_estimators': 407, 'max_depth': 7, 'max_leaves': 82, 'grow_policy': 'lossguide', 'learning_rate': 0.23685547506430943, 'booster': 'gbtree', 'reg_alpha': 0.6567637168957012, 'reg_lambda': 0.17827634113690394, 'gamma': 4.546397855592751, 'min_child_weight': 9.661347599608895, 'subsample': 0.7931863150923272}. Best is trial 12 with value: 0.9863685060986545.\n",
      "[I 2024-03-06 11:44:13,713] Trial 15 finished with value: 0.9947718223284175 and parameters: {'n_estimators': 240, 'max_depth': 5, 'max_leaves': 114, 'grow_policy': 'depthwise', 'learning_rate': 0.16866504947149966, 'booster': 'gbtree', 'reg_alpha': 0.9097479054885874, 'reg_lambda': 0.14783026474689043, 'gamma': 1.769239310034438, 'min_child_weight': 12.338891453044527, 'subsample': 0.7004181644595315}. Best is trial 12 with value: 0.9863685060986545.\n",
      "[I 2024-03-06 11:44:32,764] Trial 16 finished with value: 0.9955717264111078 and parameters: {'n_estimators': 458, 'max_depth': 5, 'max_leaves': 77, 'grow_policy': 'lossguide', 'learning_rate': 0.290979450284413, 'booster': 'gbtree', 'reg_alpha': 0.6598228562004653, 'reg_lambda': 0.08655704129313102, 'gamma': 5.760693830770258, 'min_child_weight': 14.881944055766608, 'subsample': 0.8330703743553121}. Best is trial 12 with value: 0.9863685060986545.\n",
      "[I 2024-03-06 11:44:52,127] Trial 17 finished with value: 1.1877967886243184 and parameters: {'n_estimators': 220, 'max_depth': 5, 'max_leaves': 97, 'grow_policy': 'depthwise', 'learning_rate': 0.007806147538459429, 'booster': 'gbtree', 'reg_alpha': 0.8723819244706138, 'reg_lambda': 0.24939229824827347, 'gamma': 4.267621540008052, 'min_child_weight': 7.712155964928213, 'subsample': 0.7437901868865161}. Best is trial 12 with value: 0.9863685060986545.\n",
      "[I 2024-03-06 11:45:26,581] Trial 18 finished with value: 0.9865847299121968 and parameters: {'n_estimators': 752, 'max_depth': 8, 'max_leaves': 66, 'grow_policy': 'depthwise', 'learning_rate': 0.12332280836947346, 'booster': 'gbtree', 'reg_alpha': 0.6733799581189646, 'reg_lambda': 0.7067435108197503, 'gamma': 3.4751757466527886, 'min_child_weight': 12.55229407745241, 'subsample': 0.6389684818257944}. Best is trial 12 with value: 0.9863685060986545.\n",
      "[I 2024-03-06 11:47:49,899] Trial 19 finished with value: 1.089667024982836 and parameters: {'n_estimators': 752, 'max_depth': 9, 'max_leaves': 65, 'grow_policy': 'lossguide', 'learning_rate': 0.10546261226133828, 'booster': 'gbtree', 'reg_alpha': 0.6293604125272009, 'reg_lambda': 0.7550761184725283, 'gamma': 0.5327981452299877, 'min_child_weight': 9.193581945833337, 'subsample': 0.6060035083306574}. Best is trial 12 with value: 0.9863685060986545.\n",
      "[I 2024-03-06 11:48:27,615] Trial 20 finished with value: 1.0044566535857518 and parameters: {'n_estimators': 794, 'max_depth': 14, 'max_leaves': 116, 'grow_policy': 'lossguide', 'learning_rate': 0.34860585246748277, 'booster': 'gbtree', 'reg_alpha': 0.3690589696736123, 'reg_lambda': 0.69746487264354, 'gamma': 2.9822441396966424, 'min_child_weight': 14.342775352103477, 'subsample': 0.6484002053042587}. Best is trial 12 with value: 0.9863685060986545.\n",
      "[I 2024-03-06 11:48:49,781] Trial 21 finished with value: 0.9876487885422144 and parameters: {'n_estimators': 464, 'max_depth': 8, 'max_leaves': 90, 'grow_policy': 'depthwise', 'learning_rate': 0.13892741039447865, 'booster': 'gbtree', 'reg_alpha': 0.7550471055783716, 'reg_lambda': 0.8564996401751744, 'gamma': 3.6778135984198066, 'min_child_weight': 11.69780247421578, 'subsample': 0.6488956274398487}. Best is trial 12 with value: 0.9863685060986545.\n",
      "[I 2024-03-06 11:49:13,494] Trial 22 finished with value: 0.9867118277296963 and parameters: {'n_estimators': 480, 'max_depth': 9, 'max_leaves': 68, 'grow_policy': 'depthwise', 'learning_rate': 0.11451086120322627, 'booster': 'gbtree', 'reg_alpha': 0.7047452953205428, 'reg_lambda': 0.9479505700237622, 'gamma': 3.558628497445315, 'min_child_weight': 10.710163820144219, 'subsample': 0.6513019264948849}. Best is trial 12 with value: 0.9863685060986545.\n",
      "[I 2024-03-06 11:49:47,293] Trial 23 finished with value: 1.0191881086395405 and parameters: {'n_estimators': 690, 'max_depth': 9, 'max_leaves': 64, 'grow_policy': 'depthwise', 'learning_rate': 0.3014818663913371, 'booster': 'gbtree', 'reg_alpha': 0.5738015382671633, 'reg_lambda': 0.9849287492419384, 'gamma': 2.1181392775768715, 'min_child_weight': 9.986310657142262, 'subsample': 0.6564900891981635}. Best is trial 12 with value: 0.9863685060986545.\n",
      "[I 2024-03-06 11:50:12,265] Trial 24 finished with value: 0.993552187565205 and parameters: {'n_estimators': 534, 'max_depth': 15, 'max_leaves': 37, 'grow_policy': 'depthwise', 'learning_rate': 0.08361447153110556, 'booster': 'gbtree', 'reg_alpha': 0.3846518755203797, 'reg_lambda': 0.9863732757077576, 'gamma': 5.432615674798434, 'min_child_weight': 13.835274846753272, 'subsample': 0.6025823445662536}. Best is trial 12 with value: 0.9863685060986545.\n",
      "[I 2024-03-06 11:51:14,560] Trial 25 finished with value: 1.0505747647482835 and parameters: {'n_estimators': 847, 'max_depth': 4, 'max_leaves': 67, 'grow_policy': 'depthwise', 'learning_rate': 0.0042229138478160205, 'booster': 'gbtree', 'reg_alpha': 0.6933490300901793, 'reg_lambda': 0.6888343985595279, 'gamma': 1.1463781390970618, 'min_child_weight': 17.536218833917665, 'subsample': 0.6024185796739475}. Best is trial 12 with value: 0.9863685060986545.\n",
      "[I 2024-03-06 11:51:44,390] Trial 26 finished with value: 0.9964787626459681 and parameters: {'n_estimators': 660, 'max_depth': 8, 'max_leaves': 82, 'grow_policy': 'depthwise', 'learning_rate': 0.2788997916749816, 'booster': 'gbtree', 'reg_alpha': 0.8914479234279171, 'reg_lambda': 0.8527188658917073, 'gamma': 2.669256501647517, 'min_child_weight': 16.703425603242284, 'subsample': 0.6769717082738524}. Best is trial 12 with value: 0.9863685060986545.\n",
      "[I 2024-03-06 11:52:03,736] Trial 27 finished with value: 0.9985183811649921 and parameters: {'n_estimators': 480, 'max_depth': 6, 'max_leaves': 59, 'grow_policy': 'depthwise', 'learning_rate': 0.49781588813788785, 'booster': 'gbtree', 'reg_alpha': 0.5519762511092157, 'reg_lambda': 0.9059592365117354, 'gamma': 4.89418286229607, 'min_child_weight': 7.72359686597515, 'subsample': 0.7505725527605336}. Best is trial 12 with value: 0.9863685060986545.\n",
      "[I 2024-03-06 11:52:12,855] Trial 28 finished with value: 0.9985951161696777 and parameters: {'n_estimators': 173, 'max_depth': 9, 'max_leaves': 111, 'grow_policy': 'lossguide', 'learning_rate': 0.16585308340502875, 'booster': 'gbtree', 'reg_alpha': 0.607055816542883, 'reg_lambda': 0.62410060373812, 'gamma': 6.240118783035215, 'min_child_weight': 13.380465654094316, 'subsample': 0.6303736092506504}. Best is trial 12 with value: 0.9863685060986545.\n",
      "[I 2024-03-06 11:52:33,304] Trial 29 finished with value: 0.9944317377917338 and parameters: {'n_estimators': 312, 'max_depth': 10, 'max_leaves': 72, 'grow_policy': 'lossguide', 'learning_rate': 0.21819714143473173, 'booster': 'gbtree', 'reg_alpha': 0.8523601728292254, 'reg_lambda': 0.4028160792811068, 'gamma': 2.2481379359138565, 'min_child_weight': 10.825290879614716, 'subsample': 0.8357076980995602}. Best is trial 12 with value: 0.9863685060986545.\n",
      "[I 2024-03-06 11:52:53,923] Trial 30 finished with value: 0.9875381126040201 and parameters: {'n_estimators': 351, 'max_depth': 8, 'max_leaves': 43, 'grow_policy': 'depthwise', 'learning_rate': 0.07258367019296957, 'booster': 'gbtree', 'reg_alpha': 0.7178792067514348, 'reg_lambda': 0.7819156381428353, 'gamma': 3.5743731314133935, 'min_child_weight': 1.9313177737512373, 'subsample': 0.7307829241957022}. Best is trial 12 with value: 0.9863685060986545.\n",
      "[I 2024-03-06 11:53:14,551] Trial 31 finished with value: 0.9886125637581369 and parameters: {'n_estimators': 351, 'max_depth': 8, 'max_leaves': 42, 'grow_policy': 'depthwise', 'learning_rate': 0.06672675216633249, 'booster': 'gbtree', 'reg_alpha': 0.7145967024566215, 'reg_lambda': 0.8003020197836018, 'gamma': 3.9389996006694146, 'min_child_weight': 0.029101365160382864, 'subsample': 0.7418843675712622}. Best is trial 12 with value: 0.9863685060986545.\n",
      "[I 2024-03-06 11:53:23,996] Trial 32 finished with value: 0.9885320433840594 and parameters: {'n_estimators': 155, 'max_depth': 6, 'max_leaves': 25, 'grow_policy': 'depthwise', 'learning_rate': 0.13101780458343648, 'booster': 'gbtree', 'reg_alpha': 0.8239317561024233, 'reg_lambda': 0.9400983511263585, 'gamma': 3.4543364774735106, 'min_child_weight': 1.5700066960832575, 'subsample': 0.7160686968843669}. Best is trial 12 with value: 0.9863685060986545.\n",
      "[I 2024-03-06 11:53:45,787] Trial 33 finished with value: 0.9848200957632084 and parameters: {'n_estimators': 271, 'max_depth': 10, 'max_leaves': 44, 'grow_policy': 'depthwise', 'learning_rate': 0.0604671023009114, 'booster': 'gbtree', 'reg_alpha': 0.9336836525655046, 'reg_lambda': 0.6580630311248152, 'gamma': 2.5164980149736826, 'min_child_weight': 3.2407833793245304, 'subsample': 0.6743899904424847}. Best is trial 33 with value: 0.9848200957632084.\n",
      "[I 2024-03-06 11:54:17,000] Trial 34 finished with value: 1.0380096180403062 and parameters: {'n_estimators': 491, 'max_depth': 12, 'max_leaves': 74, 'grow_policy': 'depthwise', 'learning_rate': 0.2363153558152027, 'booster': 'gbtree', 'reg_alpha': 0.9384513340105057, 'reg_lambda': 0.6696350554900172, 'gamma': 1.1735290186923921, 'min_child_weight': 4.212569932032359, 'subsample': 0.6810661059999217}. Best is trial 33 with value: 0.9848200957632084.\n",
      "[I 2024-03-06 11:55:30,055] Trial 35 finished with value: 1.3592899316791662 and parameters: {'n_estimators': 610, 'max_depth': 11, 'max_leaves': 34, 'grow_policy': 'depthwise', 'learning_rate': 0.3279112174159088, 'booster': 'gbtree', 'reg_alpha': 0.8196297326097735, 'reg_lambda': 0.5017530867529142, 'gamma': 0.001417754662788262, 'min_child_weight': 8.581837831163272, 'subsample': 0.6281986702792424}. Best is trial 33 with value: 0.9848200957632084.\n",
      "[I 2024-03-06 11:55:49,675] Trial 36 finished with value: 1.004337717903948 and parameters: {'n_estimators': 291, 'max_depth': 10, 'max_leaves': 48, 'grow_policy': 'depthwise', 'learning_rate': 0.17799201563589426, 'booster': 'gbtree', 'reg_alpha': 0.9893216169391352, 'reg_lambda': 0.5982591696803214, 'gamma': 1.6337503136038796, 'min_child_weight': 6.273254724393441, 'subsample': 0.6805110809083853}. Best is trial 33 with value: 0.9848200957632084.\n",
      "[I 2024-03-06 11:56:05,153] Trial 37 finished with value: 1.0086898097745514 and parameters: {'n_estimators': 274, 'max_depth': 12, 'max_leaves': 24, 'grow_policy': 'lossguide', 'learning_rate': 0.3749027023675737, 'booster': 'gbtree', 'reg_alpha': 0.9209117357872962, 'reg_lambda': 0.40653195853105206, 'gamma': 2.68493046178243, 'min_child_weight': 11.138262577049353, 'subsample': 0.5635958142498456}. Best is trial 33 with value: 0.9848200957632084.\n",
      "[I 2024-03-06 11:56:27,913] Trial 38 finished with value: 0.9988901501432448 and parameters: {'n_estimators': 553, 'max_depth': 7, 'max_leaves': 58, 'grow_policy': 'depthwise', 'learning_rate': 0.4565776594973266, 'booster': 'gbtree', 'reg_alpha': 0.4046712502205423, 'reg_lambda': 0.5422280436819521, 'gamma': 4.731034688327407, 'min_child_weight': 13.234526993366636, 'subsample': 0.7646362407524141}. Best is trial 33 with value: 0.9848200957632084.\n",
      "[I 2024-03-06 11:56:45,097] Trial 39 finished with value: 0.9993477914634286 and parameters: {'n_estimators': 151, 'max_depth': 16, 'max_leaves': 88, 'grow_policy': 'depthwise', 'learning_rate': 0.04041600039307832, 'booster': 'gbtree', 'reg_alpha': 0.8061490246582191, 'reg_lambda': 0.4638136113273806, 'gamma': 3.261649473646389, 'min_child_weight': 4.298408709452083, 'subsample': 0.8276803125906127}. Best is trial 33 with value: 0.9848200957632084.\n",
      "[I 2024-03-06 11:58:21,297] Trial 40 finished with value: 1.0730398657412907 and parameters: {'n_estimators': 423, 'max_depth': 11, 'max_leaves': 126, 'grow_policy': 'lossguide', 'learning_rate': 0.13220519748775383, 'booster': 'gbtree', 'reg_alpha': 0.45299380474817336, 'reg_lambda': 0.6292092294152689, 'gamma': 0.6968096152998056, 'min_child_weight': 6.392127486126661, 'subsample': 0.5847787957534688}. Best is trial 33 with value: 0.9848200957632084.\n",
      "[I 2024-03-06 11:58:47,582] Trial 41 finished with value: 0.984391306278759 and parameters: {'n_estimators': 364, 'max_depth': 9, 'max_leaves': 46, 'grow_policy': 'depthwise', 'learning_rate': 0.06180195460070094, 'booster': 'gbtree', 'reg_alpha': 0.7308818838896669, 'reg_lambda': 0.7823885446381628, 'gamma': 2.462230319777797, 'min_child_weight': 2.9674628531453915, 'subsample': 0.7021523485154572}. Best is trial 41 with value: 0.984391306278759.\n",
      "[I 2024-03-06 11:59:10,601] Trial 42 finished with value: 0.9868960730678558 and parameters: {'n_estimators': 201, 'max_depth': 9, 'max_leaves': 48, 'grow_policy': 'depthwise', 'learning_rate': 0.04597517516496811, 'booster': 'gbtree', 'reg_alpha': 0.7411547561120999, 'reg_lambda': 0.7231460234282433, 'gamma': 2.095509860951527, 'min_child_weight': 3.3826930195403353, 'subsample': 0.7002700593379229}. Best is trial 41 with value: 0.984391306278759.\n",
      "[I 2024-03-06 11:59:28,798] Trial 43 finished with value: 0.9879458436038024 and parameters: {'n_estimators': 271, 'max_depth': 10, 'max_leaves': 61, 'grow_policy': 'depthwise', 'learning_rate': 0.11351040460435956, 'booster': 'gbtree', 'reg_alpha': 0.8703188146633389, 'reg_lambda': 0.8484699497919167, 'gamma': 2.658457598217804, 'min_child_weight': 5.357077380963363, 'subsample': 0.6252363952675652}. Best is trial 41 with value: 0.984391306278759.\n",
      "[I 2024-03-06 12:00:13,844] Trial 44 finished with value: 1.211802891403431 and parameters: {'n_estimators': 958, 'max_depth': 13, 'max_leaves': 71, 'grow_policy': 'depthwise', 'learning_rate': 0.8699988661823213, 'booster': 'gbtree', 'reg_alpha': 0.9444703546206056, 'reg_lambda': 0.8080361751697694, 'gamma': 1.6465169167007705, 'min_child_weight': 2.6419806576036167, 'subsample': 0.6731542631956327}. Best is trial 41 with value: 0.984391306278759.\n",
      "[I 2024-03-06 12:00:38,086] Trial 45 finished with value: 0.9886593211160634 and parameters: {'n_estimators': 581, 'max_depth': 7, 'max_leaves': 32, 'grow_policy': 'depthwise', 'learning_rate': 0.25159646191072077, 'booster': 'gbtree', 'reg_alpha': 0.9995141276346843, 'reg_lambda': 0.9251603906625194, 'gamma': 3.2992050256522347, 'min_child_weight': 7.243916841006053, 'subsample': 0.8531316086140153}. Best is trial 41 with value: 0.984391306278759.\n",
      "[I 2024-03-06 12:00:53,250] Trial 46 finished with value: 1.0181745230600818 and parameters: {'n_estimators': 359, 'max_depth': 9, 'max_leaves': 52, 'grow_policy': 'depthwise', 'learning_rate': 0.6685992418464617, 'booster': 'gbtree', 'reg_alpha': 0.042930584132831684, 'reg_lambda': 0.7263782579239431, 'gamma': 4.306914659547687, 'min_child_weight': 10.538400940101566, 'subsample': 0.6565558764963367}. Best is trial 41 with value: 0.984391306278759.\n",
      "[I 2024-03-06 12:01:17,527] Trial 47 finished with value: 0.9887610016527212 and parameters: {'n_estimators': 499, 'max_depth': 6, 'max_leaves': 18, 'grow_policy': 'lossguide', 'learning_rate': 0.19546759159473048, 'booster': 'gbtree', 'reg_alpha': 0.6672880164031872, 'reg_lambda': 0.32259525367362757, 'gamma': 2.8025340930861042, 'min_child_weight': 4.906870813718387, 'subsample': 0.7099615464165794}. Best is trial 41 with value: 0.984391306278759.\n",
      "[I 2024-03-06 12:01:25,210] Trial 48 finished with value: 1.0241036420341696 and parameters: {'n_estimators': 100, 'max_depth': 4, 'max_leaves': 78, 'grow_policy': 'depthwise', 'learning_rate': 0.045178410463320925, 'booster': 'gbtree', 'reg_alpha': 0.770423921963582, 'reg_lambda': 0.6465798305280529, 'gamma': 2.463625299893981, 'min_child_weight': 8.946242295753516, 'subsample': 0.8091835791732428}. Best is trial 41 with value: 0.984391306278759.\n",
      "[I 2024-03-06 12:01:45,561] Trial 49 finished with value: 1.0881896105770312 and parameters: {'n_estimators': 423, 'max_depth': 11, 'max_leaves': 100, 'grow_policy': 'lossguide', 'learning_rate': 0.9535875297133796, 'booster': 'gbtree', 'reg_alpha': 0.5842829163809797, 'reg_lambda': 0.5402361647518766, 'gamma': 1.9808110488947641, 'min_child_weight': 12.801187599858913, 'subsample': 0.8981734201196259}. Best is trial 41 with value: 0.984391306278759.\n",
      "[I 2024-03-06 12:02:02,510] Trial 50 finished with value: 0.9894887054309578 and parameters: {'n_estimators': 320, 'max_depth': 18, 'max_leaves': 85, 'grow_policy': 'depthwise', 'learning_rate': 0.1608407374382075, 'booster': 'gbtree', 'reg_alpha': 0.5328957407632146, 'reg_lambda': 0.7572064740822363, 'gamma': 3.121297359960093, 'min_child_weight': 16.039390690264923, 'subsample': 0.7668529892494631}. Best is trial 41 with value: 0.984391306278759.\n",
      "[I 2024-03-06 12:02:28,492] Trial 51 finished with value: 0.9854722964492961 and parameters: {'n_estimators': 248, 'max_depth': 10, 'max_leaves': 50, 'grow_policy': 'depthwise', 'learning_rate': 0.042485589336019064, 'booster': 'gbtree', 'reg_alpha': 0.7340590230189623, 'reg_lambda': 0.7254791468716336, 'gamma': 2.224476940784487, 'min_child_weight': 3.184883887698069, 'subsample': 0.6962292079029767}. Best is trial 41 with value: 0.984391306278759.\n",
      "[I 2024-03-06 12:02:49,998] Trial 52 finished with value: 0.9975978078280541 and parameters: {'n_estimators': 246, 'max_depth': 10, 'max_leaves': 55, 'grow_policy': 'depthwise', 'learning_rate': 0.10924837023468562, 'booster': 'gbtree', 'reg_alpha': 0.7935249084270412, 'reg_lambda': 0.817318748901873, 'gamma': 1.5456372324716328, 'min_child_weight': 3.249785665868476, 'subsample': 0.6689821695192758}. Best is trial 41 with value: 0.984391306278759.\n",
      "[I 2024-03-06 12:03:22,626] Trial 53 finished with value: 0.9910361892555251 and parameters: {'n_estimators': 372, 'max_depth': 12, 'max_leaves': 46, 'grow_policy': 'depthwise', 'learning_rate': 0.02245870666650103, 'booster': 'gbtree', 'reg_alpha': 0.6730357325157926, 'reg_lambda': 0.59050944717899, 'gamma': 3.8159760969924523, 'min_child_weight': 1.2572931514975196, 'subsample': 0.7285102911242507}. Best is trial 41 with value: 0.984391306278759.\n",
      "[I 2024-03-06 12:03:50,083] Trial 54 finished with value: 0.9857093484229473 and parameters: {'n_estimators': 443, 'max_depth': 8, 'max_leaves': 68, 'grow_policy': 'depthwise', 'learning_rate': 0.08156604645037072, 'booster': 'gbtree', 'reg_alpha': 0.8461541354896678, 'reg_lambda': 0.7194037296724789, 'gamma': 2.313869624415728, 'min_child_weight': 2.768706862078136, 'subsample': 0.692700149664293}. Best is trial 41 with value: 0.984391306278759.\n",
      "[I 2024-03-06 12:04:09,090] Trial 55 finished with value: 1.0115939725960101 and parameters: {'n_estimators': 430, 'max_depth': 8, 'max_leaves': 36, 'grow_policy': 'depthwise', 'learning_rate': 0.07514757903706643, 'booster': 'gbtree', 'reg_alpha': 0.9643434414635438, 'reg_lambda': 0.7214059408195932, 'gamma': 9.604400459704934, 'min_child_weight': 2.2359230956282903, 'subsample': 0.6970254814116549}. Best is trial 41 with value: 0.984391306278759.\n",
      "[I 2024-03-06 12:04:59,964] Trial 56 finished with value: 0.9836577940661965 and parameters: {'n_estimators': 875, 'max_depth': 7, 'max_leaves': 52, 'grow_policy': 'depthwise', 'learning_rate': 0.0460208895893293, 'booster': 'gbtree', 'reg_alpha': 0.8580011915421114, 'reg_lambda': 0.6679549536962084, 'gamma': 2.407431122704711, 'min_child_weight': 3.5970038814594685, 'subsample': 0.6385241326051203}. Best is trial 56 with value: 0.9836577940661965.\n",
      "[I 2024-03-06 12:05:54,326] Trial 57 finished with value: 0.9885042542437764 and parameters: {'n_estimators': 196, 'max_depth': 7, 'max_leaves': 40, 'grow_policy': 'lossguide', 'learning_rate': 0.04547851697280929, 'booster': 'gbtree', 'reg_alpha': 0.8445044274880571, 'reg_lambda': 0.6599443575773936, 'gamma': 0.8678186940483443, 'min_child_weight': 3.648053372435033, 'subsample': 0.6915876316500008}. Best is trial 56 with value: 0.9836577940661965.\n",
      "[I 2024-03-06 12:06:56,441] Trial 58 finished with value: 0.9877853168917469 and parameters: {'n_estimators': 886, 'max_depth': 4, 'max_leaves': 53, 'grow_policy': 'depthwise', 'learning_rate': 0.01032459019908305, 'booster': 'gbtree', 'reg_alpha': 0.8999103311659744, 'reg_lambda': 0.04916462192071599, 'gamma': 2.3833554538026283, 'min_child_weight': 19.951732213804544, 'subsample': 0.6141496022971068}. Best is trial 56 with value: 0.9836577940661965.\n",
      "[I 2024-03-06 12:07:21,447] Trial 59 finished with value: 0.9851489705325596 and parameters: {'n_estimators': 396, 'max_depth': 5, 'max_leaves': 61, 'grow_policy': 'depthwise', 'learning_rate': 0.07459786314219097, 'booster': 'gbtree', 'reg_alpha': 0.8843987538560968, 'reg_lambda': 0.22592705961415044, 'gamma': 1.7998392420524356, 'min_child_weight': 0.761713034149814, 'subsample': 0.7156321508012417}. Best is trial 56 with value: 0.9836577940661965.\n",
      "[I 2024-03-06 12:07:49,163] Trial 60 finished with value: 0.994813549703091 and parameters: {'n_estimators': 391, 'max_depth': 6, 'max_leaves': 60, 'grow_policy': 'depthwise', 'learning_rate': 0.08897700456701679, 'booster': 'gbtree', 'reg_alpha': 0.8840761995535236, 'reg_lambda': 0.4508993027513721, 'gamma': 1.3568499370407674, 'min_child_weight': 0.9361036796138018, 'subsample': 0.7233350390593213}. Best is trial 56 with value: 0.9836577940661965.\n",
      "[I 2024-03-06 12:08:03,791] Trial 61 finished with value: 1.0058604191336908 and parameters: {'n_estimators': 298, 'max_depth': 5, 'max_leaves': 47, 'grow_policy': 'depthwise', 'learning_rate': 0.06067337987487114, 'booster': 'gbtree', 'reg_alpha': 0.9519359484426259, 'reg_lambda': 0.2597401314282576, 'gamma': 7.667143329127867, 'min_child_weight': 2.642681839172754, 'subsample': 0.6627410852252343}. Best is trial 56 with value: 0.9836577940661965.\n",
      "[I 2024-03-06 12:08:18,415] Trial 62 finished with value: 1.5379013537797595 and parameters: {'n_estimators': 239, 'max_depth': 3, 'max_leaves': 78, 'grow_policy': 'depthwise', 'learning_rate': 0.002323479781855424, 'booster': 'gbtree', 'reg_alpha': 0.8422101254150647, 'reg_lambda': 0.11259770215077891, 'gamma': 1.8676820693743599, 'min_child_weight': 0.5631051774735418, 'subsample': 0.6893904048022842}. Best is trial 56 with value: 0.9836577940661965.\n",
      "[I 2024-03-06 12:08:50,074] Trial 63 finished with value: 1.0406615939369412 and parameters: {'n_estimators': 447, 'max_depth': 5, 'max_leaves': 56, 'grow_policy': 'depthwise', 'learning_rate': 0.1524510513037715, 'booster': 'gbtree', 'reg_alpha': 0.9132936688252172, 'reg_lambda': 0.0003472431995723557, 'gamma': 0.9468967347346362, 'min_child_weight': 4.80039893431718, 'subsample': 0.6416535638685613}. Best is trial 56 with value: 0.9836577940661965.\n",
      "[I 2024-03-06 12:09:13,974] Trial 64 finished with value: 0.994307746034691 and parameters: {'n_estimators': 515, 'max_depth': 7, 'max_leaves': 64, 'grow_policy': 'depthwise', 'learning_rate': 0.20496531429267842, 'booster': 'gbtree', 'reg_alpha': 0.7475213876269838, 'reg_lambda': 0.23159476764037867, 'gamma': 2.3876469149303023, 'min_child_weight': 1.9898990298826313, 'subsample': 0.7595699661928439}. Best is trial 56 with value: 0.9836577940661965.\n",
      "[I 2024-03-06 12:09:33,621] Trial 65 finished with value: 0.985394436459179 and parameters: {'n_estimators': 341, 'max_depth': 8, 'max_leaves': 30, 'grow_policy': 'depthwise', 'learning_rate': 0.09067578306307901, 'booster': 'gbtree', 'reg_alpha': 0.9717834359311596, 'reg_lambda': 0.06321880083105805, 'gamma': 2.9255163344586563, 'min_child_weight': 0.1601610660312196, 'subsample': 0.7074559668483813}. Best is trial 56 with value: 0.9836577940661965.\n",
      "[I 2024-03-06 12:09:52,912] Trial 66 finished with value: 0.9836289306210017 and parameters: {'n_estimators': 329, 'max_depth': 9, 'max_leaves': 27, 'grow_policy': 'depthwise', 'learning_rate': 0.08769539620816541, 'booster': 'gbtree', 'reg_alpha': 0.7946803396458157, 'reg_lambda': 0.0752392953246872, 'gamma': 3.0066386485067356, 'min_child_weight': 0.245390007897627, 'subsample': 0.7119103656965042}. Best is trial 66 with value: 0.9836289306210017.\n",
      "[I 2024-03-06 12:10:22,347] Trial 67 finished with value: 0.9857565452864545 and parameters: {'n_estimators': 340, 'max_depth': 9, 'max_leaves': 28, 'grow_policy': 'depthwise', 'learning_rate': 0.031147955292064218, 'booster': 'gbtree', 'reg_alpha': 0.7861602019801277, 'reg_lambda': 0.18335820143371562, 'gamma': 2.9625547039357656, 'min_child_weight': 0.3405107947324893, 'subsample': 0.711696243264456}. Best is trial 66 with value: 0.9836289306210017.\n",
      "[I 2024-03-06 12:10:42,680] Trial 68 finished with value: 0.9887665972864467 and parameters: {'n_estimators': 265, 'max_depth': 10, 'max_leaves': 18, 'grow_policy': 'depthwise', 'learning_rate': 0.09988508470799523, 'booster': 'gbtree', 'reg_alpha': 0.8742671265682015, 'reg_lambda': 0.05694951502156094, 'gamma': 1.426997366883651, 'min_child_weight': 1.3472166349732146, 'subsample': 0.7391835019847064}. Best is trial 66 with value: 0.9836289306210017.\n",
      "[I 2024-03-06 12:11:28,935] Trial 69 finished with value: 1.0026964434753125 and parameters: {'n_estimators': 999, 'max_depth': 10, 'max_leaves': 30, 'grow_policy': 'depthwise', 'learning_rate': 0.17522667503918546, 'booster': 'gbtree', 'reg_alpha': 0.6252621320046053, 'reg_lambda': 0.11910664966126538, 'gamma': 1.9017412272244796, 'min_child_weight': 3.8394970724159623, 'subsample': 0.7141714887674135}. Best is trial 66 with value: 0.9836289306210017.\n",
      "[I 2024-03-06 12:11:58,155] Trial 70 finished with value: 1.0933468694225112 and parameters: {'n_estimators': 388, 'max_depth': 9, 'max_leaves': 38, 'grow_policy': 'depthwise', 'learning_rate': 0.2637412458023488, 'booster': 'gbtree', 'reg_alpha': 0.9290440325505762, 'reg_lambda': 0.07048484839972853, 'gamma': 0.4698434521434569, 'min_child_weight': 0.937935873140046, 'subsample': 0.775480475970724}. Best is trial 66 with value: 0.9836289306210017.\n",
      "[I 2024-03-06 12:12:20,143] Trial 71 finished with value: 0.9859233443593913 and parameters: {'n_estimators': 328, 'max_depth': 8, 'max_leaves': 44, 'grow_policy': 'depthwise', 'learning_rate': 0.08319647726161697, 'booster': 'gbtree', 'reg_alpha': 0.9683539751503224, 'reg_lambda': 0.17997670864142085, 'gamma': 2.2761498314624857, 'min_child_weight': 2.953317553867727, 'subsample': 0.6890683051304418}. Best is trial 66 with value: 0.9836289306210017.\n",
      "[I 2024-03-06 12:12:37,242] Trial 72 finished with value: 0.9908185428809559 and parameters: {'n_estimators': 296, 'max_depth': 11, 'max_leaves': 51, 'grow_policy': 'depthwise', 'learning_rate': 0.14048613829979484, 'booster': 'gbtree', 'reg_alpha': 0.8146475468520259, 'reg_lambda': 0.6882099842446162, 'gamma': 2.749174019627241, 'min_child_weight': 0.04306027180469574, 'subsample': 0.7022041580572509}. Best is trial 66 with value: 0.9836289306210017.\n",
      "[I 2024-03-06 12:13:02,513] Trial 73 finished with value: 0.9832275209373297 and parameters: {'n_estimators': 407, 'max_depth': 8, 'max_leaves': 23, 'grow_policy': 'depthwise', 'learning_rate': 0.06591582038150008, 'booster': 'gbtree', 'reg_alpha': 0.8529006568101989, 'reg_lambda': 0.7620495876633979, 'gamma': 2.5296705027710287, 'min_child_weight': 2.2951568948178265, 'subsample': 0.7267432479562353}. Best is trial 73 with value: 0.9832275209373297.\n",
      "[I 2024-03-06 12:13:27,263] Trial 74 finished with value: 0.984176767130006 and parameters: {'n_estimators': 397, 'max_depth': 8, 'max_leaves': 22, 'grow_policy': 'depthwise', 'learning_rate': 0.053042060952536274, 'booster': 'gbtree', 'reg_alpha': 0.9069788416692682, 'reg_lambda': 0.7701342909775767, 'gamma': 3.02257764769357, 'min_child_weight': 1.875507615887872, 'subsample': 0.7351603763883526}. Best is trial 73 with value: 0.9832275209373297.\n",
      "[I 2024-03-06 12:14:09,452] Trial 75 finished with value: 1.53971033180625 and parameters: {'n_estimators': 400, 'max_depth': 7, 'max_leaves': 22, 'grow_policy': 'depthwise', 'learning_rate': 0.001258330610321573, 'booster': 'gbtree', 'reg_alpha': 0.9022886422413938, 'reg_lambda': 0.7681625672772013, 'gamma': 3.072269699654157, 'min_child_weight': 2.145402728837239, 'subsample': 0.7530362577565366}. Best is trial 73 with value: 0.9832275209373297.\n",
      "[I 2024-03-06 12:14:24,584] Trial 76 finished with value: 0.9977976567075579 and parameters: {'n_estimators': 372, 'max_depth': 8, 'max_leaves': 15, 'grow_policy': 'depthwise', 'learning_rate': 0.5773724519923332, 'booster': 'gbtree', 'reg_alpha': 0.8632936463961209, 'reg_lambda': 0.8818841152398543, 'gamma': 3.8922217403950894, 'min_child_weight': 1.6014793446617461, 'subsample': 0.7364551223249123}. Best is trial 73 with value: 0.9832275209373297.\n",
      "[I 2024-03-06 12:14:40,272] Trial 77 finished with value: 0.9895929390089737 and parameters: {'n_estimators': 336, 'max_depth': 6, 'max_leaves': 26, 'grow_policy': 'depthwise', 'learning_rate': 0.11838248551713905, 'booster': 'gbtree', 'reg_alpha': 0.9806402695694965, 'reg_lambda': 0.8339619747672503, 'gamma': 4.406631325120282, 'min_child_weight': 0.6524363514061852, 'subsample': 0.7205846787054154}. Best is trial 73 with value: 0.9832275209373297.\n",
      "[I 2024-03-06 12:15:05,915] Trial 78 finished with value: 0.9856509366605533 and parameters: {'n_estimators': 459, 'max_depth': 9, 'max_leaves': 21, 'grow_policy': 'depthwise', 'learning_rate': 0.05743316602221108, 'booster': 'gbtree', 'reg_alpha': 0.9245643600381264, 'reg_lambda': 0.14703672283749383, 'gamma': 3.465278430015026, 'min_child_weight': 1.2138471461054812, 'subsample': 0.7452472909687836}. Best is trial 73 with value: 0.9832275209373297.\n",
      "[I 2024-03-06 12:15:28,358] Trial 79 finished with value: 0.9849967406912172 and parameters: {'n_estimators': 411, 'max_depth': 8, 'max_leaves': 33, 'grow_policy': 'depthwise', 'learning_rate': 0.10056876365792877, 'booster': 'gbtree', 'reg_alpha': 0.8222838183440412, 'reg_lambda': 0.21653567790963388, 'gamma': 2.672135712421282, 'min_child_weight': 2.3720716779096076, 'subsample': 0.7310060379589677}. Best is trial 73 with value: 0.9832275209373297.\n",
      "[I 2024-03-06 12:15:53,063] Trial 80 finished with value: 0.9899573047887028 and parameters: {'n_estimators': 533, 'max_depth': 9, 'max_leaves': 33, 'grow_policy': 'depthwise', 'learning_rate': 0.19191542106369663, 'booster': 'gbtree', 'reg_alpha': 0.7723713156699442, 'reg_lambda': 0.31398170223699307, 'gamma': 2.5765466537199195, 'min_child_weight': 2.2922982138216628, 'subsample': 0.7839511798302375}. Best is trial 73 with value: 0.9832275209373297.\n",
      "[I 2024-03-06 12:16:12,688] Trial 81 finished with value: 0.9846819345234403 and parameters: {'n_estimators': 370, 'max_depth': 7, 'max_leaves': 29, 'grow_policy': 'depthwise', 'learning_rate': 0.10249598531847466, 'booster': 'gbtree', 'reg_alpha': 0.815895606593758, 'reg_lambda': 0.2053340920767106, 'gamma': 2.95026474972778, 'min_child_weight': 1.6311078923963727, 'subsample': 0.726570289022848}. Best is trial 73 with value: 0.9832275209373297.\n",
      "[I 2024-03-06 12:16:35,708] Trial 82 finished with value: 0.9967655820352868 and parameters: {'n_estimators': 400, 'max_depth': 7, 'max_leaves': 39, 'grow_policy': 'depthwise', 'learning_rate': 0.1520527494873697, 'booster': 'gbtree', 'reg_alpha': 0.8269619875292235, 'reg_lambda': 0.36178825471943565, 'gamma': 1.7597594356491362, 'min_child_weight': 3.9731932799314333, 'subsample': 0.7238567317647847}. Best is trial 73 with value: 0.9832275209373297.\n",
      "[I 2024-03-06 12:17:09,131] Trial 83 finished with value: 0.9864812281359052 and parameters: {'n_estimators': 414, 'max_depth': 7, 'max_leaves': 21, 'grow_policy': 'depthwise', 'learning_rate': 0.023332620675268777, 'booster': 'gbtree', 'reg_alpha': 0.8020060594621617, 'reg_lambda': 0.2862250212558706, 'gamma': 3.2127753927961447, 'min_child_weight': 1.8101396450631133, 'subsample': 0.7332370187165741}. Best is trial 73 with value: 0.9832275209373297.\n",
      "[I 2024-03-06 12:17:27,534] Trial 84 finished with value: 0.9895425462982825 and parameters: {'n_estimators': 372, 'max_depth': 8, 'max_leaves': 35, 'grow_policy': 'depthwise', 'learning_rate': 0.10970187027405345, 'booster': 'gbtree', 'reg_alpha': 0.884898623776295, 'reg_lambda': 0.20100894248953352, 'gamma': 4.133821548866307, 'min_child_weight': 4.651364243216243, 'subsample': 0.752410959053188}. Best is trial 73 with value: 0.9832275209373297.\n",
      "[I 2024-03-06 12:17:59,122] Trial 85 finished with value: 0.9864785641852398 and parameters: {'n_estimators': 477, 'max_depth': 6, 'max_leaves': 26, 'grow_policy': 'depthwise', 'learning_rate': 0.0638534228029719, 'booster': 'gbtree', 'reg_alpha': 0.3072205510089708, 'reg_lambda': 0.2187123030557644, 'gamma': 1.987417829323109, 'min_child_weight': 2.4319395450665473, 'subsample': 0.682301670512078}. Best is trial 73 with value: 0.9832275209373297.\n",
      "[I 2024-03-06 12:18:15,409] Trial 86 finished with value: 0.9929179577325404 and parameters: {'n_estimators': 307, 'max_depth': 9, 'max_leaves': 42, 'grow_policy': 'depthwise', 'learning_rate': 0.22305370025059593, 'booster': 'gbtree', 'reg_alpha': 0.8638699570322971, 'reg_lambda': 0.7965769339081639, 'gamma': 2.6106154246453097, 'min_child_weight': 5.494175498689786, 'subsample': 0.663030521666968}. Best is trial 73 with value: 0.9832275209373297.\n",
      "[I 2024-03-06 12:18:50,326] Trial 87 finished with value: 0.9869026413411228 and parameters: {'n_estimators': 810, 'max_depth': 7, 'max_leaves': 32, 'grow_policy': 'depthwise', 'learning_rate': 0.14048886042357664, 'booster': 'gbtree', 'reg_alpha': 0.7723157198127099, 'reg_lambda': 0.8803101398571238, 'gamma': 3.6422680865563337, 'min_child_weight': 3.562713185987783, 'subsample': 0.7286972660343417}. Best is trial 73 with value: 0.9832275209373297.\n",
      "[I 2024-03-06 12:19:10,700] Trial 88 finished with value: 0.9970774039717922 and parameters: {'n_estimators': 363, 'max_depth': 4, 'max_leaves': 29, 'grow_policy': 'depthwise', 'learning_rate': 0.03324682466741875, 'booster': 'gbtree', 'reg_alpha': 0.8237400836809272, 'reg_lambda': 0.7464889166877331, 'gamma': 5.179102970585256, 'min_child_weight': 1.5836945857533997, 'subsample': 0.7094617934937834}. Best is trial 73 with value: 0.9832275209373297.\n",
      "[I 2024-03-06 12:19:37,789] Trial 89 finished with value: 0.9839503833155142 and parameters: {'n_estimators': 509, 'max_depth': 8, 'max_leaves': 19, 'grow_policy': 'depthwise', 'learning_rate': 0.06466338477408098, 'booster': 'gbtree', 'reg_alpha': 0.6922761110316151, 'reg_lambda': 0.26485554553608653, 'gamma': 3.3141266456496656, 'min_child_weight': 0.9160885845729513, 'subsample': 0.7726222470235289}. Best is trial 73 with value: 0.9832275209373297.\n",
      "[I 2024-03-06 12:20:04,017] Trial 90 finished with value: 1.022872386743762 and parameters: {'n_estimators': 655, 'max_depth': 8, 'max_leaves': 18, 'grow_policy': 'depthwise', 'learning_rate': 0.7755999316633959, 'booster': 'gbtree', 'reg_alpha': 0.7022832452415445, 'reg_lambda': 0.277487759862126, 'gamma': 3.3377374019709403, 'min_child_weight': 2.8786158580353995, 'subsample': 0.7720331946989306}. Best is trial 73 with value: 0.9832275209373297.\n",
      "[I 2024-03-06 12:20:27,046] Trial 91 finished with value: 0.9844257450860612 and parameters: {'n_estimators': 446, 'max_depth': 9, 'max_leaves': 22, 'grow_policy': 'depthwise', 'learning_rate': 0.1047118396274245, 'booster': 'gbtree', 'reg_alpha': 0.7560745007711426, 'reg_lambda': 0.1330972525299503, 'gamma': 2.87549599228808, 'min_child_weight': 0.8049269416503553, 'subsample': 0.7560401907273467}. Best is trial 73 with value: 0.9832275209373297.\n",
      "[I 2024-03-06 12:20:54,429] Trial 92 finished with value: 0.9840391626172922 and parameters: {'n_estimators': 564, 'max_depth': 10, 'max_leaves': 23, 'grow_policy': 'depthwise', 'learning_rate': 0.10347407485595735, 'booster': 'gbtree', 'reg_alpha': 0.7349452911572585, 'reg_lambda': 0.1049064613017034, 'gamma': 2.819722090290192, 'min_child_weight': 1.3170803479359696, 'subsample': 0.7985184869232592}. Best is trial 73 with value: 0.9832275209373297.\n",
      "[I 2024-03-06 12:21:26,727] Trial 93 finished with value: 0.9848607351542829 and parameters: {'n_estimators': 719, 'max_depth': 10, 'max_leaves': 23, 'grow_policy': 'depthwise', 'learning_rate': 0.12490172993979147, 'booster': 'gbtree', 'reg_alpha': 0.7266279111483576, 'reg_lambda': 0.09145341240503971, 'gamma': 2.8548564092603685, 'min_child_weight': 1.1594540516390868, 'subsample': 0.7996309764219968}. Best is trial 73 with value: 0.9832275209373297.\n",
      "[I 2024-03-06 12:21:57,884] Trial 94 finished with value: 0.9822704070357048 and parameters: {'n_estimators': 590, 'max_depth': 11, 'max_leaves': 16, 'grow_policy': 'depthwise', 'learning_rate': 0.0552223218868165, 'booster': 'gbtree', 'reg_alpha': 0.6472657948113174, 'reg_lambda': 0.13254703840445914, 'gamma': 3.1149929790252133, 'min_child_weight': 1.794124484207816, 'subsample': 0.8018823156535407}. Best is trial 94 with value: 0.9822704070357048.\n",
      "[I 2024-03-06 12:22:35,156] Trial 95 finished with value: 0.9876700612852147 and parameters: {'n_estimators': 564, 'max_depth': 11, 'max_leaves': 26, 'grow_policy': 'depthwise', 'learning_rate': 0.025822579454046285, 'booster': 'gbtree', 'reg_alpha': 0.6519752937408632, 'reg_lambda': 0.1422967129689966, 'gamma': 4.029027473436477, 'min_child_weight': 1.8162028049182144, 'subsample': 0.8029317774331025}. Best is trial 94 with value: 0.9822704070357048.\n",
      "[I 2024-03-06 12:23:00,929] Trial 96 finished with value: 0.988303590676038 and parameters: {'n_estimators': 611, 'max_depth': 13, 'max_leaves': 16, 'grow_policy': 'depthwise', 'learning_rate': 0.17749852315778014, 'booster': 'gbtree', 'reg_alpha': 0.7541270151192001, 'reg_lambda': 0.029291594373621485, 'gamma': 3.732420453325192, 'min_child_weight': 0.46671339561035685, 'subsample': 0.822233351724789}. Best is trial 94 with value: 0.9822704070357048.\n",
      "[I 2024-03-06 12:23:31,462] Trial 97 finished with value: 0.9836141247376166 and parameters: {'n_estimators': 559, 'max_depth': 9, 'max_leaves': 19, 'grow_policy': 'depthwise', 'learning_rate': 0.053383802365331356, 'booster': 'gbtree', 'reg_alpha': 0.6823702766913129, 'reg_lambda': 0.10665703670000228, 'gamma': 3.1511436510842827, 'min_child_weight': 1.0758545456812278, 'subsample': 0.7921712568793509}. Best is trial 94 with value: 0.9822704070357048.\n",
      "[I 2024-03-06 12:24:03,815] Trial 98 finished with value: 0.9836417066364522 and parameters: {'n_estimators': 589, 'max_depth': 9, 'max_leaves': 20, 'grow_policy': 'depthwise', 'learning_rate': 0.052281376070189935, 'booster': 'gbtree', 'reg_alpha': 0.6865494437064912, 'reg_lambda': 0.10604296304578023, 'gamma': 3.1575083433098765, 'min_child_weight': 0.8761375888442048, 'subsample': 0.790103310294428}. Best is trial 94 with value: 0.9822704070357048.\n",
      "[I 2024-03-06 12:24:36,477] Trial 99 finished with value: 0.9900231221498853 and parameters: {'n_estimators': 648, 'max_depth': 11, 'max_leaves': 19, 'grow_policy': 'depthwise', 'learning_rate': 0.04905026446821366, 'booster': 'gbtree', 'reg_alpha': 0.6927426431506947, 'reg_lambda': 0.10061198906150332, 'gamma': 4.639805002725801, 'min_child_weight': 0.019738865639593622, 'subsample': 0.844509052732224}. Best is trial 94 with value: 0.9822704070357048.\n"
     ]
    },
    {
     "name": "stdout",
     "output_type": "stream",
     "text": [
      "0.9822704070357048\n",
      "{'n_estimators': 590, 'max_depth': 11, 'max_leaves': 16, 'grow_policy': 'depthwise', 'learning_rate': 0.0552223218868165, 'booster': 'gbtree', 'reg_alpha': 0.6472657948113174, 'reg_lambda': 0.13254703840445914, 'gamma': 3.1149929790252133, 'min_child_weight': 1.794124484207816, 'subsample': 0.8018823156535407}\n"
     ]
    }
   ],
   "source": [
    "def objective(trial):\n",
    "    #Define Hyperparameter Search Space\n",
    "    params_optuna = {\n",
    "        \"objective\" : \"multi:softprob\",\n",
    "        \"num_class\" : 7,\n",
    "        \"tree_method\" : \"gpu_hist\",\n",
    "        \"n_estimators\" : trial.suggest_int(\"n_estimators\", 50, 1000),\n",
    "        \"max_depth\" : trial.suggest_int(\"max_depth\", 3, 19),\n",
    "        \"max_leaves\" : trial.suggest_int(\"max_leaves\", 15, 149),\n",
    "        \"grow_policy\" : trial.suggest_categorical(\"grow_policy\", [\"depthwise\", \"lossguide\"]),\n",
    "        \"learning_rate\" : trial.suggest_float(\"learning_rate\", 0, 1),\n",
    "        \"booster\" : trial.suggest_categorical(\"booster\", [\"gbtree\"]),\n",
    "        \"reg_alpha\" : trial.suggest_float(\"reg_alpha\", 0, 1),\n",
    "        \"reg_lambda\" : trial.suggest_float(\"reg_lambda\", 0, 1),\n",
    "        \"gamma\" : trial.suggest_float(\"gamma\", 0, 10),\n",
    "        \"min_child_weight\" : trial.suggest_float(\"min_child_weight\", 0, 20),\n",
    "        \"subsample\" : trial.suggest_float(\"subsample\", 0.5, 0.9)\n",
    "    }\n",
    "    \n",
    "    #KFold\n",
    "    skf = StratifiedKFold(n_splits=5, random_state=42, shuffle=True)\n",
    "    scores = []\n",
    "    for train_index,test_index in skf.split(x_data,target):\n",
    "        X_train, y_train = x_data.iloc[train_index],target.iloc[train_index]\n",
    "        X_val, y_val = x_data.iloc[test_index],target.iloc[test_index]\n",
    "    \n",
    "        classifier = xgb.XGBClassifier(**params_optuna)\n",
    "        classifier.fit(X_train, y_train)\n",
    "    \n",
    "        y_pred = classifier.predict_proba(X_val)\n",
    "        score = log_loss(y_val, y_pred)\n",
    "        scores.append(score)\n",
    "    \n",
    "    return np.mean(scores)\n",
    "study = optuna.create_study(study_name=\"XGB_KFold\", direction=\"minimize\")\n",
    "study.optimize(objective, n_trials=100)\n",
    "study_df = study.trials_dataframe()\n",
    "print(study.best_value)\n",
    "print(study.best_params)"
   ]
  },
  {
   "cell_type": "code",
   "execution_count": 37,
   "metadata": {},
   "outputs": [
    {
     "name": "stdout",
     "output_type": "stream",
     "text": [
      "{'n_estimators': 590, 'max_depth': 11, 'max_leaves': 16, 'grow_policy': 'depthwise', 'learning_rate': 0.0552223218868165, 'booster': 'gbtree', 'reg_alpha': 0.6472657948113174, 'reg_lambda': 0.13254703840445914, 'gamma': 3.1149929790252133, 'min_child_weight': 1.794124484207816, 'subsample': 0.8018823156535407}\n"
     ]
    }
   ],
   "source": [
    "print(study.best_params)"
   ]
  },
  {
   "cell_type": "markdown",
   "metadata": {},
   "source": [
    "Optuna XBG best score  \n",
    "0.9822704070357048"
   ]
  },
  {
   "cell_type": "markdown",
   "metadata": {},
   "source": [
    "Optuna XGB best params  \n",
    "{'n_estimators': 590, 'max_depth': 11, 'max_leaves': 16, 'grow_policy': 'depthwise', 'learning_rate': 0.0552223218868165, 'booster': 'gbtree', 'reg_alpha': 0.6472657948113174, 'reg_lambda': 0.13254703840445914, 'gamma': 3.1149929790252133, 'min_child_weight': 1.794124484207816, 'subsample': 0.8018823156535407}"
   ]
  },
  {
   "cell_type": "markdown",
   "metadata": {},
   "source": [
    "### Fit and Predict"
   ]
  },
  {
   "cell_type": "code",
   "execution_count": 30,
   "metadata": {},
   "outputs": [],
   "source": [
    "params_xgb = {'n_estimators': 590, 'max_depth': 11, 'max_leaves': 16, 'grow_policy': 'depthwise', 'learning_rate': 0.0552223218868165, 'booster': 'gbtree', 'reg_alpha': 0.6472657948113174, 'reg_lambda': 0.13254703840445914, 'gamma': 3.1149929790252133, 'min_child_weight': 1.794124484207816, 'subsample': 0.8018823156535407}\n",
    "model = XGBClassifier(**params_xgb)\n",
    "model.fit(x_data, target)\n",
    "pred = model.predict_proba(x_test)\n",
    "submission = pd.DataFrame(pred,columns=le.classes_)\n",
    "submission['id'] = df_test['id']\n",
    "submission.to_csv(\"XGBTuned.csv\",index=False)"
   ]
  },
  {
   "cell_type": "markdown",
   "metadata": {},
   "source": [
    "## GBC Hyperparameter Tuning"
   ]
  },
  {
   "cell_type": "code",
   "execution_count": null,
   "metadata": {},
   "outputs": [],
   "source": [
    "from sklearn.ensemble import GradientBoostingClassifier\n",
    "def objective(trial):\n",
    "    #Define Hyperparameter Search Space\n",
    "    params_optuna = {\n",
    "        \"learning_rate\" : trial.suggest_float(\"learning_rate\", 0, 1),\n",
    " #       \"n_estimators\" : trial.suggest_int(\"n_estimators\", 50, 1000),\n",
    "  #      \"subsample\" : trial.suggest_float(\"subsample\", 0, 1),\n",
    "   #     \"criterion\" :  trial.suggest_categorical(\"criterion\", [\"friedman_mse\", \"squared_error\"]),\n",
    "    #    \"min_samples_split\" : trial.suggest_float(\"min_samples_split\", 0, 1),\n",
    "     #   \"min_samples_leaf\" : trial.suggest_float(\"min_samples_leaf\", 0, 1),\n",
    "      #  \"max_depth\" : trial.suggest_int(\"max_depth\", 3, 50),\n",
    "       # \"min_impurity_decrease\" : trial.suggest_float(\"min_impurity_decrease\", 0, 1)\n",
    "    }\n",
    "    \n",
    "    #KFold\n",
    "    skf = StratifiedKFold(n_splits=5, random_state=42, shuffle=True)\n",
    "    scores = []\n",
    "    for train_index,test_index in skf.split(x_data,target):\n",
    "        X_train, y_train = x_data.iloc[train_index],target.iloc[train_index]\n",
    "        X_val, y_val = x_data.iloc[test_index],target.iloc[test_index]\n",
    "    \n",
    "        classifier = GradientBoostingClassifier(**params_optuna)\n",
    "        classifier.fit(X_train, y_train.values.ravel())\n",
    "    \n",
    "        y_pred = classifier.predict_proba(X_val)\n",
    "        X_train_pred = classifier.predict_proba(X_train)[:,1]\n",
    "        \n",
    "        score = log_loss(y_val, y_pred.astype(np.float64))\n",
    "        scores.append(score)\n",
    "    return np.mean(scores)\n",
    "study = optuna.create_study(study_name=\"GBC_SKFold\", direction=\"minimize\")\n",
    "study.optimize(objective, n_trials=10)\n",
    "study_df = study.trials_dataframe()\n",
    "print(study.best_value)\n",
    "print(study.best_params)"
   ]
  },
  {
   "cell_type": "code",
   "execution_count": 45,
   "metadata": {},
   "outputs": [
    {
     "name": "stdout",
     "output_type": "stream",
     "text": [
      "1.6386714547844086\n",
      "{'learning_rate': 0.5521561841852183, 'n_estimators': 195, 'subsample': 0.9459418531220104, 'criterion': 'squared_error', 'min_samples_split': 0.9422046708085787, 'min_samples_leaf': 0.18938317561489681, 'max_depth': 43, 'min_impurity_decrease': 0.7032570513302495}\n"
     ]
    }
   ],
   "source": [
    "print(study.best_value)\n",
    "print(study.best_params)"
   ]
  },
  {
   "cell_type": "code",
   "execution_count": null,
   "metadata": {},
   "outputs": [],
   "source": []
  },
  {
   "cell_type": "markdown",
   "metadata": {},
   "source": [
    "## LGB Hyperparameter Tuning"
   ]
  },
  {
   "cell_type": "code",
   "execution_count": 40,
   "metadata": {},
   "outputs": [],
   "source": [
    "import numpy as np\n",
    "import pandas as pd\n",
    "import lightgbm as lgb\n",
    "import optuna\n",
    "from sklearn.model_selection import StratifiedKFold\n",
    "from sklearn.metrics import log_loss"
   ]
  },
  {
   "cell_type": "code",
   "execution_count": 41,
   "metadata": {},
   "outputs": [
    {
     "name": "stderr",
     "output_type": "stream",
     "text": [
      "[I 2024-03-08 14:07:40,603] A new study created in memory with name: no-name-d11b18dc-ff8f-471c-9c98-19ec58a80c4d\n",
      "[W 2024-03-08 14:07:40,622] Trial 0 failed with parameters: {'lambda_l1': 1.6569225149069977, 'lambda_l2': 2.9064777110712443, 'num_leaves': 6, 'feature_fraction': 0.46577424662596323, 'bagging_fraction': 0.7015902710118831, 'bagging_freq': 2, 'min_child_samples': 6} because of the following error: LightGBMError(\"Multiclass objective and metrics don't match\").\n",
      "Traceback (most recent call last):\n",
      "  File \"c:\\Users\\LArns\\Desktop\\meica\\.conda\\Lib\\site-packages\\optuna\\study\\_optimize.py\", line 200, in _run_trial\n",
      "    value_or_values = func(trial)\n",
      "                      ^^^^^^^^^^^\n",
      "  File \"C:\\Users\\LArns\\AppData\\Local\\Temp\\ipykernel_14304\\2443411315.py\", line 24, in objective\n",
      "    model = lgb.train(params, dtrain, valid_sets=[dvalid], num_boost_round=50)\n",
      "            ^^^^^^^^^^^^^^^^^^^^^^^^^^^^^^^^^^^^^^^^^^^^^^^^^^^^^^^^^^^^^^^^^^\n",
      "  File \"c:\\Users\\LArns\\Desktop\\meica\\.conda\\Lib\\site-packages\\lightgbm\\engine.py\", line 255, in train\n",
      "    booster = Booster(params=params, train_set=train_set)\n",
      "              ^^^^^^^^^^^^^^^^^^^^^^^^^^^^^^^^^^^^^^^^^^^\n",
      "  File \"c:\\Users\\LArns\\Desktop\\meica\\.conda\\Lib\\site-packages\\lightgbm\\basic.py\", line 3433, in __init__\n",
      "    train_set.construct()\n",
      "  File \"c:\\Users\\LArns\\Desktop\\meica\\.conda\\Lib\\site-packages\\lightgbm\\basic.py\", line 2462, in construct\n",
      "    self._lazy_init(data=self.data, label=self.label, reference=None,\n",
      "  File \"c:\\Users\\LArns\\Desktop\\meica\\.conda\\Lib\\site-packages\\lightgbm\\basic.py\", line 2079, in _lazy_init\n",
      "    self.__init_from_np2d(data, params_str, ref_dataset)\n",
      "  File \"c:\\Users\\LArns\\Desktop\\meica\\.conda\\Lib\\site-packages\\lightgbm\\basic.py\", line 2218, in __init_from_np2d\n",
      "    _safe_call(_LIB.LGBM_DatasetCreateFromMat(\n",
      "  File \"c:\\Users\\LArns\\Desktop\\meica\\.conda\\Lib\\site-packages\\lightgbm\\basic.py\", line 263, in _safe_call\n",
      "    raise LightGBMError(_LIB.LGBM_GetLastError().decode('utf-8'))\n",
      "lightgbm.basic.LightGBMError: Multiclass objective and metrics don't match\n",
      "[W 2024-03-08 14:07:40,626] Trial 0 failed with value None.\n"
     ]
    },
    {
     "ename": "LightGBMError",
     "evalue": "Multiclass objective and metrics don't match",
     "output_type": "error",
     "traceback": [
      "\u001b[1;31m---------------------------------------------------------------------------\u001b[0m",
      "\u001b[1;31mLightGBMError\u001b[0m                             Traceback (most recent call last)",
      "Cell \u001b[1;32mIn[41], line 32\u001b[0m\n\u001b[0;32m     29\u001b[0m study \u001b[38;5;241m=\u001b[39m optuna\u001b[38;5;241m.\u001b[39mcreate_study(direction\u001b[38;5;241m=\u001b[39m\u001b[38;5;124m'\u001b[39m\u001b[38;5;124mminimize\u001b[39m\u001b[38;5;124m'\u001b[39m)\n\u001b[0;32m     30\u001b[0m \u001b[38;5;66;03m# Suppress INFO logs by setting the logging level to WARNING\u001b[39;00m\n\u001b[0;32m     31\u001b[0m \u001b[38;5;66;03m#optuna.logging.set_verbosity(optuna.logging.ERROR)\u001b[39;00m\n\u001b[1;32m---> 32\u001b[0m \u001b[43mstudy\u001b[49m\u001b[38;5;241;43m.\u001b[39;49m\u001b[43moptimize\u001b[49m\u001b[43m(\u001b[49m\u001b[43mobjective\u001b[49m\u001b[43m,\u001b[49m\u001b[43m \u001b[49m\u001b[43mn_trials\u001b[49m\u001b[38;5;241;43m=\u001b[39;49m\u001b[38;5;241;43m2\u001b[39;49m\u001b[43m)\u001b[49m\n\u001b[0;32m     33\u001b[0m \u001b[38;5;66;03m# Access the best hyperparameters and corresponding log loss\u001b[39;00m\n\u001b[0;32m     34\u001b[0m best_params \u001b[38;5;241m=\u001b[39m study\u001b[38;5;241m.\u001b[39mbest_params\n",
      "File \u001b[1;32mc:\\Users\\LArns\\Desktop\\meica\\.conda\\Lib\\site-packages\\optuna\\study\\study.py:451\u001b[0m, in \u001b[0;36mStudy.optimize\u001b[1;34m(self, func, n_trials, timeout, n_jobs, catch, callbacks, gc_after_trial, show_progress_bar)\u001b[0m\n\u001b[0;32m    348\u001b[0m \u001b[38;5;28;01mdef\u001b[39;00m \u001b[38;5;21moptimize\u001b[39m(\n\u001b[0;32m    349\u001b[0m     \u001b[38;5;28mself\u001b[39m,\n\u001b[0;32m    350\u001b[0m     func: ObjectiveFuncType,\n\u001b[1;32m   (...)\u001b[0m\n\u001b[0;32m    357\u001b[0m     show_progress_bar: \u001b[38;5;28mbool\u001b[39m \u001b[38;5;241m=\u001b[39m \u001b[38;5;28;01mFalse\u001b[39;00m,\n\u001b[0;32m    358\u001b[0m ) \u001b[38;5;241m-\u001b[39m\u001b[38;5;241m>\u001b[39m \u001b[38;5;28;01mNone\u001b[39;00m:\n\u001b[0;32m    359\u001b[0m \u001b[38;5;250m    \u001b[39m\u001b[38;5;124;03m\"\"\"Optimize an objective function.\u001b[39;00m\n\u001b[0;32m    360\u001b[0m \n\u001b[0;32m    361\u001b[0m \u001b[38;5;124;03m    Optimization is done by choosing a suitable set of hyperparameter values from a given\u001b[39;00m\n\u001b[1;32m   (...)\u001b[0m\n\u001b[0;32m    449\u001b[0m \u001b[38;5;124;03m            If nested invocation of this method occurs.\u001b[39;00m\n\u001b[0;32m    450\u001b[0m \u001b[38;5;124;03m    \"\"\"\u001b[39;00m\n\u001b[1;32m--> 451\u001b[0m     \u001b[43m_optimize\u001b[49m\u001b[43m(\u001b[49m\n\u001b[0;32m    452\u001b[0m \u001b[43m        \u001b[49m\u001b[43mstudy\u001b[49m\u001b[38;5;241;43m=\u001b[39;49m\u001b[38;5;28;43mself\u001b[39;49m\u001b[43m,\u001b[49m\n\u001b[0;32m    453\u001b[0m \u001b[43m        \u001b[49m\u001b[43mfunc\u001b[49m\u001b[38;5;241;43m=\u001b[39;49m\u001b[43mfunc\u001b[49m\u001b[43m,\u001b[49m\n\u001b[0;32m    454\u001b[0m \u001b[43m        \u001b[49m\u001b[43mn_trials\u001b[49m\u001b[38;5;241;43m=\u001b[39;49m\u001b[43mn_trials\u001b[49m\u001b[43m,\u001b[49m\n\u001b[0;32m    455\u001b[0m \u001b[43m        \u001b[49m\u001b[43mtimeout\u001b[49m\u001b[38;5;241;43m=\u001b[39;49m\u001b[43mtimeout\u001b[49m\u001b[43m,\u001b[49m\n\u001b[0;32m    456\u001b[0m \u001b[43m        \u001b[49m\u001b[43mn_jobs\u001b[49m\u001b[38;5;241;43m=\u001b[39;49m\u001b[43mn_jobs\u001b[49m\u001b[43m,\u001b[49m\n\u001b[0;32m    457\u001b[0m \u001b[43m        \u001b[49m\u001b[43mcatch\u001b[49m\u001b[38;5;241;43m=\u001b[39;49m\u001b[38;5;28;43mtuple\u001b[39;49m\u001b[43m(\u001b[49m\u001b[43mcatch\u001b[49m\u001b[43m)\u001b[49m\u001b[43m \u001b[49m\u001b[38;5;28;43;01mif\u001b[39;49;00m\u001b[43m \u001b[49m\u001b[38;5;28;43misinstance\u001b[39;49m\u001b[43m(\u001b[49m\u001b[43mcatch\u001b[49m\u001b[43m,\u001b[49m\u001b[43m \u001b[49m\u001b[43mIterable\u001b[49m\u001b[43m)\u001b[49m\u001b[43m \u001b[49m\u001b[38;5;28;43;01melse\u001b[39;49;00m\u001b[43m \u001b[49m\u001b[43m(\u001b[49m\u001b[43mcatch\u001b[49m\u001b[43m,\u001b[49m\u001b[43m)\u001b[49m\u001b[43m,\u001b[49m\n\u001b[0;32m    458\u001b[0m \u001b[43m        \u001b[49m\u001b[43mcallbacks\u001b[49m\u001b[38;5;241;43m=\u001b[39;49m\u001b[43mcallbacks\u001b[49m\u001b[43m,\u001b[49m\n\u001b[0;32m    459\u001b[0m \u001b[43m        \u001b[49m\u001b[43mgc_after_trial\u001b[49m\u001b[38;5;241;43m=\u001b[39;49m\u001b[43mgc_after_trial\u001b[49m\u001b[43m,\u001b[49m\n\u001b[0;32m    460\u001b[0m \u001b[43m        \u001b[49m\u001b[43mshow_progress_bar\u001b[49m\u001b[38;5;241;43m=\u001b[39;49m\u001b[43mshow_progress_bar\u001b[49m\u001b[43m,\u001b[49m\n\u001b[0;32m    461\u001b[0m \u001b[43m    \u001b[49m\u001b[43m)\u001b[49m\n",
      "File \u001b[1;32mc:\\Users\\LArns\\Desktop\\meica\\.conda\\Lib\\site-packages\\optuna\\study\\_optimize.py:66\u001b[0m, in \u001b[0;36m_optimize\u001b[1;34m(study, func, n_trials, timeout, n_jobs, catch, callbacks, gc_after_trial, show_progress_bar)\u001b[0m\n\u001b[0;32m     64\u001b[0m \u001b[38;5;28;01mtry\u001b[39;00m:\n\u001b[0;32m     65\u001b[0m     \u001b[38;5;28;01mif\u001b[39;00m n_jobs \u001b[38;5;241m==\u001b[39m \u001b[38;5;241m1\u001b[39m:\n\u001b[1;32m---> 66\u001b[0m         \u001b[43m_optimize_sequential\u001b[49m\u001b[43m(\u001b[49m\n\u001b[0;32m     67\u001b[0m \u001b[43m            \u001b[49m\u001b[43mstudy\u001b[49m\u001b[43m,\u001b[49m\n\u001b[0;32m     68\u001b[0m \u001b[43m            \u001b[49m\u001b[43mfunc\u001b[49m\u001b[43m,\u001b[49m\n\u001b[0;32m     69\u001b[0m \u001b[43m            \u001b[49m\u001b[43mn_trials\u001b[49m\u001b[43m,\u001b[49m\n\u001b[0;32m     70\u001b[0m \u001b[43m            \u001b[49m\u001b[43mtimeout\u001b[49m\u001b[43m,\u001b[49m\n\u001b[0;32m     71\u001b[0m \u001b[43m            \u001b[49m\u001b[43mcatch\u001b[49m\u001b[43m,\u001b[49m\n\u001b[0;32m     72\u001b[0m \u001b[43m            \u001b[49m\u001b[43mcallbacks\u001b[49m\u001b[43m,\u001b[49m\n\u001b[0;32m     73\u001b[0m \u001b[43m            \u001b[49m\u001b[43mgc_after_trial\u001b[49m\u001b[43m,\u001b[49m\n\u001b[0;32m     74\u001b[0m \u001b[43m            \u001b[49m\u001b[43mreseed_sampler_rng\u001b[49m\u001b[38;5;241;43m=\u001b[39;49m\u001b[38;5;28;43;01mFalse\u001b[39;49;00m\u001b[43m,\u001b[49m\n\u001b[0;32m     75\u001b[0m \u001b[43m            \u001b[49m\u001b[43mtime_start\u001b[49m\u001b[38;5;241;43m=\u001b[39;49m\u001b[38;5;28;43;01mNone\u001b[39;49;00m\u001b[43m,\u001b[49m\n\u001b[0;32m     76\u001b[0m \u001b[43m            \u001b[49m\u001b[43mprogress_bar\u001b[49m\u001b[38;5;241;43m=\u001b[39;49m\u001b[43mprogress_bar\u001b[49m\u001b[43m,\u001b[49m\n\u001b[0;32m     77\u001b[0m \u001b[43m        \u001b[49m\u001b[43m)\u001b[49m\n\u001b[0;32m     78\u001b[0m     \u001b[38;5;28;01melse\u001b[39;00m:\n\u001b[0;32m     79\u001b[0m         \u001b[38;5;28;01mif\u001b[39;00m n_jobs \u001b[38;5;241m==\u001b[39m \u001b[38;5;241m-\u001b[39m\u001b[38;5;241m1\u001b[39m:\n",
      "File \u001b[1;32mc:\\Users\\LArns\\Desktop\\meica\\.conda\\Lib\\site-packages\\optuna\\study\\_optimize.py:163\u001b[0m, in \u001b[0;36m_optimize_sequential\u001b[1;34m(study, func, n_trials, timeout, catch, callbacks, gc_after_trial, reseed_sampler_rng, time_start, progress_bar)\u001b[0m\n\u001b[0;32m    160\u001b[0m         \u001b[38;5;28;01mbreak\u001b[39;00m\n\u001b[0;32m    162\u001b[0m \u001b[38;5;28;01mtry\u001b[39;00m:\n\u001b[1;32m--> 163\u001b[0m     frozen_trial \u001b[38;5;241m=\u001b[39m \u001b[43m_run_trial\u001b[49m\u001b[43m(\u001b[49m\u001b[43mstudy\u001b[49m\u001b[43m,\u001b[49m\u001b[43m \u001b[49m\u001b[43mfunc\u001b[49m\u001b[43m,\u001b[49m\u001b[43m \u001b[49m\u001b[43mcatch\u001b[49m\u001b[43m)\u001b[49m\n\u001b[0;32m    164\u001b[0m \u001b[38;5;28;01mfinally\u001b[39;00m:\n\u001b[0;32m    165\u001b[0m     \u001b[38;5;66;03m# The following line mitigates memory problems that can be occurred in some\u001b[39;00m\n\u001b[0;32m    166\u001b[0m     \u001b[38;5;66;03m# environments (e.g., services that use computing containers such as GitHub Actions).\u001b[39;00m\n\u001b[0;32m    167\u001b[0m     \u001b[38;5;66;03m# Please refer to the following PR for further details:\u001b[39;00m\n\u001b[0;32m    168\u001b[0m     \u001b[38;5;66;03m# https://github.com/optuna/optuna/pull/325.\u001b[39;00m\n\u001b[0;32m    169\u001b[0m     \u001b[38;5;28;01mif\u001b[39;00m gc_after_trial:\n",
      "File \u001b[1;32mc:\\Users\\LArns\\Desktop\\meica\\.conda\\Lib\\site-packages\\optuna\\study\\_optimize.py:251\u001b[0m, in \u001b[0;36m_run_trial\u001b[1;34m(study, func, catch)\u001b[0m\n\u001b[0;32m    244\u001b[0m         \u001b[38;5;28;01massert\u001b[39;00m \u001b[38;5;28;01mFalse\u001b[39;00m, \u001b[38;5;124m\"\u001b[39m\u001b[38;5;124mShould not reach.\u001b[39m\u001b[38;5;124m\"\u001b[39m\n\u001b[0;32m    246\u001b[0m \u001b[38;5;28;01mif\u001b[39;00m (\n\u001b[0;32m    247\u001b[0m     frozen_trial\u001b[38;5;241m.\u001b[39mstate \u001b[38;5;241m==\u001b[39m TrialState\u001b[38;5;241m.\u001b[39mFAIL\n\u001b[0;32m    248\u001b[0m     \u001b[38;5;129;01mand\u001b[39;00m func_err \u001b[38;5;129;01mis\u001b[39;00m \u001b[38;5;129;01mnot\u001b[39;00m \u001b[38;5;28;01mNone\u001b[39;00m\n\u001b[0;32m    249\u001b[0m     \u001b[38;5;129;01mand\u001b[39;00m \u001b[38;5;129;01mnot\u001b[39;00m \u001b[38;5;28misinstance\u001b[39m(func_err, catch)\n\u001b[0;32m    250\u001b[0m ):\n\u001b[1;32m--> 251\u001b[0m     \u001b[38;5;28;01mraise\u001b[39;00m func_err\n\u001b[0;32m    252\u001b[0m \u001b[38;5;28;01mreturn\u001b[39;00m frozen_trial\n",
      "File \u001b[1;32mc:\\Users\\LArns\\Desktop\\meica\\.conda\\Lib\\site-packages\\optuna\\study\\_optimize.py:200\u001b[0m, in \u001b[0;36m_run_trial\u001b[1;34m(study, func, catch)\u001b[0m\n\u001b[0;32m    198\u001b[0m \u001b[38;5;28;01mwith\u001b[39;00m get_heartbeat_thread(trial\u001b[38;5;241m.\u001b[39m_trial_id, study\u001b[38;5;241m.\u001b[39m_storage):\n\u001b[0;32m    199\u001b[0m     \u001b[38;5;28;01mtry\u001b[39;00m:\n\u001b[1;32m--> 200\u001b[0m         value_or_values \u001b[38;5;241m=\u001b[39m \u001b[43mfunc\u001b[49m\u001b[43m(\u001b[49m\u001b[43mtrial\u001b[49m\u001b[43m)\u001b[49m\n\u001b[0;32m    201\u001b[0m     \u001b[38;5;28;01mexcept\u001b[39;00m exceptions\u001b[38;5;241m.\u001b[39mTrialPruned \u001b[38;5;28;01mas\u001b[39;00m e:\n\u001b[0;32m    202\u001b[0m         \u001b[38;5;66;03m# TODO(mamu): Handle multi-objective cases.\u001b[39;00m\n\u001b[0;32m    203\u001b[0m         state \u001b[38;5;241m=\u001b[39m TrialState\u001b[38;5;241m.\u001b[39mPRUNED\n",
      "Cell \u001b[1;32mIn[41], line 24\u001b[0m, in \u001b[0;36mobjective\u001b[1;34m(trial)\u001b[0m\n\u001b[0;32m     22\u001b[0m dtrain \u001b[38;5;241m=\u001b[39m lgb\u001b[38;5;241m.\u001b[39mDataset(x_data_lgb[train_idx], label\u001b[38;5;241m=\u001b[39mtarget_lgb[train_idx])\n\u001b[0;32m     23\u001b[0m dvalid \u001b[38;5;241m=\u001b[39m lgb\u001b[38;5;241m.\u001b[39mDataset(x_data_lgb[valid_idx], label\u001b[38;5;241m=\u001b[39mtarget_lgb[valid_idx])\n\u001b[1;32m---> 24\u001b[0m model \u001b[38;5;241m=\u001b[39m \u001b[43mlgb\u001b[49m\u001b[38;5;241;43m.\u001b[39;49m\u001b[43mtrain\u001b[49m\u001b[43m(\u001b[49m\u001b[43mparams\u001b[49m\u001b[43m,\u001b[49m\u001b[43m \u001b[49m\u001b[43mdtrain\u001b[49m\u001b[43m,\u001b[49m\u001b[43m \u001b[49m\u001b[43mvalid_sets\u001b[49m\u001b[38;5;241;43m=\u001b[39;49m\u001b[43m[\u001b[49m\u001b[43mdvalid\u001b[49m\u001b[43m]\u001b[49m\u001b[43m,\u001b[49m\u001b[43m \u001b[49m\u001b[43mnum_boost_round\u001b[49m\u001b[38;5;241;43m=\u001b[39;49m\u001b[38;5;241;43m50\u001b[39;49m\u001b[43m)\u001b[49m\n\u001b[0;32m     25\u001b[0m valid_pred \u001b[38;5;241m=\u001b[39m model\u001b[38;5;241m.\u001b[39mpredict(x_data_lgb[valid_idx])\n\u001b[0;32m     26\u001b[0m score \u001b[38;5;241m=\u001b[39m log_loss(target_lgb[valid_idx], valid_pred)\n",
      "File \u001b[1;32mc:\\Users\\LArns\\Desktop\\meica\\.conda\\Lib\\site-packages\\lightgbm\\engine.py:255\u001b[0m, in \u001b[0;36mtrain\u001b[1;34m(params, train_set, num_boost_round, valid_sets, valid_names, feval, init_model, feature_name, categorical_feature, keep_training_booster, callbacks)\u001b[0m\n\u001b[0;32m    253\u001b[0m \u001b[38;5;66;03m# construct booster\u001b[39;00m\n\u001b[0;32m    254\u001b[0m \u001b[38;5;28;01mtry\u001b[39;00m:\n\u001b[1;32m--> 255\u001b[0m     booster \u001b[38;5;241m=\u001b[39m \u001b[43mBooster\u001b[49m\u001b[43m(\u001b[49m\u001b[43mparams\u001b[49m\u001b[38;5;241;43m=\u001b[39;49m\u001b[43mparams\u001b[49m\u001b[43m,\u001b[49m\u001b[43m \u001b[49m\u001b[43mtrain_set\u001b[49m\u001b[38;5;241;43m=\u001b[39;49m\u001b[43mtrain_set\u001b[49m\u001b[43m)\u001b[49m\n\u001b[0;32m    256\u001b[0m     \u001b[38;5;28;01mif\u001b[39;00m is_valid_contain_train:\n\u001b[0;32m    257\u001b[0m         booster\u001b[38;5;241m.\u001b[39mset_train_data_name(train_data_name)\n",
      "File \u001b[1;32mc:\\Users\\LArns\\Desktop\\meica\\.conda\\Lib\\site-packages\\lightgbm\\basic.py:3433\u001b[0m, in \u001b[0;36mBooster.__init__\u001b[1;34m(self, params, train_set, model_file, model_str)\u001b[0m\n\u001b[0;32m   3426\u001b[0m     \u001b[38;5;28mself\u001b[39m\u001b[38;5;241m.\u001b[39mset_network(\n\u001b[0;32m   3427\u001b[0m         machines\u001b[38;5;241m=\u001b[39mmachines,\n\u001b[0;32m   3428\u001b[0m         local_listen_port\u001b[38;5;241m=\u001b[39mparams[\u001b[38;5;124m\"\u001b[39m\u001b[38;5;124mlocal_listen_port\u001b[39m\u001b[38;5;124m\"\u001b[39m],\n\u001b[0;32m   3429\u001b[0m         listen_time_out\u001b[38;5;241m=\u001b[39mparams\u001b[38;5;241m.\u001b[39mget(\u001b[38;5;124m\"\u001b[39m\u001b[38;5;124mtime_out\u001b[39m\u001b[38;5;124m\"\u001b[39m, \u001b[38;5;241m120\u001b[39m),\n\u001b[0;32m   3430\u001b[0m         num_machines\u001b[38;5;241m=\u001b[39mparams[\u001b[38;5;124m\"\u001b[39m\u001b[38;5;124mnum_machines\u001b[39m\u001b[38;5;124m\"\u001b[39m]\n\u001b[0;32m   3431\u001b[0m     )\n\u001b[0;32m   3432\u001b[0m \u001b[38;5;66;03m# construct booster object\u001b[39;00m\n\u001b[1;32m-> 3433\u001b[0m \u001b[43mtrain_set\u001b[49m\u001b[38;5;241;43m.\u001b[39;49m\u001b[43mconstruct\u001b[49m\u001b[43m(\u001b[49m\u001b[43m)\u001b[49m\n\u001b[0;32m   3434\u001b[0m \u001b[38;5;66;03m# copy the parameters from train_set\u001b[39;00m\n\u001b[0;32m   3435\u001b[0m params\u001b[38;5;241m.\u001b[39mupdate(train_set\u001b[38;5;241m.\u001b[39mget_params())\n",
      "File \u001b[1;32mc:\\Users\\LArns\\Desktop\\meica\\.conda\\Lib\\site-packages\\lightgbm\\basic.py:2462\u001b[0m, in \u001b[0;36mDataset.construct\u001b[1;34m(self)\u001b[0m\n\u001b[0;32m   2455\u001b[0m             \u001b[38;5;28mself\u001b[39m\u001b[38;5;241m.\u001b[39m_set_init_score_by_predictor(\n\u001b[0;32m   2456\u001b[0m                 predictor\u001b[38;5;241m=\u001b[39m\u001b[38;5;28mself\u001b[39m\u001b[38;5;241m.\u001b[39m_predictor,\n\u001b[0;32m   2457\u001b[0m                 data\u001b[38;5;241m=\u001b[39m\u001b[38;5;28mself\u001b[39m\u001b[38;5;241m.\u001b[39mdata,\n\u001b[0;32m   2458\u001b[0m                 used_indices\u001b[38;5;241m=\u001b[39mused_indices\n\u001b[0;32m   2459\u001b[0m             )\n\u001b[0;32m   2460\u001b[0m \u001b[38;5;28;01melse\u001b[39;00m:\n\u001b[0;32m   2461\u001b[0m     \u001b[38;5;66;03m# create train\u001b[39;00m\n\u001b[1;32m-> 2462\u001b[0m     \u001b[38;5;28;43mself\u001b[39;49m\u001b[38;5;241;43m.\u001b[39;49m\u001b[43m_lazy_init\u001b[49m\u001b[43m(\u001b[49m\u001b[43mdata\u001b[49m\u001b[38;5;241;43m=\u001b[39;49m\u001b[38;5;28;43mself\u001b[39;49m\u001b[38;5;241;43m.\u001b[39;49m\u001b[43mdata\u001b[49m\u001b[43m,\u001b[49m\u001b[43m \u001b[49m\u001b[43mlabel\u001b[49m\u001b[38;5;241;43m=\u001b[39;49m\u001b[38;5;28;43mself\u001b[39;49m\u001b[38;5;241;43m.\u001b[39;49m\u001b[43mlabel\u001b[49m\u001b[43m,\u001b[49m\u001b[43m \u001b[49m\u001b[43mreference\u001b[49m\u001b[38;5;241;43m=\u001b[39;49m\u001b[38;5;28;43;01mNone\u001b[39;49;00m\u001b[43m,\u001b[49m\n\u001b[0;32m   2463\u001b[0m \u001b[43m                    \u001b[49m\u001b[43mweight\u001b[49m\u001b[38;5;241;43m=\u001b[39;49m\u001b[38;5;28;43mself\u001b[39;49m\u001b[38;5;241;43m.\u001b[39;49m\u001b[43mweight\u001b[49m\u001b[43m,\u001b[49m\u001b[43m \u001b[49m\u001b[43mgroup\u001b[49m\u001b[38;5;241;43m=\u001b[39;49m\u001b[38;5;28;43mself\u001b[39;49m\u001b[38;5;241;43m.\u001b[39;49m\u001b[43mgroup\u001b[49m\u001b[43m,\u001b[49m\n\u001b[0;32m   2464\u001b[0m \u001b[43m                    \u001b[49m\u001b[43minit_score\u001b[49m\u001b[38;5;241;43m=\u001b[39;49m\u001b[38;5;28;43mself\u001b[39;49m\u001b[38;5;241;43m.\u001b[39;49m\u001b[43minit_score\u001b[49m\u001b[43m,\u001b[49m\u001b[43m \u001b[49m\u001b[43mpredictor\u001b[49m\u001b[38;5;241;43m=\u001b[39;49m\u001b[38;5;28;43mself\u001b[39;49m\u001b[38;5;241;43m.\u001b[39;49m\u001b[43m_predictor\u001b[49m\u001b[43m,\u001b[49m\n\u001b[0;32m   2465\u001b[0m \u001b[43m                    \u001b[49m\u001b[43mfeature_name\u001b[49m\u001b[38;5;241;43m=\u001b[39;49m\u001b[38;5;28;43mself\u001b[39;49m\u001b[38;5;241;43m.\u001b[39;49m\u001b[43mfeature_name\u001b[49m\u001b[43m,\u001b[49m\u001b[43m \u001b[49m\u001b[43mcategorical_feature\u001b[49m\u001b[38;5;241;43m=\u001b[39;49m\u001b[38;5;28;43mself\u001b[39;49m\u001b[38;5;241;43m.\u001b[39;49m\u001b[43mcategorical_feature\u001b[49m\u001b[43m,\u001b[49m\n\u001b[0;32m   2466\u001b[0m \u001b[43m                    \u001b[49m\u001b[43mparams\u001b[49m\u001b[38;5;241;43m=\u001b[39;49m\u001b[38;5;28;43mself\u001b[39;49m\u001b[38;5;241;43m.\u001b[39;49m\u001b[43mparams\u001b[49m\u001b[43m,\u001b[49m\u001b[43m \u001b[49m\u001b[43mposition\u001b[49m\u001b[38;5;241;43m=\u001b[39;49m\u001b[38;5;28;43mself\u001b[39;49m\u001b[38;5;241;43m.\u001b[39;49m\u001b[43mposition\u001b[49m\u001b[43m)\u001b[49m\n\u001b[0;32m   2467\u001b[0m \u001b[38;5;28;01mif\u001b[39;00m \u001b[38;5;28mself\u001b[39m\u001b[38;5;241m.\u001b[39mfree_raw_data:\n\u001b[0;32m   2468\u001b[0m     \u001b[38;5;28mself\u001b[39m\u001b[38;5;241m.\u001b[39mdata \u001b[38;5;241m=\u001b[39m \u001b[38;5;28;01mNone\u001b[39;00m\n",
      "File \u001b[1;32mc:\\Users\\LArns\\Desktop\\meica\\.conda\\Lib\\site-packages\\lightgbm\\basic.py:2079\u001b[0m, in \u001b[0;36mDataset._lazy_init\u001b[1;34m(self, data, label, reference, weight, group, init_score, predictor, feature_name, categorical_feature, params, position)\u001b[0m\n\u001b[0;32m   2077\u001b[0m     \u001b[38;5;28mself\u001b[39m\u001b[38;5;241m.\u001b[39m__init_from_csc(data, params_str, ref_dataset)\n\u001b[0;32m   2078\u001b[0m \u001b[38;5;28;01melif\u001b[39;00m \u001b[38;5;28misinstance\u001b[39m(data, np\u001b[38;5;241m.\u001b[39mndarray):\n\u001b[1;32m-> 2079\u001b[0m     \u001b[38;5;28;43mself\u001b[39;49m\u001b[38;5;241;43m.\u001b[39;49m\u001b[43m__init_from_np2d\u001b[49m\u001b[43m(\u001b[49m\u001b[43mdata\u001b[49m\u001b[43m,\u001b[49m\u001b[43m \u001b[49m\u001b[43mparams_str\u001b[49m\u001b[43m,\u001b[49m\u001b[43m \u001b[49m\u001b[43mref_dataset\u001b[49m\u001b[43m)\u001b[49m\n\u001b[0;32m   2080\u001b[0m \u001b[38;5;28;01melif\u001b[39;00m _is_pyarrow_table(data):\n\u001b[0;32m   2081\u001b[0m     \u001b[38;5;28mself\u001b[39m\u001b[38;5;241m.\u001b[39m__init_from_pyarrow_table(data, params_str, ref_dataset)\n",
      "File \u001b[1;32mc:\\Users\\LArns\\Desktop\\meica\\.conda\\Lib\\site-packages\\lightgbm\\basic.py:2218\u001b[0m, in \u001b[0;36mDataset.__init_from_np2d\u001b[1;34m(self, mat, params_str, ref_dataset)\u001b[0m\n\u001b[0;32m   2215\u001b[0m     data \u001b[38;5;241m=\u001b[39m np\u001b[38;5;241m.\u001b[39marray(mat\u001b[38;5;241m.\u001b[39mreshape(mat\u001b[38;5;241m.\u001b[39msize), dtype\u001b[38;5;241m=\u001b[39mnp\u001b[38;5;241m.\u001b[39mfloat32)\n\u001b[0;32m   2217\u001b[0m ptr_data, type_ptr_data, _ \u001b[38;5;241m=\u001b[39m _c_float_array(data)\n\u001b[1;32m-> 2218\u001b[0m \u001b[43m_safe_call\u001b[49m\u001b[43m(\u001b[49m\u001b[43m_LIB\u001b[49m\u001b[38;5;241;43m.\u001b[39;49m\u001b[43mLGBM_DatasetCreateFromMat\u001b[49m\u001b[43m(\u001b[49m\n\u001b[0;32m   2219\u001b[0m \u001b[43m    \u001b[49m\u001b[43mptr_data\u001b[49m\u001b[43m,\u001b[49m\n\u001b[0;32m   2220\u001b[0m \u001b[43m    \u001b[49m\u001b[43mctypes\u001b[49m\u001b[38;5;241;43m.\u001b[39;49m\u001b[43mc_int\u001b[49m\u001b[43m(\u001b[49m\u001b[43mtype_ptr_data\u001b[49m\u001b[43m)\u001b[49m\u001b[43m,\u001b[49m\n\u001b[0;32m   2221\u001b[0m \u001b[43m    \u001b[49m\u001b[43mctypes\u001b[49m\u001b[38;5;241;43m.\u001b[39;49m\u001b[43mc_int32\u001b[49m\u001b[43m(\u001b[49m\u001b[43mmat\u001b[49m\u001b[38;5;241;43m.\u001b[39;49m\u001b[43mshape\u001b[49m\u001b[43m[\u001b[49m\u001b[38;5;241;43m0\u001b[39;49m\u001b[43m]\u001b[49m\u001b[43m)\u001b[49m\u001b[43m,\u001b[49m\n\u001b[0;32m   2222\u001b[0m \u001b[43m    \u001b[49m\u001b[43mctypes\u001b[49m\u001b[38;5;241;43m.\u001b[39;49m\u001b[43mc_int32\u001b[49m\u001b[43m(\u001b[49m\u001b[43mmat\u001b[49m\u001b[38;5;241;43m.\u001b[39;49m\u001b[43mshape\u001b[49m\u001b[43m[\u001b[49m\u001b[38;5;241;43m1\u001b[39;49m\u001b[43m]\u001b[49m\u001b[43m)\u001b[49m\u001b[43m,\u001b[49m\n\u001b[0;32m   2223\u001b[0m \u001b[43m    \u001b[49m\u001b[43mctypes\u001b[49m\u001b[38;5;241;43m.\u001b[39;49m\u001b[43mc_int\u001b[49m\u001b[43m(\u001b[49m\u001b[43m_C_API_IS_ROW_MAJOR\u001b[49m\u001b[43m)\u001b[49m\u001b[43m,\u001b[49m\n\u001b[0;32m   2224\u001b[0m \u001b[43m    \u001b[49m\u001b[43m_c_str\u001b[49m\u001b[43m(\u001b[49m\u001b[43mparams_str\u001b[49m\u001b[43m)\u001b[49m\u001b[43m,\u001b[49m\n\u001b[0;32m   2225\u001b[0m \u001b[43m    \u001b[49m\u001b[43mref_dataset\u001b[49m\u001b[43m,\u001b[49m\n\u001b[0;32m   2226\u001b[0m \u001b[43m    \u001b[49m\u001b[43mctypes\u001b[49m\u001b[38;5;241;43m.\u001b[39;49m\u001b[43mbyref\u001b[49m\u001b[43m(\u001b[49m\u001b[38;5;28;43mself\u001b[39;49m\u001b[38;5;241;43m.\u001b[39;49m\u001b[43m_handle\u001b[49m\u001b[43m)\u001b[49m\u001b[43m)\u001b[49m\u001b[43m)\u001b[49m\n\u001b[0;32m   2227\u001b[0m \u001b[38;5;28;01mreturn\u001b[39;00m \u001b[38;5;28mself\u001b[39m\n",
      "File \u001b[1;32mc:\\Users\\LArns\\Desktop\\meica\\.conda\\Lib\\site-packages\\lightgbm\\basic.py:263\u001b[0m, in \u001b[0;36m_safe_call\u001b[1;34m(ret)\u001b[0m\n\u001b[0;32m    255\u001b[0m \u001b[38;5;250m\u001b[39m\u001b[38;5;124;03m\"\"\"Check the return value from C API call.\u001b[39;00m\n\u001b[0;32m    256\u001b[0m \n\u001b[0;32m    257\u001b[0m \u001b[38;5;124;03mParameters\u001b[39;00m\n\u001b[1;32m   (...)\u001b[0m\n\u001b[0;32m    260\u001b[0m \u001b[38;5;124;03m    The return value from C API calls.\u001b[39;00m\n\u001b[0;32m    261\u001b[0m \u001b[38;5;124;03m\"\"\"\u001b[39;00m\n\u001b[0;32m    262\u001b[0m \u001b[38;5;28;01mif\u001b[39;00m ret \u001b[38;5;241m!=\u001b[39m \u001b[38;5;241m0\u001b[39m:\n\u001b[1;32m--> 263\u001b[0m     \u001b[38;5;28;01mraise\u001b[39;00m LightGBMError(_LIB\u001b[38;5;241m.\u001b[39mLGBM_GetLastError()\u001b[38;5;241m.\u001b[39mdecode(\u001b[38;5;124m'\u001b[39m\u001b[38;5;124mutf-8\u001b[39m\u001b[38;5;124m'\u001b[39m))\n",
      "\u001b[1;31mLightGBMError\u001b[0m: Multiclass objective and metrics don't match"
     ]
    }
   ],
   "source": [
    "x_data_lgb = x_data.to_numpy()\n",
    "target_lgb = target.to_numpy()\n",
    "\n",
    "def objective(trial):\n",
    "    params = {\n",
    "        'device' : 'gpu',\n",
    "        'objective': 'softmax',\n",
    "        'metric': 'log_loss',\n",
    "        'num_class': 7,\n",
    "        'lambda_l1': trial.suggest_float('lambda_l1', 1e-8, 10.0),\n",
    "        'lambda_l2': trial.suggest_float('lambda_l2', 1e-8, 10.0),\n",
    "        'num_leaves': trial.suggest_int('num_leaves', 2, 12),\n",
    "        'feature_fraction': trial.suggest_float('feature_fraction', 0.4, 1.0),\n",
    "        'bagging_fraction': trial.suggest_float('bagging_fraction', 0.4, 1.0),\n",
    "        'bagging_freq': trial.suggest_int('bagging_freq', 1, 7),\n",
    "        'min_child_samples': trial.suggest_int('min_child_samples', 5, 100),\n",
    "    }\n",
    "    # Perform k-fold cross-validation\n",
    "    kf = StratifiedKFold(n_splits=5, shuffle=True, random_state=42)\n",
    "    scores = []\n",
    "    for train_idx, valid_idx in kf.split(x_data_lgb, target_lgb):\n",
    "        dtrain = lgb.Dataset(x_data_lgb[train_idx], label=target_lgb[train_idx])\n",
    "        dvalid = lgb.Dataset(x_data_lgb[valid_idx], label=target_lgb[valid_idx])\n",
    "        model = lgb.train(params, dtrain, valid_sets=[dvalid], num_boost_round=50)\n",
    "        valid_pred = model.predict(x_data_lgb[valid_idx])\n",
    "        score = log_loss(target_lgb[valid_idx], valid_pred)\n",
    "        scores.append(score)\n",
    "    return np.mean(scores)\n",
    "study = optuna.create_study(direction='minimize')\n",
    "# Suppress INFO logs by setting the logging level to WARNING\n",
    "#optuna.logging.set_verbosity(optuna.logging.ERROR)\n",
    "study.optimize(objective, n_trials=2)\n",
    "# Access the best hyperparameters and corresponding log loss\n",
    "best_params = study.best_params\n",
    "best_log_loss = study.best_value\n",
    "study_df = study.trials_dataframe()\n",
    "print(best_params)\n",
    "print(best_log_loss)"
   ]
  },
  {
   "cell_type": "code",
   "execution_count": 18,
   "metadata": {},
   "outputs": [
    {
     "name": "stdout",
     "output_type": "stream",
     "text": [
      "{'lambda_l1': 0.2162230242845769, 'lambda_l2': 1.4229898006635455, 'num_leaves': 12, 'feature_fraction': 0.6710671976929891, 'bagging_fraction': 0.8615122322908715, 'bagging_freq': 1, 'min_child_samples': 92}\n",
      "0.9811067013486952\n"
     ]
    }
   ],
   "source": [
    "print(best_params)\n",
    "print(best_log_loss)"
   ]
  },
  {
   "cell_type": "markdown",
   "metadata": {},
   "source": [
    "Optuna LGB best params  \n",
    "0.9811067013486952  \n",
    "{'lambda_l1': 0.2162230242845769, 'lambda_l2': 1.4229898006635455, 'num_leaves': 12, 'feature_fraction': 0.6710671976929891, 'bagging_fraction': 0.8615122322908715, 'bagging_freq': 1, 'min_child_samples': 92}  \n"
   ]
  },
  {
   "cell_type": "markdown",
   "metadata": {},
   "source": [
    "### Fit and Predict"
   ]
  },
  {
   "cell_type": "code",
   "execution_count": 33,
   "metadata": {},
   "outputs": [],
   "source": [
    "params_lgb = {'lambda_l1': 0.2162230242845769, 'lambda_l2': 1.4229898006635455, 'num_leaves': 12, 'feature_fraction': 0.6710671976929891, 'bagging_fraction': 0.8615122322908715, 'bagging_freq': 1, 'min_child_samples': 92}  \n",
    "model = LGBMClassifier(**params_lgb, verbose=-1)\n",
    "model.fit(x_data, target)\n",
    "pred = model.predict_proba(x_test)\n",
    "submission = pd.DataFrame(pred,columns=le.classes_)\n",
    "submission['id'] = df_test['id']\n",
    "submission.to_csv(\"LGBTuned.csv\",index=False)"
   ]
  },
  {
   "cell_type": "markdown",
   "metadata": {},
   "source": [
    "# SpotOnCheck Stacking Ensemble, Soft Voting with tuned Hyperparameters"
   ]
  },
  {
   "cell_type": "code",
   "execution_count": 34,
   "metadata": {},
   "outputs": [],
   "source": [
    "xgb_params= {'n_estimators': 590, 'max_depth': 11, 'max_leaves': 16, 'grow_policy': 'depthwise', 'learning_rate': 0.0552223218868165, 'booster': 'gbtree', 'reg_alpha': 0.6472657948113174, 'reg_lambda': 0.13254703840445914, 'gamma': 3.1149929790252133, 'min_child_weight': 1.794124484207816, 'subsample': 0.8018823156535407}\n",
    "lgb_params = {'lambda_l1': 0.2162230242845769, 'lambda_l2': 1.4229898006635455, 'num_leaves': 12, 'feature_fraction': 0.6710671976929891, 'bagging_fraction': 0.8615122322908715, 'bagging_freq': 1, 'min_child_samples': 92} "
   ]
  },
  {
   "cell_type": "code",
   "execution_count": 9,
   "metadata": {},
   "outputs": [
    {
     "name": "stdout",
     "output_type": "stream",
     "text": [
      ">CatB -1.001 (0.015)\n",
      ">lgbm -0.980 (0.014)\n",
      ">xgb -0.980 (0.014)\n",
      ">stacking -1.017 (0.015)\n",
      ">soft_voting -0.976 (0.013)\n"
     ]
    },
    {
     "data": {
      "image/png": "[encoded data removed]",
      "text/plain": [
       "<Figure size 640x480 with 1 Axes>"
      ]
     },
     "metadata": {},
     "output_type": "display_data"
    }
   ],
   "source": [
    "\n",
    "# get a stacking ensemble of models\n",
    "def get_stacking():\n",
    "    # define the base models\n",
    "    level0 = list()\n",
    "    level0.append(('CatB', CatBoostClassifier(verbose=False)))\n",
    "    level0.append(('lgbm', LGBMClassifier(**lgb_params, verbose=-1)))\n",
    "    level0.append(('xgb', XGBClassifier(**xgb_params)))\n",
    "    #level0.append(('GBC', GradientBoostingClassifier(**gbc_params)))\n",
    "    # define meta learner model\n",
    "    level1 = LogisticRegression()\n",
    "    # define the stacking ensemble\n",
    "    model = StackingClassifier(estimators=level0, final_estimator=level1, cv=5)\n",
    "    return model\n",
    "\n",
    "def get_voting_soft():\n",
    "    # define the base models\n",
    "    models = list()\n",
    "    models.append(('CatB', CatBoostClassifier(verbose=False)))\n",
    "    models.append(('lgbm', LGBMClassifier(**lgb_params, verbose=-1)))\n",
    "    models.append(('xgb', XGBClassifier(**xgb_params)))\n",
    "   # models.append(('GBC',  GradientBoostingClassifier(**gbc_params)))\n",
    "    # define the voting ensemble\n",
    "    ensemble = VotingClassifier(estimators=models, voting='soft')\n",
    "    return ensemble\n",
    "# get a list of models to evaluate\n",
    "def get_models():\n",
    "    models = dict()\n",
    "    models['CatB'] = CatBoostClassifier(verbose=False)\n",
    "    models['lgbm'] = LGBMClassifier(**lgb_params, verbose=-1)\n",
    "    models['xgb'] = XGBClassifier(**xgb_params)\n",
    "   # models['GBC'] = GradientBoostingClassifier(**gbc_params)\n",
    "    models['stacking'] = get_stacking()\n",
    "    models['soft_voting'] = get_voting_soft()\n",
    "    return models\n",
    "# evaluate a give model using cross-validation\n",
    "\n",
    "def evaluate_model(model, X, y):\n",
    "    cv = RepeatedStratifiedKFold(n_splits=10, n_repeats=3, random_state=1)\n",
    "    scores = cross_val_score(model, X, y, scoring='neg_log_loss', cv=cv, n_jobs=-1, error_score='raise')\n",
    "    return scores\n",
    "\n",
    "# get the models to evaluate\n",
    "models = get_models()\n",
    "# evaluate the models and store results\n",
    "results, names = list(), list()\n",
    "for name, model in models.items():\n",
    "    scores = evaluate_model(model, x_data, target)\n",
    "    results.append(scores)\n",
    "    names.append(name)\n",
    "    print('>%s %.3f (%.3f)' % (name, mean(scores), std(scores)))\n",
    "# plot model performance for comparison\n",
    "pyplot.boxplot(results, labels=names, showmeans=True)\n",
    "pyplot.show()\n"
   ]
  },
  {
   "cell_type": "markdown",
   "metadata": {},
   "source": [
    "Results SpotonCheck Tuned  \n",
    ">CatB -1.001 (0.015)  \n",
    ">lgbm -0.980 (0.014)  \n",
    ">xgb -0.980 (0.014)  \n",
    ">stacking -1.017 (0.015)  \n",
    ">soft_voting -0.976 (0.013)  "
   ]
  },
  {
   "cell_type": "markdown",
   "metadata": {},
   "source": [
    "### Fit and Predict Vote Classifier"
   ]
  },
  {
   "cell_type": "code",
   "execution_count": 39,
   "metadata": {},
   "outputs": [],
   "source": [
    "def get_voting_soft():\n",
    "    # define the base models\n",
    "    models = list()\n",
    "    models.append(('CatB', CatBoostClassifier(verbose=False)))\n",
    "    models.append(('lgbm', LGBMClassifier(**lgb_params, verbose=-1)))\n",
    "    models.append(('xgb', XGBClassifier(**xgb_params)))\n",
    "    models.append(('GBC',  GradientBoostingClassifier()))\n",
    "    # define the voting ensemble\n",
    "    ensemble = VotingClassifier(estimators=models, voting='soft')\n",
    "    return ensemble\n",
    "\n",
    "model = get_voting_soft()\n",
    "model.fit(x_data, target)\n",
    "pred = model.predict_proba(x_test)\n",
    "submission = pd.DataFrame(pred,columns=le.classes_)\n",
    "submission['id'] = df_test['id']\n",
    "submission.to_csv(\"VotingSoftTunedtest.csv\",index=False)"
   ]
  },
  {
   "cell_type": "markdown",
   "metadata": {},
   "source": [
    "# para1"
   ]
  }
 ],
 "metadata": {
  "kernelspec": {
   "display_name": "Python 3",
   "language": "python",
   "name": "python3"
  },
  "language_info": {
   "codemirror_mode": {
    "name": "ipython",
    "version": 3
   },
   "file_extension": ".py",
   "mimetype": "text/x-python",
   "name": "python",
   "nbconvert_exporter": "python",
   "pygments_lexer": "ipython3",
   "version": "3.11.5"
  },
  "orig_nbformat": 4
 },
 "nbformat": 4,
 "nbformat_minor": 2
}
